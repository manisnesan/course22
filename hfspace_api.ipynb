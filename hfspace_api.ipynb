{
  "nbformat": 4,
  "nbformat_minor": 0,
  "metadata": {
    "colab": {
      "name": "hfspace_api.ipynb",
      "provenance": []
    },
    "kernelspec": {
      "name": "python3",
      "display_name": "Python 3"
    },
    "language_info": {
      "name": "python"
    }
  },
  "cells": [
    {
      "cell_type": "code",
      "execution_count": 35,
      "metadata": {
        "id": "DoQxCXuyqjZw"
      },
      "outputs": [],
      "source": [
        "%%capture\n",
        "%pip install gradio -Uqq\n",
        "%pip install ipython"
      ]
    },
    {
      "cell_type": "code",
      "source": [
        "import requests\n",
        "from IPython.display import Image\n",
        "from IPython.core.display import HTML\n",
        "import json\n",
        "from gradio import processing_utils"
      ],
      "metadata": {
        "id": "IS8am34-rJVs"
      },
      "execution_count": 36,
      "outputs": []
    },
    {
      "cell_type": "code",
      "source": [
        "image_url = 'https://petkeen.com/wp-content/uploads/2021/05/grey-cat.jpeg'\n",
        "data = processing_utils.encode_url_or_file_to_base64(image_url)\n",
        "r = requests.post(url='https://hf.space/embed/msivanes/fastai_pet_classifier/+/api/predict/', json={\"data\":[data]})"
      ],
      "metadata": {
        "id": "wbkUb2YirSBN"
      },
      "execution_count": 37,
      "outputs": []
    },
    {
      "cell_type": "code",
      "source": [
        "r.json()"
      ],
      "metadata": {
        "colab": {
          "base_uri": "https://localhost:8080/"
        },
        "id": "Tb9WD6QMutkn",
        "outputId": "aa57c077-524e-44f3-89e5-94b2afe46f10"
      },
      "execution_count": 38,
      "outputs": [
        {
          "output_type": "execute_result",
          "data": {
            "text/plain": [
              "{'avg_durations': [0.33317995071411133],\n",
              " 'data': [{'confidences': [{'confidence': 0.9998148083686829,\n",
              "     'label': 'British_Shorthair'},\n",
              "    {'confidence': 0.00017746433150023222, 'label': 'Russian_Blue'},\n",
              "    {'confidence': 4.826944405067479e-06, 'label': 'Bombay'}],\n",
              "   'label': 'British_Shorthair'}],\n",
              " 'durations': [0.061991214752197266],\n",
              " 'flag_index': None,\n",
              " 'updated_state': None}"
            ]
          },
          "metadata": {},
          "execution_count": 38
        }
      ]
    },
    {
      "cell_type": "code",
      "source": [
        "pred = (' '.join(r.json()['data'][0]['label'].split('_')));pred"
      ],
      "metadata": {
        "colab": {
          "base_uri": "https://localhost:8080/",
          "height": 36
        },
        "id": "e543geUtvjc6",
        "outputId": "690a64ce-e434-4bc0-9874-8ab8c47fc26d"
      },
      "execution_count": 39,
      "outputs": [
        {
          "output_type": "execute_result",
          "data": {
            "text/plain": [
              "'British Shorthair'"
            ],
            "application/vnd.google.colaboratory.intrinsic+json": {
              "type": "string"
            }
          },
          "metadata": {},
          "execution_count": 39
        }
      ]
    },
    {
      "cell_type": "code",
      "source": [
        "print(f'The breed of this pet is a {pred}')\n",
        "display(Image(url=image_url, width=475))\n",
        "print(f\"Original json returned from the request: \", json.dumps(r.json(), indent=2))"
      ],
      "metadata": {
        "colab": {
          "base_uri": "https://localhost:8080/",
          "height": 892
        },
        "id": "p-6C5oPbujcc",
        "outputId": "af62e4b1-79ce-427b-8b27-fbc0586b9ab7"
      },
      "execution_count": 40,
      "outputs": [
        {
          "output_type": "stream",
          "name": "stdout",
          "text": [
            "The breed of this pet is a British Shorthair\n"
          ]
        },
        {
          "output_type": "display_data",
          "data": {
            "text/plain": [
              "<IPython.core.display.Image object>"
            ],
            "text/html": [
              "<img src=\"https://petkeen.com/wp-content/uploads/2021/05/grey-cat.jpeg\" width=\"475\"/>"
            ]
          },
          "metadata": {}
        },
        {
          "output_type": "stream",
          "name": "stdout",
          "text": [
            "Original json returned from the request:  {\n",
            "  \"data\": [\n",
            "    {\n",
            "      \"label\": \"British_Shorthair\",\n",
            "      \"confidences\": [\n",
            "        {\n",
            "          \"label\": \"British_Shorthair\",\n",
            "          \"confidence\": 0.9998148083686829\n",
            "        },\n",
            "        {\n",
            "          \"label\": \"Russian_Blue\",\n",
            "          \"confidence\": 0.00017746433150023222\n",
            "        },\n",
            "        {\n",
            "          \"label\": \"Bombay\",\n",
            "          \"confidence\": 4.826944405067479e-06\n",
            "        }\n",
            "      ]\n",
            "    }\n",
            "  ],\n",
            "  \"flag_index\": null,\n",
            "  \"updated_state\": null,\n",
            "  \"durations\": [\n",
            "    0.061991214752197266\n",
            "  ],\n",
            "  \"avg_durations\": [\n",
            "    0.33317995071411133\n",
            "  ]\n",
            "}\n"
          ]
        }
      ]
    },
    {
      "cell_type": "code",
      "source": [
        ""
      ],
      "metadata": {
        "id": "VhZkJdeurqwz"
      },
      "execution_count": 40,
      "outputs": []
    }
  ]
}
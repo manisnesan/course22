{
 "cells": [
  {
   "cell_type": "markdown",
   "id": "8bd83bfb",
   "metadata": {},
   "source": [
    "# Clustering"
   ]
  },
  {
   "cell_type": "markdown",
   "id": "836c79d6",
   "metadata": {},
   "source": [
    "Reference:\n",
    "    https://isaac-flath.github.io/TechBlog/posts/K-Means/ClusteringFromScratch.html"
   ]
  },
  {
   "cell_type": "markdown",
   "id": "ae996d25",
   "metadata": {},
   "source": [
    "Clustering techniques are unsupervised learning algorithms that try to group unlabelled data into \"clusters\" using the structure of the data itself.\n",
    "\n",
    "Demonstrate how clustering works is by generating some data & show them in action.\n",
    "\n",
    "There is no dependent variable here."
   ]
  },
  {
   "cell_type": "code",
   "execution_count": null,
   "id": "fb0016af",
   "metadata": {},
   "outputs": [],
   "source": [
    "import fastcore.all as fc"
   ]
  },
  {
   "cell_type": "code",
   "execution_count": null,
   "id": "4f985fc8",
   "metadata": {},
   "outputs": [],
   "source": [
    "import math, matplotlib.pyplot as plt, operator, torch\n",
    "from functools import partial"
   ]
  },
  {
   "cell_type": "code",
   "execution_count": null,
   "id": "29650d9c",
   "metadata": {},
   "outputs": [],
   "source": [
    "torch.manual_seed(42)\n",
    "torch.set_printoptions(precision=3, linewidth=140, sci_mode=False)"
   ]
  },
  {
   "cell_type": "markdown",
   "id": "046866bd",
   "metadata": {},
   "source": [
    "## Create data"
   ]
  },
  {
   "cell_type": "code",
   "execution_count": null,
   "id": "9fc39ad2",
   "metadata": {},
   "outputs": [],
   "source": [
    "n_clusters=6\n",
    "n_samples=250"
   ]
  },
  {
   "cell_type": "markdown",
   "id": "e4d52b4e",
   "metadata": {},
   "source": [
    "To generate data, pick 6 random points (centroids) and for each point, generate 250 random points about it."
   ]
  },
  {
   "cell_type": "code",
   "execution_count": null,
   "id": "9cfe2ef0",
   "metadata": {},
   "outputs": [],
   "source": [
    "centroids = torch.rand(n_clusters, 2)*70-35 # points between -35 and 35"
   ]
  },
  {
   "cell_type": "code",
   "execution_count": null,
   "id": "4cabf33a",
   "metadata": {},
   "outputs": [],
   "source": [
    "from torch.distributions.multivariate_normal import MultivariateNormal\n",
    "from torch import tensor"
   ]
  },
  {
   "cell_type": "code",
   "execution_count": null,
   "id": "94e70848",
   "metadata": {},
   "outputs": [
    {
     "data": {
      "text/plain": [
       "tensor([[5., 0.],\n",
       "        [0., 5.]])"
      ]
     },
     "execution_count": null,
     "metadata": {},
     "output_type": "execute_result"
    }
   ],
   "source": [
    "torch.diag(tensor([5.,5.]))"
   ]
  },
  {
   "cell_type": "code",
   "execution_count": null,
   "id": "4a4a5871",
   "metadata": {},
   "outputs": [],
   "source": [
    "#mean for x and mean for y\n",
    "def sample(m): return MultivariateNormal(m, covariance_matrix=torch.diag(tensor([5.,5.]))).sample((n_samples,))"
   ]
  },
  {
   "cell_type": "code",
   "execution_count": null,
   "id": "95c8cba8",
   "metadata": {},
   "outputs": [
    {
     "data": {
      "text/plain": [
       "torch.Size([1500, 2])"
      ]
     },
     "execution_count": null,
     "metadata": {},
     "output_type": "execute_result"
    }
   ],
   "source": [
    "slices = [sample(c) for c in centroids]\n",
    "data = torch.cat(slices)\n",
    "data.shape"
   ]
  },
  {
   "cell_type": "code",
   "execution_count": null,
   "id": "1103eb36",
   "metadata": {},
   "outputs": [],
   "source": [
    "def plot_data(centroids, data, n_samples, ax=None):\n",
    "    if ax is None: _,ax = plt.subplots()\n",
    "    for i, centroid in enumerate(centroids):\n",
    "        samples = data[i*n_samples:(i+1)*n_samples]\n",
    "        ax.scatter(samples[:,0], samples[:,1], s=1)\n",
    "        ax.plot(*centroid, markersize=10, marker=\"x\", color='k', mew=5)\n",
    "        ax.plot(*centroid, markersize=5, marker=\"x\", color='m', mew=2)"
   ]
  },
  {
   "cell_type": "code",
   "execution_count": null,
   "id": "38f7ad80",
   "metadata": {},
   "outputs": [
    {
     "data": {
      "image/png": "[encoded data removed]",
      "text/plain": [
       "<Figure size 432x288 with 1 Axes>"
      ]
     },
     "metadata": {
      "needs_background": "light"
     },
     "output_type": "display_data"
    }
   ],
   "source": [
    "plot_data(centroids, data, n_samples)"
   ]
  },
  {
   "cell_type": "markdown",
   "id": "6691d252",
   "metadata": {},
   "source": [
    "## Meanshift"
   ]
  },
  {
   "cell_type": "markdown",
   "id": "7ca5c2ee",
   "metadata": {},
   "source": [
    "Task: Start with all dots and find where all the x's are"
   ]
  },
  {
   "cell_type": "markdown",
   "id": "1f0de889",
   "metadata": {},
   "source": [
    "Adv:\n",
    "- Does not require selecting clusters in advance but instead just require a **bandwidth** to be specified which can be easily chosen automatically\n",
    "- It can handle clusters of any shape, whereas k-means (without using special extension) requires that clusters be roughly ball shaped."
   ]
  },
  {
   "cell_type": "markdown",
   "id": "2415141c",
   "metadata": {},
   "source": [
    "The algorithm is as follows:\n",
    "* For each data point x in the sample X, find the distance between that point x and every other point in X\n",
    "* Create weights for each point in X by using the **Gaussian kernel** of that point's distance to x\n",
    "    * This weighting approach penalizes points further away from x\n",
    "    * The rate at which the weights fall to zero is determined by the **bandwidth**, which is the standard deviation of the Gaussian\n",
    "* Update x as the weighted average of all other points in X, weighted based on the previous step\n",
    "\n",
    "This will iteratively push points that are close together even closer until they are next to each other."
   ]
  },
  {
   "cell_type": "code",
   "execution_count": null,
   "id": "e3d41328",
   "metadata": {},
   "outputs": [
    {
     "data": {
      "text/plain": [
       "(tensor([[26.204, 26.349],\n",
       "         [25.691, 30.213],\n",
       "         [30.431, 28.693],\n",
       "         ...,\n",
       "         [30.772,  9.323],\n",
       "         [29.354,  3.960],\n",
       "         [31.168,  5.309]]),\n",
       " torch.Size([1500, 2]))"
      ]
     },
     "execution_count": null,
     "metadata": {},
     "output_type": "execute_result"
    }
   ],
   "source": [
    "data, data.shape # mean along 0th dimension ie (26.204 + 25.691)..../1500"
   ]
  },
  {
   "cell_type": "code",
   "execution_count": null,
   "id": "60c40a20",
   "metadata": {},
   "outputs": [
    {
     "data": {
      "text/plain": [
       "tensor([ 9.222, 11.604])"
      ]
     },
     "execution_count": null,
     "metadata": {},
     "output_type": "execute_result"
    }
   ],
   "source": [
    "midp = data.mean(0);midp"
   ]
  },
  {
   "cell_type": "code",
   "execution_count": null,
   "id": "6e565df0",
   "metadata": {},
   "outputs": [
    {
     "data": {
      "image/png": "[encoded data removed]",
      "text/plain": [
       "<Figure size 432x288 with 1 Axes>"
      ]
     },
     "metadata": {
      "needs_background": "light"
     },
     "output_type": "display_data"
    }
   ],
   "source": [
    "plot_data([midp]*6, data, n_samples)"
   ]
  },
  {
   "cell_type": "markdown",
   "id": "aa70ff7c",
   "metadata": {},
   "source": [
    "definition of gaussian kernel <img src=\"http://i.imgur.com/nijQLHw.jpg\" width=400>. It is also known as normal distribution."
   ]
  },
  {
   "cell_type": "code",
   "execution_count": null,
   "id": "fb600579",
   "metadata": {},
   "outputs": [],
   "source": [
    "def gaussian(d, bw): return torch.exp(-0.5*((d/bw)**2)) / (bw*math.sqrt(2*math.pi))"
   ]
  },
  {
   "cell_type": "code",
   "execution_count": null,
   "id": "e2f422c6",
   "metadata": {},
   "outputs": [],
   "source": [
    "def plot_func(f):\n",
    "    x = torch.linspace(-10, 10, 100) # start, end, steps\n",
    "    plt.plot(x, f(x))"
   ]
  },
  {
   "cell_type": "code",
   "execution_count": null,
   "id": "9b6d3ac3",
   "metadata": {},
   "outputs": [
    {
     "data": {
      "image/png": "[encoded data removed]",
      "text/plain": [
       "<Figure size 432x288 with 1 Axes>"
      ]
     },
     "metadata": {
      "needs_background": "light"
     },
     "output_type": "display_data"
    }
   ],
   "source": [
    "plot_func(partial(gaussian, bw=2.5))"
   ]
  },
  {
   "cell_type": "code",
   "execution_count": null,
   "id": "2529d3cb",
   "metadata": {},
   "outputs": [],
   "source": [
    "def plot_func(f):\n",
    "    x = torch.linspace(0, 10, 100) # start, end, steps\n",
    "    plt.plot(x, f(x))"
   ]
  },
  {
   "cell_type": "code",
   "execution_count": null,
   "id": "1389da59",
   "metadata": {},
   "outputs": [
    {
     "data": {
      "image/png": "[encoded data removed]",
      "text/plain": [
       "<Figure size 432x288 with 1 Axes>"
      ]
     },
     "metadata": {
      "needs_background": "light"
     },
     "output_type": "display_data"
    }
   ],
   "source": [
    "plot_func(partial(gaussian, bw=2.5))"
   ]
  },
  {
   "cell_type": "code",
   "execution_count": null,
   "id": "9fe4fcfc",
   "metadata": {},
   "outputs": [
    {
     "data": {
      "text/plain": [
       "functools.partial"
      ]
     },
     "execution_count": null,
     "metadata": {},
     "output_type": "execute_result"
    }
   ],
   "source": [
    "partial # aka currying or partial func application"
   ]
  },
  {
   "cell_type": "markdown",
   "id": "e48802bb",
   "metadata": {},
   "source": [
    "Another way"
   ]
  },
  {
   "cell_type": "code",
   "execution_count": null,
   "id": "c919e27a",
   "metadata": {},
   "outputs": [
    {
     "data": {
      "image/png": "[encoded data removed]",
      "text/plain": [
       "<Figure size 432x288 with 1 Axes>"
      ]
     },
     "metadata": {
      "needs_background": "light"
     },
     "output_type": "display_data"
    }
   ],
   "source": [
    "plot_func(lambda x: gaussian(x,bw=2.5))"
   ]
  },
  {
   "cell_type": "markdown",
   "id": "f3b96a66",
   "metadata": {},
   "source": [
    "bandwidth is chosen as 2.5. Why? . Choose a bw that covers a third of data."
   ]
  },
  {
   "cell_type": "code",
   "execution_count": null,
   "id": "44177204",
   "metadata": {},
   "outputs": [],
   "source": [
    "def tri(d, i): return (-d+i).clamp_min(0)/i"
   ]
  },
  {
   "cell_type": "code",
   "execution_count": null,
   "id": "60b81597",
   "metadata": {},
   "outputs": [
    {
     "data": {
      "image/png": "[encoded data removed]",
      "text/plain": [
       "<Figure size 432x288 with 1 Axes>"
      ]
     },
     "metadata": {
      "needs_background": "light"
     },
     "output_type": "display_data"
    }
   ],
   "source": [
    "plot_func(partial(tri,i=8))"
   ]
  },
  {
   "cell_type": "code",
   "execution_count": null,
   "id": "94b24181",
   "metadata": {},
   "outputs": [
    {
     "data": {
      "text/plain": [
       "tensor([26.204, 26.349])"
      ]
     },
     "execution_count": null,
     "metadata": {},
     "output_type": "execute_result"
    }
   ],
   "source": [
    "X = data.clone()\n",
    "x = data[0];x"
   ]
  },
  {
   "cell_type": "code",
   "execution_count": null,
   "id": "00497122",
   "metadata": {},
   "outputs": [
    {
     "data": {
      "text/plain": [
       "(torch.Size([2]), torch.Size([1500, 2]), torch.Size([1, 2]))"
      ]
     },
     "execution_count": null,
     "metadata": {},
     "output_type": "execute_result"
    }
   ],
   "source": [
    "x.shape, X.shape, x[None].shape"
   ]
  },
  {
   "cell_type": "code",
   "execution_count": null,
   "id": "4abfb28b",
   "metadata": {},
   "outputs": [
    {
     "data": {
      "text/plain": [
       "tensor([[ 0.000,  0.000],\n",
       "        [ 0.513, -3.865],\n",
       "        [-4.227, -2.345],\n",
       "        [ 0.557, -3.685],\n",
       "        [-5.033, -3.745],\n",
       "        [-4.073, -0.638],\n",
       "        [-3.415, -5.601],\n",
       "        [-1.920, -5.686]])"
      ]
     },
     "execution_count": null,
     "metadata": {},
     "output_type": "execute_result"
    }
   ],
   "source": [
    "(x - X)[:8] # last axis matches 2nd last axis does not exist so let's pretend there is unit axis"
   ]
  },
  {
   "cell_type": "markdown",
   "id": "5bf96d5a",
   "metadata": {},
   "source": [
    "Norm is also known as euclidean distance."
   ]
  },
  {
   "cell_type": "markdown",
   "id": "3a7c1c76",
   "metadata": {},
   "source": [
    "MAE -> L1 norm. RMSE -> L2 norm"
   ]
  },
  {
   "cell_type": "code",
   "execution_count": null,
   "id": "0ebabc37",
   "metadata": {},
   "outputs": [
    {
     "data": {
      "text/plain": [
       "tensor([ 0.000,  3.899,  4.834,  ..., 17.628, 22.610, 21.617])"
      ]
     },
     "execution_count": null,
     "metadata": {},
     "output_type": "execute_result"
    }
   ],
   "source": [
    "dist = ((x-X)**2).sum(1).sqrt();dist"
   ]
  },
  {
   "cell_type": "markdown",
   "id": "738a18df",
   "metadata": {},
   "source": [
    "From [A basic introduction to NumPy's einsum](https://ajcr.net/Basic-guide-to-einsum/)\n",
    "Three rules of einstein summation\n",
    "- Repeating letters between input arrays means that values along those axes will be multiplied together. The products make up the values for the output array.\n",
    "- Omitting a letter from the output means that values along that axis will be summed.\n",
    "- We can return the unsummed axes in any order we like."
   ]
  },
  {
   "cell_type": "code",
   "execution_count": null,
   "id": "0c4581a6",
   "metadata": {},
   "outputs": [
    {
     "data": {
      "text/plain": [
       "tensor([ 0.000,  3.899,  4.834,  ..., 17.628, 22.610, 21.617])"
      ]
     },
     "execution_count": null,
     "metadata": {},
     "output_type": "execute_result"
    }
   ],
   "source": [
    "#rewrite the above using einsum\n",
    "torch.einsum('ij,ij->i', (x-X), (x-X)).sqrt()"
   ]
  },
  {
   "cell_type": "code",
   "execution_count": null,
   "id": "d7d5aef1",
   "metadata": {},
   "outputs": [
    {
     "data": {
      "text/plain": [
       "tensor([    0.160,     0.047,     0.025,  ...,     0.000,     0.000,     0.000])"
      ]
     },
     "execution_count": null,
     "metadata": {},
     "output_type": "execute_result"
    }
   ],
   "source": [
    "weight = gaussian(dist, 2.5);weight"
   ]
  },
  {
   "cell_type": "code",
   "execution_count": null,
   "id": "c60fa036",
   "metadata": {},
   "outputs": [
    {
     "data": {
      "text/plain": [
       "(torch.Size([1500]), torch.Size([1500, 2]))"
      ]
     },
     "execution_count": null,
     "metadata": {},
     "output_type": "execute_result"
    }
   ],
   "source": [
    "weight.shape, X.shape"
   ]
  },
  {
   "cell_type": "markdown",
   "id": "b897dd4d",
   "metadata": {},
   "source": [
    "Weighted average = sum(prod(w,x) / sum(w)"
   ]
  },
  {
   "cell_type": "code",
   "execution_count": null,
   "id": "2fe892d9",
   "metadata": {},
   "outputs": [
    {
     "data": {
      "text/plain": [
       "torch.Size([1500, 1])"
      ]
     },
     "execution_count": null,
     "metadata": {},
     "output_type": "execute_result"
    }
   ],
   "source": [
    "weight[:,None].shape # add the trailing unit axis in order to mulitply X"
   ]
  },
  {
   "cell_type": "code",
   "execution_count": null,
   "id": "6ebe1628",
   "metadata": {},
   "outputs": [
    {
     "data": {
      "text/plain": [
       "tensor([[4.182, 4.205],\n",
       "        [1.215, 1.429],\n",
       "        [0.749, 0.706],\n",
       "        [1.347, 1.578]])"
      ]
     },
     "execution_count": null,
     "metadata": {},
     "output_type": "execute_result"
    }
   ],
   "source": [
    "(weight[:,None]*X)[:4]"
   ]
  },
  {
   "cell_type": "code",
   "execution_count": null,
   "id": "134a9b0c",
   "metadata": {},
   "outputs": [
    {
     "data": {
      "text/plain": [
       "tensor([7.493, 7.918])"
      ]
     },
     "execution_count": null,
     "metadata": {},
     "output_type": "execute_result"
    }
   ],
   "source": [
    "(weight[:,None]*X)[:4].sum(0) #columnwise"
   ]
  },
  {
   "cell_type": "code",
   "execution_count": null,
   "id": "ea6ef2ac",
   "metadata": {},
   "outputs": [
    {
     "data": {
      "text/plain": [
       "tensor([8.386, 2.645, 1.455, 2.925])"
      ]
     },
     "execution_count": null,
     "metadata": {},
     "output_type": "execute_result"
    }
   ],
   "source": [
    "(weight[:,None]*X)[:4].sum(1) # rowwise"
   ]
  },
  {
   "cell_type": "code",
   "execution_count": null,
   "id": "75f48e5f",
   "metadata": {},
   "outputs": [],
   "source": [
    "def one_update(X):\n",
    "    for i,x in enumerate(X):\n",
    "        dist = torch.einsum('ij,ij->i', (x-X), (x-X)).sqrt()\n",
    "        weight = gaussian(dist, 2.5)\n",
    "        X[i] = (weight[:,None]*X).sum(0)/weight.sum()"
   ]
  },
  {
   "cell_type": "code",
   "execution_count": null,
   "id": "baddfd11",
   "metadata": {},
   "outputs": [],
   "source": [
    "def meanshift(data):\n",
    "    X = data.clone()\n",
    "    for i in range(5): one_update(X)\n",
    "    return X"
   ]
  },
  {
   "cell_type": "code",
   "execution_count": null,
   "id": "5ff0d111",
   "metadata": {},
   "outputs": [
    {
     "name": "stdout",
     "output_type": "stream",
     "text": [
      "CPU times: user 5.22 s, sys: 6.21 ms, total: 5.22 s\n",
      "Wall time: 1.32 s\n"
     ]
    }
   ],
   "source": [
    "%time X=meanshift(data)"
   ]
  },
  {
   "cell_type": "code",
   "execution_count": null,
   "id": "4ff03f2e",
   "metadata": {},
   "outputs": [
    {
     "data": {
      "image/png": "[encoded data removed]",
      "text/plain": [
       "<Figure size 432x288 with 1 Axes>"
      ]
     },
     "metadata": {
      "needs_background": "light"
     },
     "output_type": "display_data"
    }
   ],
   "source": [
    "plot_data(centroids+2, X, n_samples)"
   ]
  },
  {
   "cell_type": "markdown",
   "id": "19fd8231",
   "metadata": {},
   "source": [
    "## Animation"
   ]
  },
  {
   "cell_type": "code",
   "execution_count": null,
   "id": "a96ab369",
   "metadata": {},
   "outputs": [],
   "source": [
    "from matplotlib.animation import FuncAnimation\n",
    "from IPython.display import HTML"
   ]
  },
  {
   "cell_type": "code",
   "execution_count": null,
   "id": "e9bc8017",
   "metadata": {},
   "outputs": [],
   "source": [
    "def do_one(d):\n",
    "    if d: one_update(X)\n",
    "    ax.clear() # without this it prints it on top of the other\n",
    "    plot_data(centroids+2, X, n_samples, ax=ax)"
   ]
  },
  {
   "cell_type": "code",
   "execution_count": null,
   "id": "c4273aa7",
   "metadata": {},
   "outputs": [
    {
     "data": {
      "text/html": [
       "\n",
       "<link rel=\"stylesheet\"\n",
       "href=\"https://maxcdn.bootstrapcdn.com/font-awesome/4.4.0/css/font-awesome.min.css\">\n",
       "<script language=\"javascript\">\n",
       "  function isInternetExplorer() {\n",
       "    ua = navigator.userAgent;\n",
       "    /* MSIE used to detect old browsers and Trident used to newer ones*/\n",
       "    return ua.indexOf(\"MSIE \") > -1 || ua.indexOf(\"Trident/\") > -1;\n",
       "  }\n",
       "\n",
       "  /* Define the Animation class */\n",
       "  function Animation(frames, img_id, slider_id, interval, loop_select_id){\n",
       "    this.img_id = img_id;\n",
       "    this.slider_id = slider_id;\n",
       "    this.loop_select_id = loop_select_id;\n",
       "    this.interval = interval;\n",
       "    this.current_frame = 0;\n",
       "    this.direction = 0;\n",
       "    this.timer = null;\n",
       "    this.frames = new Array(frames.length);\n",
       "\n",
       "    for (var i=0; i<frames.length; i++)\n",
       "    {\n",
       "     this.frames[i] = new Image();\n",
       "     this.frames[i].src = frames[i];\n",
       "    }\n",
       "    var slider = document.getElementById(this.slider_id);\n",
       "    slider.max = this.frames.length - 1;\n",
       "    if (isInternetExplorer()) {\n",
       "        // switch from oninput to onchange because IE <= 11 does not conform\n",
       "        // with W3C specification. It ignores oninput and onchange behaves\n",
       "        // like oninput. In contrast, Microsoft Edge behaves correctly.\n",
       "        slider.setAttribute('onchange', slider.getAttribute('oninput'));\n",
       "        slider.setAttribute('oninput', null);\n",
       "    }\n",
       "    this.set_frame(this.current_frame);\n",
       "  }\n",
       "\n",
       "  Animation.prototype.get_loop_state = function(){\n",
       "    var button_group = document[this.loop_select_id].state;\n",
       "    for (var i = 0; i < button_group.length; i++) {\n",
       "        var button = button_group[i];\n",
       "        if (button.checked) {\n",
       "            return button.value;\n",
       "        }\n",
       "    }\n",
       "    return undefined;\n",
       "  }\n",
       "\n",
       "  Animation.prototype.set_frame = function(frame){\n",
       "    this.current_frame = frame;\n",
       "    document.getElementById(this.img_id).src =\n",
       "            this.frames[this.current_frame].src;\n",
       "    document.getElementById(this.slider_id).value = this.current_frame;\n",
       "  }\n",
       "\n",
       "  Animation.prototype.next_frame = function()\n",
       "  {\n",
       "    this.set_frame(Math.min(this.frames.length - 1, this.current_frame + 1));\n",
       "  }\n",
       "\n",
       "  Animation.prototype.previous_frame = function()\n",
       "  {\n",
       "    this.set_frame(Math.max(0, this.current_frame - 1));\n",
       "  }\n",
       "\n",
       "  Animation.prototype.first_frame = function()\n",
       "  {\n",
       "    this.set_frame(0);\n",
       "  }\n",
       "\n",
       "  Animation.prototype.last_frame = function()\n",
       "  {\n",
       "    this.set_frame(this.frames.length - 1);\n",
       "  }\n",
       "\n",
       "  Animation.prototype.slower = function()\n",
       "  {\n",
       "    this.interval /= 0.7;\n",
       "    if(this.direction > 0){this.play_animation();}\n",
       "    else if(this.direction < 0){this.reverse_animation();}\n",
       "  }\n",
       "\n",
       "  Animation.prototype.faster = function()\n",
       "  {\n",
       "    this.interval *= 0.7;\n",
       "    if(this.direction > 0){this.play_animation();}\n",
       "    else if(this.direction < 0){this.reverse_animation();}\n",
       "  }\n",
       "\n",
       "  Animation.prototype.anim_step_forward = function()\n",
       "  {\n",
       "    this.current_frame += 1;\n",
       "    if(this.current_frame < this.frames.length){\n",
       "      this.set_frame(this.current_frame);\n",
       "    }else{\n",
       "      var loop_state = this.get_loop_state();\n",
       "      if(loop_state == \"loop\"){\n",
       "        this.first_frame();\n",
       "      }else if(loop_state == \"reflect\"){\n",
       "        this.last_frame();\n",
       "        this.reverse_animation();\n",
       "      }else{\n",
       "        this.pause_animation();\n",
       "        this.last_frame();\n",
       "      }\n",
       "    }\n",
       "  }\n",
       "\n",
       "  Animation.prototype.anim_step_reverse = function()\n",
       "  {\n",
       "    this.current_frame -= 1;\n",
       "    if(this.current_frame >= 0){\n",
       "      this.set_frame(this.current_frame);\n",
       "    }else{\n",
       "      var loop_state = this.get_loop_state();\n",
       "      if(loop_state == \"loop\"){\n",
       "        this.last_frame();\n",
       "      }else if(loop_state == \"reflect\"){\n",
       "        this.first_frame();\n",
       "        this.play_animation();\n",
       "      }else{\n",
       "        this.pause_animation();\n",
       "        this.first_frame();\n",
       "      }\n",
       "    }\n",
       "  }\n",
       "\n",
       "  Animation.prototype.pause_animation = function()\n",
       "  {\n",
       "    this.direction = 0;\n",
       "    if (this.timer){\n",
       "      clearInterval(this.timer);\n",
       "      this.timer = null;\n",
       "    }\n",
       "  }\n",
       "\n",
       "  Animation.prototype.play_animation = function()\n",
       "  {\n",
       "    this.pause_animation();\n",
       "    this.direction = 1;\n",
       "    var t = this;\n",
       "    if (!this.timer) this.timer = setInterval(function() {\n",
       "        t.anim_step_forward();\n",
       "    }, this.interval);\n",
       "  }\n",
       "\n",
       "  Animation.prototype.reverse_animation = function()\n",
       "  {\n",
       "    this.pause_animation();\n",
       "    this.direction = -1;\n",
       "    var t = this;\n",
       "    if (!this.timer) this.timer = setInterval(function() {\n",
       "        t.anim_step_reverse();\n",
       "    }, this.interval);\n",
       "  }\n",
       "</script>\n",
       "\n",
       "<style>\n",
       ".animation {\n",
       "    display: inline-block;\n",
       "    text-align: center;\n",
       "}\n",
       "input[type=range].anim-slider {\n",
       "    width: 374px;\n",
       "    margin-left: auto;\n",
       "    margin-right: auto;\n",
       "}\n",
       ".anim-buttons {\n",
       "    margin: 8px 0px;\n",
       "}\n",
       ".anim-buttons button {\n",
       "    padding: 0;\n",
       "    width: 36px;\n",
       "}\n",
       ".anim-state label {\n",
       "    margin-right: 8px;\n",
       "}\n",
       ".anim-state input {\n",
       "    margin: 0;\n",
       "    vertical-align: middle;\n",
       "}\n",
       "</style>\n",
       "\n",
       "<div class=\"animation\">\n",
       "  <img id=\"_anim_img5ea0aec6302f4241b49d4886ce2b6cdb\">\n",
       "  <div class=\"anim-controls\">\n",
       "    <input id=\"_anim_slider5ea0aec6302f4241b49d4886ce2b6cdb\" type=\"range\" class=\"anim-slider\"\n",
       "           name=\"points\" min=\"0\" max=\"1\" step=\"1\" value=\"0\"\n",
       "           oninput=\"anim5ea0aec6302f4241b49d4886ce2b6cdb.set_frame(parseInt(this.value));\"></input>\n",
       "    <div class=\"anim-buttons\">\n",
       "      <button title=\"Decrease speed\" aria-label=\"Decrease speed\" onclick=\"anim5ea0aec6302f4241b49d4886ce2b6cdb.slower()\">\n",
       "          <i class=\"fa fa-minus\"></i></button>\n",
       "      <button title=\"First frame\" aria-label=\"First frame\" onclick=\"anim5ea0aec6302f4241b49d4886ce2b6cdb.first_frame()\">\n",
       "        <i class=\"fa fa-fast-backward\"></i></button>\n",
       "      <button title=\"Previous frame\" aria-label=\"Previous frame\" onclick=\"anim5ea0aec6302f4241b49d4886ce2b6cdb.previous_frame()\">\n",
       "          <i class=\"fa fa-step-backward\"></i></button>\n",
       "      <button title=\"Play backwards\" aria-label=\"Play backwards\" onclick=\"anim5ea0aec6302f4241b49d4886ce2b6cdb.reverse_animation()\">\n",
       "          <i class=\"fa fa-play fa-flip-horizontal\"></i></button>\n",
       "      <button title=\"Pause\" aria-label=\"Pause\" onclick=\"anim5ea0aec6302f4241b49d4886ce2b6cdb.pause_animation()\">\n",
       "          <i class=\"fa fa-pause\"></i></button>\n",
       "      <button title=\"Play\" aria-label=\"Play\" onclick=\"anim5ea0aec6302f4241b49d4886ce2b6cdb.play_animation()\">\n",
       "          <i class=\"fa fa-play\"></i></button>\n",
       "      <button title=\"Next frame\" aria-label=\"Next frame\" onclick=\"anim5ea0aec6302f4241b49d4886ce2b6cdb.next_frame()\">\n",
       "          <i class=\"fa fa-step-forward\"></i></button>\n",
       "      <button title=\"Last frame\" aria-label=\"Last frame\" onclick=\"anim5ea0aec6302f4241b49d4886ce2b6cdb.last_frame()\">\n",
       "          <i class=\"fa fa-fast-forward\"></i></button>\n",
       "      <button title=\"Increase speed\" aria-label=\"Increase speed\" onclick=\"anim5ea0aec6302f4241b49d4886ce2b6cdb.faster()\">\n",
       "          <i class=\"fa fa-plus\"></i></button>\n",
       "    </div>\n",
       "    <form title=\"Repetition mode\" aria-label=\"Repetition mode\" action=\"#n\" name=\"_anim_loop_select5ea0aec6302f4241b49d4886ce2b6cdb\"\n",
       "          class=\"anim-state\">\n",
       "      <input type=\"radio\" name=\"state\" value=\"once\" id=\"_anim_radio1_5ea0aec6302f4241b49d4886ce2b6cdb\"\n",
       "             checked>\n",
       "      <label for=\"_anim_radio1_5ea0aec6302f4241b49d4886ce2b6cdb\">Once</label>\n",
       "      <input type=\"radio\" name=\"state\" value=\"loop\" id=\"_anim_radio2_5ea0aec6302f4241b49d4886ce2b6cdb\"\n",
       "             >\n",
       "      <label for=\"_anim_radio2_5ea0aec6302f4241b49d4886ce2b6cdb\">Loop</label>\n",
       "      <input type=\"radio\" name=\"state\" value=\"reflect\" id=\"_anim_radio3_5ea0aec6302f4241b49d4886ce2b6cdb\"\n",
       "             >\n",
       "      <label for=\"_anim_radio3_5ea0aec6302f4241b49d4886ce2b6cdb\">Reflect</label>\n",
       "    </form>\n",
       "  </div>\n",
       "</div>\n",
       "\n",
       "\n",
       "<script language=\"javascript\">\n",
       "  /* Instantiate the Animation class. */\n",
       "  /* The IDs given should match those used in the template above. */\n",
       "  (function() {\n",
       "    var img_id = \"_anim_img5ea0aec6302f4241b49d4886ce2b6cdb\";\n",
       "    var slider_id = \"_anim_slider5ea0aec6302f4241b49d4886ce2b6cdb\";\n",
       "    var loop_select_id = \"_anim_loop_select5ea0aec6302f4241b49d4886ce2b6cdb\";\n",
       "    var frames = new Array(5);\n",
       "    \n",
       "  frames[0] = \"data:image/png;base64,iVBORw0KGgoAAAANSUhEUgAAAbAAAAEgCAYAAADVKCZpAAAAOXRFWHRTb2Z0d2FyZQBNYXRwbG90\\\n",
       "bGliIHZlcnNpb24zLjQuMywgaHR0cHM6Ly9tYXRwbG90bGliLm9yZy/MnkTPAAAACXBIWXMAAAsT\\\n",
       "AAALEwEAmpwYAABQBUlEQVR4nO3deXxU1f3/8dch+0L2EBIgJGwiRhYJiCiSKG6VKtLSn3y1VWuL\\\n",
       "Wy3F1oq13wJd1Nat1lIrLmi/WqwLRoo7mrCICEFA9jUhKyF7SGaycn5/3LmXmTAJCUsyk3yej4eP\\\n",
       "SebOcq61vPmc+znnKq01QgghhLfp090DEEIIIU6HBJgQQgivJAEmhBDCK0mACSGE8EoSYEIIIbyS\\\n",
       "BJgQQgivJAEmhBDCK0mACSGE8EoSYEIIIbySBJgQQgivJAEmhBDCK0mACSGE8EoSYEIIIbySBJgQ\\\n",
       "QgivJAEmhBDCK0mACSGE8EoSYEIIIbySBJgQQgivJAEmhBDCK0mACSGE8EoSYEIIIbySBJgQQgiv\\\n",
       "JAEmhBDCK0mACSGE8EoSYEIIIbySBJgQQgivJAEmhBDCK0mACSGE8EoSYEIIIbySBJgQQgivJAEm\\\n",
       "hBDCK0mACSGE8EoSYEIIIbySBJgQQgiv5NvdAzhXYmJidFJSUncPQwghvMrmzZvLtNax3T2Ojuix\\\n",
       "AZaUlER2dnZ3D0MIIbyKUupwd4+hozxyClEp5aOU2qKUWun4PUop9ZlSar/jMbK7xyiEEKJ7eWSA\\\n",
       "AXOB3U6/zwc+11oPBz53/C6EEKIX87gAU0oNBK4HXnJ6+kbgNcfPrwEzunhYQgghPIzHBRjwV+DX\\\n",
       "wHGn5+K01sUAjsd+3TAuIYQQHsSjAkwpNR04qrXefJrvn6OUylZKZZeWlp7l0QkhhPAkHhVgwKXA\\\n",
       "DUqpXOBN4Aql1OtAiVIqHsDxeNTdm7XWS7TWqVrr1NhYr+gCFUIIcZo8KsC01g9rrQdqrZOAm4Ev\\\n",
       "tNa3AiuA2xwvuw14v5uG2LPUlcOXzxqPQgjhZTwqwNrxOHCVUmo/cJXjd3Gmtr4On/3OeBRCCC/j\\\n",
       "sQuZtdZZQJbj53Lgyu4cT4809lbXx7bUlRshN/ZWCInu+DEhhDiHvKUCE+dCSDRcOvfUwdNepXY2\\\n",
       "qziZ0hRCdILHVmDCg7RXqXW0iusIMwzBCFYhhGiHBFhPdzam+MxKrbPHOutshqEQoseTKcSezqxq\\\n",
       "Nr7Q8ek556m8M5nW6+x7OzqlKYQQSAXW85nVTKPNdXrOXWVmPtdog9VOjZ6nO60nU4JCiHNIAqyn\\\n",
       "M6uaunLwDz4RaBuXGCHVaIP0h43nzMCZ+hBc9XvXqbxOdCqW10N0dLTrlGBdOeWrXyB66l1SYQkh\\\n",
       "zgqZQuwtTpqe060egRHfgeFXQ8qsE691vsaV+RhkPup+atERfgt/OIXRF6awb98+l+/ct+JpRt/8\\\n",
       "Wxbef0tXnbEQooeTCqy3mngX+IecqJLqyuHT38D+TyHpMoide+L51tOKRVsgZiR89Tfj+ZTvw8FM\\\n",
       "Fm6JZdEK4y446enpZH6wnBF1G9gXMon0X75C0THNoqWfQOJCFi5c2PXnLIToUSTAeqvW3YNbXzfC\\\n",
       "a/jVrtOFztOKU+dD7hrjdfZK43hTHXz6Gxa+8hGLVjdabysqKiI9bQpLvuPLnI80RVX11rFFixZB\\\n",
       "o42Fjzwki6CFEKdNphCFYeytxnWvGf90DRPz+Yl3wcQ5gDKe145HvxDKUx/kxW9d/1OawQxs1SFM\\\n",
       "X2bHVhXIjFa3cHvxxSWUr35BtrISHq+irpEXVh+koq7x1C8WXUoCrLcq3Q9vzDIewX0Le+tOxY1L\\\n",
       "4PCXxrGEMY7rZd8n+ryJZG7YRkJ8f8AIr7nM5RmeIYkknuEZ5jLXCrGEmHAyP/vEaOhwbhaRnTiE\\\n",
       "B3o7O5/HPtrD29n53T0U0YoEWG9lXu/69Ddtv2bjEscasiVGqORvMJ4fkgbBUcb7P/oVZD7GiAHR\\\n",
       "ZD71YxL6KrLIIpdckkhiKUtJIolccskii4T4/mR+9gkjKj83Ptd5+lA2FxYeaFbqIB6+biTTRsVJ\\\n",
       "JeZhJMB6qwl3QXAMXDi7nUXLTp2KG5fAoSyIGgrXPWl0KkYNMZ5b/ThsfZ0R025nyZzJVFHFIha5\\\n",
       "fN0iFlFFFUtefIkRdRtg9Z+t91nM6UrZiUOcYx2ZFjRfA3DX1KGs2lUilZiHkSaO3qiuHD6dD7Yy\\\n",
       "WPMolO0/ccx54fHEu8BWAdvfhsRLjecrDsKOd4w1ZRWHjOciBkPpfvZ9dANzluwlgggWsMDlKxew\\\n",
       "gHnMY86cOUZ34tSHAGWtEWPr60YbvxBdwJwWBCOcnFXUNfJ2dj62xmae/fyA9ZpZqYMAoyIzXzMr\\\n",
       "dRBRIf5dO3hhkQqst6krh4y7jdCKGgrJaTD5fqMdfsR3TlRApfuN1+3/1AiqvR/A4MmOD9HGa8b+\\\n",
       "EHyDoOow+z5/lfS/7aXomCaNNGva8A7usKYT00gzuhO/M4N9A75vLKAOiT4xdfjRr05MWQpxDk0b\\\n",
       "FUf6ebFMGxV30rET4aZ4+LqRXJkcDEBUiD93TR1KVIg/b2fn88flG0+qxqTho2tJBdZTnGrTXuf1\\\n",
       "XGa7fMI4Yypv+NXGc2BUVnDiGln4IAiKAnsFJF0OSVOwOhELNkCznXIbpL9mo+iYMeWYQQYAWWRR\\\n",
       "RRXzmEcaadbzRcVHSE+byrfbd7ju2FFXZkxJOi+uFuIsca6aVu0qIXNvKaMHFhLs72tVUhV1jZTX\\\n",
       "NnDZsBimjojldwsWsPDTd1mdlcmIESOszxoXbufYv+dxKOSnMPUP1vNm+Nkam63PNZ+Xau3skwDr\\\n",
       "KU6172DrbaJGfAd2vG2s7Ur5vrF4ubHOeE1jHUQkQmAkVOfD5J+DX5DxOY12YwFz7lroPwZqy4hO\\\n",
       "HsdPUz9lUabN+roMMkjoq3j9/w1mzn/yyDiW4TKcn147xggvcN3uKiRGroGJNrWeuuvMVN5r63N4\\\n",
       "9vMD2BqbuW1yMgC2xhaXqcS3s/NZsjYHgB3/fYltK14CHAvzM40Q27dvHzddfw3VZSX85bE/EuTv\\\n",
       "w8KFC6moa8TW2MzcK4cDWJ/r/HPr6UpxZiTAeor2bkVSV26E0tT5xlqukGijWWP1n42OQoABE+Dj\\\n",
       "B2HCTwEFm146+XNWPw4DJxo/m+30ADlfsPByX4g4n0XvGTtxJPRVZN4WzIgxw8gMLCN9WR+Kyo8B\\\n",
       "sOCm81n43BsnxuZcOba36a/c/bnXO1HhtBDs73PSdar2KevRnA6sqGsk2N/H5fpWeW0Db77wNNv+\\\n",
       "+7L1zqKiItLT01myZAk/+ekcjhQXWccWLTIaluLTf8iznx/g4etGMit1kMvnmp99Nsl1OLkG1nO0\\\n",
       "dyuSjS8YYWVOzX357Il9D80uwoy7jGtdOVlGyE34KQRGGK/XQM464+cmx44afROMR58A43HgRBbe\\\n",
       "fysLfvUzEsL9jPAaEA39xzJi5iNkrvqMhPj+LLjjGhb+39rTa52XNvtez2xpB+1ynaoj4XDD2AQu\\\n",
       "GxZDZV0Dz3y2z+11qqgQfwJabOzKfM/l+RnMwFZkY/r06dQX29wszH+RK5ODrbE4Xy9z/vlskvVp\\\n",
       "UoH1LM7dfPs+dKpUHH/zbLKfaMwAY9eNjS8Y04L2Ssj7Em54HsoPwdY3oMkGMcONt+c5Kq6yvcZj\\\n",
       "aD9oaTQ6GQHK9kHBRhZemMb9cwKIjulnHMt+EYZfzYiJc/h2wxqi8z80OhvNcTbajGnNjkwbyg0v\\\n",
       "hcMNYwdg/IepT6pA3FUmFXWN/HHlLtYdKGOdUbAR7O8DuE7vVdQ10ieoLw/+7d+8/PAdlJYUWwvz\\\n",
       "b+RGFrGIBSwgiSTAmCrvH59AZmYmwxLjGZZIu+M4m5yrxt7KowJMKRUIrAECMMb2jtZ6gVIqCvgP\\\n",
       "kATkAj/QWld21zg9llmh5K47EVKXzjUqKv9g1wYOMwT8Q4zHr/5mXBtLnAB/G2eEl28gDL8Oq3Iz\\\n",
       "mzkA/EKMgAoIh+Z6qK8yni87QPT5U+DKRXDwM8jfaHzn1teJbqwzKsF9H8Ph9XDwC6MCvOr3J1eO\\\n",
       "7qYLz+bdn4VXcm5/D/b34bGP9hDs7+syfeh8rWveVedZ78vcW8rFyZE0Nh/H39eHaaPiiAw2gsVc\\\n",
       "pFxe28iStYeYe+Uw1q3JIj09nayiLG7kRmthPnBiYX5CAu998AmZxT74RNayaleJFVjtteqfDWZl\\\n",
       "15t52hRiA3CF1noMMBa4Vik1CZgPfK61Hg587vi992pryyVzIfDVj7ouCA6JNqqd/A1GQ4a536HV\\\n",
       "+KFONHZ8+eyJNV8x5xvBtv1dY63XdU/BkHSj7f67jtc1VENLgzHdGDEYagqM62P56yH9N/C9l53G\\\n",
       "cuIaBGBUcFPnu6+oZLpQuOG8K4atsYW5Vw5z2SGjoq6RzYeNv9tuPlxlTROa75s0JIYt+dV8nVPB\\\n",
       "nH9lk1tWB8CKrUU89tEedhVXA/D+1iJ8IhN46m+L212Y/9TfFvP8FhuPfbSHP67c5TKlZ35nb66Q\\\n",
       "zjWltWe2LCulgoF1wD3Av4A0rXWxUioeyNJan9fe+1NTU3V2dnYXjLQbfPms8Yf7Vb/veEXyxiyj\\\n",
       "EooZDnd8YgRY6yrH/NypDxnTjbveh6rDJz5j+NVwy9sn3mdWUmAE48gbYPmdEBpnhOieFVC4GfqN\\\n",
       "guBoo9txx9vGlGXJtyeqL3fnIA0bvVJHp91eWH2Qxz7aw9wrh5OdW8GXB8u5dGg0qUmRPPv5AYbG\\\n",
       "hnCwtI7082L57fRR/GdTPhsOllFW28iEpEiy9pVSbW8mKTqY3HIbg6OCmXpeLIG+ffh0Vwm55TYu\\\n",
       "Crfz+VP30ae80drX05RLLvOYx/Fof0Jn/oG0CaO5ICGcIH8fbpucdFKHJHhPK71SarPWOrW7x9ER\\\n",
       "HjWFCKCU8gE2A8OAxVrrr5VScVrrYgBHiPXr1kF2t9O5FnT1o1CZYyxgzrjbqMLcfW5jHaDgyLdG\\\n",
       "eAWGQ321sR7s6keN15lNIak/BR9/iB5utNkf/Mx4T9VhWPuXE9OYZseif7AxZbn6z0blNfSKk3fi\\\n",
       "cL52J9OFvU5HdsiYlTrICgVbYzNfHjRmIr48WM4FCeFcNiyahIgg6ptayNxbiq1xO1/nVFifs2Z/\\\n",
       "GdX2ZsCYhms5rjlcYeO/24qotDVxcXIkwfajrHry5xyrOMoMZlgL852vgaWRRkZ5Biz/X44l/p0l\\\n",
       "B8t5+LqRVkA5nwtIK/254HEBprVuAcYqpSKA95RSKR19r1JqDjAHIDEx8RSv9mKn84d7rKPyMps4\\\n",
       "Nr5g3JjS+VqZ2fCx+vET4RQxGDa9CGP/x/gMwJoCVBiv8Q0yQumSnxtt+XGj4fwbjOtf9VVG+F1w\\\n",
       "04mbX4JrZWVWfua1u9x1J9/WRfQKbTUmVNQ18vNlW1h3oAxbYwvzrhphNV3YG1vYVlDNmIFGBbTu\\\n",
       "gOvUen6FjbBAX2rqjdAaFBnEVefH8cmuI3yTV0XfQKOZo9LWRGSwH+t3HebI0vtpPmZ8zqkW5teU\\\n",
       "H+XDP9/NxAdeZkJSFC+sPmiFrK2xGVtjCzeMTXB7XuLMeFyAmbTWVUqpLOBaoEQpFe80hXi0jfcs\\\n",
       "AZaAMYXYZYP1FiHRRjC03pHDpZJz/GsLiYLpTxpbSlUdNjbvNSullO8b1ZTZhNHSaEwFNtYZvw+9\\\n",
       "wrgGVl9lTFn+v2VGZfXZ74z3jfiOEaRXP2qEovn95l6IjqYPqcB6l/amD9/OzmfdAaPjdfPhCg6W\\\n",
       "Gg0T00bFsf9oLV/nVBDs78P9Vwxnw6Ey8ivsFFXXExnsR1G1sfRjUKSxGP/bwhrqGlusKuxYfQuB\\\n",
       "fn0Y0a8v3xZW4xMURsjoq6n+cpn1/RlkEBoZS+yVC6j9bDEZ1Rku4wsdcw1FDX4898V+MveWAkal\\\n",
       "Fezv62g08ZHK6xzwqABTSsUCTY7wCgKmAX8GVgC3AY87Ht/vvlH2EGYItb7GlDLLqMxSZhm/7/vQ\\\n",
       "CJSky4zfP/udEX7+wZD2W6MCm/JrI7BSZhlThM6BaH5+sNO0p3Mr/y1vu1aUZsCaDSVyDazXaG/6\\\n",
       "0KhmWth8uIJ1B8pZ8P5O1h0o45OdRhU1KDLICo6vc4wmjkuHRvP7GSms2FpIZV0TmXuPkl9p59Kh\\\n",
       "0fzy6vN4+rN9JIQH8MmuEqrtzZTVNljflzjtNvLACjGf0CgiZv0Rn8gBpF74d1Y/cz+2KuP7Rl3/\\\n",
       "Y1K+eyeDo0M4XF7HnClDTqokpfI6NzwqwIB44DXHdbA+wFta65VKqa+At5RSdwJ5wKzuHKRXO9WW\\\n",
       "U86BFTvX/fW2ulJjmjFqCMx+60R1ZQYbGKEz9lb3u2yY19LMR2fm68xpxbbGKXqc9nZ7jwrxZ95V\\\n",
       "I6zny2sbWHegjNJjRugkRARx66TBTBsVR1PLDtYdKOeCAeGs2lXCbZOT+eVbW8mvtANwwYBwLhoc\\\n",
       "yes/udj44re38dbmAiKCTlRr114QR9HAn7MlIoi9qzOIm/0YPpEDCA/yJXX0KEb+5TVemn87E675\\\n",
       "PjFTb+XrnApKahrILbcR7O9rVZDS6n5ueVSAaa2/Bca5eb4cuLLrR9QDnaoBpPXx1tfbLp0LmY8Z\\\n",
       "P1ccMjb9NRtCzL0Uzde1FZaxw43K60zGKXoc5z/szS5DcK3GnLeAig4NYEJSFM99sZ/fTh/F0NhQ\\\n",
       "KuoaGT84kvGDozB369hwqJyZ4wbw1cEy6ps1QX6uq4cKq4xgC/DrY3UlHiit45u8Kn70k19w/Naf\\\n",
       "8PkhG8U19YQF+vGvDXkAXL/wdS4cOpAlaw5ZYxsYGcRvp4861/+qhINHBZi3aK6spHr5csJnzsQ3\\\n",
       "MrK7h9M57hpAOrMfIRgLoxttRiv81Y+6bsbrPIXYmRBqPQbpQuw13F37cjf11vp1ZrA99YOxvLY+\\\n",
       "B3Nnjmc/P8CcKUPYWVTNRYkRZO4tJaesjvpmTaCvorKuyVof9nZ2Pr+8+jz8v9jP8Li+LFlziKGx\\\n",
       "IdZ3HiqzMWV4P4q37rFa8y8bZkxprztQTp9AY93Y4Khgvsmr4uHrRjI0NrRT5ypOnwTYaahevpyj\\\n",
       "TzwJQPSdd3bzaM6QeX8w525E52POoeL8+zV/OPmzWodOZ0LoVFObosdyd+3L3dRbW9fI3s7Otzb0\\\n",
       "nXvlcB6+biRr95fy5cFyq3FjYlIUlbZGqu3N/GvDYSJD/Pm2oIrMvaU8fN1Ilt4xkYq6RvaXHCNz\\\n",
       "byl9A30YEBHIA1eNICnGCLRpo+KsxpEVW4sYFR9GffNxlIIHrjqPTbkVp7zWda535+htJMBOQ/jM\\\n",
       "mS6PXsd53ZV536+TuhFx3ZrKbK5oK2TOdOGxTBn2Wh1tdDCPmztvmFXMtFFxrNlX6qh8jL0Rp42K\\\n",
       "448rdxEbGkD+5gIC/XwI8fel2t7MgIhAQJO5t5TLhsVga2ymoq6RqBB/nvrBWKY9nUVFXRPH6lvY\\\n",
       "lFvBRYMjmZU6yKqcjMDcT/p5sVbjyJThFdYxM+jcVVnS1HF2SYCdBt/ISO+uvFrvmTj8avfrrsbe\\\n",
       "euI1ZjiZz4NraLUOu86GmEwZ9lqnanRwnna7a+pQl+tjs1IH8buMHScWM28ot/ZGfOoHY/n5si0A\\\n",
       "HCqrsxo0rr8wwbof2ObDlTz7+QE2H65i/OAIbpuczEs/msADb23l8uExLrtomLdxAc3cK4dzw9gE\\\n",
       "Rg8sBJQVXuY1N+dW+s6cq+gcCbDexLnyAuMx6bK2qybndWPuro+ZodVoA7SxT6Ks4RJnWetpN+cq\\\n",
       "5u3sfCu8hsaGcvmIWKuL8ZdvbWXdgTLSz4vl/iuMRfij4vtyd5oRINm5lXx5sJy4vgGOXerL+Lag\\\n",
       "mt9OH8XsiYlur8mZ9x8zr3WZmwU7v2baqDgmDSmRKqsLSIB5uLPaMOJuCjD2FEHTXmVkVmLmLvNT\\\n",
       "H4Kh6TINKM6q1tNuzlXMrNRBrNlnXO+KDPFz6WLM3FtK+nmxPPWDsdZC6FEJYfx82Tc0tRy31ovV\\\n",
       "N7cAEOjbx7H11Ld8nVNp7aDxx5W7+O30UVb3Ixh3cjanHU1RIf4uU43SpHHuSYB5uLPRMGKF4DXT\\\n",
       "8b2Ksxcw7roP25s6lA16xWloa9rNnFr8/YwU65qTyTn0zGCxNbbw/tZCcsttAFw2LJrxg6MYNyiC\\\n",
       "P3ywi/GJkby1uYATd03Q/HHlLsd04C4rCAGe/Xy/2901pEmja0mAdaOOVFdno2HENQS7cWpPOg3F\\\n",
       "WdReWLQOvagQf4L9fcgttxER5McNYxL4xVUjrCopbWQ/KuoaGdov1KUJo9LWCBgVmPl9ZqejuylC\\\n",
       "adLoWhJgZ9GpAqn18dbVlbv3n42GkXPeNdnRYJJOQ3EWdTYsZqUOshosBkQGnTTF5xx6Q6eGWs8t\\\n",
       "vWMiAJGpJ66HtTU9KE0aXUxr3SP/GT9+vO5qZS+9pHedN1KXvfSS9VxTRYUue+kl69H5uPMx5/cf\\\n",
       "njPnxHNlZe6/q43nu0Vtmdbr/mo8CuHBymsb9D+zDujy2obuHorHArK1B/wZ3pF/pAI7i9xVOs5V\\\n",
       "lvl86BVXUP7yy4TPnOlSXYXPnEndxo3UrV5D9fLlPJefz4svvkhmZiZDYmOt6uxQaSnp6en89Kc/\\\n",
       "ZeHChV13gm2RFnjhJdqrkGSXDO/T59QvEe40V1ZS/vLLNFdWWs+Z033m9F9zZSXHbXaifnwHx23G\\\n",
       "fmvRd95J7RdfcPSJJ6levtzlswASHn+cmPvu4/F33mHRokUUFRWRnp7O5n/8g6NPPMnmf/yD9PR0\\\n",
       "ioqKWLRokWcEmBA9gHmNy2zUEJ5PKrDT5K47sPU1rPIXX6TilaX4DhxAc0EhfYKDiL7zzpMqtcrX\\\n",
       "36Bs8WKO2+zE3v8znvjsU578+GPru4qKipj53HP8cdw4fvvccxSVlFjHFi1aBCBBJoTD6VZS0oDh\\\n",
       "fSTAOskMqdArrgDcTxcet9noExyMbfM3xnsKCgmZenk7TRTaeiwvL+eN7GyXozOYQVZJFj/++GMi\\\n",
       "iGAGM6y7wQK8uGQJt0RGkvyjH3nf5sJCnGWn28ouDRjeRwKsk8yQqtu4kYTHH3cJDDOgjtvsHH3i\\\n",
       "SQLHjQUgcOxYl9eeCDo7fYKDCJkyBfuOHYRNn45Pnz4sv+8+Zi5eTFFxMTOYwVzmciM3sohFLGAB\\\n",
       "SSQBxl1iExISWH7vvTQ//0+qQ0NP6lj06p3zhTgNUkn1HhJgnRQ0fjx9oiKtRgvnwDCvgTVXVtIn\\\n",
       "OIjm8nLqt2wl+KJxVL7+BqAJmz6d4zY7Mffdy3G7jbLFiwm+5BJsX31F7USjXTfs/15n+X33MePJ\\\n",
       "J8mqyuJGbiSJJJayFIBccskii/7h4ScaPPr3d1vh9aid84XoAKmkeg9ldE32PKmpqTq71VTc6XKu\\\n",
       "Yormz6du9Rr8hiST9MYbbVY1zZWVVL7+OqA4Xm+n4uVXAKyw8huSTNC4cdS8u5yIW/4H/4QEgsaP\\\n",
       "p/TZv+E/JBnfiAi+DA7mpp/8xCW8AO7gDnLJ5Y277uJ//vnPDo9dKjAhxKkopTZrrVO7exwdIRVY\\\n",
       "BzhXMXHz51PieGwdCEZoGZXWcXs9Fa+8gt/gREIuu8x6TcuxY/QJD6fpUA66sQmA2nXrSPznPyl5\\\n",
       "/HFsX31FU8kR9u/Zy90lR4ggggUscPmeBSxgHvP45ZtvMvbOOxk1YUKbY/f6nfOFEKIN0kbfAeEz\\\n",
       "Z9LvwV8RPnMmAcnJJL7wAgHJySe9rnr5csoWL6Zs8T+o370bgKbDeTTm5BA8+RIAGnbs4Hi1cRfX\\\n",
       "gFHng48PzYfzyPvpHPwGDCT4kkuoueUW7igqpMRmI400kkgil1yr8koiiTTSOFJdzZVXX82+ffvc\\\n",
       "tvULIURP5lEVmFJqEPAvoD9wHFiitX5WKRUF/AdIAnKBH2itu+RP6vam4JyPgdG8EXHL/9CYk0P4\\\n",
       "975P4+HDHG9q4rjNRuQPf0T9rt0cr6oiaMIEQiZOoHrlSmgxdsJuLiig6t//xveeu7n+vvsoaWgA\\\n",
       "sLoNs8iiiirmMY800qznj1RVkZ6WRtZDD9H8/D+p/fJLAkeeT5+gICJvvUWmDYUQPZZHBRjQDPxS\\\n",
       "a/2NUqovsFkp9RlwO/C51vpxpdR8YD7wUFcMqL0mCOf1W4BLQ0bTkSM0FxUBUF9aSkneHzleVYXf\\\n",
       "kGQG/u1ZfCMjCZkyhYJf/QrfiEiCxozGNyKCkClT+H5kJH93VGng6DaMj+ep88by8Lp1ZDRnuIzj\\\n",
       "f8aMJflHP6Jo1y7qVq/Btv4rAGvdmRBC9EQeFWBa62Kg2PHzMaXUbmAAcCOQ5njZa0AWXRRg7W+E\\\n",
       "azTAHLfbqN9jrDsJPH8koZddiv/w4ZT86U8EXnghLRUV9L3mWkqfeYagceMAo3qzb95M+DXXUPHy\\\n",
       "KxyvqSHhL3+m6KGHuDcgkOPR0fyj3LhRX3xsLJlZWQz282PI/Pncsnq1tZj53uhofv2d6wAISrmQ\\\n",
       "gKFDAUWfoKBzt3mvEEJ4AI8KMGdKqSRgHPA1EOcIN7TWxUqpfl01jvaaICJvvZU+wcEct9mxrf+K\\\n",
       "kKmXE/3Tn+IbGUnpc3+n6XAe4dO/S+Qjj5B7yy0cr6qi5t3lNOXl03S0hObDefgOTgSgKS+PvNvv\\\n",
       "QNcbtz2fm3IhffIO81Z+Pm9MmULkJ59y5JtviNv2Lcvvv58Zf/kLM/38+NW0aYCi8vXXKVv8D/o9\\\n",
       "+CupuoQQvYJHNnEopUKBd4FfaK1rOvG+OUqpbKVUdmlp6RmPo3VjRHNlJSVPPMHhH/+YhpwcK9wi\\\n",
       "b72Ffg/+irj586levtzxerM6s1M0fz5Nh3IgMBD/kSOxb9pE8+E8VFCQEWIDBwKg6+vxiY0lcOxY\\\n",
       "/AcN5NFXX+WT788iyc+fssWLjfb7wYkk+fnzxS/m8bOYWPoEBVO2eDGgiLnvPo7bbG4bOaTJQwjR\\\n",
       "03hcgCml/DDC6w2t9XLH0yVKqXjH8XjgqLv3aq2XaK1TtdapsbGxp/X9zn/Qm9e/Kl9/ndLnnqPw\\\n",
       "gV9S8fIr2NZ/Rcnjj7tswht9553UrPyAo088SeEDvyRs+nT6Pfgr+gQFUrd6DX0iIqC+nuO1tcZ5\\\n",
       "9u2LttsJmjCBxBeXoEJCADhus1G/dSv2TdlULH2VQdOupH7rVmNwgYE0Hc6j4pVXiImJpt+DvyLq\\\n",
       "jtvxG5JMyJTL6BMcRNnif5y0SbDzuZgBK2EmhPB2HjWFqJRSwMvAbq31006HVgC3AY87Ht8/V2Nw\\\n",
       "d/uT4za7o8qBoAkTUH6+xM2ff9ImvGbVZfvqK2pWfkDs/T9zhISi9st11G+tInTq5fgnJHAsMwt7\\\n",
       "djZoTdXb71i7IfoNGkSfgADqt23DNz7e2s3+2KrPacrLw29wojEt6egwzLvrLpoO5VD2/PPEzZ9P\\\n",
       "3caN1j6N7s4lfOZM2Z1DCNEjeFSAAZcCPwS2K6W2Op77DUZwvaWUuhPIA2adqwE4/0HvvDWUEU6q\\\n",
       "VWu6dnmMvPVW6jZuxL4pm7qNXxNZaby2T3AQ9Vu3ETz5EnwjIgmfOZOg8eMp+vVDHK83Fjybgsdf\\\n",
       "hG9EJPXbttFcXEzN8uX0e/BXDHrBWOgcN3++yxq0mHvuoTE3F7+BA6l6+23qVq+hJiWFyFtv5bjN\\\n",
       "Rsx997mcS+tzFEIIb+VRAaa1XgeoNg5f2RVjcNe04RsZSez995/0WrOJwzkIlK8fAPZN2VS+/jqx\\\n",
       "999P6BVXULdxIwHDhlG2eDH2HdsJSkmhKS/vpM/sExDIcbuNoNRU/IckE3zROCuAEl94wXqdOS14\\\n",
       "3Gan6XAeVYf/TfAll5ijcCyqNpo6Wq8Fk905hBA9gUcFmLcxg6AhJ4ei+fMJGDrUaLRITHSEk5HF\\\n",
       "tV98Qd3qNQSlpBAy9XLHzxcSdeePsW/7loARI+gTFEifwEAAyhb/AwB7djYhUy+n9VLk5spKCh/4\\\n",
       "JbavviLqxz8m5r77MDcKrv3iC5dAdVdlyf6IQoieQAKsE9r6g7/k8cepW72GxpxcYu67l7Dp06l6\\\n",
       "5x1sW76hISfHZcourKqKI41NNFdW0JiTiz07m77paVZF1JCTQ9XKlTQfzsMvMdHtrvfVy5dj+8qx\\\n",
       "WDkokMhbb6F6+XJ8IiKsKc/2AkqugQkhegIJsE4w11odt9lcphTj5s8nPz+fpkM59AkOxicigmOZ\\\n",
       "mTQdyqHk8cdJfOEFK1jMDXvNAPIbkmw1XYBRrTUfziNk6uXE3HMPZc8/73IcjCA8brNz3G4DFOUv\\\n",
       "vWQshnY0k5wqoOQamBCiJ/C4NnrPplwezXZ0n4gIkt54w1qHVfn6GzQdysFvSDIx99zj0spet3oN\\\n",
       "wZdcQtSP7yAoNZWmQznUrFxpfYO5cXDc/PmUPf88davXUPvFFy6j8I2MJPLWW2g4eJCyxYutjYPN\\\n",
       "ZhLnzYfdMac+ZfpQCOHNpALrhMhbb6FP8IktmlpXOn2Cgzj6xJPE3HevFSBttbKbu3XYs7Nx7lsx\\\n",
       "w6X85ZepW72GkKmXt3mjSvN43Pz5Lte+pElDCNEbSIB1QutgaD0V1zqg3D3n/P7WgejM3We1dzyg\\\n",
       "VWBJo4YQoqeTOzKfIU8NivKXX+boE0/K3ohCiE6ROzL3Ip7a0SeNGkKInk4C7Ax5alDIdTAhRE8n\\\n",
       "XYinqfVGvp4yfdiVG/VW1leydMdSKutlU2AhRNeTADtNzru7e5KuHFfGgQye3vw0GQcyzvl3CSFE\\\n",
       "azKFeJq6auqws00iXTmlOWPYDJdHIYToStKF6OGkm1AI0ZW8qQtRphA93Kl21Thdcv1KiO5hq6lm\\\n",
       "04p3sdVUd/dQvJ4EmIc7V9s+yfUrIbrHzqxVrHljKTuzVnX3ULyeXAPrpeT6lRBdy1ZTzc6sVQwZ\\\n",
       "fzEAF6RN6+YReT+pwHqpyMBI7ki5g8jAs1PZtTclKdOVordob3rQrLwObf6aCTd8j+Cw8NP6HHGC\\\n",
       "BJg4K9qbkuzMdKWEnehqZzMs2psevCBtGpffckeHKi+ZZuwYmUIUZ6yyvhJ7s517xtzjdkqyM9OV\\\n",
       "ZtgB3JFyx1kcpRDumWEBMOGG73Xqvea04AVp0wgOC7fCyV1IBYeFd/jz2/sccYJHVWBKqVeUUkeV\\\n",
       "UjucnotSSn2mlNrvePSMLS8EYITXI+se4fltzxPkG0RkYKRLFVVeXu52urK8vNxttTVj2AweGP+A\\\n",
       "S9hJVSbOpc5URq21rpTMkHI3PdiZSq+9zxEneFSAAa8C17Z6bj7wudZ6OPC543dxjnQ0LMzXLduz\\\n",
       "jLWFa0kOSyZtUBpwooq6/YHbGT16NPv27XN57759+xg9ejS3P3D7SVOL7sJOOibFueQuLDoaNh0N\\\n",
       "P1tNNR//4xk+euUFt9OC5eXlpzf4Xs6jAkxrvQaoaPX0jcBrjp9fA2Z05Zh6ovZCqnVYtPVa83Vb\\\n",
       "jm5hUvwkcmpymPvFXHKqc5gxbAZDvh7CiudXUFRUxMVTLmbT9k1U1lfy2MrHSEtLo6ioiBXPr2DI\\\n",
       "10NOObXorirr6PkI0VHOoXW2r0HtzFrFP//v3zybuQH/gUkux8y/0C1cuPC0xtqraa096h8gCdjh\\\n",
       "9HtVq+OVHfmc8ePHa+HeK9tf0SmvpuhXtr9y0rEKe4V+ZfsrusJe4fLaez67x3quwl6hF29ZrG/7\\\n",
       "6Dad8mqKfnLTk/q7y7+rU15N0d9d/l3984d+rgGXfyL6Rei5i+dq3wjfk47dcM8N1mef7fMRwlld\\\n",
       "dZXe+P47uq666qRjG99/Rz/5g+ut4xvff0eXFeS7PLZ+35f/eV0/+YPr9Zf/ef2kz3f++TfzH7L+\\\n",
       "e4+Pj9d79+7VWmu9d+9enZCQYB1bsGBBh87DeaxnG5CtPSALOvJPj2riUErNAeYAJCYmdvNoPJdz\\\n",
       "U0VlfSUZBzKYMWwGkYGR1hSeWdWkDUpjfeF61hau5f4v7ifIJ4ik8CTe3PsmY2LHALCjbAd/uPQP\\\n",
       "/O+X/8v+ov18/tLnrt/HDLKOZvHsfc8SQQRppJFBhnX8w2Uf8vr/vM79l91/xucjRHvaa9hwbpww\\\n",
       "pxU3rXiXNW8sJX/XdnK2ZFvvs9VUs/XjleTt2g6AVid/PsCaN5ayZNl/eOnNt63niouLSU9P57m/\\\n",
       "PsPdd99DacWJSadFixYBnLIakyYPgzcEWIlSKl5rXayUigeOtvVCrfUSYAkYeyF21QC9TWRgJDOG\\\n",
       "zSDjQAb2ZjvPb3see7OdIN8gK8jMKcJNRzaRFJ7EhiMb2Fa6DYCiuiIAfPsY//lkl2TzzdFveO26\\\n",
       "18g4kMHeF/by1E+eormqmRnMYC5zuZEbWcQiFrCAJJIAyCCDsNgwfvHiL/AJ9aGyvvK01qWZoStE\\\n",
       "WzqyiNjsImzdVdhUX09TQwPRAxJpbKjHVlPNlk9WsuHdZQAkj0slafR4lj++kItvuplLvjebxoZ6\\\n",
       "kkaPJ2bEKFa++C+X75nBDLKKsvjeD/4fEUQwgxkuf6F78cUXuf/++4mOjnZ7Hpvef5ejhw9yxR33\\\n",
       "9PomD4+6BtaGFcBtjp9vA97vxrF4JXfXiJzb1R8Y/wCAy7WvtEFpJIcls7ZwLbk1uQCMiR3DpP6T\\\n",
       "ePSyR3lg/AMsuGQBt19wO+P7jaeivoK8mjw2HdnE7Cmz+f3//Z74+HiyyCKXXJJIYilLSSKJXHLJ\\\n",
       "IgvfCF9+8eIvSBqaxPPbnpcmDXHOtF5EDJx0DclstDCvfZmhpxVkr1zOwW82suGdZezMWoVy/PU4\\\n",
       "MWUs1947j6/fe5OcLdl8/d6baAUb3lnGx4ufpmzfLp5b8AgJCQkA1l/onuEZkkjiGZ5hLnOZ4bi0\\\n",
       "n5CQQGZmptvwMs8je+Vy8rZvY/X/vXTu/oV5CY+qwJRSy4A0IEYpVQAsAB4H3lJK3QnkAbO6b4Te\\\n",
       "yd3aKudpN7P13azAALLys8ipyWHKgCk8OOFBPsr5CIDZI2cTGRhJYlgiy/YsY0/FHjYf3czmo5t5\\\n",
       "c8+b1LfU03S8id9M+Q3r7lvHh7/9kEUsYiknplUWsYgqqpj7p7n84ppfWM/LFKA4V1pPubmbStyZ\\\n",
       "tYqcLdkkj0u1KrE1byzlku/NJnlcKjlbsklMGUtjQz0jL52KX2Cg9XlhsXFE9E/g4ptu5vC2zQBU\\\n",
       "lRSRPC6Va2/5EaOvvIb09HSyirK4kRutv9AB1l/o4uPjyczMZMSIEda43a0zs1VXc/TwQab+8Cdd\\\n",
       "8y/Pg3lUgGmtZ7dx6MouHYiXan09y+TuGlHrabfW176GRwwnOSyZu0bfRURABDvKdrC2cC1BvkGk\\\n",
       "DUozOg5rcgCI8I+gqrGK+pZ6AOzNdm7/v9tZ/+R6IohgAQtcxrmABcxjHm//6W3unXYvI0aMaHMK\\\n",
       "sK1zEqIzWi8idg40d9OLzouSh4y/mMbGBprq62lpaWbDO8vwDwh0qeS2ffoBAAc2rudo7iEuSLuK\\\n",
       "Y2WlTP3hTwgOC2cg8Ks7b+OBPzzW5l/ofjRxEtEhwS7jbh20wWHhTP3hj8/NvyQv5FEBJs5MW7tY\\\n",
       "dOYakfkZEQERVDVU8dDahxgUOogNRzYwqf8kimqL+NFHP6KqoYoI/wiGRQ4juySbMbFjKLeXEx4Q\\\n",
       "zsbtG8l5PIfmqmbSSLOmDZ2vgaWRRkZRBpenXc7cJXO5e9rdbgNq2Z5l1jW6e8fee3b+RYlezznQ\\\n",
       "zEaNpvp6/AIDT3rNphXvsvm/J+5wHpkwkCHjL7aCL3pgEqHRsSgFBXt3cWT/HiITBlJZVMDeL1dj\\\n",
       "O1bDmo8+4NkPV7X7F7pXP81k+NN/5mdPPWcdk2aN9kmA9SCtKy3n6gVw+3Pr0JgxbAabjmxibeFa\\\n",
       "AAprCymsLWTKgCmkxKTw/LbnAQj0CaSqsYoJ/Sdw+cDLrWaQ0KZQK7wA6+J0FllUUcU85rl0IZYU\\\n",
       "l/C7H/6O0P+GnnYXohBnwgyHxoZ6q+Pw2nvnWQ0SF6RNo7GhHntNDYe/3UJlUQE7vviUg99spLKo\\\n",
       "gLB+cdSWlwIQGhlN8rhULr7pZor27sRWXc2qd//D81kbqLE3MIPr2v4LnT2DP73xNlffdb81jdiZ\\\n",
       "7ad6IwmwHqR1peVckbXuNjQ7DP902Z9cQiwyMJI/XfYnlu1Zhr3ZDkCQbxCzR86mqqGKjAMZFNcV\\\n",
       "MzB0IPUt9RypPUL/0P5cl3wdACsOrCByaiSl75eeGAcZxMfH8+Rfn2TuvXPJKM9wGffY745l+oXT\\\n",
       "3Z7T7JGzXa7NCXE6Wl9LcmaGhK2mmpKD+8nZks0Hf/sLCeeNYtw10wkOC+fSWbewacW7VB0pIvHC\\\n",
       "sezf9BXVJcVEJgwkMCSUmqMlAEQNGMTlt9zu6BQ8hE/fcCu84NR/oTtSUkJaWhqv/eVRLr3hpl7f\\\n",
       "ZXgqEmA9mHNFtmzPMpfn1xcZa7t+vebX/OXyvwCuVVnr6brK+kqe2PQExXXFAByoPgBAQW0BYISc\\\n",
       "vdlOYV0hQ38wFMAKMd8IX3703I94v8/7JDyYQN5f8mioMP4PnfrDVOqvrCcrP4vk8GSX7zPHbDaO\\\n",
       "CHG63DVtOIea+ZqpP/wJLc1N5G3fRt72bZQc3G9VY2ZLfeHe3VSXFBPRP56hF01k0AVjWPH0H2lp\\\n",
       "aqKiMJ+tH68ke6Ux5Rg/fCTXTp7EW5+vtsaSQQb94+JY+fJK5syZQ0ZRhstYr596Gd/+9x2OFeS6\\\n",
       "VILiZBJgPZhzReZcyUQGRjKu3zg2FG9gQ/EGq9p6deer5FTnUGYv48EJDwLwxKYnuGv0Xfx969/Z\\\n",
       "ULyB8XHjSeybyJdFX6JQRgt9QwXDI4bz8NqHAehDH+JuimNsv7F8ufxLBjw4gO1qO3k1efQf3J+F\\\n",
       "7y3k3u/fy6UzL+Xvf/47WflZpA1KsxZOZ+VnWRUjGAulW1eKQnSGu2tJzqHW2FDPhneW0dhQT8J5\\\n",
       "o8jbvo2IuARytmSz4unHUEDcsBH4BQSQt2MriSljaWlpJnvlcg5kb6ClqQmAY5Xl5DsWNwNUl5Uy\\\n",
       "MToU+4Sx/HfTVgDCggJ44oGf06+lng//u4LvfPcGioqMtZULFizg1w/M4+N/PEPOlmx2Zq2yqsO2\\\n",
       "KsjeTAKsl2g9vTh75Gy2HN3ChuINAOwp3wPAF3lfUN1Yzfay7YT4hlBYV0jBsQKr47D5eDOHqg9x\\\n",
       "1GasJz/WdIwNxRsoqSuhqrGKQJ9AappqmBQ/iZFzRpI/Jp+YqBjyjuWRHJZMTk0ODVENHNx9kOjo\\\n",
       "aGtt2kc5H/H8tuet62/3jLmHe8bcw5ajW1hbuJaMAxmyWFmcVc6htvXjlQAoDWOvnY5/QCDRA5P4\\\n",
       "+PmnKdxt3ByjYPcOLki7iqCwcPrGxLIz6zMAqo4UMeD8FI6Vl1JztITaslIC+4ZRf6wGW2U5vgGB\\\n",
       "TE0eQH1dHRtzC7h76kR862pY88ZSElPG8tSD83jgL08zZ84caweOa++dx5ZPVtJUX++yNyN0/pYv\\\n",
       "PZkEWC9kNnf85uLfWNWPvdkOCr437Hv8bv3vqGqooqqhigEhA7g4/mJqG2sprS9lW+k2Qv1CAegX\\\n",
       "1I+hEUNJiUlhSNgQHt34KJfEX8KHuR/S1NLEjrId+Ib6UtVYxaT4Sdb3OTePmNfpzMCyN9sZGmFM\\\n",
       "Qc4eOZvZI2e7NJ8IcTrcBYBzg8TYa6e7rOsC2Pzhcuw11QSEhBIR1x/fgEDyd32Lvaaawj07mPT9\\\n",
       "2dhraijJOUhzQz36+HEABpyfQsygwZTlHwY0hbt3EtYvju9NjeWy4YWEBPgTkzgY/6BAa3uql//w\\\n",
       "O667827KCwtY/X8vMfWHP8E/INBlW6pJ35/t0vYv1Zh37MQhzjIzNLLys7gj5Q6y8rN4deerjIwa\\\n",
       "ybNbnsXeYiegTwAANY01vLn3TWzNNgAC+gRQ21QLQGxQLK/ufJUg3yBWHFpBZUMlFQ0VTBkwhc1H\\\n",
       "N5Ndkk1iX2NPynH9xpEcnnzSrVLMnebNKc5Xd77Knoo9PL/teeZlzWPZnmWnXAMmu9GLUxky/mKS\\\n",
       "x6Vaa73aY4Zdv8FDiegfT0NdLQEhoRTu3kFQaF8C+/Yl/ba7uXTWLYTH9uPI/j2UHDrAsbJSQmNi\\\n",
       "qauosNaFHW9uIX74SJLHphLerx8hAf4AlOcfJnpAIvHDRwJQk5+LraaaL5b+k5wt2Xyx9J/WrVq0\\\n",
       "gq/eNdaeBYeFy92anUgF1sO5Wwjcut3efFxftN5qymg43kBkQCSVDUYoJIUnYWuy8esJv+axrx8j\\\n",
       "rzYPXx9fpgyYwkX9LqKivgJ7s5344Hjya/O5aehNFNuKuW3Ubfx7z7+tLsX2xmaOo6K+gg3FG9hc\\\n",
       "spnNJZsJ8g1qd/pQ7uIsTG1VJ4c2f21VO+4aI5wrtCHjLyZ/13aGTZzM0cMHqTpSTEtTM4kXjiFv\\\n",
       "u7EfaHlBLv2HDaO69Ch9Y2JpaWrCVl2FwtiBIzA0zJp6BCjeb0zRDzg/hbqKCgp276Bg9w4SLzQ2\\\n",
       "xC7YvYMtn6yk3+Ah5G3fyvFmYxnKBWnT2PLJSlKnz7T2YZS1YSdIgPVw7v5wb2sXjrRBafzvl/9L\\\n",
       "SV0JaYPSmD5kOn/95q9orVkweYHVJfj3vn/n0a8f5VjDMdYWrsXWZGPz0c1MGTCF9w6+B8BR21Hy\\\n",
       "juWRfyyfwtpCUmJSTpoOfGTdI9Z6M3NzYfOY2dXYkRZ62Y1emNq6VnRB2jRrR3mzMcKZcyiYW0oB\\\n",
       "5G3fRmTCQAr37GD8d2fSWN+AraqShPMuYGfWKqvSCo+Lh+oqQiKjCYuJ43hLM8X7awgICcXHzw9b\\\n",
       "VSVh/eJIHHUhX727zOhgnHAJwydMpvroUapLilEaJtz4PcoL86xxgrGvormVlbkDiFwHM0iA9XDt\\\n",
       "/eFuVkBm59+MYTO4MvFKnt78NAmhCSSGJXL5wMtJG5Rm7YV4XfJ1ZOVnMa7fOKtLUCllXb8aEDqA\\\n",
       "3JpcksKSyNubR2FtofVdzoEFsLZwLVMGTLHCyzloO7PrhuxGL0xtVSfBYeFce+88l7b51tWaGQrO\\\n",
       "W0j1HzKcpoYGuGgiRw7s44ijklr/9usMGHE+F6RdReGenaTfdhdbP/2vtZdizpZsazeO/sNHYquq\\\n",
       "JHlsKmOvnc6RQ8ZaM3//AL5+701rPdl5l051O05zLINGXciQ8RezacW7cv3LQQKsh3P+w731lJ0Z\\\n",
       "GusL17PhyAbszXZmj5yNvdmOvdlubePkvDPHxzkfk1OTw6T4Sdx83s3k1uTys7E/44VvX2Bt4Voe\\\n",
       "GP8Aj0x6hJzqHHJrcrE329lWuo31RevJO5ZnBZap9fShVFHiTLS3c0XrY1s+WWm1zo+7ZrrbMPML\\\n",
       "DOSrd40KqMAxJRgY2pe+0bF89e4yEi8cQ9WRIsoda7Z2Zq0i4bwLAFx24ziyfw9+/gHszFrFxTfd\\\n",
       "DIDtWA05W7KJiEugsqiAQ5u/JnrAQJfvN3fLD+rb1+X+ZCDdiCAB1qu0rnJcrjkd2cCWo1usZoqn\\\n",
       "Nz/NpP6TuGfMPVyXfB0pMSlW231yWDIbijcwOWEyj0x6hKU7llrVlLmey95sZ0PxBu4Zcw9h/mHW\\\n",
       "cef1XGbl5VwBylovcS45V13mLVGUbn/qEYwKKHpAorUDxzHH1lH9Bg8lafRFLsH35dtvkLMlm7ih\\\n",
       "w7l01i3YaqrxDQygaO8u8rZvO7GzveP617AJkwgOD3d7Tav1uOT6lysJsF7EDCwzZGYMm2HtQH+w\\\n",
       "6qC13sp5P8TJAyaTHJ7MvWPvdTvlWFlfib3Zzj1j7rGucTm3xQM8OOFBJvSfcFJAOd8006zwZCpQ\\\n",
       "nEvOgeCudb6tYAjq25fg8HCqS4pJHpfK2Ku/y7HyMoZNnMyA84xOQvNGl/k7jIXMZkAGh4XjHxBo\\\n",
       "hZdZgV18080u4Wd+hrkz/qHNX590A07ZG9GVBFgvYk4nLt2x1KUSM/c/dJ5edP699fsBq6Fj6Y6l\\\n",
       "PL/teR4Y/8BJU4FmQLXVRWi+9qJ+FwFGsApxLjlXMK3DwF0wOAee892ZP1/6D2qOlvDx4qeZ/ccn\\\n",
       "rPb2De+cuEvz2GtP7O9pvlcrOLxtMzlbshk06sKTvtP8PrPhpK1xCYMEWC/UmfuDdfaznN+XNiiN\\\n",
       "TUc2uQ0m5+txGQcyWFu4lgn9J7jshyjE2dbZCqZ14JnXxExVJUVWV6O5a31zfQO+gQHYjx1zua7m\\\n",
       "F2gsTJ70/dlcfssdbptJnKcsB426UKYKT0ECrIdztw7sbHTtOX9uW5/1Uc5HrC1cS0pMykldhc7X\\\n",
       "46SBQ3gqdzfCNENKK2Oa0NzuyXnX+jVvLLV2toeTr185dxC2vs5lfl/0gIFddZpeSwKshztXi3zP\\\n",
       "9HOdQ6sjgSp3Zhaewj8g0LrNihlWRw657loPJ1dRzrdtcW6Fl8aM0ycB1sO1d5PLU23P1N7r3FVN\\\n",
       "rd/T3r28OlsFym4bvZun7P/nriuw9QJp56rNXRXV+jNaV3mecq7ewGsCTCl1LfAs4AO8pLV+vJuH\\\n",
       "5BXau8nlmWzP5C6AzHVj9mY7946996wuMJZpxt6tK3djt9VUs/XjlWiFVWmZWldLbS08bs+pKi7Z\\\n",
       "eb7jvCLAlFI+wGLgKqAA2KSUWqG13tW9I/M+HQ0CTwsM2W2jd+vKabadWausRg1z6yaTuyaQzjaG\\\n",
       "nOr1MqXYcUpr3d1jOCWl1CXAQq31NY7fHwbQWj/W1ntSU1N1dnZ2F41QgFynEj1DexVYb6CU2qy1\\\n",
       "Tu3ucXSEV1RgwAAg3+n3AuDU90UQXUqqJNETBIeFM/kHt3T3MEQHeMv9wJSb504qHZVSc5RS2Uqp\\\n",
       "7NLS0i4YlhBCiO7iLQFWAAxy+n0gUNT6RVrrJVrrVK11amxsbJcNTgghRNfzlgDbBAxXSiUrpfyB\\\n",
       "m4EV3TwmIYQQ3cgrroFprZuVUj8DPsFoo39Fa72zm4clhBCiG3lFgAForT8EPuzucQghhPAM3jKF\\\n",
       "KIQQQriQABNCCOGVJMCEEEJ4JQkwIYQQXkkCTAghhFeSABNCCOGVJMCEEEJ4JQkwIYQQXkkCTAgh\\\n",
       "hFeSABNCCOGVJMCEEEJ4JQkwIYQQXkkCTAghhFeSABNCCOGVJMCEEEJ4JQkwIYQQXkkCTAghhFeS\\\n",
       "ABNCCOGVJMCEEEJ4JQkwIYQQXsljAkwpNUsptVMpdVwpldrq2MNKqQNKqb1KqWu6a4xCCCE8h293\\\n",
       "D8DJDmAm8ILzk0qpUcDNwAVAArBKKTVCa93S9UMUQgjhKTymAtNa79Za73Vz6EbgTa11g9Y6BzgA\\\n",
       "TOza0QkhhPA0HhNg7RgA5Dv9XuB4TgghRC/WpVOISqlVQH83hx7RWr/f1tvcPKfb+Pw5wByAxMTE\\\n",
       "0xqjEEII79ClAaa1nnYabysABjn9PhAoauPzlwBLAFJTU92GnBBCiJ7BG6YQVwA3K6UClFLJwHBg\\\n",
       "YzePSQghRDfzmABTSt2klCoALgE+UEp9AqC13gm8BewCPgbukw5EIYQQHtNGr7V+D3ivjWN/Av7U\\\n",
       "tSMSQgjhyTymAhNCCCE6QwJMCCGEV5IAE0II4ZUkwIQQQnglCTAhhBBeSQJMCCGEV5IAE0II4ZUk\\\n",
       "wIQQQnglCTAhhBBeSQJMCCGEV5IAE0II4ZUkwIQQQnglCTAhhBBeSQJMCCGEV5IAE0II4ZUkwIQQ\\\n",
       "QnglCTAhhBBeSQJMCCGEV5IAE0KIc8Be28g3nx7GXtvY3UPpsTwmwJRSTyil9iilvlVKvaeUinA6\\\n",
       "9rBS6oBSaq9S6ppuHKYQQnTI7vXFfLX8ILvXF3f3UHosjwkw4DMgRWs9GtgHPAyglBoF3AxcAFwL\\\n",
       "/EMp5dNtoxRCiA44f3I8l8wcyvmT40/5WqnWTo/HBJjW+lOtdbPj1w3AQMfPNwJvaq0btNY5wAFg\\\n",
       "YneMUQghOioo1J+Lrh5MUKj/KV8r1drp8e3uAbThx8B/HD8PwAg0U4HjOSGE6BHMKq0j1Zo4oUsD\\\n",
       "TCm1Cujv5tAjWuv3Ha95BGgG3jDf5ub1uo3PnwPMAUhMTDzj8QohRFcwqzXROV0aYFrrae0dV0rd\\\n",
       "BkwHrtRamyFVAAxyetlAoKiNz18CLAFITU11G3JCCNEZ9tpGdq8v5vzJ8R2aDuwKnjim7uAx18CU\\\n",
       "UtcCDwE3aK1tTodWADcrpQKUUsnAcGBjd4xRCNH7mNentmcWtNlo0VYThvl8ZUldp5o0TtXUIdfM\\\n",
       "DJ50DezvQADwmVIKYIPW+m6t9U6l1FvALoypxfu01i3dOE4hRA/Suppp/bt5Xcp+rJFNH+TS3NDC\\\n",
       "xO8OcXlvc0MLmz7IBXCZCjSDpnBfJXk7Kqzj5eXlREdHnzSWgsPFHN3bSFNDC9luPs8k18wMHlOB\\\n",
       "aa2Haa0Haa3HOv652+nYn7TWQ7XW52mtP+rOcQohepbW1Uzr383rU77+xuqdooNVVkX1bWYBXy0/\\\n",
       "iAa3LfPnT45n7FWDaLA1039YGMljYli4cCGjR49m3759Lq/dt28fF40fx29/8zuaG1tITIkieUyM\\\n",
       "2zF3psOxJ/OkCkwIIbqUvbaR5oYWUq9POqmqaR1Go9MHcvRwDXk7Klj39n7ydlQw9qpBJKZEMWJi\\\n",
       "HJFxISd9flCoPxXFdZQcqgFg/q8eYcnrzwKQnp5OZmYmI0aMYN++faSnp1NaXsJH5f8i4Z0IxoXf\\\n",
       "yDr2M+32Ub0+qNriMRWYEEJ0td3ri9n0QS5+AT5WSLSubszrUQDTbh/FhOuTiIwPYcL1Sfj5+5C3\\\n",
       "o4KcbWVtfkfqd5IIjw1iU+lyK7wAioqKSE9P54MPPiA9PZ2iohO9aS+/+TfW5v6HvB0VfJtZgL22\\\n",
       "kY3/PcTX/z0ki52dSIAJIXotc7eM5DExbTZNOE8pmqG27bN8AIZPjGt3qg+g+EA1hflH+HD1Oy7P\\\n",
       "z2AGtiIb06dPx1ZkYwYzXI5/sel9auurUZwI2uwPcnt944YzmUIUQvRaZrX1zaeHrWYLc8rObNAw\\\n",
       "w8mcUrTW9+yrpOhgFYV7qlym+tw3gVzEFXM+5trvXE1FdSkzmMFc5nIjN7KIRSxgAUkkAZBBBgkJ\\\n",
       "CXy08hOaS/ta39vc0IJGGjecSYAJIbzema6LOn9yvNUpaH7Oqld3WZ2D50+Ot55PvCCK7VkFFO+v\\\n",
       "BiAwxJe8HRW883g2yeNiAaNCa2poYXT6QOt9u9fDfdc+weKPHySrOosbuZEkkljKUgByySWLLBIS\\\n",
       "EqxrY87ndmH6QJdzk7VgEmBCiB7AnOYD923nzpz/4Dffe/7keKbdPsopbIrJ21FBYkoU50+OZ/Mn\\\n",
       "h9n2WT62Y42U5R+joc7YtrVvdCDHyusBqCmrZ9tn+YTHBgFYU39fLT9IU4Ox8mf6LVOIGPEYv/zD\\\n",
       "T1jEIiu8ABaxiCqqWHj30wxKSLLG6hykzuf2bWYB2R/k0tTQwsWOtv7eRgJMCOH1OrMuyjnsAJfg\\\n",
       "MwOi9eflbjWaNMrza4mMC6FwTxUAiSlRVJfYCYny51hpPce15siBGgaOjMRW20jZ7lr6DwujvraR\\\n",
       "HauL6DdW8+RLvyOCCBawwGVcC1jAPOax4PEHCWiK4rZfX2cFaURckDWVaa09azRC0d1ee72FNHEI\\\n",
       "IbxeZ9ZFOd/mpK1bnjh/3vbMAqpL7YTFBBIeF0R5YS0AA0ZGEBzqT8GeSqL6h3LTL8fznbtHM+H6\\\n",
       "JDSanauLKDlUw5EDNZQX1lFSlc/dD82muLiINNJIIolccrmDO8gllySSSCONals585+6k9f+8hHJ\\\n",
       "Y2JITImiqsTOurf3W+Flrj1LTIli+MS4c/Gv1CtIBSaE6FXMcGo9lfjNp4dPup5kr20kb1e58b6+\\\n",
       "fuxcbbS6xw8LR6HolxxGYkoU8cPC+ebTwySPiaFgbyXFB6qJHRyCn78vsUlhVJSX8bf//pJqm/FZ\\\n",
       "GWQAkEUWVVQxj3mkkWY9b4bYiNGrmHb7KGsa0WwqKdxXiQLydlSwf3AJvgE+vfJamASYEKJXct7m\\\n",
       "qd/gMLdbN32bWUBJzjEAfHz7kHp9Es2NLeRsLaO61E5ZwTHqa43rYXk7Kti5tpCaUuOamK+/LwNG\\\n",
       "RKKB8L5RTD7/ej7a/C/rszPIIDw4mt/+z7O8/MGfySjOcBnfdVO/z/kXJbF7fTGXzRpOzogyl+tz\\\n",
       "/QaHccnMoTQ1tHT4+l9PIwEmhOiVnDsP4xxhYO172Oo6U9+YQPolhVldhdWldnz9+1Bf20xEXBCp\\\n",
       "30kCsJotQqMCQGPtj9h/WBjXp96Gj69i5devARAVFst91z3B2PNS+PjeT5g2bRqlFSUA3HzdXVyW\\\n",
       "+AO+XnGIwj1VLo0aztfnzLZ9P0cF1tuoE3ct6VlSU1N1dnZ2dw9DCOHB2trI13askW2f5TPmqkH4\\\n",
       "+ftQuK+S4v3VDBwZyeWzR7Bm2T4K9lQSGOJLfV0zE65PorGxhUPflHKsvN7qTowbEoavfx/6RgWy\\\n",
       "Z/0RRk6O46U3n2PV1+9xz1V/IS7CuFNURFwQzSEVzF10G1dfchNz7/k1fv4+2B3NHwnDw7n2rgs7\\\n",
       "NEV4pu31SqnNWuvUTr+xG0gThxCi12rd/GFOK5pdh/7+PvgF+Fhrvgr2VLLu7f1EDwoFoL7OqMDs\\\n",
       "tUbgGeEVYLXW+/r3oXBPFUX7qwCorWjkssQf8O+/fcj1t0whZWoCgSG+VJXY6XMskodnvcj0i+9g\\\n",
       "62f5aMf4AIr2V/NtZoHbc2h965XedKsVCTAhRK/mHADnT443WuNL7SSmRHFh+kCSx8QQFhsIQFhM\\\n",
       "IHk7KijNrWHMVYMYODKSqhI75UV1AMQNCcNsbA+PDWLq7PMYMDKCmtJ6wmIDGTPNeE9woDEd2Tc6\\\n",
       "yArBKf9vBAMH97fCTwEXpg9k4MhI63d3WgdWW52VPZFcAxNC9GqtF0GbC5qTx8SwPbOAooNV1JTW\\\n",
       "k5gSRWR8CNs+y6dofzUJIyKJcVRiEXFBjipNc6y8noBgXy77f8PZua6I6qN2AGpK69meVUDBnkoK\\\n",
       "9lQS1Nff5XrW7vXFVJXYCYsNZMjYWGvnjat/coFLt2RrrdesmVVlbyABJoTo1dpaBL1/Y4nVhDFw\\\n",
       "ZCT9BocxYmIczY0t5G4rY9vneTTVHwcgfmg4l8wcSu63xtRjg62Z7VkFVlMHGNVb6neS6Dc4DAUk\\\n",
       "j4lxCSbbsUb6RgdSU1qPr//Ju+O3pTcFVmsSYEKIXq11AJhbNPUfFkbK1AFUltQRHhdE9ge5FB+s\\\n",
       "QqGoqzqxa31YbKBVLSWPiSHz9T2gjduo9I0O5MCmozTYmqkpqyf7w1xr019zA2GTucM99O7dNTpD\\\n",
       "AkwIIZyY4XHkQA0+vkYThm4xurUL91TRf1gYsYNDsVU3EBoVyJW3jQLg6/8eQgEDRkSS/UEueTsr\\\n",
       "OFZeT4OtmQEjI1AoazHyRVcPPqnya2poobmxBT9/Hy5MH3jSuGTz3pNJgAkhhBMzPDTQ3NhC4Z4q\\\n",
       "+iWFMWBEpHX7lEtmDnXZzaOpocVaCJ0wPJzU65OsnTIi4oK4+IYh5O+soP/QcJdrVc673J9qQ17n\\\n",
       "hddyl2aDxwSYUuoPwI3AceAocLvWushx7GHgTqAF+LnW+pNuG6gQokcLCvVnoiNM7LWNVrOFuU7s\\\n",
       "28wCmhtaqCypY93b+8nbUcGE65MYMDLC0TJfzeALYzh/cjzFB6sp2FPJxhU5FOyp5JKZQ10+54jj\\\n",
       "OJx6F43Wt3zprde9nHlMgAFPaK3/F0Ap9XPgd8DdSqlRwM3ABUACsEopNUJr3dJ9QxVCeIszmXpr\\\n",
       "fX0sKNQfvwAfvlp+kJLDNeTtqGDgSGO7qKmzz2PfxhIUJ3bJ6D80nII9lUQPCmXQqCiXW7iYFZt5\\\n",
       "y5aOjMX5li/CgwJMa13j9GsIJ258eiPwpta6AchRSh0AJgJfdfEQhRBeqDP3CusIMzySx8SQM6KM\\\n",
       "5oYWNn2Qi1+Aj8s0oL22EQWkXp/E6FY3ozx/cjz2Y42U5ddy2azhHQ7W3txx6I7HBBiAUupPwI+A\\\n",
       "aiDd8fQAYIPTywoczwkhxCl15l5hHeEcIpFXh2CvbbR2g3e2e30xmz7ItaYNW6sorqNgTyU528qI\\\n",
       "vDrE7XdJ40b7unQnDqXUKqXUDjf/3AigtX5Eaz0IeAP4mfk2Nx/ldgNHpdQcpVS2Uiq7tLT03JyE\\\n",
       "EMKrdOZeYWfz89vbEWN7ZoE1/eh8vDdvC3U6urQC01pP6+BL/w18ACzAqLgGOR0bCBS18flLgCVg\\\n",
       "bOZ7+iMVQvQm56LScTfdZ35Po2OX+/5Dw12+r/V059muHnsaj9kLUSk13OnXG4A9jp9XADcrpQKU\\\n",
       "UsnAcGBjV49PCNFzdaTSaV0dncn3+Pv7cMnMoYxutd6rddV2rqtHb+dJ18AeV0qdh9FGfxi4G0Br\\\n",
       "vVMp9RawC2gG7pMORCHE2dSRSudsNIO0vpdXa9Kk0TlyPzAhhOiA3tJQ4U33A/OkCkwIITyWVEee\\\n",
       "x2OugQkhhBCdIQEmhBDCK0mACSGE8EoSYEIIIbySBJgQQgivJAEmhBDCK0mACSGE8Eo9diGzUqoU\\\n",
       "Y0ePrhIDlHXh951Lci6eqyedj5yLZxqstY7t7kF0RI8NsK6mlMr2ltXrpyLn4rl60vnIuYgzJVOI\\\n",
       "QgghvJIEmBBCCK8kAXb2LOnuAZxFci6eqyedj5yLOCNyDUwIIYRXkgpMCCGEV5IAOwNKqSeUUnuU\\\n",
       "Ut8qpd5TSkU4HXtYKXVAKbVXKXVNNw6zw5RSs5RSO5VSx5VSqa2OeeP5XOsY7wGl1PzuHk9nKKVe\\\n",
       "UUodVUrtcHouSin1mVJqv+MxsjvH2FFKqUFKqUyl1G7Hf19zHc973fkopQKVUhuVUtsc57LI8bzX\\\n",
       "nUtPIAF2Zj4DUrTWo4F9wMMASqlRwM3ABcC1wD+UUj7dNsqO2wHMBNY4P+mN5+MY32LgOmAUMNtx\\\n",
       "Ht7iVYx/187mA59rrYcDnzt+9wbNwC+11ucDk4D7HP9beOP5NABXaK3HAGOBa5VSk/DOc/F6EmBn\\\n",
       "QGv9qda62fHrBmCg4+cbgTe11g1a6xzgADCxO8bYGVrr3VrrvW4OeeP5TAQOaK0Paa0bgTcxzsMr\\\n",
       "aK3XABWtnr4ReM3x82vAjK4c0+nSWhdrrb9x/HwM2A0MwAvPRxtqHb/6Of7ReOG59AQSYGfPj4GP\\\n",
       "HD8PAPKdjhU4nvNW3ng+3jjmU4nTWheDEQpAv24eT6cppZKAccDXeOn5KKV8lFJbgaPAZ1prrz0X\\\n",
       "b+fb3QPwdEqpVUB/N4ce0Vq/73jNIxjTJG+Yb3Pzeo9o9+zI+bh7m5vnPOJ82uGNY+7RlFKhwLvA\\\n",
       "L7TWNUq5+5/I82mtW4Cxjmve7ymlUrp5SL2WBNgpaK2ntXdcKXUbMB24Up9Yk1AADHJ62UCg6NyM\\\n",
       "sHNOdT5t8NjzaYc3jvlUSpRS8VrrYqVUPEYF4BWUUn4Y4fWG1nq542mvPR8ArXWVUioL41qlV5+L\\\n",
       "t5IpxDOglLoWeAi4QWttczq0ArhZKRWglEoGhgMbu2OMZ4k3ns8mYLhSKlkp5Y/RhLKim8d0plYA\\\n",
       "tzl+vg1oq2L2KMootV4Gdmutn3Y65HXno5SKNbuNlVJBwDRgD154Lj2BLGQ+A0qpA0AAUO54aoPW\\\n",
       "+m7HsUcwros1Y0yZfOT+UzyHUuom4DkgFqgCtmqtr3Ec88bz+Q7wV8AHeEVr/afuHVHHKaWWAWkY\\\n",
       "u5yXAAuADOAtIBHIA2ZprVs3engcpdRlwFpgO3Dc8fRvMK6DedX5KKVGYzRp+GAUAG9prX+vlIrG\\\n",
       "y86lJ5AAE0II4ZVkClEIIYRXkgATQgjhlSTAhBBCeCUJMCGEEF5JAkwIIYRXkgATQgjhlSTAhBBC\\\n",
       "eCUJMCGEEF5JAkwIIYRXkgATQgjhlSTAhBBCeCUJMCGEEF5JAkwIIYRXkgATQgjhlSTAhBBCeCUJ\\\n",
       "MCGEEF5JAkwIIYRXkgATQgjhlSTAhBBCeCUJMCGEEF7p/wOYYBbdZj6D3wAAAABJRU5ErkJggg==\\\n",
       "\"\n",
       "  frames[1] = \"data:image/png;base64,iVBORw0KGgoAAAANSUhEUgAAAbAAAAEgCAYAAADVKCZpAAAAOXRFWHRTb2Z0d2FyZQBNYXRwbG90\\\n",
       "bGliIHZlcnNpb24zLjQuMywgaHR0cHM6Ly9tYXRwbG90bGliLm9yZy/MnkTPAAAACXBIWXMAAAsT\\\n",
       "AAALEwEAmpwYAAAovElEQVR4nO3de3iV1Z328e+PQwgBISEGTIAYFIICjQeCtdaWRKmHgWoGa0dH\\\n",
       "pw71JbVVh9LWFmunSTpja2tfHWutGqqMrb46WCk6UitiE6tFhKBIg0AAwzEhQEgC5EAIrPePfWAn\\\n",
       "BEiAZO8n+/5cF9feez2HrHVhvFnrWWttc84hIiLiNb3CXQEREZFToQATERFPUoCJiIgnKcBERMST\\\n",
       "FGAiIuJJCjAREfEkBZiIiHiSAkxERDxJASYiIp6kABMREU9SgImIiCcpwERExJMUYCIi4kkKMBER\\\n",
       "8SQFmIiIeJICTEREPEkBJiIinqQAExERT1KAiYiIJynARETEkxRgIiLiSQowERHxJAWYiIh4kgJM\\\n",
       "REQ8SQEmIiKepAATERFPUoCJiIgnKcBERMSTFGAiIuJJCjAREfEkBZiIiHiSAkxERDxJASYiIp6k\\\n",
       "ABMREU/qE+4KdJWzzz7bpaWlhbsaIiKesnLlyj3OuaRw16MjemyApaWlUVJSEu5qiIh4ipltCXcd\\\n",
       "OkpDiCIi4kkKMBER8SQFmIiIeJICTEREPEkBJiIinqQAk1NSXV3dqXIRkTNNARat6qvhb4/5Xjsp\\\n",
       "Pz+fjIwMysrKWpWXlZWRkZFBfn7+GaqkiMjxKcCi1arn4a0f+147IT8/n4KCAioqKsjOzg6GWFlZ\\\n",
       "GdnZ2VRUVFBQUKAQE5EupwCLFm17XBffDl/6ie+1I+dzNLwCKioqyM6azKJFi4LhFaAQE5GupgCL\\\n",
       "Fm17XAMS4fOzfK8AuzfACzf7Xts5v7q6mrlz57a6ZQ45NFQ2MW3aNBoqGsghp9XxuXPn6pmYiHSZ\\\n",
       "HruVlLQR6Gkdr8e1+IewYbHv/W0vH3N+YmIiRUVFwZ5WDjnMYhY3ciMFFJBHHmmkAbCQhaSkpFBU\\\n",
       "VERiYmIXNkpEopl6YNGibY+r7RDhNT+FMdfAF77vKwdfeK163ndOfTXpu9+gaNECUlJSKKaYzWwm\\\n",
       "jTTmMY800tjMZoopDoZXenp6eNoqIlFBARatAkOE866FrSug7E+Q8xRsW3p06DBwzsK7YPnT8NaP\\\n",
       "Sa9fRmFhIbXUUkBBq1sWUEAttRQWFiq8RKTLKcCiUX01NNfDkPNhzwZ47ZtHgyppPAwaAcvn+t6f\\\n",
       "l+0bWqzfC2Ouoaz3heTm5hJPPHnktbptHnnEE09ubu4xU+xFRM40BVg0WvU8vPNzuOAffMOGNzzp\\\n",
       "e92wGF76J9i3Heq2wf/cBnH+Icedqyhb9gbZX/4qFRUVZJEVHDacwYzgcGIWWcdMsReJVlrw37UU\\\n",
       "YNEoMIX+kjsg5VJY9yrEnwt9YuFIy9HzDjfBmgUAVFduJfv3zVTsqQN8EzUe4zFmM5vNbGY2s3mM\\\n",
       "x1jIQoBgiOkXVaKVFvx3PQVYNApM6Ch9Gd55CJY+DivmQkvTsee6IwAkHq5i5sXW6tBCFhKXEsfr\\\n",
       "r79OXEpcMLwCZs6cqVmIEpW04L97KMCiVX01bCoKKTjJfwq9+pKfFUve5JhgUUriIIqKipg6dSpF\\\n",
       "RUWkpKQEj+Xl5emXU6JSuwv+s7O14L8LKMCiSehi5VXPw/blIQePnPha5/tPJf+6c8ibHENKQixF\\\n",
       "SxYHZxump6cHQ0zhJdHquAv+Kxq04L8LaCFzNKiv9gXWpr/Ap8W+spynYMUzULulgzfxPxtrqiX/\\\n",
       "69dxb9YvSUwd0+qM9PR0Vq9erWFDiVpa8N+91APridouUg6s5zonwzctPmksNOyFcTf4JnFgJ7wd\\\n",
       "AO7w0ffnZBwTXgH6RZRoFzoacaYX/O+tb+bpdzaxt765C1vgHREVYGYWa2bLzexjM1tjZgX+8iFm\\\n",
       "9paZbfC/JoS7rhGt7b6HgVmHn/82nJ/tm7Txxvd8r7GDAOebgZiYDn0HHv++8Wm+152rg7tznOpX\\\n",
       "soj0NKHhkp6e3iUL/l8u2cbP3ljHyyXbzmTVPSvShhAPAlc55w6YWV/gPTN7A5gOvO2ce8jM5gBz\\\n",
       "gB+Es6IRre2+h4FZh6FlB/b4hhMPNsCQ82Dvp1BdBlfcC1s/8D0fSxoHB/fBwCRI+wJc8rWjeyau\\\n",
       "et63GPqdn/tes3/Y7c0UCYe99c28XLKNmzNHMmRADJt2HyDv1VIOHXZ8UL6XhubD7K/aypPfP/6C\\\n",
       "/9nMJjc3t9M9sJszR7Z6jXYR1QNzPgf8H/v6/zjgRuA5f/lz0OYpqLTWdt/D9o5d+W3f4uUdy33h\\\n",
       "NeR83/G+AyD1s773h+p9i5qbD/h6b0ljfM/Ogl/DEhh67MAQpIiHnGio7rml5fzsjXU8VbyRp9/Z\\\n",
       "xI8XlvLexmo+KN/LlaPPZtf2T/nJN/+JnZVnfsH/kAExfGPy+QwZEHPyk6NApPXAMLPewEpgNPCE\\\n",
       "c+4DMxvmnKsEcM5VmtnQsFayJxiQ6Auj5U8DBhO+AqV/ABw4fyCNvgY2F/u2m1r1/NFQDPTmLsuF\\\n",
       "mLjj73Av4kF765v57vxVFK3fzfySbRR+LZPzkwYGe16Nh3wzdj/eXscH5XsZd85AYvv0oqnlCBck\\\n",
       "OJ64904OH9gLEFwbWUwxtdQym9lkkXXMgn9Nfjo15pwLdx3aZWbxwB+Be4H3nHPxIcdqnHPHPAcz\\\n",
       "s1wgFyA1NXXili0dnWEX5QKzFJsbfAubJ/8AYgYcDaZVz/vet9ejE/GwtsOBAI++tZ7H3t4YDKUr\\\n",
       "R5/NxHPjeXfDHj7cWkvakP5srWmkTy+j+fDR/3/26QXzv3EF//P0I/ziZ//Z6uf0HjiE8V/9HlV/\\\n",
       "epyqnZWtjkXashMzW+mcywx3PToiooYQQznnaoFi4DqgysySAfyvu45zTaFzLtM5l5mUlNRdVfWO\\\n",
       "4026CEz6wPmGBy/7xtGvUoHjD0eKeFx7kyIam309rKaWI8T26cXAfr157O2NfLi1FoDNexs54mgV\\\n",
       "XgAtR+CfC5fyaq8rGPz5W4PlScOSmXT3f1GXlMEV//YrLfg/gyJqCNHMkoBDzrlaM+sPTAF+DrwG\\\n",
       "3AE85H99NXy19KBgD8s/6QKODgNC60kfAxJ95y+86+gXXIaeK9KDTBk3jGWfVjNl3DDA1yP7pHJf\\\n",
       "8HhTyxHeXFPV4fs1HQY4QsKVtwFwZO3b3PPL3zHtCxN5/C8b+NG0cRy+ybdObObMmQqv0xRRAQYk\\\n",
       "A8/5n4P1AuY75143s/eB+WZ2J7AVuDmclfScQA9r8pyQCRghQp9rBc7fsNg3yUPPt6QHW/JJFUXr\\\n",
       "d3P5eVWcP3kgL5ds472Ne4LDh+CbRdYZ5r8m/srbuCjnX3i29CDDRu5l3ozLfCckacH/mRJRAeac\\\n",
       "Ww1c0k55NXB199eoh2jbwzrT54t4VNtp6TdnjmTZp9UUrd/dKsQ6orfBbZefS87Fw/nO/FVsrm5g\\\n",
       "7+F+5H7hnGOmvSu8zoyIncRxujIzM11JSUm4q9H9AsOFCh+RU7K3vpl/e/FD3tt49Flxn15GyxFH\\\n",
       "L4MjDi4dOZiPt9cReAx2VmxvnpvxWS49NyF4j5ufWsqm3fVkj0062vvyAE3ikPBpuwuHiHTKkAEx\\\n",
       "TDx3CACfHTWEWVeP4c3ZXyR7bBJH/IEV168P91zl207tytFn8859VwXDK3CPwq9lkj02iR9NG9ft\\\n",
       "bYgWETWEKGdA2104RKTT7rgijbiY3q2m1//fr17MU+9sYs2OOgpunEBCXMwx54Q6P2mgp3peXqQh\\\n",
       "RBERCdIQooiISBdTgImIiCcpwERExJMUYCIi4kkKMBER8SQFmIiIeJICLIK11NRQ/cwztNTUhLsq\\\n",
       "IiIRRwHWjaqrqztVXrdgAbse/iV1CxZ0ZbVERDxJAdZN8vPzycjIOObrw8vKysjIyGj3axUGT5/O\\\n",
       "0Pu+x+Dp07upliIi3qEAO4EzNYSXn59PQUFB8OvDAyFWVlZGdnY2FRUVFBQUHBNifRISSLzzTvok\\\n",
       "HPPl0yIiUU8BdgJnYggvEF4BgRBbtGhRMLwC2gsxERFpnwLsBE53CK+6upq5c+e2Ksshh4aKBqZN\\\n",
       "m0ZDRQM55LQ6Pnfu3OM+ExMRkaMUYCdwukN4iYmJFBUVkZKSAvjCaxazeJRHSSONR3mUWcwKhlhK\\\n",
       "SgpFRUX6sjsRkQ5QgHWx9PT0YIgVU8xmNpNGGvOYRxppbGYzxRQHwys9PT3cVRYR8QQFWBdoO/kj\\\n",
       "PT2dwsJCaqmlgIJW5xZQQC21FBYWKrxERDpBAdYJLTU17H78cXY//msOlpcH37edpdh28kdZWRm5\\\n",
       "ubnEE08eea3OzSOPeOLJzc09Zoq9iIgcn76RuRPqFixgzxO/AaB++XIaV6wA4EhjI41/Xw0Okv/j\\\n",
       "Jwy86irqly+n/8SJfPDgg0x/4gkqKivJISc4bFhAAXnkkUYaWWSxsGIh2dnZGkYUEekgBVgHtNTU\\\n",
       "ULdgAf0nTiTuc58jZtQoDhQV+Q7260f98uUcLC0FYNvddzP4+uupf+evVG3axA3vvMOulhYAFrIQ\\\n",
       "gGKKqaWW2cz2hZe/PDDFfvXq1ZrIISJyEhE1hGhmI82syMzWmtkaM5vlLx9iZm+Z2Qb/a7eu7A0M\\\n",
       "Ce7+1a9oeP999i95i5bKSt/Bgwc5GDL0d+jTcmr+8Aq9hg1j4PYdfHXEyFb3WshC4lLieP3114lL\\\n",
       "iQuGV8DMmTMVXiIiHRBRAQa0AN91zl0IXA7cbWbjgDnA2865McDb/s9dXxn/ZIyBV13F0Pu+R+yF\\\n",
       "FwJweNfu1ic2N7f6eLiqiiNVVQB8q18//m3c+OCxwGzDqVOntppiD5CXl6eFzCIiHRRRQ4jOuUqg\\\n",
       "0v9+v5mtBYYDNwJZ/tOeA4qBH3R1fQI9L4DEO++kpaaGI01N1M5/GQ4d6vB97jp8mF6XXsr8yspW\\\n",
       "z7gCU+yzs7OZOXOmwktEpBMiKsBCmVkacAnwATDMH2445yrNbGhX/dyWmhpqnn8BcAyaNg2AgVdd\\\n",
       "RdUvHqZx9WoO7dzZqfACsAEDyK2v59axYxnR0ED1M88wePp0+iQkkJ6ermdeIiKnICIDzMwGAq8A\\\n",
       "33bO7TOzjl6XC+QCpKamntLP9s00fAKAXnFxJN55J9XPPMPeZ589pfsBuPp6AM6q3Mm2u77Jkdpa\\\n",
       "jjQ0knTvPQAKLxGRUxBxAWZmffGF1wvOucAuulVmluzvfSUDu9q71jlXCBQCZGZmulP5+YOnT+dI\\\n",
       "QyPggnsgDp4+nZbqvdT84Q+4ffuOnhwbC01N7TXCd6yxMVjUe9gwrE8fWnbsAI4+Xwv0xEREpHMi\\\n",
       "ahKH+bpazwBrnXOPhBx6DbjD//4O4NWuqkOfhASS7r2HpHvvDQZLn4QEhn3/PlILn4aYmOC5cZde\\\n",
       "0uraQdOnM2DyF8E5+g5NIv6f/5n+kzIB38SOvinJ9B4xHIDm8nJ9WaWIyGmItB7Y54F/Af5uZqv8\\\n",
       "ZT8EHgLmm9mdwFbg5u6qUGAN2ODp02lcuRKam+l7bipnXT2F+Ju/wr7XF3GksZFe/WNJuP12ADbf\\\n",
       "dhuHPi3nUNp2RvzqV9Q8/wINH35Iw/vvAzBg8hcZNmcOB/7yF31ZpYjIKTLnTmmkLeJlZma6kpKS\\\n",
       "075P9TPPsOvhXx4TOica9jtYXk7VQw8xbM4c+o0aBbSeHJJw++0aNhSRiGRmK51zmeGuR0cowE6i\\\n",
       "paaGijlzqH/nrwy973sk3nnnGaidiEhk8lKARdQzsEjUJyGBlIceOq0vtmxP2x3rRUSkcxRgHXC6\\\n",
       "X2zZnrY71ouISOdE2iSOqBE6RV9ERDpPARYmgV6diIicGg0hioiIJynARETEkxRgIiLiSQowERHx\\\n",
       "JAWYiIh4kgJMREQ8SQEmIiKepAATERFPUoCJiIgnKcBERMSTFGAiIuJJCjAREfEkBZiIiHiSAkxE\\\n",
       "RDxJASYiIp6kAOvhappqmFc6j5qmmnBXRUTkjFKA9XALNy7kkZWPsHDjwg5fo9ATES+IqAAzs2fN\\\n",
       "bJeZlYaUDTGzt8xsg/81IZx19Jqc0Tl8Z+J3yBmd0+FrOht61dXVnSoXETkTIirAgP8GrmtTNgd4\\\n",
       "2zk3Bnjb/1k6KCE2gRkTZpAQ2/Hc70zo5efnk5GRQVlZWavysrIyMjIyyM/P72SNRUQ6JqICzDn3\\\n",
       "V2Bvm+Ibgef8758DcrqzTtGoo6GXn59PQUEBFRUVZGdnB0OsrKyM7OxsKioqKCgoUIiJnEEa8Tgq\\\n",
       "ogLsOIY55yoB/K9Dw1wf4Wh4BQRCbNGiRcHwClCIiZwZGvFowzkXUX+ANKA05HNtm+M1J7g2FygB\\\n",
       "SlJTU510jT179riUlBQHBP/kkOPiiXeAiyfe5ZDT6nhKSorbs2dPuKsu4ll5eXmtfp/Wr1/vnHNu\\\n",
       "/fr1rX4f8/LyTuvnACUuArKgI3/CXoFjKnRsgK0Hkv3vk4H1HbnPxIkTO/r3Jacg9JcmhxxXRJGb\\\n",
       "xzyXRpqbxzxXRFEwxEJ/2USk80LDKzTEXn/99WP+MXm6IealAPPCEOJrwB3+93cAr4axLlHneFPq\\\n",
       "09PTKSoqIiUlhWKK2cxm0khjHvNII43NbKaYYlJSUigqKiI9PT1MLRDxhoZ9dax47RUa9tW1Kq+u\\\n",
       "rmbu3LmtynLIoaGigWnTptFQ0UBOm6kBc+fOjYpnYhEVYGb2IvA+MNbMtpvZncBDwJfMbAPwJf9n\\\n",
       "6SYvrnuRR1Y+wrOlzx4TZOnp6RQWFlJLLQUUtLqugAJqqaWwsFDhJdIBa4qX8NcX5rGmeEmr8v59\\\n",
       "+/DYj+aQnJwM+MJrFrN4lEdJI41HeZRZzAqGWOAfjYmJid3dhG4XUQHmnLvVOZfsnOvrnBvhnHvG\\\n",
       "OVftnLvaOTfG/9p2lqJ0oUBg/bn8z8G1YeV15Xxrybd4e+Xb5ObmEk88eeS1ui6PPOKJ5/av386K\\\n",
       "v68IR9VFPKNhXx3NB5v43E23Mj5rSqve2JriJWwpfpNf/fv9GvFoI6ICTLpfe0OEgYB6b/t7/Kn8\\\n",
       "TwDsbNhJ5rBMlu5Yyk/e/wlLVi5h6jVTqaioIIus4C/RDGYEf7myyKJ2Vy3XTLnmmFlTItGqYV8d\\\n",
       "f3v5BYqff5al818IhtSyP7xI39hYAP78m0eDvbHxWVP44m0z+IfbvqYRjzb6hLsC0v1qmmpYuHEh\\\n",
       "OaNzgrtuAMyYMAOAny77Kct2LuODig9ods0A9O3Vl637t7KrYRfugGPrz7dysOYgAAtZCEAxxdRS\\\n",
       "y2xmk0VWsLx2Vy3Z2dmsXr06KoY1RIBgMI3PmkLcoMHB8kBYBfSNjWV81hQAxmdNYcWrr1D+UQnJ\\\n",
       "Yy7gUFMTjfv3A7Bh48YTjnjMZja5ubnqgUnPFrpVVOiuG+V15cx8cya7GnYBBMML4NCRQ+xq2EUv\\\n",
       "emEDjaFXtV6Ot5CFxKXE8dKCl2Do0VALmDlzpsJLosrxnmmNz5pC6mcuBiB5zAVsWP4+f/zFT2io\\\n",
       "803eqNzkG62or63h/Vde5J3f/5ZXnnqcL33pmpOOeLTdVKCnM9+syZ4nMzPTlZSUhLsaEaemqYYX\\\n",
       "1/n+9XfrBbcCvkDLGpnFPUvuYeuBrce9NjE2kc8mf5b3tr/H1alXc/DPB/nFg78AIH5oPIuXLKbU\\\n",
       "SvnZop+x+5Hd1O6qBSAvLy/6FlhK1GvbAwv93Lh/P28++V9UlW/iSMuh4DWDhg6jpamJhn11jL1i\\\n",
       "MsNGnUf/oSlMvvZa9u7bHzwvh5zgiEc88a1GPMA3keNURzzMbKVzLvO0Gt9NFGBRZl7pPB5Z+Qjf\\\n",
       "vOib9O/Tn8aWRp78+EmGDxjOjvodHbrHgD4DqG+pJ/WsVEYvH83v5v2OpO8kMWXiFO6bdB/F24qZ\\\n",
       "4CaQc10OM2fOVHiJACtee4W/vjCPz910Kzs/3UD5Ryf5/1Ov3vSLjWVQ0lCeX/Qmb32yodXhlJQU\\\n",
       "CgsLyc3NbbXzDZzePxq9FGB6BhZlAhv0NrY08sjKR7hl7C3Ex8R3OLwA6lvqAdi6fytMgre/8Ta/\\\n",
       "3fRb3t3xLpPOmRR8lqZnXiI+1Tu2s/njj7jomqlsXfN3dqwrJSFlBDWVO3xLj2mnI3HkMAcb6tm9\\\n",
       "pZxrJ6Rzzvlj+P3/+iZVhc42LCoqarV9WzSNeCjAokxgo97yunJK95SyoXYDtc21nb7PwL4DOXDo\\\n",
       "AFsPbOW3m37LfZPuY9I5k8gZndNqkoiIwDu//y1bS1exf+8eaiq2A1BbtRM6OAJmvXpxzfjz2Llp\\\n",
       "DB9V7ub7N3+Zyg/eY8Q5w1qFWLSNeCjAolTxtmLe3fEut4y9hY01G6lrrjvpNQDD4obRr3c/7r/s\\\n",
       "flbvWc3ynct5d8e7TDh7At+6+FvA0WFKODqzUSSahD7vAhgyIpXDh1q44qu3s3T+82wtXYU73NLh\\\n",
       "+7kjR6j6dCNfvXoyN/eLY9/WTZS8vp24wYOZdMNNpKenR+WIhwIsSoUOJdY11zF84HBajrRQ1VBF\\\n",
       "X+vLIed7sBzXO47UQamsq1kHwIiBI1i5ayUbajdw6wW38tGuj457b/XAJFoFZiAGrPzfBXzxthkM\\\n",
       "H3sBU2fdx4v/fh+1OytOcIf21VVVMvHL09k9eCAJySM45J/wETdocNSFFyjAolZgKLGmqYbSPaW8\\\n",
       "u+NdAEYNGkX5vnIuT76cC4ZcwLq961hWuQyA1IGpzJ44m79V/I3GlkaeLX2WZZXLuDz5cq4fdT3z\\\n",
       "SueRMzoneG+RaBW6rqtx/362ffJ3UsaOZ8VrrzA+awo53/8xf5n3FIdbDrFj7ZoT3MkAR+++MVzw\\\n",
       "+ckMSjybsZ+fzKcrP+BQUxPvv+Jb/Dzphpu6pV2RRgEWZUKfTyXEJpAQm8CDVz4YnFp//ajrKd5W\\\n",
       "HFzkvKxyGalnpZLUP4mVu1by9OqnmXD2BJ78+EkuT74cgEuGXkLxtmING4r4xQ0aHAyVNcVLgjMO\\\n",
       "A6+TbriJm3/0nzTsq+OVn+axq3zjMfdISBlBTcV2ElJGcOP3fkTi8BHA0dmMl3/lVr5424xgWEYj\\\n",
       "BViUaW/njYTYhODzK4BRg0cBviHAFTtX8O6Od5l63lTi+sYFn3d9Z+J3yBqZFQy7AA0birQWCJjz\\\n",
       "Jn6WkeM+E9zrMPCM7LyJk9hVvpFBQ4exb1cVwy8cz8jxGVxwha+nFbg+0HsL7d2F7vARjRRgUSZr\\\n",
       "ZBYrdq4ga2TWSc8N9M5CZxSG9t7gaNiBel4i7QntjbXtRQFccu00YvrFct7EzwYDKxBM7Z0/6Yab\\\n",
       "onbIsC0FWJQJzD6cdM6kVuFzPG2fZymkRE5f215U24A70flylAIsymiGoEj4hYZWV5wfLbSZb5QJ\\\n",
       "9KgCQ4AicqzjfTuyRBYFmIhIG8fbSV4ii4YQRUTa0DMnb1CAiYi0oWdO3qAhRBER8SQFmIiIeJIC\\\n",
       "TEREPEkBJiIinuSZADOz68xsvZltNLM54a6PiIiElycCzMx6A08A1wPjgFvNbFx4ayUiIuHkiQAD\\\n",
       "LgM2Ouc+dc41Ay8BN4a5TiIiEkZeCbDhwLaQz9v9ZSIiEqW8EmDWTpk75iSzXDMrMbOS3bt3d0O1\\\n",
       "REQkXLwSYNuBkSGfRwAVbU9yzhU65zKdc5lJSUndVjkREel+XgmwFcAYMxtlZjHALcBrYa6TiIiE\\\n",
       "kSf2QnTOtZjZPcCbQG/gWefcmjBXS0REwsgTAQbgnPsT8Kdw10NERCKDV4YQRUREWlGAiYiIJynA\\\n",
       "RETEkxRgIiLiSQowERHxJAWYiIh4kgJMREQ8SQEmIiKepAATERFPUoCJiIgnKcBERMSTFGAiIuJJ\\\n",
       "CjAREfEkBZiIiHiSAkxERDxJASYiIp6kABMREU9SgImIiCcpwERExJMUYCIi4kkKMBER8SQFmIiI\\\n",
       "eFLEBJiZ3Wxma8zsiJlltjl2v5ltNLP1ZnZtuOooIiKRo0+4KxCiFJgOPB1aaGbjgFuA8UAKsMTM\\\n",
       "0p1zh7u/iiIiEikipgfmnFvrnFvfzqEbgZeccwedc+XARuCy7q2diIhEmogJsBMYDmwL+bzdXyYi\\\n",
       "IlGsW4cQzWwJcE47hx5wzr16vMvaKXPHuX8ukAuQmpp6SnUUERFv6NYAc85NOYXLtgMjQz6PACqO\\\n",
       "c/9CoBAgMzOz3ZATEZGewQtDiK8Bt5hZPzMbBYwBloe5TiIiEmYRE2Bm9o9mth34HLDIzN4EcM6t\\\n",
       "AeYDnwB/Bu7WDEQREYmYafTOuT8CfzzOsQeBB7u3RiIiEskipgcmIiLSGQowERHxJAWYiIh4kgJM\\\n",
       "REQ8SQEmIiKepAATERFPUoCJiIgnKcBERMSTFGAiIuJJCjAREfEkBZiIiHiSAkxERDxJASYiIp6k\\\n",
       "ABMREU9SgImIiCcpwERExJMUYCIi4kkKMBER8SQFmIiIeJICTEREPEkBJiIinqQAExERT4qYADOz\\\n",
       "h81snZmtNrM/mll8yLH7zWyjma03s2vDWE0REYkQERNgwFvABOdcBlAG3A9gZuOAW4DxwHXAb8ys\\\n",
       "d9hqKSIiESFiAsw5t9g51+L/uAwY4X9/I/CSc+6gc64c2AhcFo46iohI5IiYAGvj68Ab/vfDgW0h\\\n",
       "x7b7y0REJIr16c4fZmZLgHPaOfSAc+5V/zkPAC3AC4HL2jnfHef+uUAuQGpq6mnXV0REIle3Bphz\\\n",
       "bsqJjpvZHcA04GrnXCCktgMjQ04bAVQc5/6FQCFAZmZmuyEnIiI9Q8QMIZrZdcAPgBuccw0hh14D\\\n",
       "bjGzfmY2ChgDLA9HHUVEJHJ0aw/sJH4N9APeMjOAZc65u5xza8xsPvAJvqHFu51zh8NYTxERiQAR\\\n",
       "E2DOudEnOPYg8GA3VkdERCJcxAwhiohIx1VXV3eqvCdSgImIeEx+fj4ZGRmUlZW1Ki8rKyMjI4P8\\\n",
       "/PzwVKybKcBERDwkPz+fgoICKioqyM7ODoZYWVkZ2dnZVFRUUFBQEBUhpgATEfGIQHgFBEJs0aJF\\\n",
       "wfAKiIYQU4CJiHhAdXU1c+fObVWWQw4NFQ1MmzaNhooGcshpdXzu3Lk9+pmYAkxExAMSExMpKioi\\\n",
       "OTkF8IXXLGbxKI+SRhqP8iizmBUMsZSUFIqKikhMTAxjrbuWAkxEpBs0Hmjmw8VbaDzQ3KljodLT\\\n",
       "0ykuLiIlJYViitnMZtJIYx7zSCONzWymmGKSEodRVFREenp6VzUnIijARES6wdqllby/YBNrl1a2\\\n",
       "Km880MwbT/2d9xdsYuWbW4JlHy7eQuWntfzvr1dRU1UfPH9kShrfv+s/qaWWAgpa3auAAmqp5amn\\\n",
       "nurx4QURtJBZRKQnu/CKZABGXXQ2Hy7ewqiLzmbD8ioqNtVSubEOgPKPdjP+yhTee3kDW0v3Ejuw\\\n",
       "D00HWniPDXz5nosB+PP8v5H30H3EE08eea1+Rh55zGY29866mwkZ43p8iKkHJiLSBdoOC/YfGMOl\\\n",
       "15xL2fIq3l+widd//TErFm1mx7pa+sT6/le8b08Ti369mq2le4np35umAy3E9O/NZ7JG8OHiLaz+\\\n",
       "qJS7f3Q7dQ3VZJEVHDacwYzgcGIWWcdMse+p1AMTEekCgSFDgEuvORfwhdrOTb7e1r7dTYy4IAGH\\\n",
       "Y8e62uB1dbsbienfm+ZG35avzY2H+dOTq9lfX8fDr95Fde0uABayEIBiiqmlltnMJousYHkgxFav\\\n",
       "Xt1jJ3KoByYi0gUuvCKZz00/Pzh0CL5Q276uhhEXJHDRl0YycEgMdVWNx1wbCK8AdxgGxg7msvOv\\\n",
       "a1W+kIW4uN5895aH6X9O/2B4BcycObPHhheoByYi0iUCQ4ahAmGWPHowS+Z9wr7dTZ2659TMOwB4\\\n",
       "Y+XvABgcl8h9//QY8THJPPHgC9zz77cHFzP/8P4f9fiFzAowEZFu0n9gDBdekcyCh1cGw8t6gTvS\\\n",
       "8XtMn3wnAEvXLuKBO57g/+RNo/zjPVx4RTJFVxZx5RVfJDPtWm7K+j9d0YSIogATEelGa5dWUlvV\\\n",
       "yKCkWPr260X19oaTXxSiT0wvpmbewbQv3MJFV44mdkDfYE8vPT2dD1d+xK71za2GLnsqBZiISDcK\\\n",
       "nU6/4BcrO3TNWYn9GD42gXVLd1Jf00zqhCEMO3cQKxZtpv9ZrYcqR5ybzIhzT3CzHkQBJiLSjQLP\\\n",
       "xj5cvIWm+hb6xPSipfnoGOKQlDjqa5s52NBC777G4UOO/dUHqdhQC8DwC+KZ8q/jAOjTr3dU9LSO\\\n",
       "RwEmItJNGg80s3ZpJRdekdyqJ/bJexVsKKmivqaZkeMTmXjtuaxdWhk89umq3ezb3UTqhCFM+ddx\\\n",
       "9B8Yc9Jtp6KBAkxEpJu0XRsWGPr7/E1j6BvTmxWLNhMT07vVDMb+Z8W0Ci+ADxdvoeXgYVYs2hy8\\\n",
       "VzRSgImIdJNAr6u9Yb/PZI9od0gw9Jr+A2P4cPEW3l+wicypacesM4s25pwLdx26RGZmpispKQl3\\\n",
       "NUREzqjQYcj+A2PO+P3NbKVzLvOM37gLqAcmIuIh7S2QjlbaSkpERDwpYgLMzP7DzFab2SozW2xm\\\n",
       "KSHH7jezjWa23syuDWc9RUQkMkRMgAEPO+cynHMXA68DPwYws3HALcB44DrgN2bWO2y1FBGRiBAx\\\n",
       "Aeac2xfycQAQmF1yI/CSc+6gc64c2Ahc1t31ExGRyBJRkzjM7EHga0AdkO0vHg4sCzltu79MRESi\\\n",
       "WLf2wMxsiZmVtvPnRgDn3APOuZHAC8A9gcvauVW7c//NLNfMSsysZPfu3V3TCBERiQjd2gNzzk3p\\\n",
       "4Kn/D1gE5OHrcY0MOTYCqDjO/QuBQvCtAzv1moqISKSLmIXMZjbGObfB//5eYLJz7itmNh5foF0G\\\n",
       "pABvA2Occ4ePfzcws93Alg7++LOBPadcee9QO3uOaGgjqJ3hcK5zLincleiISHoG9pCZjQWO4Aue\\\n",
       "uwCcc2vMbD7wCdAC3H2y8PJf1+G/ADMr8crK89OhdvYc0dBGUDvlxCImwJxzN53g2IPAg91YHRER\\\n",
       "iXARM41eRESkMxRgPoXhrkA3UTt7jmhoI6idcgIRM4lDRESkM9QDExERT4rqADOzh81snX8T4T+a\\\n",
       "WXzIsR6xgbCZ3Wxma8zsiJlltjnWI9oYYGbX+duy0czmhLs+Z4qZPWtmu8ysNKRsiJm9ZWYb/K8J\\\n",
       "4azj6TKzkWZWZGZr/f+9zvKX97R2xprZcjP72N/OAn95j2pnd4nqAAPeAiY45zKAMuB+6HEbCJcC\\\n",
       "04G/hhb2sDbir/sTwPXAOOBWfxt7gv/G93cUag7wtnNuDL61kV4P7Bbgu865C4HLgbv9f389rZ0H\\\n",
       "gauccxcBFwPXmdnl9Lx2douoDjDn3GLnXIv/4zJ8u3xAD9pA2Dm31jm3vp1DPaaNfpcBG51znzrn\\\n",
       "moGX8LXR85xzfwX2tim+EXjO//45IKc763SmOecqnXMf+t/vB9bi2/O0p7XTOecO+D/29f9x9LB2\\\n",
       "dpeoDrA2vg684X8/HNgWcqwnbiDc09rY09pzMsOcc5Xg+58/MDTM9TljzCwNuAT4gB7YTjPrbWar\\\n",
       "gF3AW865HtnO7hAxC5m7ipktAc5p59ADzrlX/ec8gG8I44XAZe2cH7HTNTvSxvYua6csYtvYAT2t\\\n",
       "PVHJzAYCrwDfds7tM2vvr9Xb/DsJXex/5v5HM5sQ5ip5Vo8PsJNtIGxmdwDTgKvd0TUFHd5AOBJ0\\\n",
       "YpPkUJ5qYwf0tPacTJWZJTvnKs0sGd+/5j3NzPriC68XnHML/MU9rp0BzrlaMyvG93yzx7azK0X1\\\n",
       "EKKZXQf8ALjBOdcQcug14BYz62dmo4AxwPJw1LEL9bQ2rgDGmNkoM4vBN0HltTDXqSu9Btzhf38H\\\n",
       "cLyetieYr6v1DLDWOfdIyKGe1s6kwGxnM+sPTAHW0cPa2V2ieiGzmW0E+gHV/qJlzrm7/McewPdc\\\n",
       "rAXfcMYb7d8lspnZPwKPA0lALbDKOXet/1iPaGOAmf0D8F9Ab+BZ/x6anmdmLwJZ+HYsr8L3NUML\\\n",
       "gflAKrAVuNk513aih2eY2ZXAu8Df8W3oDfBDfM/BelI7M/BN0uiNrwMx3zn3EzNLpAe1s7tEdYCJ\\\n",
       "iIh3RfUQooiIeJcCTEREPEkBJiIinqQAExERT1KAiYiIJynARETEkxRgIiLiSQowERHxJAWYiIh4\\\n",
       "kgJMREQ8SQEmIiKepAATERFPUoCJiIgnKcBERMSTFGAiIuJJCjAREfEkBZiIiHiSAkxERDxJASYi\\\n",
       "Ip6kABMREU/6/3vI87e1cpZRAAAAAElFTkSuQmCC\\\n",
       "\"\n",
       "  frames[2] = \"data:image/png;base64,iVBORw0KGgoAAAANSUhEUgAAAbAAAAEgCAYAAADVKCZpAAAAOXRFWHRTb2Z0d2FyZQBNYXRwbG90\\\n",
       "bGliIHZlcnNpb24zLjQuMywgaHR0cHM6Ly9tYXRwbG90bGliLm9yZy/MnkTPAAAACXBIWXMAAAsT\\\n",
       "AAALEwEAmpwYAAAXqklEQVR4nO3df3Dk9X3f8ee7nCGWPbZAPtsscBVTI9fgKLTIDJ14YimB4eK7\\\n",
       "CYo7tHimHebskZqO3ZEd/1FsprO76eA6jZvrTE3cSGNfyNQNpgkczF1SBxip1G0cIhx8AWOtr1jA\\\n",
       "jRgDy8k/UAwBf/qHVsvunQR3Z62++1k9HzM72u/n892992fu9l76fr6f73cjpYQkSbn5e0UXIEnS\\\n",
       "mTDAJElZMsAkSVkywCRJWTLAJElZMsAkSVkywCRJWTLAJElZMsAkSVkywCRJWTLAJElZMsAkSVky\\\n",
       "wCRJWTLAJElZMsAkSVkywCRJWTLAJElZMsAkSVkywCRJWTLAJElZMsAkSVkywCRJWTLAJElZMsAk\\\n",
       "SVkywCRJWTLAJElZMsAkSVkywCRJWTLAJElZMsAkSVkywCRJWTLAJElZMsAkSVkywCRJWdpRdAGd\\\n",
       "8ra3vS0NDg4WXYYkZeWhhx56LqW0s+g6TkXPBtjg4CDz8/NFlyFJWYmIJ4qu4VQ5haiT1Ov102qX\\\n",
       "pCIYYGpTqVQYHh6mVqu1tddqNYaHh6lUKsUUJkknMMDUVKlUqFarLC0tMTY21gyxWq3G2NgYS0tL\\\n",
       "VKtVQ0xSVzDABLwaXmvWQuzw4cPN8FpjiEnqBgaYqNfrzMzMtLWNM87K0gp79+5lZWmFccbb+mdm\\\n",
       "ZjwnJqlQBpgYGBhgdnaWUqkErIbXFFPsZz+DDLKf/Uwx1QyxUqnE7OwsAwMDBVYtabszwATA0NBQ\\\n",
       "M8TmmGORRQYZ5AAHGGSQRRaZY64ZXkNDQ0WXLGmbM8DUNDQ0xPT0NMssU6Xa1lelyjLLTE9PG16S\\\n",
       "uoIBpqZarcbk5CT99FOm3NZXpkw//UxOTp60xF6SimCACWhfKj/KaHPacB/7mtOJo4yetMRekooS\\\n",
       "KaWia+iIkZGR5K2kTk29Xmd4eLhtqfw448wxxzLL9NPPKKMc5GCzv1QqceTIERdySD0mIh5KKY0U\\\n",
       "Xcep8AhMDAwMMDEx0dZ2kIP0lfo4dOgQfaW+tvACmJiYMLykU+Tt2TrDANsuXqjD7H+A2c+uPj9B\\\n",
       "pVKhXH71vNfaasM9e/a0LbEHKJfLXsgsnSJvz9ZBKaWefFxxxRVJLQ59KqXyW159bKBcLqdSqZQW\\\n",
       "Fhba2hcWFlKpVErlcrnDhUq9o1wuJyABbZ+rtc/TWl83fa6A+dQF/4efysNzYNvFf3wXrDz76nbl\\\n",
       "BxvuWq/X150e3Khd0slOvD0brM5sTE9PMzk52XbOGbpnZsNzYOo+L/7wlHfdKKQML+nUeHu2rWGA\\\n",
       "bRfvua7oCqRtw9uzbY2umkKMiJ8DHgDOYfXbov84pVSOiPOArwKDwCLwz1JKx1/rvZxCPMELdXj4\\\n",
       "v8Hl/wLe5IdE2gpr11euLK00w2vNIot8kk/SV+rrqtuzOYV45l4Efjml9AvA5cDuiLgKuAm4P6V0\\\n",
       "CXB/Y1un400D8ItThpe0hbw9W2d1VYA1FsH8uLH5hsYjAdcBtzXab4MTJo8lqQt5e7bO6qoAA4iI\\\n",
       "syLiYeAZ4N6U0l8C70gpPQ3Q+Pn2AkuUpNfl7dk6r6vOgbWKiH7gLuDfAF9PKfW39B1PKZ27zmsm\\\n",
       "gUmAXbt2XfHEE09sTbGS1CLn27N5DmwTpJSWgTlgN/D9iDgfoPHzmQ1eM51SGkkpjezcuXOrSpW0\\\n",
       "zT3/wkv8/v/6fzz/wkuAt2fbKjuKLqBVROwE/i6ltBwRbwSuBn4buAe4Efhc4+fdxVUpabt7/oWX\\\n",
       "+Mf//t51+/7VB/4BQPOi5LWLmVu/DHZ2drY5vQjdcxFzbroqwIDzgdsi4ixWjw7vSCkdioi/AO6I\\\n",
       "iI8CTwLXF1mkpO3tf8w/dVLb2Lt3cv3IRW1ta6E0MzPTtlS+NcQmJiYMrzPUtefAflZeByapU9Y7\\\n",
       "Avvmv7uG89509rr753R7tpzOgXXbEZgkdb3z3nQ2i5/bc8r7e3u2zujaRRySJL0WA0ySlCUDTJKU\\\n",
       "JQNMkpQlA0ySlCUDTJKUJQNMkpQlA0ySlCUDTJKUJQNMkpQlA0ySlCUDTJKUJQPsZ1Cv10+rXZK0\\\n",
       "eQywM1SpVBgeHqZWq7W112o1hoeH/X4fSeowA+wMVCoVqtUqS0tLjI2NNUOsVqs1v2W1Wq0aYpLU\\\n",
       "QQbYaVoLrzVrIXb48OG2rwgHDDFJ6iAD7DTU63VmZmba2sYZZ2Vphb1797KytMI44239MzMznhOT\\\n",
       "pA4wwE7DwMAAs7OzlEolYDW8pphiP/sZZJD97GeKqWaIlUolZmdn/dZVSeoAA+w0DQ0NNUNsjjkW\\\n",
       "WWSQQQ5wgEEGWWSROeaa4TU0NFR0yZLUkwywMzA0NMT09DTLLFOl2tZXpcoyy0xPTxtektRBBtgZ\\\n",
       "qNVqTE5O0k8/ZcptfWXK9NPP5OTkSUvsJUmbxwA7Ta1L5UcZbU4b7mNfczpxlNGTlthLkjZXpJSK\\\n",
       "rqEjRkZG0vz8/Ka+Z71eZ3h4uG2p/DjjzDHHMsv0088ooxzkYLO/VCpx5MgRF3JIykJEPJRSGim6\\\n",
       "jlPRVUdgEXFRRMxGxGMR8WhETDXaz4uIeyPiu42f525VTS8fP079S1/i5ePHGRgYYGJioq3/IAfp\\\n",
       "K/Vx6NAh+kp9beEFMDExYXhJUgd0VYABLwOfSim9B7gK+FhEXArcBNyfUroEuL+x3bkiWkLrB3fe\\\n",
       "yTO/83l+cOedwOqFzOXyq+e91lYb7tmzp22JPUC5XPZCZknqkK6eQoyIu4EvNB6jKaWnI+J8YC6l\\\n",
       "9O7Xeu2ZTiGuPPwwT9zw4eb22ZdfTv81V/PWD32IHee+euBXqVSYmZk5aan82jmyiYkJw0tSdnKa\\\n",
       "QuzaAIuIQeAB4L3Akyml/pa+4yml15xGPNMAO/rBD/J3j3+vre0933ls3X3r9fq604MbtUtSt8sp\\\n",
       "wLptChGAiHgz8CfAJ1JKPzyN101GxHxEzD/77LNn9GeXPvvZtu1z3ve+DffdKKQML0nqvK47AouI\\\n",
       "NwCHgK+llH630bbAFk0hStJ25hHYGYqIAL4EPLYWXg33ADc2nt8I3L3VtUmSusuOogs4wS8C/xL4\\\n",
       "m4h4uNH2GeBzwB0R8VHgSeD6YsqTJHWLrgqwlNLXgdig+1e2shZJUnfrqilESZJOlQEmScqSASZJ\\\n",
       "ypIBJknKkgEmScqSASZJypIBJknKkgEmScqSASZJypIBJknKkgEmScqSASZJypIBJknKkgEmScqS\\\n",
       "ASZJypIBJknKkgEmScqSASZJypIBJknKkgEmScqSASZJypIBJknKkgEmScqSASZJylJXBVhEfDki\\\n",
       "nomIR1razouIeyPiu42f5xZZ43ZTr9dPq12StkpXBRjwB8DuE9puAu5PKV0C3N/Y1haoVCoMDw9T\\\n",
       "q9Xa2mu1GsPDw1QqlWIKkyS6LMBSSg8Az5/QfB1wW+P5bcD4Vta0XVUqFarVKktLS4yNjTVDrFar\\\n",
       "MTY2xtLSEtVq1RCTCrTdZ0i6KsA28I6U0tMAjZ9vL7ienrcWXmvWQuzw4cPN8FpjiEnFcIYESCl1\\\n",
       "1QMYBB5p2V4+of/4a7x2EpgH5nft2pV0+p577rlUKpUS0HyMM5766U9A6qc/jTPe1l8qldJzzz1X\\\n",
       "dOnStlEul9s+fwsLCymllBYWFto+v+Vy+bTfG5hPXZAFp/IovICTCjo5wBaA8xvPzwcWTuV9rrji\\\n",
       "ilP9+9IJWj8E44ynWWbTAQ6kQQbTAQ6kWWabIdb64ZHUea3h1Rpihw4dOumXzzMJsZwCLIcpxHuA\\\n",
       "GxvPbwTuLrCWbWFoaIjZ2VlKpRJzzLHIIoMMcoADDDLIIovMMUepVGJ2dpahoaGiS5a2hXq9zszM\\\n",
       "TFvbOOOsLK2wd+9eVpZWGD9hmcDMzEzPnhPrqgCLiD8C/gJ4d0Qci4iPAp8DromI7wLXNLbVYUND\\\n",
       "Q0xPT7PMMlWqbX1VqiyzzPT0tOElbaGBgYHmL5ewGl5TTLGf/QwyyH72M8VUM8TWfskcGBgosOrO\\\n",
       "idUjxt4zMjKS5ufniy4jW2urDVeWVpofjjWLLPJJPklfqc8jMKkAnfx8RsRDKaWRTS65I7rqCEzd\\\n",
       "oXWp/CijzWnDfexrTieOMnrSEntJW8MZklUegalNvV5neHi4ban8OOPMMccyy/TTzyijHORgs79U\\\n",
       "KnHkyJGenaaQuo1HYKs8AlObgYEBJiYm2toOcpC+Uh+HDh2ir9TXFl4AExMThpe0RZwhaVH0MshO\\\n",
       "PVxGv7Hn//b5dOtf35pu/etb0/N/+/y6+3TyOhNJZ2YrrtPEZfTqZpN/PskXv/VFvvitL/JLX/0l\\\n",
       "jv/k+En7VCoVyuXySUvlW5fYl8vl7XG1v9QlnCFp5zmwbejnb/v5tu3fvOI32ffefevuW6/X1/3H\\\n",
       "v1G7pJ/dyg9/wKNz93HZ6NX0veWtJ/W33u6t9ZfM1ulF4Ix+yczpHNiOogvQ1tvBDl7m5eb2+LvG\\\n",
       "N9x3o5AyvKTOePybD3HXb5cBeOArB7jhtz7PBe/+h237rIXSzMzMujMkY2NjTExM9PwMiUdg29DX\\\n",
       "j32dj9//cV7hFT5Q+gBfuOYLRZckbXtrR10P3v3H/OTHP2q2n1u6kI/s/6/rvqYTMyQegamrvf/C\\\n",
       "9/PwjQ8XXYakFo/O3ccDXznAZaPX8Ojcvc32a3/jExu+ZrvPkBhgktQFLhu9uvlz97+eKriaPBhg\\\n",
       "ktQF+t7yVt73a/+06DKy4jJ6SVKWDDBJUpYMMElSlgwwSVKWDDBJUpYMMElSlgwwSVKWDDBJUpYM\\\n",
       "MElSlgwwSVKWDDBJUpYMMElSlgwwSVKWsgmwiNgdEQsRcTQibiq6HklSsbIIsIg4C7gV+FXgUuDD\\\n",
       "EXFpsVVJkoqURYABVwJHU0qPp5ReAm4Hriu4JklSgXIJsAuAp1q2jzXaJEnbVC4BFuu0pZN2ipiM\\\n",
       "iPmImH/22We3oCxJUlFyCbBjwEUt2xcCSyfulFKaTimNpJRGdu7cuWXFSZK2Xi4B9lfAJRFxcUSc\\\n",
       "DdwA3FNwTZKkAu0ouoBTkVJ6OSI+DnwNOAv4ckrp0YLLkiQVKIsAA0gp/Snwp0XXIUnqDrlMIUqS\\\n",
       "1MYAkyRlyQCTJGXJAJMkZckAkyRlyQCTJGXJAJMkZckAkyRlyQCTJGXJAJMkZckAkyRlyQCTJGXJ\\\n",
       "AJMkZckAkyRlyQCTJGXJAJMkZckAkyRlyQCTJGXJAJMkZckAkyRlyQCTJGXJAJMkZckAkyRlyQCT\\\n",
       "JGWpawIsIq6PiEcj4qcRMXJC36cj4mhELETEtUXVKEnqHjuKLqDFI8CHgN9vbYyIS4EbgMuAEnBf\\\n",
       "RAyllF7Z+hIlSd2ia47AUkqPpZQW1um6Drg9pfRiSul7wFHgyq2tTpLUbbomwF7DBcBTLdvHGm2S\\\n",
       "pG1sS6cQI+I+4J3rdN2cUrp7o5et05Y2eP9JYBJg165dZ1SjJCkPWxpgKaWrz+Blx4CLWrYvBJY2\\\n",
       "eP9pYBpgZGRk3ZCTJPWGHKYQ7wFuiIhzIuJi4BLgwYJrkiQVrGsCLCJ+PSKOAf8EOBwRXwNIKT0K\\\n",
       "3AF8G/ifwMdcgShJ6ppl9Cmlu4C7Nui7BbhlayuSJHWzrjkCkyTpdBhgkqQsGWCSpCwZYJKkLBlg\\\n",
       "kqQsGWCSpCwZYJKkLBlgkqQsGWCSpCwZYJKkLBlgkqQsGWCSpCwZYJKkLBlgkqQsGWCSpCwZYJKk\\\n",
       "LBlgkqQsGWCSpCwZYJKkLBlgkqQsGWCSpCwZYJKkLBlgkqQsGWCSpCwZYJKkLHVNgEXE70TEdyLi\\\n",
       "SETcFRH9LX2fjoijEbEQEdcWWKYkqUt0TYAB9wLvTSkNAzXg0wARcSlwA3AZsBv4vYg4q7AqJUld\\\n",
       "oWsCLKX05ymllxub3wAubDy/Drg9pfRiSul7wFHgyiJqlCR1j64JsBN8BPizxvMLgKda+o412iRJ\\\n",
       "29iOrfzDIuI+4J3rdN2cUrq7sc/NwMvAV9Zets7+aYP3nwQmAXbt2vUz1ytJ6l5bGmAppatfqz8i\\\n",
       "bgT2Ar+SUloLqWPARS27XQgsbfD+08A0wMjIyLohJ0nqDV0zhRgRu4F/C/xaSmmlpese4IaIOCci\\\n",
       "LgYuAR4sokZJUvfY0iOw1/EF4Bzg3ogA+EZK6TdSSo9GxB3At1mdWvxYSumVAuuUJHWBrgmwlNK7\\\n",
       "XqPvFuCWLSxHktTlumYKUZJ05ur1+mm19wIDTJIyV6lUGB4eplartbXXajWGh4epVCrFFNZhBpgk\\\n",
       "ZaxSqVCtVllaWmJsbKwZYrVajbGxMZaWlqhWqz0ZYgaYJGVqLbzWrIXY4cOHm+G1phdDzACTpAzV\\\n",
       "63VmZmba2sYZZ2Vphb1797KytMI44239MzMzPXVOzACTpAwNDAwwOztLqVQCVsNriin2s59BBtnP\\\n",
       "fqaYaoZYqVRidnaWgYGBAqveXAaYJGVqaGioGWJzzLHIIoMMcoADDDLIIovMMdcMr6GhoaJL3lQG\\\n",
       "mCRlbGhoiOnpaZZZpkq1ra9KlWWWmZ6e7rnwAgNMkrJWq9WYnJykn37KlNv6ypTpp5/JycmTltj3\\\n",
       "AgNMkjLVulR+lNHmtOE+9jWnE0cZPWmJfa+IV2/63ltGRkbS/Px80WVIUkfU63WGh4fblsqPM84c\\\n",
       "cyyzTD/9jDLKQQ42+0ulEkeOHHnNhRwR8VBKaaSTtW8Wj8AkqUs9/fgyf3jz/+W/V7/BH978f3j6\\\n",
       "8eVm38DAABMTE237H+QgfaU+Dh06RF+pry28ACYmJlyFKEnqvLv+0zf5Uf0nHH96hR/VX+S+A99u\\\n",
       "669UKpTLr573WlttuGfPnrYl9gDlcrnnLmTumrvRS5LanfjFUbsuPe+kfdZCaWZmpm2p/NoS+7Gx\\\n",
       "MSYmJnouvMBzYJLUtb762W/w3JOvfr/vRz7/ft745rPX3bder687PbhR+0ZyOgfmEZgkdal//pmr\\\n",
       "TnnfjUKql855nchzYJKkLBlgkqQsGWCSpCwZYJKkLBlgkqQsGWCSpCwZYJKkLPXshcwR8SzwRNF1\\\n",
       "bJG3Ac8VXcQW225j3m7jBcdclL+fUtpZcA2npGcDbDuJiPlcrpzfLNttzNttvOCY9fqcQpQkZckA\\\n",
       "kyRlyQDrDdNFF1CA7Tbm7TZecMx6HZ4DkyRlySMwSVKWDLBMRcT1EfFoRPw0IkZO6Pt0RByNiIWI\\\n",
       "uLaoGjshInY3xnU0Im4qup5OiIgvR8QzEfFIS9t5EXFvRHy38fPcImvcbBFxUUTMRsRjjX/XU432\\\n",
       "nh13RPxcRDwYEd9qjLnaaO/ZMW82AyxfjwAfAh5obYyIS4EbgMuA3cDvRcRZW1/e5muM41bgV4FL\\\n",
       "gQ83xttr/oDVv7tWNwH3p5QuAe5vbPeSl4FPpZTeA1wFfKzxd9vL434R+OWU0i8AlwO7I+IqenvM\\\n",
       "m8oAy1RK6bGU0sI6XdcBt6eUXkwpfQ84Cly5tdV1zJXA0ZTS4ymll4DbWR1vT0kpPQA8f0LzdcBt\\\n",
       "jee3AeNbWVOnpZSeTil9s/H8R8BjwAX08LjTqh83Nt/QeCR6eMybzQDrPRcAT7VsH2u09YJeHtvr\\\n",
       "eUdK6WlY/c8eeHvB9XRMRAwC/wj4S3p83BFxVkQ8DDwD3JtS6vkxb6YdRRegjUXEfcA71+m6OaV0\\\n",
       "90YvW6etV5aa9vLYBETEm4E/AT6RUvphxHp/5b0jpfQKcHlE9AN3RcR7Cy4pKwZYF0spXX0GLzsG\\\n",
       "XNSyfSGwtDkVFa6Xx/Z6vh8R56eUno6I81n9jb2nRMQbWA2vr6SU7mw09/y4AVJKyxExx+q5z20x\\\n",
       "5s3gFGLvuQe4ISLOiYiLgUuABwuuabP8FXBJRFwcEWezuljlnoJr2ir3ADc2nt8IbHQEnqVYPdT6\\\n",
       "EvBYSul3W7p6dtwRsbNx5EVEvBG4GvgOPTzmzeaFzJmKiF8H/guwE1gGHk4pXdvouxn4CKsruz6R\\\n",
       "UvqzourcbBHxQeA/A2cBX04p3VJsRZsvIv4IGGX1zuTfB8rAQeAOYBfwJHB9SunEhR7Zioj3A/8b\\\n",
       "+Bvgp43mz7B6Hqwnxx0Rw6wu0jiL1YOJO1JKvxURA/TomDebASZJypJTiJKkLBlgkqQsGWCSpCwZ\\\n",
       "YJKkLBlgkqQsGWCSpCwZYJKkLBlgkqQsGWCSpCwZYJKkLBlgkqQsGWCSpCwZYJKkLBlgkqQsGWCS\\\n",
       "pCwZYJKkLBlgkqQsGWCSpCwZYJKkLBlgkqQs/X+05WnCXeNY1QAAAABJRU5ErkJggg==\\\n",
       "\"\n",
       "  frames[3] = \"data:image/png;base64,iVBORw0KGgoAAAANSUhEUgAAAbAAAAEgCAYAAADVKCZpAAAAOXRFWHRTb2Z0d2FyZQBNYXRwbG90\\\n",
       "bGliIHZlcnNpb24zLjQuMywgaHR0cHM6Ly9tYXRwbG90bGliLm9yZy/MnkTPAAAACXBIWXMAAAsT\\\n",
       "AAALEwEAmpwYAAAWEklEQVR4nO3dX2xk53mY8eet5CghgpY2vYk1krYUUE1rWWFciBBctBeko8BK\\\n",
       "d1ExAZQqF8VCMUgEUIW14IvI0cXMFBBgoGi2RuugJRHLujCiCE20ErhJU1khoQZI4lCFu5ay3vEi\\\n",
       "puwFBf2ZmE0CAgpkv73gcMTZJVe7K5JnvuHzAwY7c86Qfg/Wo2fmnDNnIzORJKk0/6DqASRJuh4G\\\n",
       "TJJUJAMmSSqSAZMkFcmASZKKZMAkSUUyYJKkIhkwSVKRDJgkqUgGTJJUJAMmSSqSAZMkFcmASZKK\\\n",
       "ZMAkSUUyYJKkIhkwSVKRDJgkqUgGTJJUJAMmSSqSAZMkFcmASZKKZMAkSUUyYJKkIhkwSVKRDJgk\\\n",
       "qUgGTJJUJAMmSSqSAZMkFcmASZKKZMAkSUUyYJKkIhkwSVKRDJgkqUgGTJJUpBurHmC/fPSjH83x\\\n",
       "8fGqx5Ckorz88stvZ+aRque4GkMbsPHxcVZWVqoeQ5KKEhGvVT3D1XIXovp0Op1rWi5JVTFg6mk2\\\n",
       "m0xMTNBut/uWt9ttJiYmaDab1QwmSTswYAI249VqtVhbW2N6eroXsXa7zfT0NGtra7RaLSMmaWAY\\\n",
       "MPXitWUrYmfOnOnFa4sRkzQoDNgh1+l0WFhY6Fs2wwwbaxscP36cjbUNZpjpW7+wsOAxMUmVM2CH\\\n",
       "3NjYGEtLS9RqNWAzXic5ySlOMc44pzjFSU72Ilar1VhaWmJsbKzCqSXJgAmo1+u9iC2zzCqrjDPO\\\n",
       "kzzJOOOsssoyy7141ev1qkeWJAOmTfV6nfn5edZZp0Wrb12LFuusMz8/b7wkDQwDJmDzbMO5uTlG\\\n",
       "GaVBo29dgwajjDI3N3fZKfaSVBUDpr5T5aeY6u02fIiHersTp5i67BR7SapSZGbVM+yLycnJ9FJS\\\n",
       "76/T6TAxMdF3qvwMMyyzzDrrjDLKFFOc5nRvfa1W4+zZs57IIQ2hiHg5MyernuNq+AnskBsbG2N2\\\n",
       "drZv2WlOM1IbYXFxkZHaSF+8AGZnZ42XdA28RNv+MGCi2WzSaLx33GvrbMNjx471nWIP0Gg0/CKz\\\n",
       "dA28RNs+ysyhvN19992pbRr/8L3bbk9pNLJWq+X58+f7lp8/fz5rtVo2Go19HlIaLo1GI4EE+l5b\\\n",
       "W6+prXWD9NoCVnIA/ht+NTePgR0WzX+07f7/2/VpnU5nx92Duy2XtLNLL9EGm3s35ufnmZub6zvu\\\n",
       "DIOzd8NjYCrWbpEyXtLV8xJtB8OASdIe8xJtB2OgdiFGxI8DLwE3sfmvRf+PzGxExEeA3wXGgVXg\\\n",
       "lzPzB1f6Xe5ClFS1re9Ybqxt9OK1ZZVVHuVRRmojA3WJNnchXr93gE9n5s8CnwTui4hPAY8BL2bm\\\n",
       "HcCL3ceSNNC8RNv+GqiAdU+C+bvuww91bwncDzzVXf4UXLLzWJIGkJdo218DFTCAiLghIr4JvAm8\\\n",
       "kJl/Dvx0Zr4O0P3zpyocUZLel5do238DdQxsu4gYBZ4FHgH+JDNHt637QWZ+eIefmQPmAI4ePXr3\\\n",
       "a6+9djDDStI2JV+izWNgeyAz14Fl4D7gjYi4GaD755u7/Mx8Zk5m5uSRI0cOalRJ6uMl2g7GQAUs\\\n",
       "Io50P3kRET8B3At8G3geONF92gnguUoGlKRtxh8707tdyku07b8bqx7gEjcDT0XEDWzG9ZnMXIyI\\\n",
       "PwWeiYjPAt8DHqhySEm6GltRWlhY6DtVfutfQZ+enmZ2dtZ4XaeBPQb2Qfk9MEn7bfsnr9UvHtv1\\\n",
       "eSVdoq2kY2CD9glMkopxpWht5yXa9sdAHQOTJOlqGTBJUpEMmCSpSAZMklQkAyZJKpIBkyQVyYBJ\\\n",
       "kopkwCRJRTJgkqQiGTBJUpEMmCSpSAZMklQkA3adOp3ONS2XJO0tA3Ydms0mExMTtNvtvuXtdpuJ\\\n",
       "iQn/bR9JOgAG7Bo1m01arRZra2tMT0/3ItZut5menmZtbY1Wq2XEJGmfGbBrsBWvLVsRO3PmTC9e\\\n",
       "W4yYJO0vA3aVOp0OCwsLfctmmGFjbYPjx4+zsbbBDDN96xcWFjwmJkn7xIBdpbGxMZaWlqjVasBm\\\n",
       "vE5yklOcYpxxTnGKk5zsRaxWq7G0tOS/uCpJ+8SAXYN6vd6L2DLLrLLKOOM8yZOMM84qqyyz3ItX\\\n",
       "vV6vemRJGloG7BrV63Xm5+dZZ50Wrb51LVqss878/LzxkqR9ZsCuUbvdZm5ujlFGadDoW9egwSij\\\n",
       "zM3NXXaKvSRpbxmwa7D9VPkppnq7DR/iod7uxCmmLjvFXpK09yIzq55hX0xOTubKysqe/b5Op8PE\\\n",
       "xETfqfIzzLDMMuusM8ooU0xxmtO99bVajbNnz3oih6RiRMTLmTlZ9RxXY6A+gUXEbRGxFBHnIuLV\\\n",
       "iDjZXf6RiHghIr7T/fPDBz3b2NgYs7OzfctOc5qR2giLi4uM1Eb64gUwOztrvCRpnwxUwIB3gc9n\\\n",
       "5seBTwEPR8SdwGPAi5l5B/Bi9/GBazabNBrvHffaOtvw2LFjfafYAzQaDb/ILEn76MaqB9guM18H\\\n",
       "Xu/e/9uIOAfcAtwPTHWf9hSwDPz6fsxw7p99vHf/498+d9n6rSgtLCz0nSq/dYr99PQ0s7OzxkuS\\\n",
       "9tnAHgOLiHHgJeAu4HuZObpt3Q8y84q7Ea/3GNj7BWxLp9PZcffgbsslqQQeA/uAIuIngd8DPpeZ\\\n",
       "f3MNPzcXESsRsfLWW2/t34Cwa6SMlyQdjIHahQgQER9iM15fy8zf7y5+IyJuzszXI+Jm4M2dfjYz\\\n",
       "54F52PwEdj3/+1f61CVJGhwD9QksIgL4beBcZv7mtlXPAye6908Azx30bJKkwTJon8D+JfDvgG9F\\\n",
       "xDe7y34D+CLwTER8Fvge8EA140mSBsVABSwz/wSIXVb/3EHOIkkabAO1C1GSpKtlwCRJRTJgkqQi\\\n",
       "GTBJUpEMmCSpSAZMklQkAyZJKpIBkyQVyYBJkopkwCRJRTJgkqQiGTBJUpEMmCSpSAZMklQkAyZJ\\\n",
       "KpIBkyQVyYBJkopkwCRJRTJgkqQiGTBJUpEMmCSpSAZMklQkAyZJKpIBkyQVyYBJkoo0UAGLiK9E\\\n",
       "xJsR8cq2ZR+JiBci4jvdPz9c5YyHSafTuablknSQBipgwFeB+y5Z9hjwYmbeAbzYfax91mw2mZiY\\\n",
       "oN1u9y1vt9tMTEzQbDarGUxSz2F/kzlQAcvMl4C/vmTx/cBT3ftPATMHOdNh1Gw2abVarK2tMT09\\\n",
       "3YtYu91menqatbU1Wq2WEZMq5JtMIDMH6gaMA69se7x+yfofXM3vufvuu1PXrtFoJNB3q9Vqubi4\\\n",
       "mLVa7bJ1jUaj6pGlQ2f767RWq+X58+czM/P8+fN9r9PreX0CKzkALbiaW+UDXDbQBwgYMAesACtH\\\n",
       "jx692r8vdb399tuXRWqGmRxlNIEcZTRnmLksbm+//XbVo0uHxn6/ySwpYAO1C3EXb0TEzQDdP9/c\\\n",
       "7YmZOZ+Zk5k5eeTIkQMbcFiMjY2xtLRErVYDYIYZTnKSU5xinHFOcYqTnGSmuxe3VquxtLTE2NhY\\\n",
       "hVNLh0en02FhYaFv2QwzbKxtcPz4cTbWNnqvzy0LCwtDe0yshIA9D5zo3j8BPFfhLEOvXq/3IrbM\\\n",
       "MqusMs44T/Ik44yzyirLLPfiVa/Xqx5ZOjR8k9lvoAIWEb8D/CnwTyPiYkR8Fvgi8PMR8R3g57uP\\\n",
       "tY/q9Trz8/Oss06LVt+6Fi3WWWd+ft54SRXwTeZ7YnOX5/CZnJzMlZWVqsco0tbZhhtrG713dltW\\\n",
       "WeVRHmWkNjL0Lw5pkJ05c4bjx4/34rXlIR5ilVUWFxc5duzYNf/eiHg5Myf3ctb9MlCfwFS97afK\\\n",
       "TzHVe0e39aIYZ5wppi47xV7SwWm328zNzTHKKA0afesaNBhllLm5uaF/fRow9XQ6nV68AE5zmi/x\\\n",
       "JR7l0d4nry/xJU5zGqAXsWE9QCwNIt9kvseAqWdsbIzZ2dm+Zac5zUhthMXFRUZqI714bZmdnR3a\\\n",
       "A8TSoPFNZj8Dpj7NZpNG471dElsHgo8dO9Z39hNAo9E4HN/2lwaEbzIvUfUX0fbr5pU4dnfXV+/q\\\n",
       "3XbTaDT6vuG/Zeub/l6BQ6qOV+LYvHkW4iH0M0/9TO/+t058a9fndTqdHd+57bZc0t74T//2eO/+\\\n",
       "5393ccfnNJtNFhYWLjsbeOsY2ezs7HXtISnpLMQbqx5Ag2u3SBkvqXrNZpNHHnnkstdjvV7n7Nmz\\\n",
       "h+J1asAOoSt96pJUjsP+JtOASdKA2W23ofp5FqIkqUgGTJJUJAMmSSqSAZMkFcmASZKKZMAkSUUy\\\n",
       "YJKkIhkwSVKRDJgkqUgGTJJUJAMmSSqSAZMkFcmASZKKZMAkSUUyYJKkIhUTsIi4LyLOR8SFiHis\\\n",
       "6nkkSdUqImARcQPwZeAXgDuBX4mIO6udSpJUpSICBtwDXMjMv8rMvweeBu6veCZJUoVKCdgtwPe3\\\n",
       "Pb7YXSZJOqRKCVjssCwve1LEXESsRMTKW2+9dQBjSZKqUkrALgK3bXt8K7B26ZMycz4zJzNz8siR\\\n",
       "Iwc2nCTp4JUSsL8A7oiI2yPix4AHgecrnkmSVKEbqx7gamTmuxHx74E/Am4AvpKZr1Y8liSpQkUE\\\n",
       "DCAz/wD4g6rnkCQNhlJ2IUqS1MeASZKKZMAkSUUyYJKkIhkwSVKRDJgkqUgGTJJUJAMmSSqSAZMk\\\n",
       "FcmASZKKZMAkSUUyYJKkIhkwSVKRDJgkqUgGTJJUJAMmSSqSAZMkFcmASZKKZMAkSUUyYJKkIhkw\\\n",
       "SVKRDJgkqUgGTJJUJAMmSSrSwAQsIh6IiFcj4kcRMXnJui9ExIWIOB8Rn6lqRknS4Lix6gG2eQX4\\\n",
       "JeC/b18YEXcCDwKfAGrA1yOinpk/PPgRJUmDYmA+gWXmucw8v8Oq+4GnM/OdzPwucAG452CnkyQN\\\n",
       "moEJ2BXcAnx/2+OL3WWSpEPsQHchRsTXgY/tsOrxzHxutx/bYVnu8vvngDmAo0ePXteMkqQyHGjA\\\n",
       "MvPe6/ixi8Bt2x7fCqzt8vvngXmAycnJHSMnSRoOJexCfB54MCJuiojbgTuAb1Q8kySpYgMTsIj4\\\n",
       "xYi4CPwL4ExE/BFAZr4KPAP8JfA/gYc9A1GSNDCn0Wfms8Czu6x7AnjiYCeSJA2ygfkEJknStTBg\\\n",
       "kqQiGTBJUpEMmCSpSAZMklQkAyZJKpIBkyQVyYBJkopkwCRJRTJgkqQiGTBJUpEMmCSpSAZMklQk\\\n",
       "AyZJKpIBkyQVyYBJkopkwCRJRTJgkqQiGTBJUpEMmCSpSAZMklQkAyZJKpIBkyQVyYBJkoo0MAGL\\\n",
       "iP8YEd+OiLMR8WxEjG5b94WIuBAR5yPiMxWOKUkaEAMTMOAF4K7MnADawBcAIuJO4EHgE8B9wG9F\\\n",
       "xA2VTSlJGggDE7DM/F+Z+W734Z8Bt3bv3w88nZnvZOZ3gQvAPVXMKEkaHAMTsEv8KvCH3fu3AN/f\\\n",
       "tu5id5kk6RC78SD/xyLi68DHdlj1eGY+133O48C7wNe2fmyH5+cuv38OmAM4evToB55XkjS4DjRg\\\n",
       "mXnvldZHxAngOPBzmbkVqYvAbduediuwtsvvnwfmASYnJ3eMnCRpOAzMLsSIuA/4deDfZObGtlXP\\\n",
       "Aw9GxE0RcTtwB/CNKmaUJA2OA/0E9j7+K3AT8EJEAPxZZv5aZr4aEc8Af8nmrsWHM/OHFc4pSRoA\\\n",
       "AxOwzPwnV1j3BPDEAY4jSRpwA7MLUZJ0/TqdzjUtHwYGTJIK12w2mZiYoN1u9y1vt9tMTEzQbDar\\\n",
       "GWyfGTBJKliz2aTVarG2tsb09HQvYu12m+npadbW1mi1WkMZMQMmSYXaiteWrYidOXOmF68twxgx\\\n",
       "AyZJBep0OiwsLPQtm2GGjbUNjh8/zsbaBjPM9K1fWFgYqmNiBkySCjQ2NsbS0hK1Wg3YjNdJTnKK\\\n",
       "U4wzzilOcZKTvYjVajWWlpYYGxurcOq9ZcAkqVD1er0XsWWWWWWVccZ5kicZZ5xVVllmuRever1e\\\n",
       "9ch7yoBJUsHq9Trz8/Oss06LVt+6Fi3WWWd+fn7o4gUGTJKK1m63mZubY5RRGjT61jVoMMooc3Nz\\\n",
       "l51iPwwMmCQVavup8lNM9XYbPsRDvd2JU0xddor9sIj3Lvo+XCYnJ3NlZaXqMSRpX3Q6HSYmJvpO\\\n",
       "lZ9hhmWWWWedUUaZYorTnO6tr9VqnD179oonckTEy5k5uZ+z7xU/gUlSgcbGxpidne1bdprTjNRG\\\n",
       "WFxcZKQ20hcvgNnZ2aE6C3FgLuYrSbrcl3/tj3v3H/5vn+5bt/XF5K0vM28/23Bpaanvy8yNRmPo\\\n",
       "vshswCSpYFtRWlhY6DtVfnvEZmdnhy5eYMAkqXjNZpNHHnnkst2D9Xr9fY95lcyASdIAu3S34W52\\\n",
       "i9Swxgs8iUOSVCgDJkkqkgGTJBXJgEmSimTAJElFMmCSpCIZMElSkYb2Yr4R8RbwWtVzHICPAm9X\\\n",
       "PcQBc5sPB7e5Gv84M49UPMNVGdqAHRYRsVLKlaP3itt8OLjNej/uQpQkFcmASZKKZMDKN1/1ABVw\\\n",
       "mw8Ht1lX5DEwSVKR/AQmSSqSAStQRDwQEa9GxI8iYvKSdV+IiAsRcT4iPlPVjPshIu7rbteFiHis\\\n",
       "6nn2S0R8JSLejIhXti37SES8EBHf6f754Spn3EsRcVtELEXEue7/r092lw/tNgNExI9HxDci4v92\\\n",
       "t7vVXT7U272XDFiZXgF+CXhp+8KIuBN4EPgEcB/wWxFxw8GPt/e62/Fl4BeAO4Ff6W7vMPoqm39/\\\n",
       "2z0GvJiZdwAvdh8Pi3eBz2fmx4FPAQ93/26HeZsB3gE+nZk/C3wSuC8iPsXwb/eeMWAFysxzmXl+\\\n",
       "h1X3A09n5juZ+V3gAnDPwU63b+4BLmTmX2Xm3wNPs7m9QyczXwL++pLF9wNPde8/Bcwc5Ez7KTNf\\\n",
       "z8z/073/t8A54BaGeJsBctPfdR9+qHtLhny795IBGy63AN/f9vhid9kwGOZtuxo/nZmvw+Z/8IGf\\\n",
       "qniefRER48A/B/6cQ7DNEXFDRHwTeBN4ITMPxXbvlRurHkA7i4ivAx/bYdXjmfncbj+2w7JhOc10\\\n",
       "mLdNQET8JPB7wOcy828idvorHy6Z+UPgkxExCjwbEXdVPFJRDNiAysx7r+PHLgK3bXt8K7C2NxNV\\\n",
       "bpi37Wq8ERE3Z+brEXEzm+/Yh0ZEfIjNeH0tM3+/u3iot3m7zFyPiGU2j30emu3+oNyFOFyeBx6M\\\n",
       "iJsi4nbgDuAbFc+0V/4CuCMibo+IH2PzZJXnK57pID0PnOjePwHs9im8OLH5Ueu3gXOZ+ZvbVg3t\\\n",
       "NgNExJHuJy8i4ieAe4FvM+TbvZf8InOBIuIXgf8CHAHWgW9m5me66x4HfpXNM7s+l5l/WNWcey0i\\\n",
       "/jXwn4EbgK9k5hPVTrQ/IuJ3gCk2r0z+BtAATgPPAEeB7wEPZOalJ3oUKSL+FfC/gW8BP+ou/g02\\\n",
       "j4MN5TYDRMQEmydp3MDmh4lnMvM/RMQYQ7zde8mASZKK5C5ESVKRDJgkqUgGTJJUJAMmSSqSAZMk\\\n",
       "FcmASZKKZMAkSUUyYJKkIhkwSVKRDJgkqUgGTJJUJAMmSSqSAZMkFcmASZKKZMAkSUUyYJKkIhkw\\\n",
       "SVKRDJgkqUgGTJJUJAMmSSrS/wfQK8aA+qO+cwAAAABJRU5ErkJggg==\\\n",
       "\"\n",
       "  frames[4] = \"data:image/png;base64,iVBORw0KGgoAAAANSUhEUgAAAbAAAAEgCAYAAADVKCZpAAAAOXRFWHRTb2Z0d2FyZQBNYXRwbG90\\\n",
       "bGliIHZlcnNpb24zLjQuMywgaHR0cHM6Ly9tYXRwbG90bGliLm9yZy/MnkTPAAAACXBIWXMAAAsT\\\n",
       "AAALEwEAmpwYAAAWC0lEQVR4nO3dX2xk53mY8eet5CghApQ2vYk1krYUUE1qWWFciBBctBeko8BK\\\n",
       "dxExAZQqF8VCMUgEUIW14IvI0cXMFBBgoGi2RuugJRHLujCiCE20ErhJU1kloQZI4lCFu5ay3vEi\\\n",
       "puwFBf2ZmE0CAgpkv73gcMTZJVe7K5JnvuHzAwjOnDOk3oPV7DNzzpmzkZlIklSaf1T1AJIkXQ8D\\\n",
       "JkkqkgGTJBXJgEmSimTAJElFMmCSpCIZMElSkQyYJKlIBkySVCQDJkkqkgGTJBXJgEmSimTAJElF\\\n",
       "MmCSpCIZMElSkQyYJKlIBkySVCQDJkkqkgGTJBXJgEmSimTAJElFMmCSpCIZMElSkQyYJKlIBkyS\\\n",
       "VCQDJkkqkgGTJBXJgEmSimTAJElFMmCSpCIZMElSkQyYJKlIBkySVCQDJkkq0o1VD7BfPvrRj+b4\\\n",
       "+HjVY0hSUV5++eW3M/NI1XNcjaEN2Pj4OCsrK1WPIUlFiYjXqp7harkLUX06nc41LZekqhgw9TSb\\\n",
       "TSYmJmi3233L2+02ExMTNJvNagaTpB0YMAGb8Wq1WqytrTE9Pd2LWLvdZnp6mrW1NVqtlhGTNDAM\\\n",
       "mHrx2rIVsTNnzvTitcWISRoUBuyQ63Q6LCws9C2bYYaNtQ2OHz/OxtoGM8z0rV9YWPCYmKTKGbBD\\\n",
       "bmxsjKWlJWq1GrAZr5Oc5BSnGGecU5ziJCd7EavVaiwtLTE2Nlbh1JJkwATU6/VexJZZZpVVxhnn\\\n",
       "SZ5knHFWWWWZ5V686vV61SNLkgHTpnq9zvz8POus06LVt65Fi3XWmZ+fN16SBoYBE7B5tuHc3Byj\\\n",
       "jNKg0beuQYNRRpmbm7vsFHtJqooBU9+p8lNM9XYbPsRDvd2JU0xddoq9JFUpMrPqGfbF5ORkeimp\\\n",
       "99fpdJiYmOg7VX6GGZZZZp11RhlliilOc7q3vlarcfbsWU/kkIZQRLycmZNVz3E1fAd2yI2NjTE7\\\n",
       "O9u37DSnGamNsLi4yEhtpC9eALOzs8ZLugZeom1/GDDRbDZpNN477rV1tuGxY8f6TrEHaDQafpBZ\\\n",
       "ugZeom0fZeZQft19992pa9NoNLJWq+X58+f7lp8/fz5rtVo2Go1qBpMK1Wg0Ekig77m19ZzaWjdI\\\n",
       "zy1gJQfg7/Cr+fIY2GHR/Mfbbv+/XR/W6XR23D2423JJO7v0Em2wuXdjfn6eubm5vuPOMDh7NzwG\\\n",
       "pmLtFinjJV09L9F2MAyYJO0xL9F2MAZqF2JE/DjwEnATm/9a9H/PzEZEfAT4fWAcWAV+NTN/cKXf\\\n",
       "5S5ESVXb+ozlxtpGL15bVlnlUR5lpDYyUJdocxfi9XsH+HRm/hzwSeC+iPgU8BjwYmbeAbzYvS9J\\\n",
       "A81LtO2vgQpY9ySYv+/e/VD3K4H7gae6y5+CS3YeS9IA8hJt+2ugAgYQETdExDeBN4EXMvMvgJ/O\\\n",
       "zNcBut9/qsIRJel9eYm2/TdQx8C2i4hR4FngEeBPM3N027ofZOaHd/iZOWAO4OjRo3e/9tprBzOs\\\n",
       "JG1T8iXaPAa2BzJzHVgG7gPeiIibAbrf39zlZ+YzczIzJ48cOXJQo0pSHy/RdjAGKmARcaT7zouI\\\n",
       "+AngXuDbwPPAie7DTgDPVTKgJG0z/tiZ3telvETb/rux6gEucTPwVETcwGZcn8nMxYj4M+CZiPgs\\\n",
       "8D3ggSqHlKSrsRWlhYWFvlPlt/4V9OnpaWZnZ43XdRrYY2AflJ8Dk7Tftr/zWv3isV0fV9Il2ko6\\\n",
       "BjZo78AkqRhXitZ2XqJtfwzUMTBJkq6WAZMkFcmASZKKZMAkSUUyYJKkIhkwSVKRDJgkqUgGTJJU\\\n",
       "JAMmSSqSAZMkFcmASZKKZMAkSUUyYNep0+lc03JJ0t4yYNeh2WwyMTFBu93uW95ut5mYmPDf9pGk\\\n",
       "A2DArlGz2aTVarG2tsb09HQvYu12m+npadbW1mi1WkZMkvaZAbsGW/HashWxM2fO9OK1xYhJ0v4y\\\n",
       "YFep0+mwsLDQt2yGGTbWNjh+/DgbaxvMMNO3fmFhwWNikrRPDNhVGhsbY2lpiVqtBmzG6yQnOcUp\\\n",
       "xhnnFKc4yclexGq1GktLS/6Lq5K0TwzYNajX672ILbPMKquMM86TPMk446yyyjLLvXjV6/WqR5ak\\\n",
       "oWXArlG9Xmd+fp511mnR6lvXosU668zPzxsvSdpnBuwatdtt5ubmGGWUBo2+dQ0ajDLK3NzcZafY\\\n",
       "S5L2lgG7BttPlZ9iqrfb8CEe6u1OnGLqslPsJUl7LzKz6hn2xeTkZK6srOzZ7+t0OkxMTPSdKj/D\\\n",
       "DMsss846o4wyxRSnOd1bX6vVOHv2rCdySCpGRLycmZNVz3E1BuodWETcFhFLEXEuIl6NiJPd5R+J\\\n",
       "iBci4jvd7x8+6NnGxsaYnZ3tW3aa04zURlhcXGSkNtIXL4DZ2VnjJUn7ZKACBrwLfD4zPw58Cng4\\\n",
       "Iu4EHgNezMw7gBe79w9cs9mk0XjvuNfW2YbHjh3rO8UeoNFo+EFmSdpHN1Y9wHaZ+Trwevf230XE\\\n",
       "OeAW4H5gqvuwp4Bl4Df3Y4Zz/+zjvdsf//a5y9ZvRWlhYaHvVPmtU+ynp6eZnZ01XpK0zwb2GFhE\\\n",
       "jAMvAXcB38vM0W3rfpCZV9yNeL3HwN4vYFs6nc6Ouwd3Wy5JJfAY2AcUET8J/AHwucz822v4ubmI\\\n",
       "WImIlbfeemv/BoRdI2W8JOlgDNQuRICI+BCb8fpaZv5hd/EbEXFzZr4eETcDb+70s5k5D8zD5juw\\\n",
       "6/nvX+ldlyRpcAzUO7CICOB3gXOZ+dvbVj0PnOjePgE8d9CzSZIGy6C9A/uXwL8FvhUR3+wu+y3g\\\n",
       "i8AzEfFZ4HvAA9WMJ0kaFAMVsMz8UyB2Wf3zBzmLJGmwDdQuREmSrpYBkyQVyYBJkopkwCRJRTJg\\\n",
       "kqQiGTBJUpEMmCSpSAZMklQkAyZJKpIBkyQVyYBJkopkwCRJRTJgkqQiGTBJUpEMmCSpSAZMklQk\\\n",
       "AyZJKpIBkyQVyYBJkopkwCRJRTJgkqQiGTBJUpEMmCSpSAZMklQkAyZJKtJABSwivhIRb0bEK9uW\\\n",
       "fSQiXoiI73S/f7jKGQ+TTqdzTcsl6SANVMCArwL3XbLsMeDFzLwDeLF7X/us2WwyMTFBu93uW95u\\\n",
       "t5mYmKDZbFYzmKSew/4ic6AClpkvAX9zyeL7gae6t58CZg5ypsOo2WzSarVYW1tjenq6F7F2u830\\\n",
       "9DRra2u0Wi0jJlXIF5lAZg7UFzAOvLLt/vol639wNb/n7rvvTl27RqORQN9XrVbLxcXFrNVql61r\\\n",
       "NBpVjywdOtufp7VaLc+fP5+ZmefPn+97nl7P8xNYyQFowdV8VT7AZQN9gIABc8AKsHL06NGr/fNS\\\n",
       "19tvv31ZpGaYyVFGE8hRRnOGmcvi9vbbb1c9unRo7PeLzJICNlC7EHfxRkTcDND9/uZuD8zM+cyc\\\n",
       "zMzJI0eOHNiAw2JsbIylpSVqtRoAM8xwkpOc4hTjjHOKU5zkJDPdvbi1Wo2lpSXGxsYqnFo6PDqd\\\n",
       "DgsLC33LZphhY22D48ePs7G20Xt+bllYWBjaY2IlBOx54ET39gnguQpnGXr1er0XsWWWWWWVccZ5\\\n",
       "kicZZ5xVVllmuRever1e9cjSoeGLzH4DFbCI+D3gz4CfiYiLEfFZ4IvAL0TEd4Bf6N7XPqrX68zP\\\n",
       "z7POOi1afetatFhnnfn5eeMlVcAXme+JzV2ew2dycjJXVlaqHqNIW2cbbqxt9F7ZbVlllUd5lJHa\\\n",
       "yNA/OaRBdubMGY4fP96L15aHeIhVVllcXOTYsWPX/Hsj4uXMnNzLWffLQL0DU/W2nyo/xVTvFd3W\\\n",
       "k2KccaaYuuwUe0kHp91uMzc3xyijNGj0rWvQYJRR5ubmhv75acDU0+l0evECOM1pvsSXeJRHe++8\\\n",
       "vsSXOM1pgF7EhvUAsTSIfJH5HgOmnrGxMWZnZ/uWneY0I7URFhcXGamN9OK1ZXZ2dmgPEEuDxheZ\\\n",
       "/QyY+jSbTRqN93ZJbB0IPnbsWN/ZTwCNRuNwfNpfGhC+yLxE1R9E268vr8Sxu7u+elfvazeNRqPv\\\n",
       "E/5btj7p7xU4pOp4JY7NL89CPIR+9qmf7d3+1olv7fq4Tqez4yu33ZZL2hv/8d8c793+/O8v7viY\\\n",
       "ZrPJwsLCZWcDbx0jm52dva49JCWdhXhj1QNocO0WKeMlVa/ZbPLII49c9nys1+ucPXv2UDxPDdgh\\\n",
       "dKV3XZLKcdhfZBowSRowu+02VD/PQpQkFcmASZKKZMAkSUUyYJKkIhkwSVKRDJgkqUgGTJJUJAMm\\\n",
       "SSqSAZMkFcmASZKKZMAkSUUyYJKkIhkwSVKRDJgkqUgGTJJUpGICFhH3RcT5iLgQEY9VPY8kqVpF\\\n",
       "BCwibgC+DPwicCfwaxFxZ7VTSZKqVETAgHuAC5n515n5D8DTwP0VzyRJqlApAbsF+P62+xe7yyRJ\\\n",
       "h1QpAYsdluVlD4qYi4iViFh56623DmAsSVJVSgnYReC2bfdvBdYufVBmzmfmZGZOHjly5MCGkyQd\\\n",
       "vFIC9pfAHRFxe0T8GPAg8HzFM0mSKnRj1QNcjcx8NyL+HfAnwA3AVzLz1YrHkiRVqIiAAWTmHwF/\\\n",
       "VPUckqTBUMouREmS+hgwSVKRDJgkqUgGTJJUJAMmSSqSAZMkFcmASZKKZMAkSUUyYJKkIhkwSVKR\\\n",
       "DJgkqUgGTJJUJAMmSSqSAZMkFcmASZKKZMAkSUUyYJKkIhkwSVKRDJgkqUgGTJJUJAMmSSqSAZMk\\\n",
       "FcmASZKKZMAkSUUamIBFxAMR8WpE/CgiJi9Z94WIuBAR5yPiM1XNKEkaHDdWPcA2rwC/Avy37Qsj\\\n",
       "4k7gQeATQA34ekTUM/OHBz+iJGlQDMw7sMw8l5nnd1h1P/B0Zr6Tmd8FLgD3HOx0kqRBMzABu4Jb\\\n",
       "gO9vu3+xu0ySdIgd6C7EiPg68LEdVj2emc/t9mM7LMtdfv8cMAdw9OjR65pRklSGAw1YZt57HT92\\\n",
       "Ebht2/1bgbVdfv88MA8wOTm5Y+QkScOhhF2IzwMPRsRNEXE7cAfwjYpnkiRVbGACFhG/HBEXgX8B\\\n",
       "nImIPwHIzFeBZ4C/Av4H8LBnIEqSBuY0+sx8Fnh2l3VPAE8c7ESSpEE2MO/AJEm6FgZMklQkAyZJ\\\n",
       "KpIBkyQVyYBJkopkwCRJRTJgkqQiGTBJUpEMmCSpSAZMklQkAyZJKpIBkyQVyYBJkopkwCRJRTJg\\\n",
       "kqQiGTBJUpEMmCSpSAZMklQkAyZJKpIBkyQVyYBJkopkwCRJRTJgkqQiGTBJUpEGJmAR8R8i4tsR\\\n",
       "cTYino2I0W3rvhARFyLifER8psIxJUkDYmACBrwA3JWZE0Ab+AJARNwJPAh8ArgP+J2IuKGyKSVJ\\\n",
       "A2FgApaZ/zMz3+3e/XPg1u7t+4GnM/OdzPwucAG4p4oZJUmDY2ACdolfB/64e/sW4Pvb1l3sLpMk\\\n",
       "HWI3HuR/LCK+Dnxsh1WPZ+Zz3cc8DrwLfG3rx3Z4fO7y++eAOYCjR49+4HklSYPrQAOWmfdeaX1E\\\n",
       "nACOAz+fmVuRugjctu1htwJru/z+eWAeYHJycsfISZKGw8DsQoyI+4DfBH4pMze2rXoeeDAiboqI\\\n",
       "24E7gG9UMaMkaXAc6Duw9/FfgJuAFyIC4M8z8zcy89WIeAb4KzZ3LT6cmT+scE5J0gAYmIBl5j+9\\\n",
       "wrongCcOcBxJ0oAbmF2IkqTr1+l0rmn5MDBgklS4ZrPJxMQE7Xa7b3m73WZiYoJms1nNYPvMgElS\\\n",
       "wZrNJq1Wi7W1Naanp3sRa7fbTE9Ps7a2RqvVGsqIGTBJKtRWvLZsRezMmTO9eG0ZxogZMEkqUKfT\\\n",
       "YWFhoW/ZDDNsrG1w/PhxNtY2mGGmb/3CwsJQHRMzYJJUoLGxMZaWlqjVasBmvE5yklOcYpxxTnGK\\\n",
       "k5zsRaxWq7G0tMTY2FiFU+8tAyZJharX672ILbPMKquMM86TPMk446yyyjLLvXjV6/WqR95TBkyS\\\n",
       "Clav15mfn2eddVq0+ta1aLHOOvPz80MXLzBgklS0drvN3Nwco4zSoNG3rkGDUUaZm5u77BT7YWDA\\\n",
       "JKlQ20+Vn2Kqt9vwIR7q7U6cYuqyU+yHRbx30ffhMjk5mSsrK1WPIUn7otPpMDEx0Xeq/AwzLLPM\\\n",
       "OuuMMsoUU5zmdG99rVbj7NmzVzyRIyJezszJ/Zx9r/gOTJIKNDY2xuzsbN+y05xmpDbC4uIiI7WR\\\n",
       "vngBzM7ODtVZiANzMV9J0uW+/Bv/q3f74f/66b51Wx9M3vow8/azDZeWlvo+zNxoNIbug8wGTJIK\\\n",
       "thWlhYWFvlPlt0dsdnZ26OIFBkySitdsNnnkkUcu2z1Yr9ff95hXyQyYJA2wS3cb7ma3SA1rvMCT\\\n",
       "OCRJhTJgkqQiGTBJUpEMmCSpSAZMklQkAyZJKpIBkyQVaWgv5hsRbwGvVT3HAfgo8HbVQxwwt/lw\\\n",
       "cJur8U8y80jFM1yVoQ3YYRERK6VcOXqvuM2Hg9us9+MuRElSkQyYJKlIBqx881UPUAG3+XBwm3VF\\\n",
       "HgOTJBXJd2CSpCIZsAJFxAMR8WpE/CgiJi9Z94WIuBAR5yPiM1XNuB8i4r7udl2IiMeqnme/RMRX\\\n",
       "IuLNiHhl27KPRMQLEfGd7vcPVznjXoqI2yJiKSLOdf+/PtldPrTbDBARPx4R34iI/9vd7lZ3+VBv\\\n",
       "914yYGV6BfgV4KXtCyPiTuBB4BPAfcDvRMQNBz/e3utux5eBXwTuBH6tu73D6Kts/vlt9xjwYmbe\\\n",
       "AbzYvT8s3gU+n5kfBz4FPNz9sx3mbQZ4B/h0Zv4c8Engvoj4FMO/3XvGgBUoM89l5vkdVt0PPJ2Z\\\n",
       "72Tmd4ELwD0HO92+uQe4kJl/nZn/ADzN5vYOncx8CfibSxbfDzzVvf0UMHOQM+2nzHw9M/9P9/bf\\\n",
       "AeeAWxjibQbITX/fvfuh7lcy5Nu9lwzYcLkF+P62+xe7y4bBMG/b1fjpzHwdNv/CB36q4nn2RUSM\\\n",
       "A/8c+AsOwTZHxA0R8U3gTeCFzDwU271Xbqx6AO0sIr4OfGyHVY9n5nO7/dgOy4blNNNh3jYBEfGT\\\n",
       "wB8An8vMv43Y6Y98uGTmD4FPRsQo8GxE3FXxSEUxYAMqM++9jh+7CNy27f6twNreTFS5Yd62q/FG\\\n",
       "RNycma9HxM1svmIfGhHxITbj9bXM/MPu4qHe5u0ycz0iltk89nlotvuDchficHkeeDAiboqI24E7\\\n",
       "gG9UPNNe+Uvgjoi4PSJ+jM2TVZ6veKaD9Dxwonv7BLDbu/DixOZbrd8FzmXmb29bNbTbDBARR7rv\\\n",
       "vIiInwDuBb7NkG/3XvKDzAWKiF8G/jNwBFgHvpmZn+muexz4dTbP7PpcZv5xVXPutYj418B/Am4A\\\n",
       "vpKZT1Q70f6IiN8Dpti8MvkbQAM4DTwDHAW+BzyQmZee6FGkiPhXwP8GvgX8qLv4t9g8DjaU2wwQ\\\n",
       "ERNsnqRxA5tvJp7JzH8fEWMM8XbvJQMmSSqSuxAlSUUyYJKkIhkwSVKRDJgkqUgGTJJUJAMmSSqS\\\n",
       "AZMkFcmASZKKZMAkSUUyYJKkIhkwSVKRDJgkqUgGTJJUJAMmSSqSAZMkFcmASZKKZMAkSUUyYJKk\\\n",
       "IhkwSVKRDJgkqUj/H+y4ytNk+5kNAAAAAElFTkSuQmCC\\\n",
       "\"\n",
       "\n",
       "\n",
       "    /* set a timeout to make sure all the above elements are created before\n",
       "       the object is initialized. */\n",
       "    setTimeout(function() {\n",
       "        anim5ea0aec6302f4241b49d4886ce2b6cdb = new Animation(frames, img_id, slider_id, 500.0,\n",
       "                                 loop_select_id);\n",
       "    }, 0);\n",
       "  })()\n",
       "</script>\n"
      ],
      "text/plain": [
       "<IPython.core.display.HTML object>"
      ]
     },
     "execution_count": null,
     "metadata": {},
     "output_type": "execute_result"
    }
   ],
   "source": [
    "X = data.clone()\n",
    "fig,ax=plt.subplots()\n",
    "ani = FuncAnimation(fig, do_one, frames=5, interval=500, repeat=False)\n",
    "plt.close()\n",
    "HTML(ani.to_jshtml())"
   ]
  },
  {
   "cell_type": "markdown",
   "id": "35ae32d9",
   "metadata": {},
   "source": [
    "## GPU batched algorithm"
   ]
  },
  {
   "cell_type": "markdown",
   "id": "d168f015",
   "metadata": {},
   "source": [
    "To accelerate the algorithm, perform update on a batch of points per iteration instead of just one"
   ]
  },
  {
   "cell_type": "code",
   "execution_count": null,
   "id": "c9fe9330",
   "metadata": {},
   "outputs": [
    {
     "data": {
      "text/plain": [
       "(torch.Size([5, 2]), torch.Size([1500, 2]))"
      ]
     },
     "execution_count": null,
     "metadata": {},
     "output_type": "execute_result"
    }
   ],
   "source": [
    "bs = 5\n",
    "X = data.clone()\n",
    "x = X[:bs] # first 5 items\n",
    "x.shape,X.shape"
   ]
  },
  {
   "cell_type": "markdown",
   "id": "2f1d7611",
   "metadata": {},
   "source": [
    "Previously the distance calculation `dist = ((x-X)**2).sum(1).sqrt()\n",
    "` only worked with single number. But we want something to return a matrix ie `5 X 2 @ 1500 X 2 -> 5 X 1500`."
   ]
  },
  {
   "cell_type": "code",
   "execution_count": null,
   "id": "35fe650f",
   "metadata": {},
   "outputs": [
    {
     "ename": "RuntimeError",
     "evalue": "The size of tensor a (5) must match the size of tensor b (1500) at non-singleton dimension 0",
     "output_type": "error",
     "traceback": [
      "\u001b[0;31m---------------------------------------------------------------------------\u001b[0m",
      "\u001b[0;31mRuntimeError\u001b[0m                              Traceback (most recent call last)",
      "\u001b[0;32m/tmp/ipykernel_253549/760939982.py\u001b[0m in \u001b[0;36m<module>\u001b[0;34m\u001b[0m\n\u001b[0;32m----> 1\u001b[0;31m \u001b[0;34m(\u001b[0m\u001b[0mx\u001b[0m\u001b[0;34m-\u001b[0m\u001b[0mX\u001b[0m\u001b[0;34m)\u001b[0m\u001b[0;34m\u001b[0m\u001b[0;34m\u001b[0m\u001b[0m\n\u001b[0m",
      "\u001b[0;31mRuntimeError\u001b[0m: The size of tensor a (5) must match the size of tensor b (1500) at non-singleton dimension 0"
     ]
    }
   ],
   "source": [
    "(x-X)"
   ]
  },
  {
   "cell_type": "markdown",
   "id": "47f8da73",
   "metadata": {},
   "source": [
    "This is because from right to left 2 matches but 5 and 1500 did not match."
   ]
  },
  {
   "cell_type": "code",
   "execution_count": null,
   "id": "19828493",
   "metadata": {},
   "outputs": [
    {
     "data": {
      "text/plain": [
       "(torch.Size([5, 1, 2]), torch.Size([1, 1500, 2]), torch.Size([5, 1500, 2]))"
      ]
     },
     "execution_count": null,
     "metadata": {},
     "output_type": "execute_result"
    }
   ],
   "source": [
    "x[:, None].shape, X[None, :].shape, (x[:,None] - X[None,:]).shape"
   ]
  },
  {
   "cell_type": "markdown",
   "id": "37615883",
   "metadata": {},
   "source": [
    "`torch.sqrt(tensor)` is equivalent to `tensor.sqrt()`"
   ]
  },
  {
   "cell_type": "code",
   "execution_count": null,
   "id": "9ddd7374",
   "metadata": {},
   "outputs": [],
   "source": [
    "def dist_b(a,b): return (((a[None]-b[:,None])**2).sum(2)).sqrt()"
   ]
  },
  {
   "cell_type": "code",
   "execution_count": null,
   "id": "6990312e",
   "metadata": {},
   "outputs": [
    {
     "data": {
      "text/plain": [
       "torch.Size([5, 1500])"
      ]
     },
     "execution_count": null,
     "metadata": {},
     "output_type": "execute_result"
    }
   ],
   "source": [
    "dist_b(X, x).shape"
   ]
  },
  {
   "cell_type": "markdown",
   "id": "7081c18a",
   "metadata": {},
   "source": [
    "Now we have determined for each data point x in the sample X, the distance between that point x and every other point in X is identified."
   ]
  },
  {
   "cell_type": "markdown",
   "id": "fdd5458b",
   "metadata": {},
   "source": [
    "Let's create weights for each point in X by using the Gaussian kernel of that point's distance to x\n",
    "`def gaussian(d, bw): return torch.exp(-0.5*((d/bw)**2)) / (bw*math.sqrt(2*math.pi))`"
   ]
  },
  {
   "cell_type": "code",
   "execution_count": null,
   "id": "0188c06d",
   "metadata": {},
   "outputs": [
    {
     "data": {
      "text/plain": [
       "tensor([[    0.199,     0.030,     0.011,  ...,     0.000,     0.000,     0.000],\n",
       "        [    0.030,     0.199,     0.009,  ...,     0.000,     0.000,     0.000],\n",
       "        [    0.011,     0.009,     0.199,  ...,     0.000,     0.000,     0.000],\n",
       "        [    0.035,     0.199,     0.009,  ...,     0.000,     0.000,     0.000],\n",
       "        [    0.001,     0.004,     0.144,  ...,     0.000,     0.000,     0.000]])"
      ]
     },
     "execution_count": null,
     "metadata": {},
     "output_type": "execute_result"
    }
   ],
   "source": [
    "weight = gaussian(dist_b(X, x), 2)\n",
    "weight"
   ]
  },
  {
   "cell_type": "code",
   "execution_count": null,
   "id": "e37f972c",
   "metadata": {},
   "outputs": [
    {
     "data": {
      "text/plain": [
       "(torch.Size([5, 1500]), torch.Size([1500, 2]))"
      ]
     },
     "execution_count": null,
     "metadata": {},
     "output_type": "execute_result"
    }
   ],
   "source": [
    "weight.shape, X.shape"
   ]
  },
  {
   "cell_type": "code",
   "execution_count": null,
   "id": "ed60830a",
   "metadata": {},
   "outputs": [],
   "source": [
    "# Both are equivalent for adding unit axis at the end\n",
    "fc.test_eq(weight[:,:, None].shape, torch.Size([5, 1500, 1]))\n",
    "fc.test_eq(weight[..., None].shape, torch.Size([5, 1500, 1]))"
   ]
  },
  {
   "cell_type": "code",
   "execution_count": null,
   "id": "0dd6f1dc",
   "metadata": {},
   "outputs": [
    {
     "data": {
      "text/plain": [
       "(torch.Size([1, 1500, 2]), torch.Size([5, 1500, 1]))"
      ]
     },
     "execution_count": null,
     "metadata": {},
     "output_type": "execute_result"
    }
   ],
   "source": [
    "X[None].shape, weight[..., None].shape "
   ]
  },
  {
   "cell_type": "code",
   "execution_count": null,
   "id": "343ebb76",
   "metadata": {},
   "outputs": [
    {
     "data": {
      "text/plain": [
       "torch.Size([5, 1500, 2])"
      ]
     },
     "execution_count": null,
     "metadata": {},
     "output_type": "execute_result"
    }
   ],
   "source": [
    "(weight[..., None] * X[None]).shape"
   ]
  },
  {
   "cell_type": "code",
   "execution_count": null,
   "id": "e3680c2c",
   "metadata": {},
   "outputs": [
    {
     "data": {
      "text/plain": [
       "torch.Size([5, 2])"
      ]
     },
     "execution_count": null,
     "metadata": {},
     "output_type": "execute_result"
    }
   ],
   "source": [
    "num = (weight[..., None] * X[None]).sum(1) # sum up over 1500 points\n",
    "num.shape"
   ]
  },
  {
   "cell_type": "code",
   "execution_count": null,
   "id": "2603dd83",
   "metadata": {},
   "outputs": [
    {
     "data": {
      "text/plain": [
       "tensor([[367.870, 386.231],\n",
       "        [518.332, 588.680],\n",
       "        [329.665, 330.782],\n",
       "        [527.617, 598.217],\n",
       "        [231.302, 234.155]])"
      ]
     },
     "execution_count": null,
     "metadata": {},
     "output_type": "execute_result"
    }
   ],
   "source": [
    "num"
   ]
  },
  {
   "cell_type": "markdown",
   "id": "e7240b0f",
   "metadata": {},
   "source": [
    "When you see a product and sum, then we may need to use einsum"
   ]
  },
  {
   "cell_type": "code",
   "execution_count": null,
   "id": "26a4e244",
   "metadata": {},
   "outputs": [
    {
     "data": {
      "text/plain": [
       "tensor([[367.870, 386.231],\n",
       "        [518.332, 588.680],\n",
       "        [329.665, 330.782],\n",
       "        [527.617, 598.217],\n",
       "        [231.302, 234.155]])"
      ]
     },
     "execution_count": null,
     "metadata": {},
     "output_type": "execute_result"
    }
   ],
   "source": [
    "torch.einsum('ij,jk->ik', weight, X)"
   ]
  },
  {
   "cell_type": "code",
   "execution_count": null,
   "id": "df427bd9",
   "metadata": {},
   "outputs": [
    {
     "data": {
      "text/plain": [
       "tensor([[367.870, 386.231],\n",
       "        [518.332, 588.680],\n",
       "        [329.665, 330.782],\n",
       "        [527.617, 598.217],\n",
       "        [231.302, 234.155]])"
      ]
     },
     "execution_count": null,
     "metadata": {},
     "output_type": "execute_result"
    }
   ],
   "source": [
    "weight @ X"
   ]
  },
  {
   "cell_type": "code",
   "execution_count": null,
   "id": "4cbb7bff",
   "metadata": {},
   "outputs": [
    {
     "data": {
      "text/plain": [
       "(tensor([[    0.199,     0.030,     0.011,  ...,     0.000,     0.000,     0.000],\n",
       "         [    0.030,     0.199,     0.009,  ...,     0.000,     0.000,     0.000],\n",
       "         [    0.011,     0.009,     0.199,  ...,     0.000,     0.000,     0.000],\n",
       "         [    0.035,     0.199,     0.009,  ...,     0.000,     0.000,     0.000],\n",
       "         [    0.001,     0.004,     0.144,  ...,     0.000,     0.000,     0.000]]),\n",
       " torch.Size([5, 1500]))"
      ]
     },
     "execution_count": null,
     "metadata": {},
     "output_type": "execute_result"
    }
   ],
   "source": [
    "weight, weight.shape"
   ]
  },
  {
   "cell_type": "markdown",
   "id": "ff3efa48",
   "metadata": {},
   "source": [
    "denominator is the sum of weights"
   ]
  },
  {
   "cell_type": "code",
   "execution_count": null,
   "id": "dd5484e3",
   "metadata": {},
   "outputs": [
    {
     "data": {
      "text/plain": [
       "tensor([13.947, 19.859, 11.410, 20.238,  7.888])"
      ]
     },
     "execution_count": null,
     "metadata": {},
     "output_type": "execute_result"
    }
   ],
   "source": [
    "weight.sum(1)"
   ]
  },
  {
   "cell_type": "code",
   "execution_count": null,
   "id": "38c60b6d",
   "metadata": {},
   "outputs": [
    {
     "data": {
      "text/plain": [
       "tensor([[13.947],\n",
       "        [19.859],\n",
       "        [11.410],\n",
       "        [20.238],\n",
       "        [ 7.888]])"
      ]
     },
     "execution_count": null,
     "metadata": {},
     "output_type": "execute_result"
    }
   ],
   "source": [
    "div = weight.sum(1, keepdim=True); div"
   ]
  },
  {
   "cell_type": "code",
   "execution_count": null,
   "id": "9ecb1b2b",
   "metadata": {},
   "outputs": [
    {
     "data": {
      "text/plain": [
       "(torch.Size([5, 2]), torch.Size([5, 1]))"
      ]
     },
     "execution_count": null,
     "metadata": {},
     "output_type": "execute_result"
    }
   ],
   "source": [
    "num.shape, div.shape"
   ]
  },
  {
   "cell_type": "code",
   "execution_count": null,
   "id": "a5587989",
   "metadata": {},
   "outputs": [
    {
     "data": {
      "text/plain": [
       "tensor([[26.376, 27.692],\n",
       "        [26.101, 29.643],\n",
       "        [28.892, 28.990],\n",
       "        [26.071, 29.559],\n",
       "        [29.323, 29.685]])"
      ]
     },
     "execution_count": null,
     "metadata": {},
     "output_type": "execute_result"
    }
   ],
   "source": [
    "num/div"
   ]
  },
  {
   "cell_type": "code",
   "execution_count": null,
   "id": "d2acb6fa",
   "metadata": {},
   "outputs": [],
   "source": [
    "def meanshift(data, bs=500):\n",
    "    n = len(data)\n",
    "    X = data.clone\n",
    "    for it in range(5):\n",
    "        for i in range(0, n ,bs):\n",
    "            s = slice(i, min(i+bs,n))\n",
    "            weight = gaussian(dist_b(X, X[s]), 2.5)\n",
    "            div = weight.sum(1, keepdim=True)\n",
    "            X[x] = weight@X/div\n",
    "    return X"
   ]
  },
  {
   "cell_type": "code",
   "execution_count": null,
   "id": "c14c72c3",
   "metadata": {},
   "outputs": [],
   "source": [
    "# data = data.cuda()"
   ]
  },
  {
   "cell_type": "code",
   "execution_count": null,
   "id": "3751735e",
   "metadata": {},
   "outputs": [
    {
     "ename": "TypeError",
     "evalue": "'builtin_function_or_method' object is not subscriptable",
     "output_type": "error",
     "traceback": [
      "\u001b[0;31m---------------------------------------------------------------------------\u001b[0m",
      "\u001b[0;31mTypeError\u001b[0m                                 Traceback (most recent call last)",
      "\u001b[0;32m/tmp/ipykernel_253549/2475757064.py\u001b[0m in \u001b[0;36m<module>\u001b[0;34m\u001b[0m\n\u001b[0;32m----> 1\u001b[0;31m \u001b[0mmeanshift\u001b[0m\u001b[0;34m(\u001b[0m\u001b[0mdata\u001b[0m\u001b[0;34m)\u001b[0m\u001b[0;34m.\u001b[0m\u001b[0mcpu\u001b[0m\u001b[0;34m(\u001b[0m\u001b[0;34m)\u001b[0m\u001b[0;34m\u001b[0m\u001b[0;34m\u001b[0m\u001b[0m\n\u001b[0m",
      "\u001b[0;32m/tmp/ipykernel_253549/1135793412.py\u001b[0m in \u001b[0;36mmeanshift\u001b[0;34m(data, bs)\u001b[0m\n\u001b[1;32m      5\u001b[0m         \u001b[0;32mfor\u001b[0m \u001b[0mi\u001b[0m \u001b[0;32min\u001b[0m \u001b[0mrange\u001b[0m\u001b[0;34m(\u001b[0m\u001b[0;36m0\u001b[0m\u001b[0;34m,\u001b[0m \u001b[0mn\u001b[0m \u001b[0;34m,\u001b[0m\u001b[0mbs\u001b[0m\u001b[0;34m)\u001b[0m\u001b[0;34m:\u001b[0m\u001b[0;34m\u001b[0m\u001b[0;34m\u001b[0m\u001b[0m\n\u001b[1;32m      6\u001b[0m             \u001b[0ms\u001b[0m \u001b[0;34m=\u001b[0m \u001b[0mslice\u001b[0m\u001b[0;34m(\u001b[0m\u001b[0mi\u001b[0m\u001b[0;34m,\u001b[0m \u001b[0mmin\u001b[0m\u001b[0;34m(\u001b[0m\u001b[0mi\u001b[0m\u001b[0;34m+\u001b[0m\u001b[0mbs\u001b[0m\u001b[0;34m,\u001b[0m\u001b[0mn\u001b[0m\u001b[0;34m)\u001b[0m\u001b[0;34m)\u001b[0m\u001b[0;34m\u001b[0m\u001b[0;34m\u001b[0m\u001b[0m\n\u001b[0;32m----> 7\u001b[0;31m             \u001b[0mweight\u001b[0m \u001b[0;34m=\u001b[0m \u001b[0mgaussian\u001b[0m\u001b[0;34m(\u001b[0m\u001b[0mdist_b\u001b[0m\u001b[0;34m(\u001b[0m\u001b[0mX\u001b[0m\u001b[0;34m,\u001b[0m \u001b[0mX\u001b[0m\u001b[0;34m[\u001b[0m\u001b[0ms\u001b[0m\u001b[0;34m]\u001b[0m\u001b[0;34m)\u001b[0m\u001b[0;34m,\u001b[0m \u001b[0;36m2.5\u001b[0m\u001b[0;34m)\u001b[0m\u001b[0;34m\u001b[0m\u001b[0;34m\u001b[0m\u001b[0m\n\u001b[0m\u001b[1;32m      8\u001b[0m             \u001b[0mdiv\u001b[0m \u001b[0;34m=\u001b[0m \u001b[0mweight\u001b[0m\u001b[0;34m.\u001b[0m\u001b[0msum\u001b[0m\u001b[0;34m(\u001b[0m\u001b[0;36m1\u001b[0m\u001b[0;34m,\u001b[0m \u001b[0mkeepdim\u001b[0m\u001b[0;34m=\u001b[0m\u001b[0;32mTrue\u001b[0m\u001b[0;34m)\u001b[0m\u001b[0;34m\u001b[0m\u001b[0;34m\u001b[0m\u001b[0m\n\u001b[1;32m      9\u001b[0m             \u001b[0mX\u001b[0m\u001b[0;34m[\u001b[0m\u001b[0mx\u001b[0m\u001b[0;34m]\u001b[0m \u001b[0;34m=\u001b[0m \u001b[0mweight\u001b[0m\u001b[0;34m@\u001b[0m\u001b[0mX\u001b[0m\u001b[0;34m/\u001b[0m\u001b[0mdiv\u001b[0m\u001b[0;34m\u001b[0m\u001b[0;34m\u001b[0m\u001b[0m\n",
      "\u001b[0;31mTypeError\u001b[0m: 'builtin_function_or_method' object is not subscriptable"
     ]
    }
   ],
   "source": [
    "# X = meanshift(data).cpu()"
   ]
  },
  {
   "cell_type": "code",
   "execution_count": null,
   "id": "1a46d9f0",
   "metadata": {},
   "outputs": [],
   "source": [
    "# %timeit -n 5 _=meanshift(data, 1250).cpu()"
   ]
  },
  {
   "cell_type": "code",
   "execution_count": null,
   "id": "0ef44920",
   "metadata": {},
   "outputs": [
    {
     "data": {
      "image/png": "[encoded data removed]",
      "text/plain": [
       "<Figure size 432x288 with 1 Axes>"
      ]
     },
     "metadata": {
      "needs_background": "light"
     },
     "output_type": "display_data"
    }
   ],
   "source": [
    "plot_data(centroids+2, X, n_samples)"
   ]
  },
  {
   "cell_type": "markdown",
   "id": "7b9d6b8c",
   "metadata": {},
   "source": [
    "**Homework:** implement [k-means](https://realpython.com/k-means-clustering-python/) clustering, [dbscan](https://www.kdnuggets.com/2020/04/dbscan-clustering-algorithm-machine-learning.html), [locality sensitive hashing](https://www.pinecone.io/learn/locality-sensitive-hashing/), or some other clustering, fast nearest neighbors, or similar algorithm of your choice, on the GPU. Check if your version is faster than a pure python or CPU version."
   ]
  },
  {
   "cell_type": "code",
   "execution_count": null,
   "id": "fd57e380",
   "metadata": {},
   "outputs": [],
   "source": []
  },
  {
   "cell_type": "code",
   "execution_count": null,
   "id": "a2b4a0e0",
   "metadata": {},
   "outputs": [],
   "source": []
  }
 ],
 "metadata": {
  "kernelspec": {
   "display_name": "fastai",
   "language": "python",
   "name": "fastai"
  }
 },
 "nbformat": 4,
 "nbformat_minor": 5
}

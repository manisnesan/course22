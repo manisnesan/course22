{
 "cells": [
  {
   "cell_type": "markdown",
   "id": "48d8ee24",
   "metadata": {
    "papermill": {
     "duration": 0.021974,
     "end_time": "2022-06-02T18:53:41.381102",
     "exception": false,
     "start_time": "2022-06-02T18:53:41.359128",
     "status": "completed"
    },
    "tags": []
   },
   "source": [
    "# Getting started with NLP with Categorical using Women's E-Commerce Clothing Reviews"
   ]
  },
  {
   "cell_type": "markdown",
   "id": "b2f09748",
   "metadata": {
    "papermill": {
     "duration": 0.020735,
     "end_time": "2022-06-02T18:53:41.423626",
     "exception": false,
     "start_time": "2022-06-02T18:53:41.402891",
     "status": "completed"
    },
    "tags": []
   },
   "source": [
    "# Outline\n",
    "\n",
    "- Problem Statement\n",
    "- Setup and Downloading Kaggle Dataset\n",
    "- Imports + EDA\n",
    "- Tokenization and Numericalization\n",
    "- Evaluation"
   ]
  },
  {
   "cell_type": "markdown",
   "id": "b5cef818",
   "metadata": {
    "papermill": {
     "duration": 0.020171,
     "end_time": "2022-06-02T18:53:41.464314",
     "exception": false,
     "start_time": "2022-06-02T18:53:41.444143",
     "status": "completed"
    },
    "tags": []
   },
   "source": [
    "We are going to apply the techniques that we learn in Jeremy notebook https://www.kaggle.com/code/jhoward/getting-started-with-nlp-for-absolute-beginners in a different dataset. If you have not checked out the above, I recommend reading the notebook first before readong further. "
   ]
  },
  {
   "cell_type": "markdown",
   "id": "636df4e0",
   "metadata": {
    "heading_collapsed": true,
    "papermill": {
     "duration": 0.020562,
     "end_time": "2022-06-02T18:53:41.505016",
     "exception": false,
     "start_time": "2022-06-02T18:53:41.484454",
     "status": "completed"
    },
    "tags": []
   },
   "source": [
    "# Problem Statement"
   ]
  },
  {
   "cell_type": "markdown",
   "id": "2f6d1b57",
   "metadata": {
    "hidden": true,
    "papermill": {
     "duration": 0.020084,
     "end_time": "2022-06-02T18:53:41.545184",
     "exception": false,
     "start_time": "2022-06-02T18:53:41.525100",
     "status": "completed"
    },
    "tags": []
   },
   "source": [
    "The goal is to determine if a customer will recommend this product or not based on text fields such as review text & title, categorical fields such as Class, Department, Division and continuous fields such as Age, Rating, Posistive Feedback Count.\n",
    "\n",
    "Let's treat this as a **Text Classification**.\n",
    "\n",
    "As a baseline, we are going to only use the text based fields first as we wanted to explore nlp techniques. "
   ]
  },
  {
   "cell_type": "markdown",
   "id": "d2afa8db",
   "metadata": {
    "papermill": {
     "duration": 0.01974,
     "end_time": "2022-06-02T18:53:41.584971",
     "exception": false,
     "start_time": "2022-06-02T18:53:41.565231",
     "status": "completed"
    },
    "tags": []
   },
   "source": [
    "# Setup and Download dataset"
   ]
  },
  {
   "cell_type": "code",
   "execution_count": 1,
   "id": "677b5dba",
   "metadata": {
    "execution": {
     "iopub.execute_input": "2022-06-02T18:53:41.627046Z",
     "iopub.status.busy": "2022-06-02T18:53:41.626492Z",
     "iopub.status.idle": "2022-06-02T18:53:41.632043Z",
     "shell.execute_reply": "2022-06-02T18:53:41.631263Z"
    },
    "papermill": {
     "duration": 0.028682,
     "end_time": "2022-06-02T18:53:41.633998",
     "exception": false,
     "start_time": "2022-06-02T18:53:41.605316",
     "status": "completed"
    },
    "tags": []
   },
   "outputs": [],
   "source": [
    "#%pip install kaggle -qqq\n",
    "#%pip install datasets -qqq\n",
    "#%pip install transformers -Uqqq\n",
    "#%pip install nbdev -Uqqq"
   ]
  },
  {
   "cell_type": "code",
   "execution_count": 2,
   "id": "30dd1d3e",
   "metadata": {
    "execution": {
     "iopub.execute_input": "2022-06-02T18:53:41.675340Z",
     "iopub.status.busy": "2022-06-02T18:53:41.675018Z",
     "iopub.status.idle": "2022-06-02T18:53:41.683174Z",
     "shell.execute_reply": "2022-06-02T18:53:41.682378Z"
    },
    "papermill": {
     "duration": 0.030598,
     "end_time": "2022-06-02T18:53:41.685125",
     "exception": false,
     "start_time": "2022-06-02T18:53:41.654527",
     "status": "completed"
    },
    "tags": []
   },
   "outputs": [],
   "source": [
    "import os\n",
    "\n",
    "iskaggle = os.environ.get('KAGGLE_KERNEL_RUN_TYPE', '')"
   ]
  },
  {
   "cell_type": "markdown",
   "id": "a880f3c6",
   "metadata": {
    "papermill": {
     "duration": 0.019997,
     "end_time": "2022-06-02T18:53:41.725159",
     "exception": false,
     "start_time": "2022-06-02T18:53:41.705162",
     "status": "completed"
    },
    "tags": []
   },
   "source": [
    "Make sure you have kaggle installed using `pip install kaggle`"
   ]
  },
  {
   "cell_type": "markdown",
   "id": "166bc838",
   "metadata": {
    "papermill": {
     "duration": 0.019767,
     "end_time": "2022-06-02T18:53:41.764875",
     "exception": false,
     "start_time": "2022-06-02T18:53:41.745108",
     "status": "completed"
    },
    "tags": []
   },
   "source": [
    "We need an API key to use kaggle. So make sure you add the creds in the form `{\"username\":$USER,\"key\":$KEY}`"
   ]
  },
  {
   "cell_type": "code",
   "execution_count": 3,
   "id": "9ecf31b4",
   "metadata": {
    "execution": {
     "iopub.execute_input": "2022-06-02T18:53:41.806830Z",
     "iopub.status.busy": "2022-06-02T18:53:41.806099Z",
     "iopub.status.idle": "2022-06-02T18:53:41.809994Z",
     "shell.execute_reply": "2022-06-02T18:53:41.809260Z"
    },
    "papermill": {
     "duration": 0.026693,
     "end_time": "2022-06-02T18:53:41.811743",
     "exception": false,
     "start_time": "2022-06-02T18:53:41.785050",
     "status": "completed"
    },
    "tags": []
   },
   "outputs": [],
   "source": [
    "creds = ''"
   ]
  },
  {
   "cell_type": "code",
   "execution_count": 4,
   "id": "810f1cc4",
   "metadata": {
    "execution": {
     "iopub.execute_input": "2022-06-02T18:53:41.854851Z",
     "iopub.status.busy": "2022-06-02T18:53:41.854039Z",
     "iopub.status.idle": "2022-06-02T18:53:41.858216Z",
     "shell.execute_reply": "2022-06-02T18:53:41.857375Z"
    },
    "papermill": {
     "duration": 0.02731,
     "end_time": "2022-06-02T18:53:41.859897",
     "exception": false,
     "start_time": "2022-06-02T18:53:41.832587",
     "status": "completed"
    },
    "tags": []
   },
   "outputs": [],
   "source": [
    "from pathlib import Path"
   ]
  },
  {
   "cell_type": "code",
   "execution_count": 5,
   "id": "e474b0cd",
   "metadata": {
    "execution": {
     "iopub.execute_input": "2022-06-02T18:53:41.902061Z",
     "iopub.status.busy": "2022-06-02T18:53:41.901378Z",
     "iopub.status.idle": "2022-06-02T18:53:41.907032Z",
     "shell.execute_reply": "2022-06-02T18:53:41.906339Z"
    },
    "papermill": {
     "duration": 0.028478,
     "end_time": "2022-06-02T18:53:41.908630",
     "exception": false,
     "start_time": "2022-06-02T18:53:41.880152",
     "status": "completed"
    },
    "tags": []
   },
   "outputs": [],
   "source": [
    "cred_path = Path('~/.kaggle/kaggle.json').expanduser()\n",
    "if not cred_path.exists():\n",
    "    cred_path.parent.mkdir(exist_ok=True)\n",
    "    cred_path.write_text(creds)\n",
    "    cred_path.chmod(0o600) # change permissions to rw for the user."
   ]
  },
  {
   "cell_type": "markdown",
   "id": "15bdd917",
   "metadata": {
    "papermill": {
     "duration": 0.020163,
     "end_time": "2022-06-02T18:53:41.948649",
     "exception": false,
     "start_time": "2022-06-02T18:53:41.928486",
     "status": "completed"
    },
    "tags": []
   },
   "source": [
    "Download the dataset https://www.kaggle.com/datasets/nicapotato/womens-ecommerce-clothing-reviews from kaggle."
   ]
  },
  {
   "cell_type": "code",
   "execution_count": 6,
   "id": "33ebbbf1",
   "metadata": {
    "execution": {
     "iopub.execute_input": "2022-06-02T18:53:41.991149Z",
     "iopub.status.busy": "2022-06-02T18:53:41.990392Z",
     "iopub.status.idle": "2022-06-02T18:53:41.994465Z",
     "shell.execute_reply": "2022-06-02T18:53:41.993653Z"
    },
    "papermill": {
     "duration": 0.027334,
     "end_time": "2022-06-02T18:53:41.996467",
     "exception": false,
     "start_time": "2022-06-02T18:53:41.969133",
     "status": "completed"
    },
    "tags": []
   },
   "outputs": [],
   "source": [
    "owner = 'nicapotato'\n",
    "path = Path('womens-ecommerce-clothing-reviews')"
   ]
  },
  {
   "cell_type": "code",
   "execution_count": 7,
   "id": "70915ed3",
   "metadata": {
    "execution": {
     "iopub.execute_input": "2022-06-02T18:53:42.039032Z",
     "iopub.status.busy": "2022-06-02T18:53:42.038240Z",
     "iopub.status.idle": "2022-06-02T18:53:42.042174Z",
     "shell.execute_reply": "2022-06-02T18:53:42.041452Z"
    },
    "papermill": {
     "duration": 0.026789,
     "end_time": "2022-06-02T18:53:42.043881",
     "exception": false,
     "start_time": "2022-06-02T18:53:42.017092",
     "status": "completed"
    },
    "tags": []
   },
   "outputs": [],
   "source": [
    "#!pip install kaggle"
   ]
  },
  {
   "cell_type": "code",
   "execution_count": 8,
   "id": "8ebd6854",
   "metadata": {
    "execution": {
     "iopub.execute_input": "2022-06-02T18:53:42.085202Z",
     "iopub.status.busy": "2022-06-02T18:53:42.084923Z",
     "iopub.status.idle": "2022-06-02T18:53:42.089398Z",
     "shell.execute_reply": "2022-06-02T18:53:42.088617Z"
    },
    "papermill": {
     "duration": 0.027165,
     "end_time": "2022-06-02T18:53:42.091204",
     "exception": false,
     "start_time": "2022-06-02T18:53:42.064039",
     "status": "completed"
    },
    "tags": []
   },
   "outputs": [],
   "source": [
    "if not iskaggle and not path.exists():\n",
    "    import zipfile, kaggle\n",
    "    kaggle.api.dataset_download_cli(f'{owner}/{str(path)}')\n",
    "    zipfile.ZipFile(f'{path.name}.zip').extractall(path.name)"
   ]
  },
  {
   "cell_type": "markdown",
   "id": "1399287f",
   "metadata": {
    "heading_collapsed": true,
    "papermill": {
     "duration": 0.020038,
     "end_time": "2022-06-02T18:53:42.132226",
     "exception": false,
     "start_time": "2022-06-02T18:53:42.112188",
     "status": "completed"
    },
    "tags": []
   },
   "source": [
    "# Import and EDA"
   ]
  },
  {
   "cell_type": "code",
   "execution_count": 9,
   "id": "a0aa3100",
   "metadata": {
    "execution": {
     "iopub.execute_input": "2022-06-02T18:53:42.173794Z",
     "iopub.status.busy": "2022-06-02T18:53:42.173096Z",
     "iopub.status.idle": "2022-06-02T18:53:42.213143Z",
     "shell.execute_reply": "2022-06-02T18:53:42.212394Z"
    },
    "hidden": true,
    "papermill": {
     "duration": 0.062959,
     "end_time": "2022-06-02T18:53:42.215088",
     "exception": false,
     "start_time": "2022-06-02T18:53:42.152129",
     "status": "completed"
    },
    "tags": []
   },
   "outputs": [],
   "source": [
    "from fastcore.all import *\n",
    "import pandas as pd"
   ]
  },
  {
   "cell_type": "code",
   "execution_count": 10,
   "id": "515702b6",
   "metadata": {
    "execution": {
     "iopub.execute_input": "2022-06-02T18:53:42.258532Z",
     "iopub.status.busy": "2022-06-02T18:53:42.257800Z",
     "iopub.status.idle": "2022-06-02T18:54:11.893302Z",
     "shell.execute_reply": "2022-06-02T18:54:11.892302Z"
    },
    "hidden": true,
    "papermill": {
     "duration": 29.659817,
     "end_time": "2022-06-02T18:54:11.896118",
     "exception": false,
     "start_time": "2022-06-02T18:53:42.236301",
     "status": "completed"
    },
    "tags": []
   },
   "outputs": [
    {
     "name": "stdout",
     "output_type": "stream",
     "text": [
      "Requirement already satisfied: datasets in /opt/conda/lib/python3.7/site-packages (2.1.0)\r\n",
      "Requirement already satisfied: multiprocess in /opt/conda/lib/python3.7/site-packages (from datasets) (0.70.13)\r\n",
      "Requirement already satisfied: requests>=2.19.0 in /opt/conda/lib/python3.7/site-packages (from datasets) (2.27.1)\r\n",
      "Requirement already satisfied: pyarrow>=5.0.0 in /opt/conda/lib/python3.7/site-packages (from datasets) (5.0.0)\r\n",
      "Requirement already satisfied: fsspec[http]>=2021.05.0 in /opt/conda/lib/python3.7/site-packages (from datasets) (2022.5.0)\r\n",
      "Requirement already satisfied: packaging in /opt/conda/lib/python3.7/site-packages (from datasets) (21.3)\r\n",
      "Requirement already satisfied: responses<0.19 in /opt/conda/lib/python3.7/site-packages (from datasets) (0.18.0)\r\n",
      "Requirement already satisfied: pandas in /opt/conda/lib/python3.7/site-packages (from datasets) (1.3.5)\r\n",
      "Requirement already satisfied: huggingface-hub<1.0.0,>=0.1.0 in /opt/conda/lib/python3.7/site-packages (from datasets) (0.5.1)\r\n",
      "Requirement already satisfied: importlib-metadata in /opt/conda/lib/python3.7/site-packages (from datasets) (4.11.4)\r\n",
      "Requirement already satisfied: dill in /opt/conda/lib/python3.7/site-packages (from datasets) (0.3.5.1)\r\n",
      "Requirement already satisfied: numpy>=1.17 in /opt/conda/lib/python3.7/site-packages (from datasets) (1.21.6)\r\n",
      "Requirement already satisfied: tqdm>=4.62.1 in /opt/conda/lib/python3.7/site-packages (from datasets) (4.64.0)\r\n",
      "Requirement already satisfied: xxhash in /opt/conda/lib/python3.7/site-packages (from datasets) (3.0.0)\r\n",
      "Requirement already satisfied: aiohttp in /opt/conda/lib/python3.7/site-packages (from datasets) (3.8.1)\r\n",
      "Requirement already satisfied: typing-extensions>=3.7.4.3 in /opt/conda/lib/python3.7/site-packages (from huggingface-hub<1.0.0,>=0.1.0->datasets) (4.2.0)\r\n",
      "Requirement already satisfied: filelock in /opt/conda/lib/python3.7/site-packages (from huggingface-hub<1.0.0,>=0.1.0->datasets) (3.6.0)\r\n",
      "Requirement already satisfied: pyyaml in /opt/conda/lib/python3.7/site-packages (from huggingface-hub<1.0.0,>=0.1.0->datasets) (6.0)\r\n",
      "Requirement already satisfied: pyparsing!=3.0.5,>=2.0.2 in /opt/conda/lib/python3.7/site-packages (from packaging->datasets) (3.0.9)\r\n",
      "Requirement already satisfied: urllib3<1.27,>=1.21.1 in /opt/conda/lib/python3.7/site-packages (from requests>=2.19.0->datasets) (1.26.9)\r\n",
      "Requirement already satisfied: certifi>=2017.4.17 in /opt/conda/lib/python3.7/site-packages (from requests>=2.19.0->datasets) (2022.5.18.1)\r\n",
      "Requirement already satisfied: charset-normalizer~=2.0.0 in /opt/conda/lib/python3.7/site-packages (from requests>=2.19.0->datasets) (2.0.12)\r\n",
      "Requirement already satisfied: idna<4,>=2.5 in /opt/conda/lib/python3.7/site-packages (from requests>=2.19.0->datasets) (3.3)\r\n",
      "Requirement already satisfied: attrs>=17.3.0 in /opt/conda/lib/python3.7/site-packages (from aiohttp->datasets) (21.4.0)\r\n",
      "Requirement already satisfied: aiosignal>=1.1.2 in /opt/conda/lib/python3.7/site-packages (from aiohttp->datasets) (1.2.0)\r\n",
      "Requirement already satisfied: asynctest==0.13.0 in /opt/conda/lib/python3.7/site-packages (from aiohttp->datasets) (0.13.0)\r\n",
      "Requirement already satisfied: frozenlist>=1.1.1 in /opt/conda/lib/python3.7/site-packages (from aiohttp->datasets) (1.3.0)\r\n",
      "Requirement already satisfied: yarl<2.0,>=1.0 in /opt/conda/lib/python3.7/site-packages (from aiohttp->datasets) (1.7.2)\r\n",
      "Requirement already satisfied: async-timeout<5.0,>=4.0.0a3 in /opt/conda/lib/python3.7/site-packages (from aiohttp->datasets) (4.0.2)\r\n",
      "Requirement already satisfied: multidict<7.0,>=4.5 in /opt/conda/lib/python3.7/site-packages (from aiohttp->datasets) (6.0.2)\r\n",
      "Requirement already satisfied: zipp>=0.5 in /opt/conda/lib/python3.7/site-packages (from importlib-metadata->datasets) (3.8.0)\r\n",
      "Requirement already satisfied: python-dateutil>=2.7.3 in /opt/conda/lib/python3.7/site-packages (from pandas->datasets) (2.8.2)\r\n",
      "Requirement already satisfied: pytz>=2017.3 in /opt/conda/lib/python3.7/site-packages (from pandas->datasets) (2022.1)\r\n",
      "Requirement already satisfied: six>=1.5 in /opt/conda/lib/python3.7/site-packages (from python-dateutil>=2.7.3->pandas->datasets) (1.16.0)\r\n",
      "\u001b[33mWARNING: Running pip as the 'root' user can result in broken permissions and conflicting behaviour with the system package manager. It is recommended to use a virtual environment instead: https://pip.pypa.io/warnings/venv\u001b[0m\u001b[33m\r\n",
      "\u001b[0m\u001b[31mERROR: pip's dependency resolver does not currently take into account all the packages that are installed. This behaviour is the source of the following dependency conflicts.\r\n",
      "allennlp 2.9.3 requires transformers<4.19,>=4.1, but you have transformers 4.19.2 which is incompatible.\u001b[0m\u001b[31m\r\n",
      "\u001b[0m"
     ]
    }
   ],
   "source": [
    "if iskaggle: \n",
    "    path = Path('../input/womens-ecommerce-clothing-reviews')\n",
    "    !pip install datasets\n",
    "    !pip install transformers -Uqqq"
   ]
  },
  {
   "cell_type": "code",
   "execution_count": 11,
   "id": "c977b864",
   "metadata": {
    "execution": {
     "iopub.execute_input": "2022-06-02T18:54:11.940558Z",
     "iopub.status.busy": "2022-06-02T18:54:11.940175Z",
     "iopub.status.idle": "2022-06-02T18:54:12.627151Z",
     "shell.execute_reply": "2022-06-02T18:54:12.626011Z"
    },
    "hidden": true,
    "papermill": {
     "duration": 0.711395,
     "end_time": "2022-06-02T18:54:12.629146",
     "exception": false,
     "start_time": "2022-06-02T18:54:11.917751",
     "status": "completed"
    },
    "tags": []
   },
   "outputs": [
    {
     "name": "stdout",
     "output_type": "stream",
     "text": [
      "'Womens Clothing E-Commerce Reviews.csv'\r\n"
     ]
    }
   ],
   "source": [
    "!ls {path}"
   ]
  },
  {
   "cell_type": "code",
   "execution_count": 12,
   "id": "0efd0fc6",
   "metadata": {
    "execution": {
     "iopub.execute_input": "2022-06-02T18:54:12.675141Z",
     "iopub.status.busy": "2022-06-02T18:54:12.674784Z",
     "iopub.status.idle": "2022-06-02T18:54:12.680533Z",
     "shell.execute_reply": "2022-06-02T18:54:12.679719Z"
    },
    "hidden": true,
    "papermill": {
     "duration": 0.031447,
     "end_time": "2022-06-02T18:54:12.682429",
     "exception": false,
     "start_time": "2022-06-02T18:54:12.650982",
     "status": "completed"
    },
    "tags": []
   },
   "outputs": [],
   "source": [
    "csv_file = path.ls()[0]"
   ]
  },
  {
   "cell_type": "code",
   "execution_count": 13,
   "id": "368159b3",
   "metadata": {
    "execution": {
     "iopub.execute_input": "2022-06-02T18:54:12.725242Z",
     "iopub.status.busy": "2022-06-02T18:54:12.724622Z",
     "iopub.status.idle": "2022-06-02T18:54:12.921539Z",
     "shell.execute_reply": "2022-06-02T18:54:12.920709Z"
    },
    "hidden": true,
    "papermill": {
     "duration": 0.220671,
     "end_time": "2022-06-02T18:54:12.923971",
     "exception": false,
     "start_time": "2022-06-02T18:54:12.703300",
     "status": "completed"
    },
    "tags": []
   },
   "outputs": [],
   "source": [
    "df = pd.read_csv(csv_file)"
   ]
  },
  {
   "cell_type": "code",
   "execution_count": 14,
   "id": "e61aed4d",
   "metadata": {
    "execution": {
     "iopub.execute_input": "2022-06-02T18:54:12.967469Z",
     "iopub.status.busy": "2022-06-02T18:54:12.967162Z",
     "iopub.status.idle": "2022-06-02T18:54:12.974523Z",
     "shell.execute_reply": "2022-06-02T18:54:12.973676Z"
    },
    "hidden": true,
    "papermill": {
     "duration": 0.032036,
     "end_time": "2022-06-02T18:54:12.977594",
     "exception": false,
     "start_time": "2022-06-02T18:54:12.945558",
     "status": "completed"
    },
    "tags": []
   },
   "outputs": [
    {
     "data": {
      "text/plain": [
       "23486"
      ]
     },
     "execution_count": 14,
     "metadata": {},
     "output_type": "execute_result"
    }
   ],
   "source": [
    "len(df)"
   ]
  },
  {
   "cell_type": "code",
   "execution_count": 15,
   "id": "a4f482d2",
   "metadata": {
    "execution": {
     "iopub.execute_input": "2022-06-02T18:54:13.020851Z",
     "iopub.status.busy": "2022-06-02T18:54:13.020555Z",
     "iopub.status.idle": "2022-06-02T18:54:13.037085Z",
     "shell.execute_reply": "2022-06-02T18:54:13.036070Z"
    },
    "hidden": true,
    "papermill": {
     "duration": 0.040544,
     "end_time": "2022-06-02T18:54:13.039178",
     "exception": false,
     "start_time": "2022-06-02T18:54:12.998634",
     "status": "completed"
    },
    "tags": []
   },
   "outputs": [
    {
     "data": {
      "text/html": [
       "<div>\n",
       "<style scoped>\n",
       "    .dataframe tbody tr th:only-of-type {\n",
       "        vertical-align: middle;\n",
       "    }\n",
       "\n",
       "    .dataframe tbody tr th {\n",
       "        vertical-align: top;\n",
       "    }\n",
       "\n",
       "    .dataframe thead th {\n",
       "        text-align: right;\n",
       "    }\n",
       "</style>\n",
       "<table border=\"1\" class=\"dataframe\">\n",
       "  <thead>\n",
       "    <tr style=\"text-align: right;\">\n",
       "      <th></th>\n",
       "      <th>Unnamed: 0</th>\n",
       "      <th>Clothing ID</th>\n",
       "      <th>Age</th>\n",
       "      <th>Title</th>\n",
       "      <th>Review Text</th>\n",
       "      <th>Rating</th>\n",
       "      <th>Recommended IND</th>\n",
       "      <th>Positive Feedback Count</th>\n",
       "      <th>Division Name</th>\n",
       "      <th>Department Name</th>\n",
       "      <th>Class Name</th>\n",
       "    </tr>\n",
       "  </thead>\n",
       "  <tbody>\n",
       "    <tr>\n",
       "      <th>0</th>\n",
       "      <td>0</td>\n",
       "      <td>767</td>\n",
       "      <td>33</td>\n",
       "      <td>NaN</td>\n",
       "      <td>Absolutely wonderful - silky and sexy and comf...</td>\n",
       "      <td>4</td>\n",
       "      <td>1</td>\n",
       "      <td>0</td>\n",
       "      <td>Initmates</td>\n",
       "      <td>Intimate</td>\n",
       "      <td>Intimates</td>\n",
       "    </tr>\n",
       "    <tr>\n",
       "      <th>1</th>\n",
       "      <td>1</td>\n",
       "      <td>1080</td>\n",
       "      <td>34</td>\n",
       "      <td>NaN</td>\n",
       "      <td>Love this dress!  it's sooo pretty.  i happene...</td>\n",
       "      <td>5</td>\n",
       "      <td>1</td>\n",
       "      <td>4</td>\n",
       "      <td>General</td>\n",
       "      <td>Dresses</td>\n",
       "      <td>Dresses</td>\n",
       "    </tr>\n",
       "  </tbody>\n",
       "</table>\n",
       "</div>"
      ],
      "text/plain": [
       "   Unnamed: 0  Clothing ID  Age Title  \\\n",
       "0           0          767   33   NaN   \n",
       "1           1         1080   34   NaN   \n",
       "\n",
       "                                         Review Text  Rating  Recommended IND  \\\n",
       "0  Absolutely wonderful - silky and sexy and comf...       4                1   \n",
       "1  Love this dress!  it's sooo pretty.  i happene...       5                1   \n",
       "\n",
       "   Positive Feedback Count Division Name Department Name Class Name  \n",
       "0                        0     Initmates        Intimate  Intimates  \n",
       "1                        4       General         Dresses    Dresses  "
      ]
     },
     "execution_count": 15,
     "metadata": {},
     "output_type": "execute_result"
    }
   ],
   "source": [
    "df.head(2)"
   ]
  },
  {
   "cell_type": "code",
   "execution_count": 16,
   "id": "e4b26733",
   "metadata": {
    "execution": {
     "iopub.execute_input": "2022-06-02T18:54:13.083004Z",
     "iopub.status.busy": "2022-06-02T18:54:13.082696Z",
     "iopub.status.idle": "2022-06-02T18:54:13.176073Z",
     "shell.execute_reply": "2022-06-02T18:54:13.175180Z"
    },
    "hidden": true,
    "papermill": {
     "duration": 0.11715,
     "end_time": "2022-06-02T18:54:13.177985",
     "exception": false,
     "start_time": "2022-06-02T18:54:13.060835",
     "status": "completed"
    },
    "tags": []
   },
   "outputs": [
    {
     "data": {
      "text/html": [
       "<div>\n",
       "<style scoped>\n",
       "    .dataframe tbody tr th:only-of-type {\n",
       "        vertical-align: middle;\n",
       "    }\n",
       "\n",
       "    .dataframe tbody tr th {\n",
       "        vertical-align: top;\n",
       "    }\n",
       "\n",
       "    .dataframe thead th {\n",
       "        text-align: right;\n",
       "    }\n",
       "</style>\n",
       "<table border=\"1\" class=\"dataframe\">\n",
       "  <thead>\n",
       "    <tr style=\"text-align: right;\">\n",
       "      <th></th>\n",
       "      <th>Unnamed: 0</th>\n",
       "      <th>Clothing ID</th>\n",
       "      <th>Age</th>\n",
       "      <th>Title</th>\n",
       "      <th>Review Text</th>\n",
       "      <th>Rating</th>\n",
       "      <th>Recommended IND</th>\n",
       "      <th>Positive Feedback Count</th>\n",
       "      <th>Division Name</th>\n",
       "      <th>Department Name</th>\n",
       "      <th>Class Name</th>\n",
       "    </tr>\n",
       "  </thead>\n",
       "  <tbody>\n",
       "    <tr>\n",
       "      <th>count</th>\n",
       "      <td>23486.000000</td>\n",
       "      <td>23486.000000</td>\n",
       "      <td>23486.000000</td>\n",
       "      <td>19676</td>\n",
       "      <td>22641</td>\n",
       "      <td>23486.000000</td>\n",
       "      <td>23486.000000</td>\n",
       "      <td>23486.000000</td>\n",
       "      <td>23472</td>\n",
       "      <td>23472</td>\n",
       "      <td>23472</td>\n",
       "    </tr>\n",
       "    <tr>\n",
       "      <th>unique</th>\n",
       "      <td>NaN</td>\n",
       "      <td>NaN</td>\n",
       "      <td>NaN</td>\n",
       "      <td>13993</td>\n",
       "      <td>22634</td>\n",
       "      <td>NaN</td>\n",
       "      <td>NaN</td>\n",
       "      <td>NaN</td>\n",
       "      <td>3</td>\n",
       "      <td>6</td>\n",
       "      <td>20</td>\n",
       "    </tr>\n",
       "    <tr>\n",
       "      <th>top</th>\n",
       "      <td>NaN</td>\n",
       "      <td>NaN</td>\n",
       "      <td>NaN</td>\n",
       "      <td>Love it!</td>\n",
       "      <td>Perfect fit and i've gotten so many compliment...</td>\n",
       "      <td>NaN</td>\n",
       "      <td>NaN</td>\n",
       "      <td>NaN</td>\n",
       "      <td>General</td>\n",
       "      <td>Tops</td>\n",
       "      <td>Dresses</td>\n",
       "    </tr>\n",
       "    <tr>\n",
       "      <th>freq</th>\n",
       "      <td>NaN</td>\n",
       "      <td>NaN</td>\n",
       "      <td>NaN</td>\n",
       "      <td>136</td>\n",
       "      <td>3</td>\n",
       "      <td>NaN</td>\n",
       "      <td>NaN</td>\n",
       "      <td>NaN</td>\n",
       "      <td>13850</td>\n",
       "      <td>10468</td>\n",
       "      <td>6319</td>\n",
       "    </tr>\n",
       "    <tr>\n",
       "      <th>mean</th>\n",
       "      <td>11742.500000</td>\n",
       "      <td>918.118709</td>\n",
       "      <td>43.198544</td>\n",
       "      <td>NaN</td>\n",
       "      <td>NaN</td>\n",
       "      <td>4.196032</td>\n",
       "      <td>0.822362</td>\n",
       "      <td>2.535936</td>\n",
       "      <td>NaN</td>\n",
       "      <td>NaN</td>\n",
       "      <td>NaN</td>\n",
       "    </tr>\n",
       "    <tr>\n",
       "      <th>std</th>\n",
       "      <td>6779.968547</td>\n",
       "      <td>203.298980</td>\n",
       "      <td>12.279544</td>\n",
       "      <td>NaN</td>\n",
       "      <td>NaN</td>\n",
       "      <td>1.110031</td>\n",
       "      <td>0.382216</td>\n",
       "      <td>5.702202</td>\n",
       "      <td>NaN</td>\n",
       "      <td>NaN</td>\n",
       "      <td>NaN</td>\n",
       "    </tr>\n",
       "    <tr>\n",
       "      <th>min</th>\n",
       "      <td>0.000000</td>\n",
       "      <td>0.000000</td>\n",
       "      <td>18.000000</td>\n",
       "      <td>NaN</td>\n",
       "      <td>NaN</td>\n",
       "      <td>1.000000</td>\n",
       "      <td>0.000000</td>\n",
       "      <td>0.000000</td>\n",
       "      <td>NaN</td>\n",
       "      <td>NaN</td>\n",
       "      <td>NaN</td>\n",
       "    </tr>\n",
       "    <tr>\n",
       "      <th>25%</th>\n",
       "      <td>5871.250000</td>\n",
       "      <td>861.000000</td>\n",
       "      <td>34.000000</td>\n",
       "      <td>NaN</td>\n",
       "      <td>NaN</td>\n",
       "      <td>4.000000</td>\n",
       "      <td>1.000000</td>\n",
       "      <td>0.000000</td>\n",
       "      <td>NaN</td>\n",
       "      <td>NaN</td>\n",
       "      <td>NaN</td>\n",
       "    </tr>\n",
       "    <tr>\n",
       "      <th>50%</th>\n",
       "      <td>11742.500000</td>\n",
       "      <td>936.000000</td>\n",
       "      <td>41.000000</td>\n",
       "      <td>NaN</td>\n",
       "      <td>NaN</td>\n",
       "      <td>5.000000</td>\n",
       "      <td>1.000000</td>\n",
       "      <td>1.000000</td>\n",
       "      <td>NaN</td>\n",
       "      <td>NaN</td>\n",
       "      <td>NaN</td>\n",
       "    </tr>\n",
       "    <tr>\n",
       "      <th>75%</th>\n",
       "      <td>17613.750000</td>\n",
       "      <td>1078.000000</td>\n",
       "      <td>52.000000</td>\n",
       "      <td>NaN</td>\n",
       "      <td>NaN</td>\n",
       "      <td>5.000000</td>\n",
       "      <td>1.000000</td>\n",
       "      <td>3.000000</td>\n",
       "      <td>NaN</td>\n",
       "      <td>NaN</td>\n",
       "      <td>NaN</td>\n",
       "    </tr>\n",
       "    <tr>\n",
       "      <th>max</th>\n",
       "      <td>23485.000000</td>\n",
       "      <td>1205.000000</td>\n",
       "      <td>99.000000</td>\n",
       "      <td>NaN</td>\n",
       "      <td>NaN</td>\n",
       "      <td>5.000000</td>\n",
       "      <td>1.000000</td>\n",
       "      <td>122.000000</td>\n",
       "      <td>NaN</td>\n",
       "      <td>NaN</td>\n",
       "      <td>NaN</td>\n",
       "    </tr>\n",
       "  </tbody>\n",
       "</table>\n",
       "</div>"
      ],
      "text/plain": [
       "          Unnamed: 0   Clothing ID           Age     Title  \\\n",
       "count   23486.000000  23486.000000  23486.000000     19676   \n",
       "unique           NaN           NaN           NaN     13993   \n",
       "top              NaN           NaN           NaN  Love it!   \n",
       "freq             NaN           NaN           NaN       136   \n",
       "mean    11742.500000    918.118709     43.198544       NaN   \n",
       "std      6779.968547    203.298980     12.279544       NaN   \n",
       "min         0.000000      0.000000     18.000000       NaN   \n",
       "25%      5871.250000    861.000000     34.000000       NaN   \n",
       "50%     11742.500000    936.000000     41.000000       NaN   \n",
       "75%     17613.750000   1078.000000     52.000000       NaN   \n",
       "max     23485.000000   1205.000000     99.000000       NaN   \n",
       "\n",
       "                                              Review Text        Rating  \\\n",
       "count                                               22641  23486.000000   \n",
       "unique                                              22634           NaN   \n",
       "top     Perfect fit and i've gotten so many compliment...           NaN   \n",
       "freq                                                    3           NaN   \n",
       "mean                                                  NaN      4.196032   \n",
       "std                                                   NaN      1.110031   \n",
       "min                                                   NaN      1.000000   \n",
       "25%                                                   NaN      4.000000   \n",
       "50%                                                   NaN      5.000000   \n",
       "75%                                                   NaN      5.000000   \n",
       "max                                                   NaN      5.000000   \n",
       "\n",
       "        Recommended IND  Positive Feedback Count Division Name  \\\n",
       "count      23486.000000             23486.000000         23472   \n",
       "unique              NaN                      NaN             3   \n",
       "top                 NaN                      NaN       General   \n",
       "freq                NaN                      NaN         13850   \n",
       "mean           0.822362                 2.535936           NaN   \n",
       "std            0.382216                 5.702202           NaN   \n",
       "min            0.000000                 0.000000           NaN   \n",
       "25%            1.000000                 0.000000           NaN   \n",
       "50%            1.000000                 1.000000           NaN   \n",
       "75%            1.000000                 3.000000           NaN   \n",
       "max            1.000000               122.000000           NaN   \n",
       "\n",
       "       Department Name Class Name  \n",
       "count            23472      23472  \n",
       "unique               6         20  \n",
       "top               Tops    Dresses  \n",
       "freq             10468       6319  \n",
       "mean               NaN        NaN  \n",
       "std                NaN        NaN  \n",
       "min                NaN        NaN  \n",
       "25%                NaN        NaN  \n",
       "50%                NaN        NaN  \n",
       "75%                NaN        NaN  \n",
       "max                NaN        NaN  "
      ]
     },
     "execution_count": 16,
     "metadata": {},
     "output_type": "execute_result"
    }
   ],
   "source": [
    "df.describe(include=['object', 'int'])"
   ]
  },
  {
   "cell_type": "code",
   "execution_count": 17,
   "id": "cfbe482b",
   "metadata": {
    "execution": {
     "iopub.execute_input": "2022-06-02T18:54:13.223590Z",
     "iopub.status.busy": "2022-06-02T18:54:13.222904Z",
     "iopub.status.idle": "2022-06-02T18:54:13.228986Z",
     "shell.execute_reply": "2022-06-02T18:54:13.228151Z"
    },
    "hidden": true,
    "papermill": {
     "duration": 0.030486,
     "end_time": "2022-06-02T18:54:13.230792",
     "exception": false,
     "start_time": "2022-06-02T18:54:13.200306",
     "status": "completed"
    },
    "tags": []
   },
   "outputs": [
    {
     "data": {
      "text/plain": [
       "Index(['Unnamed: 0', 'Clothing ID', 'Age', 'Title', 'Review Text', 'Rating',\n",
       "       'Recommended IND', 'Positive Feedback Count', 'Division Name',\n",
       "       'Department Name', 'Class Name'],\n",
       "      dtype='object')"
      ]
     },
     "execution_count": 17,
     "metadata": {},
     "output_type": "execute_result"
    }
   ],
   "source": [
    "df.columns"
   ]
  },
  {
   "cell_type": "code",
   "execution_count": 18,
   "id": "58376d1e",
   "metadata": {
    "execution": {
     "iopub.execute_input": "2022-06-02T18:54:13.276282Z",
     "iopub.status.busy": "2022-06-02T18:54:13.275951Z",
     "iopub.status.idle": "2022-06-02T18:54:13.282284Z",
     "shell.execute_reply": "2022-06-02T18:54:13.281564Z"
    },
    "hidden": true,
    "papermill": {
     "duration": 0.031285,
     "end_time": "2022-06-02T18:54:13.284034",
     "exception": false,
     "start_time": "2022-06-02T18:54:13.252749",
     "status": "completed"
    },
    "tags": []
   },
   "outputs": [
    {
     "data": {
      "text/plain": [
       "Unnamed: 0                  int64\n",
       "Clothing ID                 int64\n",
       "Age                         int64\n",
       "Title                      object\n",
       "Review Text                object\n",
       "Rating                      int64\n",
       "Recommended IND             int64\n",
       "Positive Feedback Count     int64\n",
       "Division Name              object\n",
       "Department Name            object\n",
       "Class Name                 object\n",
       "dtype: object"
      ]
     },
     "execution_count": 18,
     "metadata": {},
     "output_type": "execute_result"
    }
   ],
   "source": [
    "df.dtypes"
   ]
  },
  {
   "cell_type": "code",
   "execution_count": 19,
   "id": "02ea8dcb",
   "metadata": {
    "execution": {
     "iopub.execute_input": "2022-06-02T18:54:13.328693Z",
     "iopub.status.busy": "2022-06-02T18:54:13.327974Z",
     "iopub.status.idle": "2022-06-02T18:54:13.332233Z",
     "shell.execute_reply": "2022-06-02T18:54:13.331407Z"
    },
    "hidden": true,
    "papermill": {
     "duration": 0.028403,
     "end_time": "2022-06-02T18:54:13.334017",
     "exception": false,
     "start_time": "2022-06-02T18:54:13.305614",
     "status": "completed"
    },
    "tags": []
   },
   "outputs": [],
   "source": [
    "cat = ['Division Name', 'Department Name', 'Class Name']\n",
    "cont = ['Age', 'Rating', 'Positive Feedback Count']"
   ]
  },
  {
   "cell_type": "code",
   "execution_count": 20,
   "id": "58569ece",
   "metadata": {
    "execution": {
     "iopub.execute_input": "2022-06-02T18:54:13.378890Z",
     "iopub.status.busy": "2022-06-02T18:54:13.378620Z",
     "iopub.status.idle": "2022-06-02T18:54:13.386010Z",
     "shell.execute_reply": "2022-06-02T18:54:13.385061Z"
    },
    "hidden": true,
    "papermill": {
     "duration": 0.032526,
     "end_time": "2022-06-02T18:54:13.388010",
     "exception": false,
     "start_time": "2022-06-02T18:54:13.355484",
     "status": "completed"
    },
    "tags": []
   },
   "outputs": [
    {
     "data": {
      "text/plain": [
       "1    19314\n",
       "0     4172\n",
       "Name: Recommended IND, dtype: int64"
      ]
     },
     "execution_count": 20,
     "metadata": {},
     "output_type": "execute_result"
    }
   ],
   "source": [
    "df['Recommended IND'].value_counts()"
   ]
  },
  {
   "cell_type": "code",
   "execution_count": 21,
   "id": "9e72414f",
   "metadata": {
    "execution": {
     "iopub.execute_input": "2022-06-02T18:54:13.433041Z",
     "iopub.status.busy": "2022-06-02T18:54:13.432412Z",
     "iopub.status.idle": "2022-06-02T18:54:13.677053Z",
     "shell.execute_reply": "2022-06-02T18:54:13.676192Z"
    },
    "hidden": true,
    "papermill": {
     "duration": 0.269386,
     "end_time": "2022-06-02T18:54:13.678992",
     "exception": false,
     "start_time": "2022-06-02T18:54:13.409606",
     "status": "completed"
    },
    "tags": []
   },
   "outputs": [
    {
     "data": {
      "text/plain": [
       "<AxesSubplot:>"
      ]
     },
     "execution_count": 21,
     "metadata": {},
     "output_type": "execute_result"
    },
    {
     "data": {
      "image/png": "[encoded data removed]",
      "text/plain": [
       "<Figure size 432x288 with 1 Axes>"
      ]
     },
     "metadata": {
      "needs_background": "light"
     },
     "output_type": "display_data"
    }
   ],
   "source": [
    "df['Recommended IND'].hist()"
   ]
  },
  {
   "cell_type": "code",
   "execution_count": 22,
   "id": "df3135c9",
   "metadata": {
    "execution": {
     "iopub.execute_input": "2022-06-02T18:54:13.725335Z",
     "iopub.status.busy": "2022-06-02T18:54:13.725043Z",
     "iopub.status.idle": "2022-06-02T18:54:13.909893Z",
     "shell.execute_reply": "2022-06-02T18:54:13.909141Z"
    },
    "hidden": true,
    "papermill": {
     "duration": 0.209694,
     "end_time": "2022-06-02T18:54:13.911850",
     "exception": false,
     "start_time": "2022-06-02T18:54:13.702156",
     "status": "completed"
    },
    "tags": []
   },
   "outputs": [
    {
     "data": {
      "text/plain": [
       "<AxesSubplot:>"
      ]
     },
     "execution_count": 22,
     "metadata": {},
     "output_type": "execute_result"
    },
    {
     "data": {
      "image/png": "[encoded data removed]",
      "text/plain": [
       "<Figure size 432x288 with 1 Axes>"
      ]
     },
     "metadata": {
      "needs_background": "light"
     },
     "output_type": "display_data"
    }
   ],
   "source": [
    "df['Division Name'].hist()"
   ]
  },
  {
   "cell_type": "code",
   "execution_count": 23,
   "id": "f9693200",
   "metadata": {
    "execution": {
     "iopub.execute_input": "2022-06-02T18:54:13.957550Z",
     "iopub.status.busy": "2022-06-02T18:54:13.957207Z",
     "iopub.status.idle": "2022-06-02T18:54:14.146298Z",
     "shell.execute_reply": "2022-06-02T18:54:14.145353Z"
    },
    "hidden": true,
    "papermill": {
     "duration": 0.214302,
     "end_time": "2022-06-02T18:54:14.148338",
     "exception": false,
     "start_time": "2022-06-02T18:54:13.934036",
     "status": "completed"
    },
    "tags": []
   },
   "outputs": [
    {
     "data": {
      "text/plain": [
       "<AxesSubplot:>"
      ]
     },
     "execution_count": 23,
     "metadata": {},
     "output_type": "execute_result"
    },
    {
     "data": {
      "image/png": "[encoded data removed]",
      "text/plain": [
       "<Figure size 432x288 with 1 Axes>"
      ]
     },
     "metadata": {
      "needs_background": "light"
     },
     "output_type": "display_data"
    }
   ],
   "source": [
    "df['Department Name'].hist()"
   ]
  },
  {
   "cell_type": "code",
   "execution_count": 24,
   "id": "5a3bc678",
   "metadata": {
    "execution": {
     "iopub.execute_input": "2022-06-02T18:54:14.196737Z",
     "iopub.status.busy": "2022-06-02T18:54:14.196386Z",
     "iopub.status.idle": "2022-06-02T18:54:14.207535Z",
     "shell.execute_reply": "2022-06-02T18:54:14.206705Z"
    },
    "hidden": true,
    "papermill": {
     "duration": 0.037407,
     "end_time": "2022-06-02T18:54:14.209319",
     "exception": false,
     "start_time": "2022-06-02T18:54:14.171912",
     "status": "completed"
    },
    "tags": []
   },
   "outputs": [
    {
     "data": {
      "text/plain": [
       "(20,\n",
       " Dresses           6319\n",
       " Knits             4843\n",
       " Blouses           3097\n",
       " Sweaters          1428\n",
       " Pants             1388\n",
       " Jeans             1147\n",
       " Fine gauge        1100\n",
       " Skirts             945\n",
       " Jackets            704\n",
       " Lounge             691\n",
       " Swim               350\n",
       " Outerwear          328\n",
       " Shorts             317\n",
       " Sleep              228\n",
       " Legwear            165\n",
       " Intimates          154\n",
       " Layering           146\n",
       " Trend              119\n",
       " Casual bottoms       2\n",
       " Chemises             1\n",
       " Name: Class Name, dtype: int64)"
      ]
     },
     "execution_count": 24,
     "metadata": {},
     "output_type": "execute_result"
    }
   ],
   "source": [
    "df['Class Name'].nunique(), df['Class Name'].value_counts()"
   ]
  },
  {
   "cell_type": "markdown",
   "id": "db89a3c2",
   "metadata": {
    "hidden": true,
    "papermill": {
     "duration": 0.023049,
     "end_time": "2022-06-02T18:54:14.255356",
     "exception": false,
     "start_time": "2022-06-02T18:54:14.232307",
     "status": "completed"
    },
    "tags": []
   },
   "source": [
    "## Missing Values"
   ]
  },
  {
   "cell_type": "code",
   "execution_count": 25,
   "id": "ae042986",
   "metadata": {
    "execution": {
     "iopub.execute_input": "2022-06-02T18:54:14.304058Z",
     "iopub.status.busy": "2022-06-02T18:54:14.303303Z",
     "iopub.status.idle": "2022-06-02T18:54:14.325114Z",
     "shell.execute_reply": "2022-06-02T18:54:14.324387Z"
    },
    "hidden": true,
    "papermill": {
     "duration": 0.04822,
     "end_time": "2022-06-02T18:54:14.327022",
     "exception": false,
     "start_time": "2022-06-02T18:54:14.278802",
     "status": "completed"
    },
    "tags": []
   },
   "outputs": [
    {
     "data": {
      "text/plain": [
       "Unnamed: 0                    0\n",
       "Clothing ID                   0\n",
       "Age                           0\n",
       "Title                      3810\n",
       "Review Text                 845\n",
       "Rating                        0\n",
       "Recommended IND               0\n",
       "Positive Feedback Count       0\n",
       "Division Name                14\n",
       "Department Name              14\n",
       "Class Name                   14\n",
       "dtype: int64"
      ]
     },
     "execution_count": 25,
     "metadata": {},
     "output_type": "execute_result"
    }
   ],
   "source": [
    "df.isna().sum()"
   ]
  },
  {
   "cell_type": "markdown",
   "id": "1bd0baa5",
   "metadata": {
    "hidden": true,
    "papermill": {
     "duration": 0.023373,
     "end_time": "2022-06-02T18:54:14.374085",
     "exception": false,
     "start_time": "2022-06-02T18:54:14.350712",
     "status": "completed"
    },
    "tags": []
   },
   "source": [
    "Fill the missing values in 'Title' and 'Review Text' with empty spaces."
   ]
  },
  {
   "cell_type": "code",
   "execution_count": 26,
   "id": "4d3f21d8",
   "metadata": {
    "execution": {
     "iopub.execute_input": "2022-06-02T18:54:14.421628Z",
     "iopub.status.busy": "2022-06-02T18:54:14.421250Z",
     "iopub.status.idle": "2022-06-02T18:54:14.434179Z",
     "shell.execute_reply": "2022-06-02T18:54:14.433511Z"
    },
    "hidden": true,
    "papermill": {
     "duration": 0.038815,
     "end_time": "2022-06-02T18:54:14.436066",
     "exception": false,
     "start_time": "2022-06-02T18:54:14.397251",
     "status": "completed"
    },
    "tags": []
   },
   "outputs": [],
   "source": [
    "df['Title'].fillna('', inplace=True)\n",
    "df['Review Text'].fillna('', inplace=True)"
   ]
  },
  {
   "cell_type": "markdown",
   "id": "e4700f0c",
   "metadata": {
    "papermill": {
     "duration": 0.022663,
     "end_time": "2022-06-02T18:54:14.482053",
     "exception": false,
     "start_time": "2022-06-02T18:54:14.459390",
     "status": "completed"
    },
    "tags": []
   },
   "source": [
    "# Tokenization and Numericalization"
   ]
  },
  {
   "cell_type": "markdown",
   "id": "95114325",
   "metadata": {
    "papermill": {
     "duration": 0.022853,
     "end_time": "2022-06-02T18:54:14.527766",
     "exception": false,
     "start_time": "2022-06-02T18:54:14.504913",
     "status": "completed"
    },
    "tags": []
   },
   "source": [
    "We need to perform the two operations \n",
    "- Tokenization:  tranform the input to a individual symbols (tokens)\n",
    "- Numericalization: convert the inidivudla tokens into numbers. "
   ]
  },
  {
   "cell_type": "code",
   "execution_count": 27,
   "id": "6cf88461",
   "metadata": {
    "execution": {
     "iopub.execute_input": "2022-06-02T18:54:14.574996Z",
     "iopub.status.busy": "2022-06-02T18:54:14.574432Z",
     "iopub.status.idle": "2022-06-02T18:54:14.595050Z",
     "shell.execute_reply": "2022-06-02T18:54:14.594132Z"
    },
    "papermill": {
     "duration": 0.046951,
     "end_time": "2022-06-02T18:54:14.597254",
     "exception": false,
     "start_time": "2022-06-02T18:54:14.550303",
     "status": "completed"
    },
    "tags": []
   },
   "outputs": [],
   "source": [
    "df['input'] = 'TITLE: ' + df['Title'] + '; REVIEW: ' + df['Review Text']"
   ]
  },
  {
   "cell_type": "markdown",
   "id": "3c6a791d",
   "metadata": {
    "papermill": {
     "duration": 0.023039,
     "end_time": "2022-06-02T18:54:14.643661",
     "exception": false,
     "start_time": "2022-06-02T18:54:14.620622",
     "status": "completed"
    },
    "tags": []
   },
   "source": [
    "Transformers uses `Dataset` object for storing the datasets."
   ]
  },
  {
   "cell_type": "code",
   "execution_count": 28,
   "id": "e47d101f",
   "metadata": {
    "execution": {
     "iopub.execute_input": "2022-06-02T18:54:14.691111Z",
     "iopub.status.busy": "2022-06-02T18:54:14.690768Z",
     "iopub.status.idle": "2022-06-02T18:54:20.653668Z",
     "shell.execute_reply": "2022-06-02T18:54:20.652883Z"
    },
    "papermill": {
     "duration": 5.989416,
     "end_time": "2022-06-02T18:54:20.656210",
     "exception": false,
     "start_time": "2022-06-02T18:54:14.666794",
     "status": "completed"
    },
    "tags": []
   },
   "outputs": [],
   "source": [
    "from datasets import Dataset, DatasetDict"
   ]
  },
  {
   "cell_type": "code",
   "execution_count": 29,
   "id": "9b252c53",
   "metadata": {
    "execution": {
     "iopub.execute_input": "2022-06-02T18:54:20.704667Z",
     "iopub.status.busy": "2022-06-02T18:54:20.704070Z",
     "iopub.status.idle": "2022-06-02T18:54:20.747734Z",
     "shell.execute_reply": "2022-06-02T18:54:20.746929Z"
    },
    "papermill": {
     "duration": 0.070063,
     "end_time": "2022-06-02T18:54:20.749976",
     "exception": false,
     "start_time": "2022-06-02T18:54:20.679913",
     "status": "completed"
    },
    "tags": []
   },
   "outputs": [],
   "source": [
    "ds = Dataset.from_pandas(df)"
   ]
  },
  {
   "cell_type": "code",
   "execution_count": 30,
   "id": "eed34c47",
   "metadata": {
    "execution": {
     "iopub.execute_input": "2022-06-02T18:54:20.797792Z",
     "iopub.status.busy": "2022-06-02T18:54:20.797457Z",
     "iopub.status.idle": "2022-06-02T18:54:20.802485Z",
     "shell.execute_reply": "2022-06-02T18:54:20.801735Z"
    },
    "papermill": {
     "duration": 0.031004,
     "end_time": "2022-06-02T18:54:20.804263",
     "exception": false,
     "start_time": "2022-06-02T18:54:20.773259",
     "status": "completed"
    },
    "tags": []
   },
   "outputs": [
    {
     "data": {
      "text/plain": [
       "Dataset({\n",
       "    features: ['Unnamed: 0', 'Clothing ID', 'Age', 'Title', 'Review Text', 'Rating', 'Recommended IND', 'Positive Feedback Count', 'Division Name', 'Department Name', 'Class Name', 'input'],\n",
       "    num_rows: 23486\n",
       "})"
      ]
     },
     "execution_count": 30,
     "metadata": {},
     "output_type": "execute_result"
    }
   ],
   "source": [
    "ds"
   ]
  },
  {
   "cell_type": "code",
   "execution_count": 31,
   "id": "e8b96f4a",
   "metadata": {
    "execution": {
     "iopub.execute_input": "2022-06-02T18:54:20.852126Z",
     "iopub.status.busy": "2022-06-02T18:54:20.851486Z",
     "iopub.status.idle": "2022-06-02T18:54:20.856587Z",
     "shell.execute_reply": "2022-06-02T18:54:20.855784Z"
    },
    "papermill": {
     "duration": 0.030948,
     "end_time": "2022-06-02T18:54:20.858350",
     "exception": false,
     "start_time": "2022-06-02T18:54:20.827402",
     "status": "completed"
    },
    "tags": []
   },
   "outputs": [
    {
     "data": {
      "text/plain": [
       "['Age', 'Rating', 'Positive Feedback Count']"
      ]
     },
     "execution_count": 31,
     "metadata": {},
     "output_type": "execute_result"
    }
   ],
   "source": [
    "cont"
   ]
  },
  {
   "cell_type": "code",
   "execution_count": 32,
   "id": "9a578cb9",
   "metadata": {
    "execution": {
     "iopub.execute_input": "2022-06-02T18:54:20.907082Z",
     "iopub.status.busy": "2022-06-02T18:54:20.906764Z",
     "iopub.status.idle": "2022-06-02T18:54:20.910432Z",
     "shell.execute_reply": "2022-06-02T18:54:20.909739Z"
    },
    "papermill": {
     "duration": 0.029983,
     "end_time": "2022-06-02T18:54:20.912180",
     "exception": false,
     "start_time": "2022-06-02T18:54:20.882197",
     "status": "completed"
    },
    "tags": []
   },
   "outputs": [],
   "source": [
    "rm_cols = ['Unnamed: 0', 'Clothing ID'] + cont"
   ]
  },
  {
   "cell_type": "code",
   "execution_count": 33,
   "id": "f709a856",
   "metadata": {
    "execution": {
     "iopub.execute_input": "2022-06-02T18:54:20.959463Z",
     "iopub.status.busy": "2022-06-02T18:54:20.958787Z",
     "iopub.status.idle": "2022-06-02T18:54:20.963929Z",
     "shell.execute_reply": "2022-06-02T18:54:20.963222Z"
    },
    "papermill": {
     "duration": 0.030897,
     "end_time": "2022-06-02T18:54:20.965749",
     "exception": false,
     "start_time": "2022-06-02T18:54:20.934852",
     "status": "completed"
    },
    "tags": []
   },
   "outputs": [
    {
     "data": {
      "text/plain": [
       "['Unnamed: 0', 'Clothing ID', 'Age', 'Rating', 'Positive Feedback Count']"
      ]
     },
     "execution_count": 33,
     "metadata": {},
     "output_type": "execute_result"
    }
   ],
   "source": [
    "rm_cols"
   ]
  },
  {
   "cell_type": "markdown",
   "id": "90c441cf",
   "metadata": {
    "papermill": {
     "duration": 0.023758,
     "end_time": "2022-06-02T18:54:21.013085",
     "exception": false,
     "start_time": "2022-06-02T18:54:20.989327",
     "status": "completed"
    },
    "tags": []
   },
   "source": [
    "Remove the columns that we do not need."
   ]
  },
  {
   "cell_type": "code",
   "execution_count": 34,
   "id": "4c969066",
   "metadata": {
    "execution": {
     "iopub.execute_input": "2022-06-02T18:54:21.061675Z",
     "iopub.status.busy": "2022-06-02T18:54:21.061320Z",
     "iopub.status.idle": "2022-06-02T18:54:21.067860Z",
     "shell.execute_reply": "2022-06-02T18:54:21.067087Z"
    },
    "papermill": {
     "duration": 0.032504,
     "end_time": "2022-06-02T18:54:21.069560",
     "exception": false,
     "start_time": "2022-06-02T18:54:21.037056",
     "status": "completed"
    },
    "tags": []
   },
   "outputs": [],
   "source": [
    "ds = ds.remove_columns(rm_cols)"
   ]
  },
  {
   "cell_type": "markdown",
   "id": "36f360b1",
   "metadata": {
    "papermill": {
     "duration": 0.022755,
     "end_time": "2022-06-02T18:54:21.115176",
     "exception": false,
     "start_time": "2022-06-02T18:54:21.092421",
     "status": "completed"
    },
    "tags": []
   },
   "source": [
    "Transformers library expect the target column to be predicted as 'label' column. So let's rename it."
   ]
  },
  {
   "cell_type": "code",
   "execution_count": 35,
   "id": "4e0b545e",
   "metadata": {
    "execution": {
     "iopub.execute_input": "2022-06-02T18:54:21.162959Z",
     "iopub.status.busy": "2022-06-02T18:54:21.162668Z",
     "iopub.status.idle": "2022-06-02T18:54:21.168823Z",
     "shell.execute_reply": "2022-06-02T18:54:21.168060Z"
    },
    "papermill": {
     "duration": 0.031536,
     "end_time": "2022-06-02T18:54:21.170478",
     "exception": false,
     "start_time": "2022-06-02T18:54:21.138942",
     "status": "completed"
    },
    "tags": []
   },
   "outputs": [],
   "source": [
    "ds = ds.rename_column('Recommended IND', 'labels')"
   ]
  },
  {
   "cell_type": "code",
   "execution_count": 36,
   "id": "c5b2bf02",
   "metadata": {
    "execution": {
     "iopub.execute_input": "2022-06-02T18:54:21.218674Z",
     "iopub.status.busy": "2022-06-02T18:54:21.217970Z",
     "iopub.status.idle": "2022-06-02T18:54:21.223686Z",
     "shell.execute_reply": "2022-06-02T18:54:21.222774Z"
    },
    "papermill": {
     "duration": 0.031959,
     "end_time": "2022-06-02T18:54:21.225485",
     "exception": false,
     "start_time": "2022-06-02T18:54:21.193526",
     "status": "completed"
    },
    "tags": []
   },
   "outputs": [
    {
     "data": {
      "text/plain": [
       "Dataset({\n",
       "    features: ['Title', 'Review Text', 'labels', 'Division Name', 'Department Name', 'Class Name', 'input'],\n",
       "    num_rows: 23486\n",
       "})"
      ]
     },
     "execution_count": 36,
     "metadata": {},
     "output_type": "execute_result"
    }
   ],
   "source": [
    "ds"
   ]
  },
  {
   "cell_type": "markdown",
   "id": "0c192eef",
   "metadata": {
    "papermill": {
     "duration": 0.023394,
     "end_time": "2022-06-02T18:54:21.273221",
     "exception": false,
     "start_time": "2022-06-02T18:54:21.249827",
     "status": "completed"
    },
    "tags": []
   },
   "source": [
    "When using pretrained model from transformers library, tokenization and model are tightly coupled ie we should do the same type of tokenization as the pretrained model.\n",
    "\n",
    "Transformers provide a class `AutoTokenizer` which provides the right tokenizer based on the model name passed."
   ]
  },
  {
   "cell_type": "code",
   "execution_count": 37,
   "id": "07b1e1bf",
   "metadata": {
    "execution": {
     "iopub.execute_input": "2022-06-02T18:54:21.322515Z",
     "iopub.status.busy": "2022-06-02T18:54:21.322139Z",
     "iopub.status.idle": "2022-06-02T18:54:37.767474Z",
     "shell.execute_reply": "2022-06-02T18:54:37.766566Z"
    },
    "papermill": {
     "duration": 16.472567,
     "end_time": "2022-06-02T18:54:37.769639",
     "exception": false,
     "start_time": "2022-06-02T18:54:21.297072",
     "status": "completed"
    },
    "tags": []
   },
   "outputs": [
    {
     "data": {
      "application/vnd.jupyter.widget-view+json": {
       "model_id": "c6ec82d90e88461b9c3c7e9b6fcb7f04",
       "version_major": 2,
       "version_minor": 0
      },
      "text/plain": [
       "Downloading:   0%|          | 0.00/52.0 [00:00<?, ?B/s]"
      ]
     },
     "metadata": {},
     "output_type": "display_data"
    },
    {
     "data": {
      "application/vnd.jupyter.widget-view+json": {
       "model_id": "1251a618e0a94ec0b95477475c45568a",
       "version_major": 2,
       "version_minor": 0
      },
      "text/plain": [
       "Downloading:   0%|          | 0.00/578 [00:00<?, ?B/s]"
      ]
     },
     "metadata": {},
     "output_type": "display_data"
    },
    {
     "data": {
      "application/vnd.jupyter.widget-view+json": {
       "model_id": "c9c7f1e5e9b54b78b98f789df2efbaf1",
       "version_major": 2,
       "version_minor": 0
      },
      "text/plain": [
       "Downloading:   0%|          | 0.00/2.35M [00:00<?, ?B/s]"
      ]
     },
     "metadata": {},
     "output_type": "display_data"
    },
    {
     "name": "stderr",
     "output_type": "stream",
     "text": [
      "Special tokens have been added in the vocabulary, make sure the associated word embeddings are fine-tuned or trained.\n",
      "/opt/conda/lib/python3.7/site-packages/transformers/convert_slow_tokenizer.py:435: UserWarning: The sentencepiece tokenizer that you are converting to a fast tokenizer uses the byte fallback option which is not implemented in the fast tokenizers. In practice this means that the fast version of the tokenizer can produce unknown tokens whereas the sentencepiece version would have converted these unknown tokens into a sequence of byte tokens matching the original piece of text.\n",
      "  \"The sentencepiece tokenizer that you are converting to a fast tokenizer uses the byte fallback option\"\n",
      "Special tokens have been added in the vocabulary, make sure the associated word embeddings are fine-tuned or trained.\n"
     ]
    }
   ],
   "source": [
    "from transformers import AutoTokenizer, AutoModelForSequenceClassification\n",
    "\n",
    "pretrained_model_nm = 'microsoft/deberta-v3-small'\n",
    "tok = AutoTokenizer.from_pretrained(pretrained_model_nm)"
   ]
  },
  {
   "cell_type": "markdown",
   "id": "40bf1df1",
   "metadata": {
    "papermill": {
     "duration": 0.024362,
     "end_time": "2022-06-02T18:54:37.818643",
     "exception": false,
     "start_time": "2022-06-02T18:54:37.794281",
     "status": "completed"
    },
    "tags": []
   },
   "source": [
    "Define a simple function that tokenizes inputs"
   ]
  },
  {
   "cell_type": "code",
   "execution_count": 38,
   "id": "c4645c73",
   "metadata": {
    "execution": {
     "iopub.execute_input": "2022-06-02T18:54:37.869728Z",
     "iopub.status.busy": "2022-06-02T18:54:37.868688Z",
     "iopub.status.idle": "2022-06-02T18:54:37.877975Z",
     "shell.execute_reply": "2022-06-02T18:54:37.877039Z"
    },
    "papermill": {
     "duration": 0.036731,
     "end_time": "2022-06-02T18:54:37.879696",
     "exception": false,
     "start_time": "2022-06-02T18:54:37.842965",
     "status": "completed"
    },
    "tags": []
   },
   "outputs": [
    {
     "data": {
      "text/plain": [
       "'TITLE: ; REVIEW: Absolutely wonderful - silky and sexy and comfortable'"
      ]
     },
     "execution_count": 38,
     "metadata": {},
     "output_type": "execute_result"
    }
   ],
   "source": [
    "ds[0]['input']"
   ]
  },
  {
   "cell_type": "code",
   "execution_count": 39,
   "id": "5eb7bece",
   "metadata": {
    "execution": {
     "iopub.execute_input": "2022-06-02T18:54:37.930748Z",
     "iopub.status.busy": "2022-06-02T18:54:37.929934Z",
     "iopub.status.idle": "2022-06-02T18:54:37.970129Z",
     "shell.execute_reply": "2022-06-02T18:54:37.969264Z"
    },
    "papermill": {
     "duration": 0.067131,
     "end_time": "2022-06-02T18:54:37.971948",
     "exception": false,
     "start_time": "2022-06-02T18:54:37.904817",
     "status": "completed"
    },
    "tags": []
   },
   "outputs": [
    {
     "data": {
      "text/plain": [
       "['TITLE: ; REVIEW: Absolutely wonderful - silky and sexy and comfortable',\n",
       " 'TITLE: ; REVIEW: Love this dress!  it\\'s sooo pretty.  i happened to find it in a store, and i\\'m glad i did bc i never would have ordered it online bc it\\'s petite.  i bought a petite and am 5\\'8\".  i love the length on me- hits just a little below the knee.  would definitely be a true midi on someone who is truly petite.',\n",
       " 'TITLE: Some major design flaws; REVIEW: I had such high hopes for this dress and really wanted it to work for me. i initially ordered the petite small (my usual size) but i found this to be outrageously small. so small in fact that i could not zip it up! i reordered it in petite medium, which was just ok. overall, the top half was comfortable and fit nicely, but the bottom half had a very tight under layer and several somewhat cheap (net) over layers. imo, a major design flaw was the net over layer sewn directly into the zipper - it c']"
      ]
     },
     "execution_count": 39,
     "metadata": {},
     "output_type": "execute_result"
    }
   ],
   "source": [
    "ds['input'][:3]"
   ]
  },
  {
   "cell_type": "code",
   "execution_count": 40,
   "id": "b6cc5eba",
   "metadata": {
    "execution": {
     "iopub.execute_input": "2022-06-02T18:54:38.022271Z",
     "iopub.status.busy": "2022-06-02T18:54:38.021866Z",
     "iopub.status.idle": "2022-06-02T18:54:38.033909Z",
     "shell.execute_reply": "2022-06-02T18:54:38.032982Z"
    },
    "papermill": {
     "duration": 0.040277,
     "end_time": "2022-06-02T18:54:38.036430",
     "exception": false,
     "start_time": "2022-06-02T18:54:37.996153",
     "status": "completed"
    },
    "tags": []
   },
   "outputs": [
    {
     "name": "stdout",
     "output_type": "stream",
     "text": [
      "['▁TITLE', ':', '▁;', '▁REVIEW', ':', '▁Absolutely', '▁wonderful', '▁-', '▁silky', '▁and', '▁sexy', '▁and', '▁comfortable']\n"
     ]
    }
   ],
   "source": [
    "print(tok.tokenize(ds[0]['input']))"
   ]
  },
  {
   "cell_type": "markdown",
   "id": "07a63433",
   "metadata": {
    "papermill": {
     "duration": 0.024003,
     "end_time": "2022-06-02T18:54:38.085277",
     "exception": false,
     "start_time": "2022-06-02T18:54:38.061274",
     "status": "completed"
    },
    "tags": []
   },
   "source": [
    "This has a special symbol that captures the space in a special token `▁` between words."
   ]
  },
  {
   "cell_type": "code",
   "execution_count": 41,
   "id": "53ed1301",
   "metadata": {
    "execution": {
     "iopub.execute_input": "2022-06-02T18:54:38.135279Z",
     "iopub.status.busy": "2022-06-02T18:54:38.134514Z",
     "iopub.status.idle": "2022-06-02T18:54:38.141860Z",
     "shell.execute_reply": "2022-06-02T18:54:38.141025Z"
    },
    "papermill": {
     "duration": 0.034046,
     "end_time": "2022-06-02T18:54:38.143608",
     "exception": false,
     "start_time": "2022-06-02T18:54:38.109562",
     "status": "completed"
    },
    "tags": []
   },
   "outputs": [
    {
     "data": {
      "text/plain": [
       "{'input_ids': [1, 51928, 294, 2600, 46505, 294, 11403, 1496, 341, 20814, 263, 35747, 263, 1800, 2], 'token_type_ids': [0, 0, 0, 0, 0, 0, 0, 0, 0, 0, 0, 0, 0, 0, 0], 'attention_mask': [1, 1, 1, 1, 1, 1, 1, 1, 1, 1, 1, 1, 1, 1, 1]}"
      ]
     },
     "execution_count": 41,
     "metadata": {},
     "output_type": "execute_result"
    }
   ],
   "source": [
    "tok(ds[0]['input'])"
   ]
  },
  {
   "cell_type": "markdown",
   "id": "8e26d640",
   "metadata": {
    "papermill": {
     "duration": 0.024284,
     "end_time": "2022-06-02T18:54:38.192509",
     "exception": false,
     "start_time": "2022-06-02T18:54:38.168225",
     "status": "completed"
    },
    "tags": []
   },
   "source": [
    "Tokenizer understands if the title is empty and also understands separator between title and review ';'"
   ]
  },
  {
   "cell_type": "code",
   "execution_count": 42,
   "id": "1e2cca11",
   "metadata": {
    "execution": {
     "iopub.execute_input": "2022-06-02T18:54:38.243293Z",
     "iopub.status.busy": "2022-06-02T18:54:38.242451Z",
     "iopub.status.idle": "2022-06-02T18:54:38.246773Z",
     "shell.execute_reply": "2022-06-02T18:54:38.245898Z"
    },
    "papermill": {
     "duration": 0.032161,
     "end_time": "2022-06-02T18:54:38.248703",
     "exception": false,
     "start_time": "2022-06-02T18:54:38.216542",
     "status": "completed"
    },
    "tags": []
   },
   "outputs": [],
   "source": [
    "def tok_func(x): return tok(x['input'])"
   ]
  },
  {
   "cell_type": "code",
   "execution_count": 43,
   "id": "b443d65e",
   "metadata": {
    "execution": {
     "iopub.execute_input": "2022-06-02T18:54:38.299048Z",
     "iopub.status.busy": "2022-06-02T18:54:38.298197Z",
     "iopub.status.idle": "2022-06-02T18:54:44.389749Z",
     "shell.execute_reply": "2022-06-02T18:54:44.388862Z"
    },
    "papermill": {
     "duration": 6.119126,
     "end_time": "2022-06-02T18:54:44.391822",
     "exception": false,
     "start_time": "2022-06-02T18:54:38.272696",
     "status": "completed"
    },
    "tags": []
   },
   "outputs": [
    {
     "data": {
      "application/vnd.jupyter.widget-view+json": {
       "model_id": "e271345fe14c439c81f633e34dce9f3a",
       "version_major": 2,
       "version_minor": 0
      },
      "text/plain": [
       "  0%|          | 0/24 [00:00<?, ?ba/s]"
      ]
     },
     "metadata": {},
     "output_type": "display_data"
    }
   ],
   "source": [
    "# - If batched is True and batch_size is ``n`` > 1, \n",
    "# then the function takes a batch of ``n`` examples as input \n",
    "# and can return a batch with ``n`` examples, or with an arbitrary number of examples.\n",
    "\n",
    "tok_ds = ds.map(tok_func, batched=True)"
   ]
  },
  {
   "cell_type": "code",
   "execution_count": 44,
   "id": "9c1485c7",
   "metadata": {
    "execution": {
     "iopub.execute_input": "2022-06-02T18:54:44.447146Z",
     "iopub.status.busy": "2022-06-02T18:54:44.446408Z",
     "iopub.status.idle": "2022-06-02T18:54:44.451885Z",
     "shell.execute_reply": "2022-06-02T18:54:44.451134Z"
    },
    "papermill": {
     "duration": 0.03407,
     "end_time": "2022-06-02T18:54:44.453758",
     "exception": false,
     "start_time": "2022-06-02T18:54:44.419688",
     "status": "completed"
    },
    "tags": []
   },
   "outputs": [
    {
     "data": {
      "text/plain": [
       "Dataset({\n",
       "    features: ['Title', 'Review Text', 'labels', 'Division Name', 'Department Name', 'Class Name', 'input', 'input_ids', 'token_type_ids', 'attention_mask'],\n",
       "    num_rows: 23486\n",
       "})"
      ]
     },
     "execution_count": 44,
     "metadata": {},
     "output_type": "execute_result"
    }
   ],
   "source": [
    "tok_ds"
   ]
  },
  {
   "cell_type": "code",
   "execution_count": 45,
   "id": "795c350b",
   "metadata": {
    "execution": {
     "iopub.execute_input": "2022-06-02T18:54:44.505009Z",
     "iopub.status.busy": "2022-06-02T18:54:44.504425Z",
     "iopub.status.idle": "2022-06-02T18:54:44.508858Z",
     "shell.execute_reply": "2022-06-02T18:54:44.508050Z"
    },
    "papermill": {
     "duration": 0.031443,
     "end_time": "2022-06-02T18:54:44.510600",
     "exception": false,
     "start_time": "2022-06-02T18:54:44.479157",
     "status": "completed"
    },
    "tags": []
   },
   "outputs": [],
   "source": [
    "row = tok_ds[0]"
   ]
  },
  {
   "cell_type": "code",
   "execution_count": 46,
   "id": "27be9666",
   "metadata": {
    "execution": {
     "iopub.execute_input": "2022-06-02T18:54:44.561434Z",
     "iopub.status.busy": "2022-06-02T18:54:44.560719Z",
     "iopub.status.idle": "2022-06-02T18:54:44.566418Z",
     "shell.execute_reply": "2022-06-02T18:54:44.565733Z"
    },
    "papermill": {
     "duration": 0.033113,
     "end_time": "2022-06-02T18:54:44.568158",
     "exception": false,
     "start_time": "2022-06-02T18:54:44.535045",
     "status": "completed"
    },
    "tags": []
   },
   "outputs": [
    {
     "data": {
      "text/plain": [
       "('TITLE: ; REVIEW: Absolutely wonderful - silky and sexy and comfortable',\n",
       " [1,\n",
       "  51928,\n",
       "  294,\n",
       "  2600,\n",
       "  46505,\n",
       "  294,\n",
       "  11403,\n",
       "  1496,\n",
       "  341,\n",
       "  20814,\n",
       "  263,\n",
       "  35747,\n",
       "  263,\n",
       "  1800,\n",
       "  2])"
      ]
     },
     "execution_count": 46,
     "metadata": {},
     "output_type": "execute_result"
    }
   ],
   "source": [
    "row['input'], row['input_ids']"
   ]
  },
  {
   "cell_type": "markdown",
   "id": "8a88e100",
   "metadata": {
    "papermill": {
     "duration": 0.025064,
     "end_time": "2022-06-02T18:54:44.618697",
     "exception": false,
     "start_time": "2022-06-02T18:54:44.593633",
     "status": "completed"
    },
    "tags": []
   },
   "source": [
    "The ids are basically a mapping from a dictionary called vocab that's stored in the tokenizer"
   ]
  },
  {
   "cell_type": "code",
   "execution_count": 47,
   "id": "39aaba58",
   "metadata": {
    "execution": {
     "iopub.execute_input": "2022-06-02T18:54:44.671859Z",
     "iopub.status.busy": "2022-06-02T18:54:44.671204Z",
     "iopub.status.idle": "2022-06-02T18:54:44.924854Z",
     "shell.execute_reply": "2022-06-02T18:54:44.923996Z"
    },
    "papermill": {
     "duration": 0.282354,
     "end_time": "2022-06-02T18:54:44.926800",
     "exception": false,
     "start_time": "2022-06-02T18:54:44.644446",
     "status": "completed"
    },
    "tags": []
   },
   "outputs": [
    {
     "data": {
      "text/plain": [
       "(11403, 1496, 341)"
      ]
     },
     "execution_count": 47,
     "metadata": {},
     "output_type": "execute_result"
    }
   ],
   "source": [
    "tok.vocab['▁Absolutely'], tok.vocab['▁wonderful'], tok.vocab['▁-']"
   ]
  },
  {
   "cell_type": "markdown",
   "id": "26f6c12d",
   "metadata": {
    "papermill": {
     "duration": 0.024722,
     "end_time": "2022-06-02T18:54:44.977376",
     "exception": false,
     "start_time": "2022-06-02T18:54:44.952654",
     "status": "completed"
    },
    "tags": []
   },
   "source": [
    "# Test and Validation set"
   ]
  },
  {
   "cell_type": "code",
   "execution_count": 48,
   "id": "d9d3ce8f",
   "metadata": {
    "execution": {
     "iopub.execute_input": "2022-06-02T18:54:45.030042Z",
     "iopub.status.busy": "2022-06-02T18:54:45.029314Z",
     "iopub.status.idle": "2022-06-02T18:54:45.047013Z",
     "shell.execute_reply": "2022-06-02T18:54:45.046274Z"
    },
    "papermill": {
     "duration": 0.045978,
     "end_time": "2022-06-02T18:54:45.048860",
     "exception": false,
     "start_time": "2022-06-02T18:54:45.002882",
     "status": "completed"
    },
    "tags": []
   },
   "outputs": [],
   "source": [
    "dds = tok_ds.train_test_split(test_size=0.1, seed=42)"
   ]
  },
  {
   "cell_type": "code",
   "execution_count": 49,
   "id": "ca6b3a71",
   "metadata": {
    "execution": {
     "iopub.execute_input": "2022-06-02T18:54:45.101091Z",
     "iopub.status.busy": "2022-06-02T18:54:45.100381Z",
     "iopub.status.idle": "2022-06-02T18:54:45.105739Z",
     "shell.execute_reply": "2022-06-02T18:54:45.104958Z"
    },
    "papermill": {
     "duration": 0.033622,
     "end_time": "2022-06-02T18:54:45.107739",
     "exception": false,
     "start_time": "2022-06-02T18:54:45.074117",
     "status": "completed"
    },
    "tags": []
   },
   "outputs": [
    {
     "data": {
      "text/plain": [
       "DatasetDict({\n",
       "    train: Dataset({\n",
       "        features: ['Title', 'Review Text', 'labels', 'Division Name', 'Department Name', 'Class Name', 'input', 'input_ids', 'token_type_ids', 'attention_mask'],\n",
       "        num_rows: 21137\n",
       "    })\n",
       "    test: Dataset({\n",
       "        features: ['Title', 'Review Text', 'labels', 'Division Name', 'Department Name', 'Class Name', 'input', 'input_ids', 'token_type_ids', 'attention_mask'],\n",
       "        num_rows: 2349\n",
       "    })\n",
       "})"
      ]
     },
     "execution_count": 49,
     "metadata": {},
     "output_type": "execute_result"
    }
   ],
   "source": [
    "dds"
   ]
  },
  {
   "cell_type": "code",
   "execution_count": 50,
   "id": "2798aa0d",
   "metadata": {
    "execution": {
     "iopub.execute_input": "2022-06-02T18:54:45.159205Z",
     "iopub.status.busy": "2022-06-02T18:54:45.158439Z",
     "iopub.status.idle": "2022-06-02T18:54:45.162257Z",
     "shell.execute_reply": "2022-06-02T18:54:45.161536Z"
    },
    "papermill": {
     "duration": 0.031243,
     "end_time": "2022-06-02T18:54:45.164190",
     "exception": false,
     "start_time": "2022-06-02T18:54:45.132947",
     "status": "completed"
    },
    "tags": []
   },
   "outputs": [],
   "source": [
    "val_ds = dds['test']"
   ]
  },
  {
   "cell_type": "code",
   "execution_count": 51,
   "id": "81d85039",
   "metadata": {
    "execution": {
     "iopub.execute_input": "2022-06-02T18:54:45.215763Z",
     "iopub.status.busy": "2022-06-02T18:54:45.215137Z",
     "iopub.status.idle": "2022-06-02T18:54:45.220279Z",
     "shell.execute_reply": "2022-06-02T18:54:45.219562Z"
    },
    "papermill": {
     "duration": 0.032778,
     "end_time": "2022-06-02T18:54:45.222253",
     "exception": false,
     "start_time": "2022-06-02T18:54:45.189475",
     "status": "completed"
    },
    "tags": []
   },
   "outputs": [
    {
     "data": {
      "text/plain": [
       "Dataset({\n",
       "    features: ['Title', 'Review Text', 'labels', 'Division Name', 'Department Name', 'Class Name', 'input', 'input_ids', 'token_type_ids', 'attention_mask'],\n",
       "    num_rows: 2349\n",
       "})"
      ]
     },
     "execution_count": 51,
     "metadata": {},
     "output_type": "execute_result"
    }
   ],
   "source": [
    "val_ds"
   ]
  },
  {
   "cell_type": "code",
   "execution_count": 52,
   "id": "e7ce8a33",
   "metadata": {
    "execution": {
     "iopub.execute_input": "2022-06-02T18:54:45.275924Z",
     "iopub.status.busy": "2022-06-02T18:54:45.275229Z",
     "iopub.status.idle": "2022-06-02T18:54:45.287202Z",
     "shell.execute_reply": "2022-06-02T18:54:45.286515Z"
    },
    "papermill": {
     "duration": 0.040699,
     "end_time": "2022-06-02T18:54:45.289133",
     "exception": false,
     "start_time": "2022-06-02T18:54:45.248434",
     "status": "completed"
    },
    "tags": []
   },
   "outputs": [],
   "source": [
    "val_dds = val_ds.train_test_split(test_size=0.5, seed=42)"
   ]
  },
  {
   "cell_type": "code",
   "execution_count": 53,
   "id": "bab52e40",
   "metadata": {
    "execution": {
     "iopub.execute_input": "2022-06-02T18:54:45.341484Z",
     "iopub.status.busy": "2022-06-02T18:54:45.340784Z",
     "iopub.status.idle": "2022-06-02T18:54:45.344692Z",
     "shell.execute_reply": "2022-06-02T18:54:45.343890Z"
    },
    "papermill": {
     "duration": 0.031716,
     "end_time": "2022-06-02T18:54:45.346415",
     "exception": false,
     "start_time": "2022-06-02T18:54:45.314699",
     "status": "completed"
    },
    "tags": []
   },
   "outputs": [],
   "source": [
    "dds['eval'] = val_dds['train']"
   ]
  },
  {
   "cell_type": "code",
   "execution_count": 54,
   "id": "03e5f8e2",
   "metadata": {
    "execution": {
     "iopub.execute_input": "2022-06-02T18:54:45.398655Z",
     "iopub.status.busy": "2022-06-02T18:54:45.397933Z",
     "iopub.status.idle": "2022-06-02T18:54:45.401896Z",
     "shell.execute_reply": "2022-06-02T18:54:45.401187Z"
    },
    "papermill": {
     "duration": 0.031981,
     "end_time": "2022-06-02T18:54:45.403541",
     "exception": false,
     "start_time": "2022-06-02T18:54:45.371560",
     "status": "completed"
    },
    "tags": []
   },
   "outputs": [],
   "source": [
    "dds['test'] = val_dds['test']"
   ]
  },
  {
   "cell_type": "code",
   "execution_count": 55,
   "id": "42d72ed2",
   "metadata": {
    "execution": {
     "iopub.execute_input": "2022-06-02T18:54:45.455102Z",
     "iopub.status.busy": "2022-06-02T18:54:45.454569Z",
     "iopub.status.idle": "2022-06-02T18:54:45.459926Z",
     "shell.execute_reply": "2022-06-02T18:54:45.459195Z"
    },
    "papermill": {
     "duration": 0.033175,
     "end_time": "2022-06-02T18:54:45.461635",
     "exception": false,
     "start_time": "2022-06-02T18:54:45.428460",
     "status": "completed"
    },
    "tags": []
   },
   "outputs": [
    {
     "data": {
      "text/plain": [
       "DatasetDict({\n",
       "    train: Dataset({\n",
       "        features: ['Title', 'Review Text', 'labels', 'Division Name', 'Department Name', 'Class Name', 'input', 'input_ids', 'token_type_ids', 'attention_mask'],\n",
       "        num_rows: 21137\n",
       "    })\n",
       "    test: Dataset({\n",
       "        features: ['Title', 'Review Text', 'labels', 'Division Name', 'Department Name', 'Class Name', 'input', 'input_ids', 'token_type_ids', 'attention_mask'],\n",
       "        num_rows: 1175\n",
       "    })\n",
       "    eval: Dataset({\n",
       "        features: ['Title', 'Review Text', 'labels', 'Division Name', 'Department Name', 'Class Name', 'input', 'input_ids', 'token_type_ids', 'attention_mask'],\n",
       "        num_rows: 1174\n",
       "    })\n",
       "})"
      ]
     },
     "execution_count": 55,
     "metadata": {},
     "output_type": "execute_result"
    }
   ],
   "source": [
    "dds"
   ]
  },
  {
   "cell_type": "markdown",
   "id": "ca468011",
   "metadata": {
    "papermill": {
     "duration": 0.025446,
     "end_time": "2022-06-02T18:54:45.511899",
     "exception": false,
     "start_time": "2022-06-02T18:54:45.486453",
     "status": "completed"
    },
    "tags": []
   },
   "source": [
    "# Metrics"
   ]
  },
  {
   "cell_type": "code",
   "execution_count": 56,
   "id": "4afb3adc",
   "metadata": {
    "execution": {
     "iopub.execute_input": "2022-06-02T18:54:45.563998Z",
     "iopub.status.busy": "2022-06-02T18:54:45.563265Z",
     "iopub.status.idle": "2022-06-02T18:54:45.567469Z",
     "shell.execute_reply": "2022-06-02T18:54:45.566700Z"
    },
    "papermill": {
     "duration": 0.032068,
     "end_time": "2022-06-02T18:54:45.569359",
     "exception": false,
     "start_time": "2022-06-02T18:54:45.537291",
     "status": "completed"
    },
    "tags": []
   },
   "outputs": [],
   "source": [
    "from datasets import load_metric"
   ]
  },
  {
   "cell_type": "markdown",
   "id": "9c1a9d51",
   "metadata": {
    "papermill": {
     "duration": 0.024761,
     "end_time": "2022-06-02T18:54:45.619139",
     "exception": false,
     "start_time": "2022-06-02T18:54:45.594378",
     "status": "completed"
    },
    "tags": []
   },
   "source": [
    "Transformers expects a dict."
   ]
  },
  {
   "cell_type": "code",
   "execution_count": 57,
   "id": "a47b9d38",
   "metadata": {
    "execution": {
     "iopub.execute_input": "2022-06-02T18:54:45.671192Z",
     "iopub.status.busy": "2022-06-02T18:54:45.670604Z",
     "iopub.status.idle": "2022-06-02T18:54:45.674540Z",
     "shell.execute_reply": "2022-06-02T18:54:45.673725Z"
    },
    "papermill": {
     "duration": 0.032573,
     "end_time": "2022-06-02T18:54:45.676322",
     "exception": false,
     "start_time": "2022-06-02T18:54:45.643749",
     "status": "completed"
    },
    "tags": []
   },
   "outputs": [],
   "source": [
    "from datasets import Metric"
   ]
  },
  {
   "cell_type": "code",
   "execution_count": 58,
   "id": "6c85be8c",
   "metadata": {
    "execution": {
     "iopub.execute_input": "2022-06-02T18:54:45.727326Z",
     "iopub.status.busy": "2022-06-02T18:54:45.727040Z",
     "iopub.status.idle": "2022-06-02T18:54:48.063941Z",
     "shell.execute_reply": "2022-06-02T18:54:48.063021Z"
    },
    "papermill": {
     "duration": 2.364272,
     "end_time": "2022-06-02T18:54:48.066193",
     "exception": false,
     "start_time": "2022-06-02T18:54:45.701921",
     "status": "completed"
    },
    "tags": []
   },
   "outputs": [
    {
     "data": {
      "application/vnd.jupyter.widget-view+json": {
       "model_id": "a7a2b90500574cd4b01a96804535fc32",
       "version_major": 2,
       "version_minor": 0
      },
      "text/plain": [
       "Downloading builder script:   0%|          | 0.00/1.41k [00:00<?, ?B/s]"
      ]
     },
     "metadata": {},
     "output_type": "display_data"
    }
   ],
   "source": [
    "metric = load_metric('accuracy')"
   ]
  },
  {
   "cell_type": "code",
   "execution_count": 59,
   "id": "9f975acb",
   "metadata": {
    "execution": {
     "iopub.execute_input": "2022-06-02T18:54:48.119582Z",
     "iopub.status.busy": "2022-06-02T18:54:48.118648Z",
     "iopub.status.idle": "2022-06-02T18:54:48.124206Z",
     "shell.execute_reply": "2022-06-02T18:54:48.123527Z"
    },
    "papermill": {
     "duration": 0.033724,
     "end_time": "2022-06-02T18:54:48.125808",
     "exception": false,
     "start_time": "2022-06-02T18:54:48.092084",
     "status": "completed"
    },
    "tags": []
   },
   "outputs": [
    {
     "data": {
      "text/plain": [
       "('accuracy',\n",
       " {'predictions': Value(dtype='int32', id=None),\n",
       "  'references': Value(dtype='int32', id=None)})"
      ]
     },
     "execution_count": 59,
     "metadata": {},
     "output_type": "execute_result"
    }
   ],
   "source": [
    "metric.name, metric.features"
   ]
  },
  {
   "cell_type": "markdown",
   "id": "21bed47c",
   "metadata": {
    "papermill": {
     "duration": 0.024848,
     "end_time": "2022-06-02T18:54:48.176082",
     "exception": false,
     "start_time": "2022-06-02T18:54:48.151234",
     "status": "completed"
    },
    "tags": []
   },
   "source": [
    "We need to call `metric.compute` to calculate the accuracy of predictions. Since all transformers models return logits, we need to convert the predictions to logits. "
   ]
  },
  {
   "cell_type": "code",
   "execution_count": 60,
   "id": "290253f6",
   "metadata": {
    "execution": {
     "iopub.execute_input": "2022-06-02T18:54:48.229010Z",
     "iopub.status.busy": "2022-06-02T18:54:48.228191Z",
     "iopub.status.idle": "2022-06-02T18:54:48.233020Z",
     "shell.execute_reply": "2022-06-02T18:54:48.232268Z"
    },
    "papermill": {
     "duration": 0.033109,
     "end_time": "2022-06-02T18:54:48.234662",
     "exception": false,
     "start_time": "2022-06-02T18:54:48.201553",
     "status": "completed"
    },
    "tags": []
   },
   "outputs": [],
   "source": [
    "import numpy as np\n",
    "\n",
    "def compute_metrics(eval_preds): \n",
    "    logits, labels = eval_preds\n",
    "    preds = np.argmax(logits, axis=-1)\n",
    "    return metric.compute(predictions=preds, references=labels)"
   ]
  },
  {
   "cell_type": "markdown",
   "id": "57074c56",
   "metadata": {
    "papermill": {
     "duration": 0.025591,
     "end_time": "2022-06-02T18:54:48.286199",
     "exception": false,
     "start_time": "2022-06-02T18:54:48.260608",
     "status": "completed"
    },
    "tags": []
   },
   "source": [
    "# Training"
   ]
  },
  {
   "cell_type": "code",
   "execution_count": 61,
   "id": "1dfc3933",
   "metadata": {
    "execution": {
     "iopub.execute_input": "2022-06-02T18:54:48.339916Z",
     "iopub.status.busy": "2022-06-02T18:54:48.339281Z",
     "iopub.status.idle": "2022-06-02T18:54:48.486112Z",
     "shell.execute_reply": "2022-06-02T18:54:48.485359Z"
    },
    "papermill": {
     "duration": 0.176202,
     "end_time": "2022-06-02T18:54:48.488141",
     "exception": false,
     "start_time": "2022-06-02T18:54:48.311939",
     "status": "completed"
    },
    "tags": []
   },
   "outputs": [],
   "source": [
    "from transformers import TrainingArguments, Trainer"
   ]
  },
  {
   "cell_type": "code",
   "execution_count": 62,
   "id": "9ef22931",
   "metadata": {
    "execution": {
     "iopub.execute_input": "2022-06-02T18:54:48.542009Z",
     "iopub.status.busy": "2022-06-02T18:54:48.541042Z",
     "iopub.status.idle": "2022-06-02T18:54:48.546562Z",
     "shell.execute_reply": "2022-06-02T18:54:48.545896Z"
    },
    "papermill": {
     "duration": 0.033798,
     "end_time": "2022-06-02T18:54:48.548256",
     "exception": false,
     "start_time": "2022-06-02T18:54:48.514458",
     "status": "completed"
    },
    "tags": []
   },
   "outputs": [],
   "source": [
    "bs = 32\n",
    "epochs = 4\n",
    "\n",
    "lr = 8e-5 # this may require some testing either using lrfinder or with different values\n",
    "fp16 = bool(iskaggle)"
   ]
  },
  {
   "cell_type": "code",
   "execution_count": 63,
   "id": "f4868c29",
   "metadata": {
    "execution": {
     "iopub.execute_input": "2022-06-02T18:54:48.600427Z",
     "iopub.status.busy": "2022-06-02T18:54:48.600116Z",
     "iopub.status.idle": "2022-06-02T18:54:48.660566Z",
     "shell.execute_reply": "2022-06-02T18:54:48.659657Z"
    },
    "papermill": {
     "duration": 0.088781,
     "end_time": "2022-06-02T18:54:48.662438",
     "exception": false,
     "start_time": "2022-06-02T18:54:48.573657",
     "status": "completed"
    },
    "tags": []
   },
   "outputs": [],
   "source": [
    "# enable fp16 when running on GPU\n",
    "args = TrainingArguments(\n",
    "    output_dir='outputs', learning_rate=lr, warmup_ratio=0.1, lr_scheduler_type='cosine', fp16=False, \n",
    "    evaluation_strategy='epoch', per_device_train_batch_size=bs, per_device_eval_batch_size=bs*2, \n",
    "    num_train_epochs=epochs, weight_decay=0.1, report_to='none')"
   ]
  },
  {
   "cell_type": "markdown",
   "id": "e1080f44",
   "metadata": {
    "papermill": {
     "duration": 0.024959,
     "end_time": "2022-06-02T18:54:48.712264",
     "exception": false,
     "start_time": "2022-06-02T18:54:48.687305",
     "status": "completed"
    },
    "tags": []
   },
   "source": [
    "We need two things to create a sequence cls model 1) pretrained_model_name 2) num_labels\n",
    "In our case, since this is a binary classification problem whether a customer recommend the product or not."
   ]
  },
  {
   "cell_type": "code",
   "execution_count": 64,
   "id": "45381f93",
   "metadata": {
    "execution": {
     "iopub.execute_input": "2022-06-02T18:54:48.763274Z",
     "iopub.status.busy": "2022-06-02T18:54:48.762995Z",
     "iopub.status.idle": "2022-06-02T18:54:48.890241Z",
     "shell.execute_reply": "2022-06-02T18:54:48.889346Z"
    },
    "papermill": {
     "duration": 0.155079,
     "end_time": "2022-06-02T18:54:48.892401",
     "exception": false,
     "start_time": "2022-06-02T18:54:48.737322",
     "status": "completed"
    },
    "tags": []
   },
   "outputs": [
    {
     "data": {
      "text/plain": [
       "{0, 1}"
      ]
     },
     "execution_count": 64,
     "metadata": {},
     "output_type": "execute_result"
    }
   ],
   "source": [
    "import numpy as np\n",
    "set(dds['train']['labels'])"
   ]
  },
  {
   "cell_type": "code",
   "execution_count": 65,
   "id": "1860ef4f",
   "metadata": {
    "execution": {
     "iopub.execute_input": "2022-06-02T18:54:48.944569Z",
     "iopub.status.busy": "2022-06-02T18:54:48.944257Z",
     "iopub.status.idle": "2022-06-02T18:55:22.371973Z",
     "shell.execute_reply": "2022-06-02T18:55:22.370571Z"
    },
    "papermill": {
     "duration": 33.455596,
     "end_time": "2022-06-02T18:55:22.373861",
     "exception": false,
     "start_time": "2022-06-02T18:54:48.918265",
     "status": "completed"
    },
    "tags": []
   },
   "outputs": [
    {
     "data": {
      "application/vnd.jupyter.widget-view+json": {
       "model_id": "5d511ffe6f9e4325be2a57bf8320457e",
       "version_major": 2,
       "version_minor": 0
      },
      "text/plain": [
       "Downloading:   0%|          | 0.00/273M [00:00<?, ?B/s]"
      ]
     },
     "metadata": {},
     "output_type": "display_data"
    },
    {
     "name": "stderr",
     "output_type": "stream",
     "text": [
      "Some weights of the model checkpoint at microsoft/deberta-v3-small were not used when initializing DebertaV2ForSequenceClassification: ['lm_predictions.lm_head.bias', 'mask_predictions.classifier.weight', 'lm_predictions.lm_head.LayerNorm.weight', 'mask_predictions.dense.bias', 'mask_predictions.classifier.bias', 'mask_predictions.LayerNorm.weight', 'lm_predictions.lm_head.dense.bias', 'mask_predictions.LayerNorm.bias', 'lm_predictions.lm_head.LayerNorm.bias', 'lm_predictions.lm_head.dense.weight', 'mask_predictions.dense.weight']\n",
      "- This IS expected if you are initializing DebertaV2ForSequenceClassification from the checkpoint of a model trained on another task or with another architecture (e.g. initializing a BertForSequenceClassification model from a BertForPreTraining model).\n",
      "- This IS NOT expected if you are initializing DebertaV2ForSequenceClassification from the checkpoint of a model that you expect to be exactly identical (initializing a BertForSequenceClassification model from a BertForSequenceClassification model).\n",
      "Some weights of DebertaV2ForSequenceClassification were not initialized from the model checkpoint at microsoft/deberta-v3-small and are newly initialized: ['pooler.dense.weight', 'pooler.dense.bias', 'classifier.weight', 'classifier.bias']\n",
      "You should probably TRAIN this model on a down-stream task to be able to use it for predictions and inference.\n"
     ]
    }
   ],
   "source": [
    "model = AutoModelForSequenceClassification.from_pretrained(pretrained_model_nm, num_labels=2)"
   ]
  },
  {
   "cell_type": "code",
   "execution_count": 66,
   "id": "1cd10fec",
   "metadata": {
    "execution": {
     "iopub.execute_input": "2022-06-02T18:55:22.429393Z",
     "iopub.status.busy": "2022-06-02T18:55:22.429014Z",
     "iopub.status.idle": "2022-06-02T18:55:22.432940Z",
     "shell.execute_reply": "2022-06-02T18:55:22.432130Z"
    },
    "papermill": {
     "duration": 0.033654,
     "end_time": "2022-06-02T18:55:22.434692",
     "exception": false,
     "start_time": "2022-06-02T18:55:22.401038",
     "status": "completed"
    },
    "tags": []
   },
   "outputs": [],
   "source": [
    "# show_doc(Trainer)"
   ]
  },
  {
   "cell_type": "code",
   "execution_count": 67,
   "id": "45559779",
   "metadata": {
    "execution": {
     "iopub.execute_input": "2022-06-02T18:55:22.489491Z",
     "iopub.status.busy": "2022-06-02T18:55:22.488699Z",
     "iopub.status.idle": "2022-06-02T18:55:27.159312Z",
     "shell.execute_reply": "2022-06-02T18:55:27.158516Z"
    },
    "papermill": {
     "duration": 4.700419,
     "end_time": "2022-06-02T18:55:27.161582",
     "exception": false,
     "start_time": "2022-06-02T18:55:22.461163",
     "status": "completed"
    },
    "tags": []
   },
   "outputs": [],
   "source": [
    "trainer = Trainer(model, args, train_dataset=dds['train'], eval_dataset=dds['eval'], \n",
    "    tokenizer=tok, compute_metrics=compute_metrics)"
   ]
  },
  {
   "cell_type": "markdown",
   "id": "6e94960b",
   "metadata": {
    "papermill": {
     "duration": 0.026974,
     "end_time": "2022-06-02T18:55:27.215615",
     "exception": false,
     "start_time": "2022-06-02T18:55:27.188641",
     "status": "completed"
    },
    "tags": []
   },
   "source": [
    "Train the model"
   ]
  },
  {
   "cell_type": "code",
   "execution_count": 68,
   "id": "6133f32c",
   "metadata": {
    "execution": {
     "iopub.execute_input": "2022-06-02T18:55:27.271365Z",
     "iopub.status.busy": "2022-06-02T18:55:27.270983Z",
     "iopub.status.idle": "2022-06-02T19:09:21.029709Z",
     "shell.execute_reply": "2022-06-02T19:09:21.028763Z"
    },
    "papermill": {
     "duration": 833.789828,
     "end_time": "2022-06-02T19:09:21.032634",
     "exception": false,
     "start_time": "2022-06-02T18:55:27.242806",
     "status": "completed"
    },
    "tags": []
   },
   "outputs": [
    {
     "name": "stderr",
     "output_type": "stream",
     "text": [
      "The following columns in the training set don't have a corresponding argument in `DebertaV2ForSequenceClassification.forward` and have been ignored: Class Name, Review Text, Department Name, Title, input, Division Name. If Class Name, Review Text, Department Name, Title, input, Division Name are not expected by `DebertaV2ForSequenceClassification.forward`,  you can safely ignore this message.\n",
      "/opt/conda/lib/python3.7/site-packages/transformers/optimization.py:309: FutureWarning: This implementation of AdamW is deprecated and will be removed in a future version. Use the PyTorch implementation torch.optim.AdamW instead, or set `no_deprecation_warning=True` to disable this warning\n",
      "  FutureWarning,\n",
      "***** Running training *****\n",
      "  Num examples = 21137\n",
      "  Num Epochs = 4\n",
      "  Instantaneous batch size per device = 32\n",
      "  Total train batch size (w. parallel, distributed & accumulation) = 32\n",
      "  Gradient Accumulation steps = 1\n",
      "  Total optimization steps = 2644\n"
     ]
    },
    {
     "data": {
      "text/html": [
       "\n",
       "    <div>\n",
       "      \n",
       "      <progress value='2644' max='2644' style='width:300px; height:20px; vertical-align: middle;'></progress>\n",
       "      [2644/2644 13:52, Epoch 4/4]\n",
       "    </div>\n",
       "    <table border=\"1\" class=\"dataframe\">\n",
       "  <thead>\n",
       " <tr style=\"text-align: left;\">\n",
       "      <th>Epoch</th>\n",
       "      <th>Training Loss</th>\n",
       "      <th>Validation Loss</th>\n",
       "      <th>Accuracy</th>\n",
       "    </tr>\n",
       "  </thead>\n",
       "  <tbody>\n",
       "    <tr>\n",
       "      <td>1</td>\n",
       "      <td>0.273500</td>\n",
       "      <td>0.210992</td>\n",
       "      <td>0.915673</td>\n",
       "    </tr>\n",
       "    <tr>\n",
       "      <td>2</td>\n",
       "      <td>0.176100</td>\n",
       "      <td>0.165084</td>\n",
       "      <td>0.940375</td>\n",
       "    </tr>\n",
       "    <tr>\n",
       "      <td>3</td>\n",
       "      <td>0.133700</td>\n",
       "      <td>0.188848</td>\n",
       "      <td>0.942078</td>\n",
       "    </tr>\n",
       "    <tr>\n",
       "      <td>4</td>\n",
       "      <td>0.061500</td>\n",
       "      <td>0.232089</td>\n",
       "      <td>0.936116</td>\n",
       "    </tr>\n",
       "  </tbody>\n",
       "</table><p>"
      ],
      "text/plain": [
       "<IPython.core.display.HTML object>"
      ]
     },
     "metadata": {},
     "output_type": "display_data"
    },
    {
     "name": "stderr",
     "output_type": "stream",
     "text": [
      "Saving model checkpoint to outputs/checkpoint-500\n",
      "Configuration saved in outputs/checkpoint-500/config.json\n",
      "Model weights saved in outputs/checkpoint-500/pytorch_model.bin\n",
      "tokenizer config file saved in outputs/checkpoint-500/tokenizer_config.json\n",
      "Special tokens file saved in outputs/checkpoint-500/special_tokens_map.json\n",
      "The following columns in the evaluation set don't have a corresponding argument in `DebertaV2ForSequenceClassification.forward` and have been ignored: Class Name, Review Text, Department Name, Title, input, Division Name. If Class Name, Review Text, Department Name, Title, input, Division Name are not expected by `DebertaV2ForSequenceClassification.forward`,  you can safely ignore this message.\n",
      "***** Running Evaluation *****\n",
      "  Num examples = 1174\n",
      "  Batch size = 64\n",
      "Saving model checkpoint to outputs/checkpoint-1000\n",
      "Configuration saved in outputs/checkpoint-1000/config.json\n",
      "Model weights saved in outputs/checkpoint-1000/pytorch_model.bin\n",
      "tokenizer config file saved in outputs/checkpoint-1000/tokenizer_config.json\n",
      "Special tokens file saved in outputs/checkpoint-1000/special_tokens_map.json\n",
      "The following columns in the evaluation set don't have a corresponding argument in `DebertaV2ForSequenceClassification.forward` and have been ignored: Class Name, Review Text, Department Name, Title, input, Division Name. If Class Name, Review Text, Department Name, Title, input, Division Name are not expected by `DebertaV2ForSequenceClassification.forward`,  you can safely ignore this message.\n",
      "***** Running Evaluation *****\n",
      "  Num examples = 1174\n",
      "  Batch size = 64\n",
      "Saving model checkpoint to outputs/checkpoint-1500\n",
      "Configuration saved in outputs/checkpoint-1500/config.json\n",
      "Model weights saved in outputs/checkpoint-1500/pytorch_model.bin\n",
      "tokenizer config file saved in outputs/checkpoint-1500/tokenizer_config.json\n",
      "Special tokens file saved in outputs/checkpoint-1500/special_tokens_map.json\n",
      "The following columns in the evaluation set don't have a corresponding argument in `DebertaV2ForSequenceClassification.forward` and have been ignored: Class Name, Review Text, Department Name, Title, input, Division Name. If Class Name, Review Text, Department Name, Title, input, Division Name are not expected by `DebertaV2ForSequenceClassification.forward`,  you can safely ignore this message.\n",
      "***** Running Evaluation *****\n",
      "  Num examples = 1174\n",
      "  Batch size = 64\n",
      "Saving model checkpoint to outputs/checkpoint-2000\n",
      "Configuration saved in outputs/checkpoint-2000/config.json\n",
      "Model weights saved in outputs/checkpoint-2000/pytorch_model.bin\n",
      "tokenizer config file saved in outputs/checkpoint-2000/tokenizer_config.json\n",
      "Special tokens file saved in outputs/checkpoint-2000/special_tokens_map.json\n",
      "Saving model checkpoint to outputs/checkpoint-2500\n",
      "Configuration saved in outputs/checkpoint-2500/config.json\n",
      "Model weights saved in outputs/checkpoint-2500/pytorch_model.bin\n",
      "tokenizer config file saved in outputs/checkpoint-2500/tokenizer_config.json\n",
      "Special tokens file saved in outputs/checkpoint-2500/special_tokens_map.json\n",
      "The following columns in the evaluation set don't have a corresponding argument in `DebertaV2ForSequenceClassification.forward` and have been ignored: Class Name, Review Text, Department Name, Title, input, Division Name. If Class Name, Review Text, Department Name, Title, input, Division Name are not expected by `DebertaV2ForSequenceClassification.forward`,  you can safely ignore this message.\n",
      "***** Running Evaluation *****\n",
      "  Num examples = 1174\n",
      "  Batch size = 64\n",
      "\n",
      "\n",
      "Training completed. Do not forget to share your model on huggingface.co/models =)\n",
      "\n",
      "\n"
     ]
    },
    {
     "data": {
      "text/plain": [
       "TrainOutput(global_step=2644, training_loss=0.1436786013183363, metrics={'train_runtime': 833.7286, 'train_samples_per_second': 101.41, 'train_steps_per_second': 3.171, 'total_flos': 3080870654072820.0, 'train_loss': 0.1436786013183363, 'epoch': 4.0})"
      ]
     },
     "execution_count": 68,
     "metadata": {},
     "output_type": "execute_result"
    }
   ],
   "source": [
    "trainer.train()"
   ]
  },
  {
   "cell_type": "markdown",
   "id": "ff98d5dc",
   "metadata": {
    "papermill": {
     "duration": 0.057836,
     "end_time": "2022-06-02T19:09:21.152019",
     "exception": false,
     "start_time": "2022-06-02T19:09:21.094183",
     "status": "completed"
    },
    "tags": []
   },
   "source": [
    "We can see the accuracy score on the eval dataset."
   ]
  },
  {
   "cell_type": "markdown",
   "id": "539d5482",
   "metadata": {
    "papermill": {
     "duration": 0.031732,
     "end_time": "2022-06-02T19:09:21.216901",
     "exception": false,
     "start_time": "2022-06-02T19:09:21.185169",
     "status": "completed"
    },
    "tags": []
   },
   "source": [
    "# Predictions"
   ]
  },
  {
   "cell_type": "markdown",
   "id": "0558b057",
   "metadata": {
    "papermill": {
     "duration": 0.031901,
     "end_time": "2022-06-02T19:09:21.280317",
     "exception": false,
     "start_time": "2022-06-02T19:09:21.248416",
     "status": "completed"
    },
    "tags": []
   },
   "source": [
    "Predictions on test data set"
   ]
  },
  {
   "cell_type": "code",
   "execution_count": 69,
   "id": "3f4b8393",
   "metadata": {
    "execution": {
     "iopub.execute_input": "2022-06-02T19:09:21.345939Z",
     "iopub.status.busy": "2022-06-02T19:09:21.345424Z",
     "iopub.status.idle": "2022-06-02T19:09:21.352448Z",
     "shell.execute_reply": "2022-06-02T19:09:21.351522Z"
    },
    "papermill": {
     "duration": 0.041732,
     "end_time": "2022-06-02T19:09:21.354421",
     "exception": false,
     "start_time": "2022-06-02T19:09:21.312689",
     "status": "completed"
    },
    "tags": []
   },
   "outputs": [
    {
     "data": {
      "text/plain": [
       "DatasetDict({\n",
       "    train: Dataset({\n",
       "        features: ['Title', 'Review Text', 'labels', 'Division Name', 'Department Name', 'Class Name', 'input', 'input_ids', 'token_type_ids', 'attention_mask'],\n",
       "        num_rows: 21137\n",
       "    })\n",
       "    test: Dataset({\n",
       "        features: ['Title', 'Review Text', 'labels', 'Division Name', 'Department Name', 'Class Name', 'input', 'input_ids', 'token_type_ids', 'attention_mask'],\n",
       "        num_rows: 1175\n",
       "    })\n",
       "    eval: Dataset({\n",
       "        features: ['Title', 'Review Text', 'labels', 'Division Name', 'Department Name', 'Class Name', 'input', 'input_ids', 'token_type_ids', 'attention_mask'],\n",
       "        num_rows: 1174\n",
       "    })\n",
       "})"
      ]
     },
     "execution_count": 69,
     "metadata": {},
     "output_type": "execute_result"
    }
   ],
   "source": [
    "dds"
   ]
  },
  {
   "cell_type": "code",
   "execution_count": 70,
   "id": "ec07e986",
   "metadata": {
    "execution": {
     "iopub.execute_input": "2022-06-02T19:09:21.420602Z",
     "iopub.status.busy": "2022-06-02T19:09:21.419623Z",
     "iopub.status.idle": "2022-06-02T19:09:25.014720Z",
     "shell.execute_reply": "2022-06-02T19:09:25.013947Z"
    },
    "papermill": {
     "duration": 3.63049,
     "end_time": "2022-06-02T19:09:25.016617",
     "exception": false,
     "start_time": "2022-06-02T19:09:21.386127",
     "status": "completed"
    },
    "tags": []
   },
   "outputs": [
    {
     "name": "stderr",
     "output_type": "stream",
     "text": [
      "The following columns in the test set don't have a corresponding argument in `DebertaV2ForSequenceClassification.forward` and have been ignored: Class Name, Review Text, Department Name, Title, input, Division Name. If Class Name, Review Text, Department Name, Title, input, Division Name are not expected by `DebertaV2ForSequenceClassification.forward`,  you can safely ignore this message.\n",
      "***** Running Prediction *****\n",
      "  Num examples = 1175\n",
      "  Batch size = 64\n"
     ]
    },
    {
     "data": {
      "text/html": [
       "\n",
       "    <div>\n",
       "      \n",
       "      <progress value='19' max='19' style='width:300px; height:20px; vertical-align: middle;'></progress>\n",
       "      [19/19 00:03]\n",
       "    </div>\n",
       "    "
      ],
      "text/plain": [
       "<IPython.core.display.HTML object>"
      ]
     },
     "metadata": {},
     "output_type": "display_data"
    }
   ],
   "source": [
    "preds = trainer.predict(dds['test']).predictions.astype(float)"
   ]
  },
  {
   "cell_type": "code",
   "execution_count": 71,
   "id": "2747326a",
   "metadata": {
    "execution": {
     "iopub.execute_input": "2022-06-02T19:09:25.079387Z",
     "iopub.status.busy": "2022-06-02T19:09:25.079052Z",
     "iopub.status.idle": "2022-06-02T19:09:25.085421Z",
     "shell.execute_reply": "2022-06-02T19:09:25.084473Z"
    },
    "papermill": {
     "duration": 0.040394,
     "end_time": "2022-06-02T19:09:25.088414",
     "exception": false,
     "start_time": "2022-06-02T19:09:25.048020",
     "status": "completed"
    },
    "tags": []
   },
   "outputs": [
    {
     "data": {
      "text/plain": [
       "array([[-3.63973379,  3.63518858],\n",
       "       [-3.63268614,  3.63469887],\n",
       "       [-3.6397686 ,  3.69413948],\n",
       "       ...,\n",
       "       [-3.63655376,  3.63473058],\n",
       "       [ 2.3602972 , -2.17315626],\n",
       "       [-3.64113522,  3.67885995]])"
      ]
     },
     "execution_count": 71,
     "metadata": {},
     "output_type": "execute_result"
    }
   ],
   "source": [
    "preds"
   ]
  },
  {
   "cell_type": "code",
   "execution_count": 72,
   "id": "3deeafbc",
   "metadata": {
    "execution": {
     "iopub.execute_input": "2022-06-02T19:09:25.150074Z",
     "iopub.status.busy": "2022-06-02T19:09:25.149737Z",
     "iopub.status.idle": "2022-06-02T19:09:25.175140Z",
     "shell.execute_reply": "2022-06-02T19:09:25.174327Z"
    },
    "papermill": {
     "duration": 0.058374,
     "end_time": "2022-06-02T19:09:25.177032",
     "exception": false,
     "start_time": "2022-06-02T19:09:25.118658",
     "status": "completed"
    },
    "tags": []
   },
   "outputs": [
    {
     "data": {
      "text/plain": [
       "{'accuracy': 0.9285106382978724}"
      ]
     },
     "execution_count": 72,
     "metadata": {},
     "output_type": "execute_result"
    }
   ],
   "source": [
    "eval_preds = [preds, dds['test']['labels']]\n",
    "compute_metrics(eval_preds)"
   ]
  },
  {
   "cell_type": "markdown",
   "id": "2f3c44bd",
   "metadata": {
    "papermill": {
     "duration": 0.029842,
     "end_time": "2022-06-02T19:09:25.237387",
     "exception": false,
     "start_time": "2022-06-02T19:09:25.207545",
     "status": "completed"
    },
    "tags": []
   },
   "source": [
    "We got an accuracy of **0.92**"
   ]
  },
  {
   "cell_type": "markdown",
   "id": "11b3eea9",
   "metadata": {
    "papermill": {
     "duration": 0.030137,
     "end_time": "2022-06-02T19:09:25.297028",
     "exception": false,
     "start_time": "2022-06-02T19:09:25.266891",
     "status": "completed"
    },
    "tags": []
   },
   "source": [
    "## fin"
   ]
  }
 ],
 "metadata": {
  "kernelspec": {
   "display_name": "Python 3",
   "language": "python",
   "name": "python3"
  },
  "language_info": {
   "codemirror_mode": {
    "name": "ipython",
    "version": 3
   },
   "file_extension": ".py",
   "mimetype": "text/x-python",
   "name": "python",
   "nbconvert_exporter": "python",
   "pygments_lexer": "ipython3",
   "version": "3.7.12"
  },
  "papermill": {
   "default_parameters": {},
   "duration": 955.723943,
   "end_time": "2022-06-02T19:09:29.035564",
   "environment_variables": {},
   "exception": null,
   "input_path": "__notebook__.ipynb",
   "output_path": "__notebook__.ipynb",
   "parameters": {},
   "start_time": "2022-06-02T18:53:33.311621",
   "version": "2.3.4"
  },
  "widgets": {
   "application/vnd.jupyter.widget-state+json": {
    "state": {
     "01d592c7d8484c72a09aa2b58124692a": {
      "model_module": "@jupyter-widgets/controls",
      "model_module_version": "1.5.0",
      "model_name": "HTMLModel",
      "state": {
       "_dom_classes": [],
       "_model_module": "@jupyter-widgets/controls",
       "_model_module_version": "1.5.0",
       "_model_name": "HTMLModel",
       "_view_count": null,
       "_view_module": "@jupyter-widgets/controls",
       "_view_module_version": "1.5.0",
       "_view_name": "HTMLView",
       "description": "",
       "description_tooltip": null,
       "layout": "IPY_MODEL_30ff78d3b3a94950ac96af1fd3c49195",
       "placeholder": "​",
       "style": "IPY_MODEL_86dabeb04b5246f489a7f8f453d62571",
       "value": "Downloading: 100%"
      }
     },
     "06560c8b19204f6c91b6ad69607b5801": {
      "model_module": "@jupyter-widgets/controls",
      "model_module_version": "1.5.0",
      "model_name": "DescriptionStyleModel",
      "state": {
       "_model_module": "@jupyter-widgets/controls",
       "_model_module_version": "1.5.0",
       "_model_name": "DescriptionStyleModel",
       "_view_count": null,
       "_view_module": "@jupyter-widgets/base",
       "_view_module_version": "1.2.0",
       "_view_name": "StyleView",
       "description_width": ""
      }
     },
     "07778f8e69f74716bb18c2c94a3ae86a": {
      "model_module": "@jupyter-widgets/controls",
      "model_module_version": "1.5.0",
      "model_name": "FloatProgressModel",
      "state": {
       "_dom_classes": [],
       "_model_module": "@jupyter-widgets/controls",
       "_model_module_version": "1.5.0",
       "_model_name": "FloatProgressModel",
       "_view_count": null,
       "_view_module": "@jupyter-widgets/controls",
       "_view_module_version": "1.5.0",
       "_view_name": "ProgressView",
       "bar_style": "success",
       "description": "",
       "description_tooltip": null,
       "layout": "IPY_MODEL_3948276156e549149de12db543754239",
       "max": 578.0,
       "min": 0.0,
       "orientation": "horizontal",
       "style": "IPY_MODEL_b22b4dda44c547f6af6fe72a9e37a27c",
       "value": 578.0
      }
     },
     "080ac6f96707488f914b678e05b43b4b": {
      "model_module": "@jupyter-widgets/controls",
      "model_module_version": "1.5.0",
      "model_name": "HTMLModel",
      "state": {
       "_dom_classes": [],
       "_model_module": "@jupyter-widgets/controls",
       "_model_module_version": "1.5.0",
       "_model_name": "HTMLModel",
       "_view_count": null,
       "_view_module": "@jupyter-widgets/controls",
       "_view_module_version": "1.5.0",
       "_view_name": "HTMLView",
       "description": "",
       "description_tooltip": null,
       "layout": "IPY_MODEL_a6bae2ad7e104532b86766d53f7f4b8c",
       "placeholder": "​",
       "style": "IPY_MODEL_bf391313c4a64c068a5cef6be1ba3aea",
       "value": "100%"
      }
     },
     "10e4e14975554d29989fd1cda68a8985": {
      "model_module": "@jupyter-widgets/controls",
      "model_module_version": "1.5.0",
      "model_name": "ProgressStyleModel",
      "state": {
       "_model_module": "@jupyter-widgets/controls",
       "_model_module_version": "1.5.0",
       "_model_name": "ProgressStyleModel",
       "_view_count": null,
       "_view_module": "@jupyter-widgets/base",
       "_view_module_version": "1.2.0",
       "_view_name": "StyleView",
       "bar_color": null,
       "description_width": ""
      }
     },
     "1251a618e0a94ec0b95477475c45568a": {
      "model_module": "@jupyter-widgets/controls",
      "model_module_version": "1.5.0",
      "model_name": "HBoxModel",
      "state": {
       "_dom_classes": [],
       "_model_module": "@jupyter-widgets/controls",
       "_model_module_version": "1.5.0",
       "_model_name": "HBoxModel",
       "_view_count": null,
       "_view_module": "@jupyter-widgets/controls",
       "_view_module_version": "1.5.0",
       "_view_name": "HBoxView",
       "box_style": "",
       "children": [
        "IPY_MODEL_01d592c7d8484c72a09aa2b58124692a",
        "IPY_MODEL_07778f8e69f74716bb18c2c94a3ae86a",
        "IPY_MODEL_683e9b486c7747b6b656fd6e7d9c2090"
       ],
       "layout": "IPY_MODEL_a991ff5322e944ffb9ccfd3c8e7f9f49"
      }
     },
     "19a20b0cc31143099f6add46bcdd9ebf": {
      "model_module": "@jupyter-widgets/base",
      "model_module_version": "1.2.0",
      "model_name": "LayoutModel",
      "state": {
       "_model_module": "@jupyter-widgets/base",
       "_model_module_version": "1.2.0",
       "_model_name": "LayoutModel",
       "_view_count": null,
       "_view_module": "@jupyter-widgets/base",
       "_view_module_version": "1.2.0",
       "_view_name": "LayoutView",
       "align_content": null,
       "align_items": null,
       "align_self": null,
       "border": null,
       "bottom": null,
       "display": null,
       "flex": null,
       "flex_flow": null,
       "grid_area": null,
       "grid_auto_columns": null,
       "grid_auto_flow": null,
       "grid_auto_rows": null,
       "grid_column": null,
       "grid_gap": null,
       "grid_row": null,
       "grid_template_areas": null,
       "grid_template_columns": null,
       "grid_template_rows": null,
       "height": null,
       "justify_content": null,
       "justify_items": null,
       "left": null,
       "margin": null,
       "max_height": null,
       "max_width": null,
       "min_height": null,
       "min_width": null,
       "object_fit": null,
       "object_position": null,
       "order": null,
       "overflow": null,
       "overflow_x": null,
       "overflow_y": null,
       "padding": null,
       "right": null,
       "top": null,
       "visibility": null,
       "width": null
      }
     },
     "1aec7ee5e3aa462db91a851991d2290f": {
      "model_module": "@jupyter-widgets/controls",
      "model_module_version": "1.5.0",
      "model_name": "ProgressStyleModel",
      "state": {
       "_model_module": "@jupyter-widgets/controls",
       "_model_module_version": "1.5.0",
       "_model_name": "ProgressStyleModel",
       "_view_count": null,
       "_view_module": "@jupyter-widgets/base",
       "_view_module_version": "1.2.0",
       "_view_name": "StyleView",
       "bar_color": null,
       "description_width": ""
      }
     },
     "1de3be59d12f49738f5e09b46321c993": {
      "model_module": "@jupyter-widgets/base",
      "model_module_version": "1.2.0",
      "model_name": "LayoutModel",
      "state": {
       "_model_module": "@jupyter-widgets/base",
       "_model_module_version": "1.2.0",
       "_model_name": "LayoutModel",
       "_view_count": null,
       "_view_module": "@jupyter-widgets/base",
       "_view_module_version": "1.2.0",
       "_view_name": "LayoutView",
       "align_content": null,
       "align_items": null,
       "align_self": null,
       "border": null,
       "bottom": null,
       "display": null,
       "flex": null,
       "flex_flow": null,
       "grid_area": null,
       "grid_auto_columns": null,
       "grid_auto_flow": null,
       "grid_auto_rows": null,
       "grid_column": null,
       "grid_gap": null,
       "grid_row": null,
       "grid_template_areas": null,
       "grid_template_columns": null,
       "grid_template_rows": null,
       "height": null,
       "justify_content": null,
       "justify_items": null,
       "left": null,
       "margin": null,
       "max_height": null,
       "max_width": null,
       "min_height": null,
       "min_width": null,
       "object_fit": null,
       "object_position": null,
       "order": null,
       "overflow": null,
       "overflow_x": null,
       "overflow_y": null,
       "padding": null,
       "right": null,
       "top": null,
       "visibility": null,
       "width": null
      }
     },
     "1fe975c416c14e9990c3f04c0a91d285": {
      "model_module": "@jupyter-widgets/controls",
      "model_module_version": "1.5.0",
      "model_name": "DescriptionStyleModel",
      "state": {
       "_model_module": "@jupyter-widgets/controls",
       "_model_module_version": "1.5.0",
       "_model_name": "DescriptionStyleModel",
       "_view_count": null,
       "_view_module": "@jupyter-widgets/base",
       "_view_module_version": "1.2.0",
       "_view_name": "StyleView",
       "description_width": ""
      }
     },
     "2a21da03d9b44bf09082fddabad604de": {
      "model_module": "@jupyter-widgets/base",
      "model_module_version": "1.2.0",
      "model_name": "LayoutModel",
      "state": {
       "_model_module": "@jupyter-widgets/base",
       "_model_module_version": "1.2.0",
       "_model_name": "LayoutModel",
       "_view_count": null,
       "_view_module": "@jupyter-widgets/base",
       "_view_module_version": "1.2.0",
       "_view_name": "LayoutView",
       "align_content": null,
       "align_items": null,
       "align_self": null,
       "border": null,
       "bottom": null,
       "display": null,
       "flex": null,
       "flex_flow": null,
       "grid_area": null,
       "grid_auto_columns": null,
       "grid_auto_flow": null,
       "grid_auto_rows": null,
       "grid_column": null,
       "grid_gap": null,
       "grid_row": null,
       "grid_template_areas": null,
       "grid_template_columns": null,
       "grid_template_rows": null,
       "height": null,
       "justify_content": null,
       "justify_items": null,
       "left": null,
       "margin": null,
       "max_height": null,
       "max_width": null,
       "min_height": null,
       "min_width": null,
       "object_fit": null,
       "object_position": null,
       "order": null,
       "overflow": null,
       "overflow_x": null,
       "overflow_y": null,
       "padding": null,
       "right": null,
       "top": null,
       "visibility": null,
       "width": null
      }
     },
     "2c2baae7bfb94b268041acbe531fc298": {
      "model_module": "@jupyter-widgets/controls",
      "model_module_version": "1.5.0",
      "model_name": "HTMLModel",
      "state": {
       "_dom_classes": [],
       "_model_module": "@jupyter-widgets/controls",
       "_model_module_version": "1.5.0",
       "_model_name": "HTMLModel",
       "_view_count": null,
       "_view_module": "@jupyter-widgets/controls",
       "_view_module_version": "1.5.0",
       "_view_name": "HTMLView",
       "description": "",
       "description_tooltip": null,
       "layout": "IPY_MODEL_997a79d13b9d4069abc35e82158d77c9",
       "placeholder": "​",
       "style": "IPY_MODEL_39564a28c8354b32aca5c658c4332683",
       "value": "Downloading: 100%"
      }
     },
     "30ff78d3b3a94950ac96af1fd3c49195": {
      "model_module": "@jupyter-widgets/base",
      "model_module_version": "1.2.0",
      "model_name": "LayoutModel",
      "state": {
       "_model_module": "@jupyter-widgets/base",
       "_model_module_version": "1.2.0",
       "_model_name": "LayoutModel",
       "_view_count": null,
       "_view_module": "@jupyter-widgets/base",
       "_view_module_version": "1.2.0",
       "_view_name": "LayoutView",
       "align_content": null,
       "align_items": null,
       "align_self": null,
       "border": null,
       "bottom": null,
       "display": null,
       "flex": null,
       "flex_flow": null,
       "grid_area": null,
       "grid_auto_columns": null,
       "grid_auto_flow": null,
       "grid_auto_rows": null,
       "grid_column": null,
       "grid_gap": null,
       "grid_row": null,
       "grid_template_areas": null,
       "grid_template_columns": null,
       "grid_template_rows": null,
       "height": null,
       "justify_content": null,
       "justify_items": null,
       "left": null,
       "margin": null,
       "max_height": null,
       "max_width": null,
       "min_height": null,
       "min_width": null,
       "object_fit": null,
       "object_position": null,
       "order": null,
       "overflow": null,
       "overflow_x": null,
       "overflow_y": null,
       "padding": null,
       "right": null,
       "top": null,
       "visibility": null,
       "width": null
      }
     },
     "338d6b0e7f614b8c88b8f1c007175f0d": {
      "model_module": "@jupyter-widgets/controls",
      "model_module_version": "1.5.0",
      "model_name": "DescriptionStyleModel",
      "state": {
       "_model_module": "@jupyter-widgets/controls",
       "_model_module_version": "1.5.0",
       "_model_name": "DescriptionStyleModel",
       "_view_count": null,
       "_view_module": "@jupyter-widgets/base",
       "_view_module_version": "1.2.0",
       "_view_name": "StyleView",
       "description_width": ""
      }
     },
     "3948276156e549149de12db543754239": {
      "model_module": "@jupyter-widgets/base",
      "model_module_version": "1.2.0",
      "model_name": "LayoutModel",
      "state": {
       "_model_module": "@jupyter-widgets/base",
       "_model_module_version": "1.2.0",
       "_model_name": "LayoutModel",
       "_view_count": null,
       "_view_module": "@jupyter-widgets/base",
       "_view_module_version": "1.2.0",
       "_view_name": "LayoutView",
       "align_content": null,
       "align_items": null,
       "align_self": null,
       "border": null,
       "bottom": null,
       "display": null,
       "flex": null,
       "flex_flow": null,
       "grid_area": null,
       "grid_auto_columns": null,
       "grid_auto_flow": null,
       "grid_auto_rows": null,
       "grid_column": null,
       "grid_gap": null,
       "grid_row": null,
       "grid_template_areas": null,
       "grid_template_columns": null,
       "grid_template_rows": null,
       "height": null,
       "justify_content": null,
       "justify_items": null,
       "left": null,
       "margin": null,
       "max_height": null,
       "max_width": null,
       "min_height": null,
       "min_width": null,
       "object_fit": null,
       "object_position": null,
       "order": null,
       "overflow": null,
       "overflow_x": null,
       "overflow_y": null,
       "padding": null,
       "right": null,
       "top": null,
       "visibility": null,
       "width": null
      }
     },
     "39564a28c8354b32aca5c658c4332683": {
      "model_module": "@jupyter-widgets/controls",
      "model_module_version": "1.5.0",
      "model_name": "DescriptionStyleModel",
      "state": {
       "_model_module": "@jupyter-widgets/controls",
       "_model_module_version": "1.5.0",
       "_model_name": "DescriptionStyleModel",
       "_view_count": null,
       "_view_module": "@jupyter-widgets/base",
       "_view_module_version": "1.2.0",
       "_view_name": "StyleView",
       "description_width": ""
      }
     },
     "3befff80ca0a481485f7b8370b95cd42": {
      "model_module": "@jupyter-widgets/controls",
      "model_module_version": "1.5.0",
      "model_name": "HTMLModel",
      "state": {
       "_dom_classes": [],
       "_model_module": "@jupyter-widgets/controls",
       "_model_module_version": "1.5.0",
       "_model_name": "HTMLModel",
       "_view_count": null,
       "_view_module": "@jupyter-widgets/controls",
       "_view_module_version": "1.5.0",
       "_view_name": "HTMLView",
       "description": "",
       "description_tooltip": null,
       "layout": "IPY_MODEL_2a21da03d9b44bf09082fddabad604de",
       "placeholder": "​",
       "style": "IPY_MODEL_97173bbeea664b73878b7c1af4af7ed7",
       "value": " 273M/273M [00:28&lt;00:00, 11.9MB/s]"
      }
     },
     "3d58041b968c40acae00a9400d90d320": {
      "model_module": "@jupyter-widgets/base",
      "model_module_version": "1.2.0",
      "model_name": "LayoutModel",
      "state": {
       "_model_module": "@jupyter-widgets/base",
       "_model_module_version": "1.2.0",
       "_model_name": "LayoutModel",
       "_view_count": null,
       "_view_module": "@jupyter-widgets/base",
       "_view_module_version": "1.2.0",
       "_view_name": "LayoutView",
       "align_content": null,
       "align_items": null,
       "align_self": null,
       "border": null,
       "bottom": null,
       "display": null,
       "flex": null,
       "flex_flow": null,
       "grid_area": null,
       "grid_auto_columns": null,
       "grid_auto_flow": null,
       "grid_auto_rows": null,
       "grid_column": null,
       "grid_gap": null,
       "grid_row": null,
       "grid_template_areas": null,
       "grid_template_columns": null,
       "grid_template_rows": null,
       "height": null,
       "justify_content": null,
       "justify_items": null,
       "left": null,
       "margin": null,
       "max_height": null,
       "max_width": null,
       "min_height": null,
       "min_width": null,
       "object_fit": null,
       "object_position": null,
       "order": null,
       "overflow": null,
       "overflow_x": null,
       "overflow_y": null,
       "padding": null,
       "right": null,
       "top": null,
       "visibility": null,
       "width": null
      }
     },
     "4046f4892632465a9db5054845162c71": {
      "model_module": "@jupyter-widgets/base",
      "model_module_version": "1.2.0",
      "model_name": "LayoutModel",
      "state": {
       "_model_module": "@jupyter-widgets/base",
       "_model_module_version": "1.2.0",
       "_model_name": "LayoutModel",
       "_view_count": null,
       "_view_module": "@jupyter-widgets/base",
       "_view_module_version": "1.2.0",
       "_view_name": "LayoutView",
       "align_content": null,
       "align_items": null,
       "align_self": null,
       "border": null,
       "bottom": null,
       "display": null,
       "flex": null,
       "flex_flow": null,
       "grid_area": null,
       "grid_auto_columns": null,
       "grid_auto_flow": null,
       "grid_auto_rows": null,
       "grid_column": null,
       "grid_gap": null,
       "grid_row": null,
       "grid_template_areas": null,
       "grid_template_columns": null,
       "grid_template_rows": null,
       "height": null,
       "justify_content": null,
       "justify_items": null,
       "left": null,
       "margin": null,
       "max_height": null,
       "max_width": null,
       "min_height": null,
       "min_width": null,
       "object_fit": null,
       "object_position": null,
       "order": null,
       "overflow": null,
       "overflow_x": null,
       "overflow_y": null,
       "padding": null,
       "right": null,
       "top": null,
       "visibility": null,
       "width": null
      }
     },
     "4e48f2436d3c49de882f3332b2f4686a": {
      "model_module": "@jupyter-widgets/controls",
      "model_module_version": "1.5.0",
      "model_name": "HTMLModel",
      "state": {
       "_dom_classes": [],
       "_model_module": "@jupyter-widgets/controls",
       "_model_module_version": "1.5.0",
       "_model_name": "HTMLModel",
       "_view_count": null,
       "_view_module": "@jupyter-widgets/controls",
       "_view_module_version": "1.5.0",
       "_view_name": "HTMLView",
       "description": "",
       "description_tooltip": null,
       "layout": "IPY_MODEL_e62cb597aeaf4487a929c8e7917e87a0",
       "placeholder": "​",
       "style": "IPY_MODEL_a4bcbdd3a6574dea92923165cea511c4",
       "value": "Downloading: 100%"
      }
     },
     "505142ec485d44e8aa7f2d7486446de3": {
      "model_module": "@jupyter-widgets/controls",
      "model_module_version": "1.5.0",
      "model_name": "DescriptionStyleModel",
      "state": {
       "_model_module": "@jupyter-widgets/controls",
       "_model_module_version": "1.5.0",
       "_model_name": "DescriptionStyleModel",
       "_view_count": null,
       "_view_module": "@jupyter-widgets/base",
       "_view_module_version": "1.2.0",
       "_view_name": "StyleView",
       "description_width": ""
      }
     },
     "57ea289e74094c7bbcf196a60a1bca33": {
      "model_module": "@jupyter-widgets/base",
      "model_module_version": "1.2.0",
      "model_name": "LayoutModel",
      "state": {
       "_model_module": "@jupyter-widgets/base",
       "_model_module_version": "1.2.0",
       "_model_name": "LayoutModel",
       "_view_count": null,
       "_view_module": "@jupyter-widgets/base",
       "_view_module_version": "1.2.0",
       "_view_name": "LayoutView",
       "align_content": null,
       "align_items": null,
       "align_self": null,
       "border": null,
       "bottom": null,
       "display": null,
       "flex": null,
       "flex_flow": null,
       "grid_area": null,
       "grid_auto_columns": null,
       "grid_auto_flow": null,
       "grid_auto_rows": null,
       "grid_column": null,
       "grid_gap": null,
       "grid_row": null,
       "grid_template_areas": null,
       "grid_template_columns": null,
       "grid_template_rows": null,
       "height": null,
       "justify_content": null,
       "justify_items": null,
       "left": null,
       "margin": null,
       "max_height": null,
       "max_width": null,
       "min_height": null,
       "min_width": null,
       "object_fit": null,
       "object_position": null,
       "order": null,
       "overflow": null,
       "overflow_x": null,
       "overflow_y": null,
       "padding": null,
       "right": null,
       "top": null,
       "visibility": null,
       "width": null
      }
     },
     "5a549b439b84404a8ab9b8ce45210618": {
      "model_module": "@jupyter-widgets/controls",
      "model_module_version": "1.5.0",
      "model_name": "FloatProgressModel",
      "state": {
       "_dom_classes": [],
       "_model_module": "@jupyter-widgets/controls",
       "_model_module_version": "1.5.0",
       "_model_name": "FloatProgressModel",
       "_view_count": null,
       "_view_module": "@jupyter-widgets/controls",
       "_view_module_version": "1.5.0",
       "_view_name": "ProgressView",
       "bar_style": "success",
       "description": "",
       "description_tooltip": null,
       "layout": "IPY_MODEL_19a20b0cc31143099f6add46bcdd9ebf",
       "max": 1411.0,
       "min": 0.0,
       "orientation": "horizontal",
       "style": "IPY_MODEL_1aec7ee5e3aa462db91a851991d2290f",
       "value": 1411.0
      }
     },
     "5d511ffe6f9e4325be2a57bf8320457e": {
      "model_module": "@jupyter-widgets/controls",
      "model_module_version": "1.5.0",
      "model_name": "HBoxModel",
      "state": {
       "_dom_classes": [],
       "_model_module": "@jupyter-widgets/controls",
       "_model_module_version": "1.5.0",
       "_model_name": "HBoxModel",
       "_view_count": null,
       "_view_module": "@jupyter-widgets/controls",
       "_view_module_version": "1.5.0",
       "_view_name": "HBoxView",
       "box_style": "",
       "children": [
        "IPY_MODEL_2c2baae7bfb94b268041acbe531fc298",
        "IPY_MODEL_a077a77eddab425aa79cd1da9d94920e",
        "IPY_MODEL_3befff80ca0a481485f7b8370b95cd42"
       ],
       "layout": "IPY_MODEL_c0106894aaa44ad69d95d213487641eb"
      }
     },
     "5ed000f5a63d427daea3e224d96b1800": {
      "model_module": "@jupyter-widgets/controls",
      "model_module_version": "1.5.0",
      "model_name": "HTMLModel",
      "state": {
       "_dom_classes": [],
       "_model_module": "@jupyter-widgets/controls",
       "_model_module_version": "1.5.0",
       "_model_name": "HTMLModel",
       "_view_count": null,
       "_view_module": "@jupyter-widgets/controls",
       "_view_module_version": "1.5.0",
       "_view_name": "HTMLView",
       "description": "",
       "description_tooltip": null,
       "layout": "IPY_MODEL_b0b62904999f4bb59ebef36823a55b5d",
       "placeholder": "​",
       "style": "IPY_MODEL_06560c8b19204f6c91b6ad69607b5801",
       "value": " 24/24 [00:06&lt;00:00,  4.84ba/s]"
      }
     },
     "683e9b486c7747b6b656fd6e7d9c2090": {
      "model_module": "@jupyter-widgets/controls",
      "model_module_version": "1.5.0",
      "model_name": "HTMLModel",
      "state": {
       "_dom_classes": [],
       "_model_module": "@jupyter-widgets/controls",
       "_model_module_version": "1.5.0",
       "_model_name": "HTMLModel",
       "_view_count": null,
       "_view_module": "@jupyter-widgets/controls",
       "_view_module_version": "1.5.0",
       "_view_name": "HTMLView",
       "description": "",
       "description_tooltip": null,
       "layout": "IPY_MODEL_e6275d75760e4e3f93d1bd83fd4da543",
       "placeholder": "​",
       "style": "IPY_MODEL_1fe975c416c14e9990c3f04c0a91d285",
       "value": " 578/578 [00:00&lt;00:00, 19.7kB/s]"
      }
     },
     "6916b9ad961847be8a14e7d3f526aacc": {
      "model_module": "@jupyter-widgets/controls",
      "model_module_version": "1.5.0",
      "model_name": "HTMLModel",
      "state": {
       "_dom_classes": [],
       "_model_module": "@jupyter-widgets/controls",
       "_model_module_version": "1.5.0",
       "_model_name": "HTMLModel",
       "_view_count": null,
       "_view_module": "@jupyter-widgets/controls",
       "_view_module_version": "1.5.0",
       "_view_name": "HTMLView",
       "description": "",
       "description_tooltip": null,
       "layout": "IPY_MODEL_c73eb33ebb54491f8c90b54005898269",
       "placeholder": "​",
       "style": "IPY_MODEL_fc4abf0bcf2246848ad25a71d4d65fd4",
       "value": " 52.0/52.0 [00:00&lt;00:00, 1.43kB/s]"
      }
     },
     "7bcb5ef46841456e89ba8402b90f0f1d": {
      "model_module": "@jupyter-widgets/base",
      "model_module_version": "1.2.0",
      "model_name": "LayoutModel",
      "state": {
       "_model_module": "@jupyter-widgets/base",
       "_model_module_version": "1.2.0",
       "_model_name": "LayoutModel",
       "_view_count": null,
       "_view_module": "@jupyter-widgets/base",
       "_view_module_version": "1.2.0",
       "_view_name": "LayoutView",
       "align_content": null,
       "align_items": null,
       "align_self": null,
       "border": null,
       "bottom": null,
       "display": null,
       "flex": null,
       "flex_flow": null,
       "grid_area": null,
       "grid_auto_columns": null,
       "grid_auto_flow": null,
       "grid_auto_rows": null,
       "grid_column": null,
       "grid_gap": null,
       "grid_row": null,
       "grid_template_areas": null,
       "grid_template_columns": null,
       "grid_template_rows": null,
       "height": null,
       "justify_content": null,
       "justify_items": null,
       "left": null,
       "margin": null,
       "max_height": null,
       "max_width": null,
       "min_height": null,
       "min_width": null,
       "object_fit": null,
       "object_position": null,
       "order": null,
       "overflow": null,
       "overflow_x": null,
       "overflow_y": null,
       "padding": null,
       "right": null,
       "top": null,
       "visibility": null,
       "width": null
      }
     },
     "7d02fdbaa05f454fb5d0487b54b5ea5e": {
      "model_module": "@jupyter-widgets/controls",
      "model_module_version": "1.5.0",
      "model_name": "ProgressStyleModel",
      "state": {
       "_model_module": "@jupyter-widgets/controls",
       "_model_module_version": "1.5.0",
       "_model_name": "ProgressStyleModel",
       "_view_count": null,
       "_view_module": "@jupyter-widgets/base",
       "_view_module_version": "1.2.0",
       "_view_name": "StyleView",
       "bar_color": null,
       "description_width": ""
      }
     },
     "86dabeb04b5246f489a7f8f453d62571": {
      "model_module": "@jupyter-widgets/controls",
      "model_module_version": "1.5.0",
      "model_name": "DescriptionStyleModel",
      "state": {
       "_model_module": "@jupyter-widgets/controls",
       "_model_module_version": "1.5.0",
       "_model_name": "DescriptionStyleModel",
       "_view_count": null,
       "_view_module": "@jupyter-widgets/base",
       "_view_module_version": "1.2.0",
       "_view_name": "StyleView",
       "description_width": ""
      }
     },
     "8e7050411aa34797aecfdd4a174150df": {
      "model_module": "@jupyter-widgets/base",
      "model_module_version": "1.2.0",
      "model_name": "LayoutModel",
      "state": {
       "_model_module": "@jupyter-widgets/base",
       "_model_module_version": "1.2.0",
       "_model_name": "LayoutModel",
       "_view_count": null,
       "_view_module": "@jupyter-widgets/base",
       "_view_module_version": "1.2.0",
       "_view_name": "LayoutView",
       "align_content": null,
       "align_items": null,
       "align_self": null,
       "border": null,
       "bottom": null,
       "display": null,
       "flex": null,
       "flex_flow": null,
       "grid_area": null,
       "grid_auto_columns": null,
       "grid_auto_flow": null,
       "grid_auto_rows": null,
       "grid_column": null,
       "grid_gap": null,
       "grid_row": null,
       "grid_template_areas": null,
       "grid_template_columns": null,
       "grid_template_rows": null,
       "height": null,
       "justify_content": null,
       "justify_items": null,
       "left": null,
       "margin": null,
       "max_height": null,
       "max_width": null,
       "min_height": null,
       "min_width": null,
       "object_fit": null,
       "object_position": null,
       "order": null,
       "overflow": null,
       "overflow_x": null,
       "overflow_y": null,
       "padding": null,
       "right": null,
       "top": null,
       "visibility": null,
       "width": null
      }
     },
     "9367faae04564b1dafb9df36d72d6013": {
      "model_module": "@jupyter-widgets/controls",
      "model_module_version": "1.5.0",
      "model_name": "HTMLModel",
      "state": {
       "_dom_classes": [],
       "_model_module": "@jupyter-widgets/controls",
       "_model_module_version": "1.5.0",
       "_model_name": "HTMLModel",
       "_view_count": null,
       "_view_module": "@jupyter-widgets/controls",
       "_view_module_version": "1.5.0",
       "_view_name": "HTMLView",
       "description": "",
       "description_tooltip": null,
       "layout": "IPY_MODEL_57ea289e74094c7bbcf196a60a1bca33",
       "placeholder": "​",
       "style": "IPY_MODEL_fc8e9ca1fac447f780a3f22999010bba",
       "value": "Downloading: 100%"
      }
     },
     "96f65fb0797d4239ad628f301dc07206": {
      "model_module": "@jupyter-widgets/base",
      "model_module_version": "1.2.0",
      "model_name": "LayoutModel",
      "state": {
       "_model_module": "@jupyter-widgets/base",
       "_model_module_version": "1.2.0",
       "_model_name": "LayoutModel",
       "_view_count": null,
       "_view_module": "@jupyter-widgets/base",
       "_view_module_version": "1.2.0",
       "_view_name": "LayoutView",
       "align_content": null,
       "align_items": null,
       "align_self": null,
       "border": null,
       "bottom": null,
       "display": null,
       "flex": null,
       "flex_flow": null,
       "grid_area": null,
       "grid_auto_columns": null,
       "grid_auto_flow": null,
       "grid_auto_rows": null,
       "grid_column": null,
       "grid_gap": null,
       "grid_row": null,
       "grid_template_areas": null,
       "grid_template_columns": null,
       "grid_template_rows": null,
       "height": null,
       "justify_content": null,
       "justify_items": null,
       "left": null,
       "margin": null,
       "max_height": null,
       "max_width": null,
       "min_height": null,
       "min_width": null,
       "object_fit": null,
       "object_position": null,
       "order": null,
       "overflow": null,
       "overflow_x": null,
       "overflow_y": null,
       "padding": null,
       "right": null,
       "top": null,
       "visibility": null,
       "width": null
      }
     },
     "97173bbeea664b73878b7c1af4af7ed7": {
      "model_module": "@jupyter-widgets/controls",
      "model_module_version": "1.5.0",
      "model_name": "DescriptionStyleModel",
      "state": {
       "_model_module": "@jupyter-widgets/controls",
       "_model_module_version": "1.5.0",
       "_model_name": "DescriptionStyleModel",
       "_view_count": null,
       "_view_module": "@jupyter-widgets/base",
       "_view_module_version": "1.2.0",
       "_view_name": "StyleView",
       "description_width": ""
      }
     },
     "984a458d311746f7bb4d0f78f28f816f": {
      "model_module": "@jupyter-widgets/controls",
      "model_module_version": "1.5.0",
      "model_name": "FloatProgressModel",
      "state": {
       "_dom_classes": [],
       "_model_module": "@jupyter-widgets/controls",
       "_model_module_version": "1.5.0",
       "_model_name": "FloatProgressModel",
       "_view_count": null,
       "_view_module": "@jupyter-widgets/controls",
       "_view_module_version": "1.5.0",
       "_view_name": "ProgressView",
       "bar_style": "success",
       "description": "",
       "description_tooltip": null,
       "layout": "IPY_MODEL_bcef25869cd947c5a30b3811e2c7185b",
       "max": 2464616.0,
       "min": 0.0,
       "orientation": "horizontal",
       "style": "IPY_MODEL_cddefafb5743463495457aabf2f43fae",
       "value": 2464616.0
      }
     },
     "997a79d13b9d4069abc35e82158d77c9": {
      "model_module": "@jupyter-widgets/base",
      "model_module_version": "1.2.0",
      "model_name": "LayoutModel",
      "state": {
       "_model_module": "@jupyter-widgets/base",
       "_model_module_version": "1.2.0",
       "_model_name": "LayoutModel",
       "_view_count": null,
       "_view_module": "@jupyter-widgets/base",
       "_view_module_version": "1.2.0",
       "_view_name": "LayoutView",
       "align_content": null,
       "align_items": null,
       "align_self": null,
       "border": null,
       "bottom": null,
       "display": null,
       "flex": null,
       "flex_flow": null,
       "grid_area": null,
       "grid_auto_columns": null,
       "grid_auto_flow": null,
       "grid_auto_rows": null,
       "grid_column": null,
       "grid_gap": null,
       "grid_row": null,
       "grid_template_areas": null,
       "grid_template_columns": null,
       "grid_template_rows": null,
       "height": null,
       "justify_content": null,
       "justify_items": null,
       "left": null,
       "margin": null,
       "max_height": null,
       "max_width": null,
       "min_height": null,
       "min_width": null,
       "object_fit": null,
       "object_position": null,
       "order": null,
       "overflow": null,
       "overflow_x": null,
       "overflow_y": null,
       "padding": null,
       "right": null,
       "top": null,
       "visibility": null,
       "width": null
      }
     },
     "9e67dbfc754842e582f15bc3b311941e": {
      "model_module": "@jupyter-widgets/controls",
      "model_module_version": "1.5.0",
      "model_name": "HTMLModel",
      "state": {
       "_dom_classes": [],
       "_model_module": "@jupyter-widgets/controls",
       "_model_module_version": "1.5.0",
       "_model_name": "HTMLModel",
       "_view_count": null,
       "_view_module": "@jupyter-widgets/controls",
       "_view_module_version": "1.5.0",
       "_view_name": "HTMLView",
       "description": "",
       "description_tooltip": null,
       "layout": "IPY_MODEL_4046f4892632465a9db5054845162c71",
       "placeholder": "​",
       "style": "IPY_MODEL_338d6b0e7f614b8c88b8f1c007175f0d",
       "value": " 3.19k/? [00:00&lt;00:00, 118kB/s]"
      }
     },
     "a077a77eddab425aa79cd1da9d94920e": {
      "model_module": "@jupyter-widgets/controls",
      "model_module_version": "1.5.0",
      "model_name": "FloatProgressModel",
      "state": {
       "_dom_classes": [],
       "_model_module": "@jupyter-widgets/controls",
       "_model_module_version": "1.5.0",
       "_model_name": "FloatProgressModel",
       "_view_count": null,
       "_view_module": "@jupyter-widgets/controls",
       "_view_module_version": "1.5.0",
       "_view_name": "ProgressView",
       "bar_style": "success",
       "description": "",
       "description_tooltip": null,
       "layout": "IPY_MODEL_7bcb5ef46841456e89ba8402b90f0f1d",
       "max": 286059269.0,
       "min": 0.0,
       "orientation": "horizontal",
       "style": "IPY_MODEL_cdd1f2b8cf614be18f6b9d08407898dd",
       "value": 286059269.0
      }
     },
     "a13903bd9379453fb87ef034ae8841c3": {
      "model_module": "@jupyter-widgets/controls",
      "model_module_version": "1.5.0",
      "model_name": "HTMLModel",
      "state": {
       "_dom_classes": [],
       "_model_module": "@jupyter-widgets/controls",
       "_model_module_version": "1.5.0",
       "_model_name": "HTMLModel",
       "_view_count": null,
       "_view_module": "@jupyter-widgets/controls",
       "_view_module_version": "1.5.0",
       "_view_name": "HTMLView",
       "description": "",
       "description_tooltip": null,
       "layout": "IPY_MODEL_1de3be59d12f49738f5e09b46321c993",
       "placeholder": "​",
       "style": "IPY_MODEL_bfb3e6eacec6466fa7d8748a680d6067",
       "value": " 2.35M/2.35M [00:01&lt;00:00, 2.73MB/s]"
      }
     },
     "a4bcbdd3a6574dea92923165cea511c4": {
      "model_module": "@jupyter-widgets/controls",
      "model_module_version": "1.5.0",
      "model_name": "DescriptionStyleModel",
      "state": {
       "_model_module": "@jupyter-widgets/controls",
       "_model_module_version": "1.5.0",
       "_model_name": "DescriptionStyleModel",
       "_view_count": null,
       "_view_module": "@jupyter-widgets/base",
       "_view_module_version": "1.2.0",
       "_view_name": "StyleView",
       "description_width": ""
      }
     },
     "a6bae2ad7e104532b86766d53f7f4b8c": {
      "model_module": "@jupyter-widgets/base",
      "model_module_version": "1.2.0",
      "model_name": "LayoutModel",
      "state": {
       "_model_module": "@jupyter-widgets/base",
       "_model_module_version": "1.2.0",
       "_model_name": "LayoutModel",
       "_view_count": null,
       "_view_module": "@jupyter-widgets/base",
       "_view_module_version": "1.2.0",
       "_view_name": "LayoutView",
       "align_content": null,
       "align_items": null,
       "align_self": null,
       "border": null,
       "bottom": null,
       "display": null,
       "flex": null,
       "flex_flow": null,
       "grid_area": null,
       "grid_auto_columns": null,
       "grid_auto_flow": null,
       "grid_auto_rows": null,
       "grid_column": null,
       "grid_gap": null,
       "grid_row": null,
       "grid_template_areas": null,
       "grid_template_columns": null,
       "grid_template_rows": null,
       "height": null,
       "justify_content": null,
       "justify_items": null,
       "left": null,
       "margin": null,
       "max_height": null,
       "max_width": null,
       "min_height": null,
       "min_width": null,
       "object_fit": null,
       "object_position": null,
       "order": null,
       "overflow": null,
       "overflow_x": null,
       "overflow_y": null,
       "padding": null,
       "right": null,
       "top": null,
       "visibility": null,
       "width": null
      }
     },
     "a71445492c854a8aacae9c2e4376bc57": {
      "model_module": "@jupyter-widgets/base",
      "model_module_version": "1.2.0",
      "model_name": "LayoutModel",
      "state": {
       "_model_module": "@jupyter-widgets/base",
       "_model_module_version": "1.2.0",
       "_model_name": "LayoutModel",
       "_view_count": null,
       "_view_module": "@jupyter-widgets/base",
       "_view_module_version": "1.2.0",
       "_view_name": "LayoutView",
       "align_content": null,
       "align_items": null,
       "align_self": null,
       "border": null,
       "bottom": null,
       "display": null,
       "flex": null,
       "flex_flow": null,
       "grid_area": null,
       "grid_auto_columns": null,
       "grid_auto_flow": null,
       "grid_auto_rows": null,
       "grid_column": null,
       "grid_gap": null,
       "grid_row": null,
       "grid_template_areas": null,
       "grid_template_columns": null,
       "grid_template_rows": null,
       "height": null,
       "justify_content": null,
       "justify_items": null,
       "left": null,
       "margin": null,
       "max_height": null,
       "max_width": null,
       "min_height": null,
       "min_width": null,
       "object_fit": null,
       "object_position": null,
       "order": null,
       "overflow": null,
       "overflow_x": null,
       "overflow_y": null,
       "padding": null,
       "right": null,
       "top": null,
       "visibility": null,
       "width": null
      }
     },
     "a7a2b90500574cd4b01a96804535fc32": {
      "model_module": "@jupyter-widgets/controls",
      "model_module_version": "1.5.0",
      "model_name": "HBoxModel",
      "state": {
       "_dom_classes": [],
       "_model_module": "@jupyter-widgets/controls",
       "_model_module_version": "1.5.0",
       "_model_name": "HBoxModel",
       "_view_count": null,
       "_view_module": "@jupyter-widgets/controls",
       "_view_module_version": "1.5.0",
       "_view_name": "HBoxView",
       "box_style": "",
       "children": [
        "IPY_MODEL_a993291a11df4f208c87d976a997fdba",
        "IPY_MODEL_5a549b439b84404a8ab9b8ce45210618",
        "IPY_MODEL_9e67dbfc754842e582f15bc3b311941e"
       ],
       "layout": "IPY_MODEL_8e7050411aa34797aecfdd4a174150df"
      }
     },
     "a991ff5322e944ffb9ccfd3c8e7f9f49": {
      "model_module": "@jupyter-widgets/base",
      "model_module_version": "1.2.0",
      "model_name": "LayoutModel",
      "state": {
       "_model_module": "@jupyter-widgets/base",
       "_model_module_version": "1.2.0",
       "_model_name": "LayoutModel",
       "_view_count": null,
       "_view_module": "@jupyter-widgets/base",
       "_view_module_version": "1.2.0",
       "_view_name": "LayoutView",
       "align_content": null,
       "align_items": null,
       "align_self": null,
       "border": null,
       "bottom": null,
       "display": null,
       "flex": null,
       "flex_flow": null,
       "grid_area": null,
       "grid_auto_columns": null,
       "grid_auto_flow": null,
       "grid_auto_rows": null,
       "grid_column": null,
       "grid_gap": null,
       "grid_row": null,
       "grid_template_areas": null,
       "grid_template_columns": null,
       "grid_template_rows": null,
       "height": null,
       "justify_content": null,
       "justify_items": null,
       "left": null,
       "margin": null,
       "max_height": null,
       "max_width": null,
       "min_height": null,
       "min_width": null,
       "object_fit": null,
       "object_position": null,
       "order": null,
       "overflow": null,
       "overflow_x": null,
       "overflow_y": null,
       "padding": null,
       "right": null,
       "top": null,
       "visibility": null,
       "width": null
      }
     },
     "a993291a11df4f208c87d976a997fdba": {
      "model_module": "@jupyter-widgets/controls",
      "model_module_version": "1.5.0",
      "model_name": "HTMLModel",
      "state": {
       "_dom_classes": [],
       "_model_module": "@jupyter-widgets/controls",
       "_model_module_version": "1.5.0",
       "_model_name": "HTMLModel",
       "_view_count": null,
       "_view_module": "@jupyter-widgets/controls",
       "_view_module_version": "1.5.0",
       "_view_name": "HTMLView",
       "description": "",
       "description_tooltip": null,
       "layout": "IPY_MODEL_a71445492c854a8aacae9c2e4376bc57",
       "placeholder": "​",
       "style": "IPY_MODEL_505142ec485d44e8aa7f2d7486446de3",
       "value": "Downloading builder script: "
      }
     },
     "b0b62904999f4bb59ebef36823a55b5d": {
      "model_module": "@jupyter-widgets/base",
      "model_module_version": "1.2.0",
      "model_name": "LayoutModel",
      "state": {
       "_model_module": "@jupyter-widgets/base",
       "_model_module_version": "1.2.0",
       "_model_name": "LayoutModel",
       "_view_count": null,
       "_view_module": "@jupyter-widgets/base",
       "_view_module_version": "1.2.0",
       "_view_name": "LayoutView",
       "align_content": null,
       "align_items": null,
       "align_self": null,
       "border": null,
       "bottom": null,
       "display": null,
       "flex": null,
       "flex_flow": null,
       "grid_area": null,
       "grid_auto_columns": null,
       "grid_auto_flow": null,
       "grid_auto_rows": null,
       "grid_column": null,
       "grid_gap": null,
       "grid_row": null,
       "grid_template_areas": null,
       "grid_template_columns": null,
       "grid_template_rows": null,
       "height": null,
       "justify_content": null,
       "justify_items": null,
       "left": null,
       "margin": null,
       "max_height": null,
       "max_width": null,
       "min_height": null,
       "min_width": null,
       "object_fit": null,
       "object_position": null,
       "order": null,
       "overflow": null,
       "overflow_x": null,
       "overflow_y": null,
       "padding": null,
       "right": null,
       "top": null,
       "visibility": null,
       "width": null
      }
     },
     "b22b4dda44c547f6af6fe72a9e37a27c": {
      "model_module": "@jupyter-widgets/controls",
      "model_module_version": "1.5.0",
      "model_name": "ProgressStyleModel",
      "state": {
       "_model_module": "@jupyter-widgets/controls",
       "_model_module_version": "1.5.0",
       "_model_name": "ProgressStyleModel",
       "_view_count": null,
       "_view_module": "@jupyter-widgets/base",
       "_view_module_version": "1.2.0",
       "_view_name": "StyleView",
       "bar_color": null,
       "description_width": ""
      }
     },
     "b661938146ea4ba29d3b258cbb576add": {
      "model_module": "@jupyter-widgets/base",
      "model_module_version": "1.2.0",
      "model_name": "LayoutModel",
      "state": {
       "_model_module": "@jupyter-widgets/base",
       "_model_module_version": "1.2.0",
       "_model_name": "LayoutModel",
       "_view_count": null,
       "_view_module": "@jupyter-widgets/base",
       "_view_module_version": "1.2.0",
       "_view_name": "LayoutView",
       "align_content": null,
       "align_items": null,
       "align_self": null,
       "border": null,
       "bottom": null,
       "display": null,
       "flex": null,
       "flex_flow": null,
       "grid_area": null,
       "grid_auto_columns": null,
       "grid_auto_flow": null,
       "grid_auto_rows": null,
       "grid_column": null,
       "grid_gap": null,
       "grid_row": null,
       "grid_template_areas": null,
       "grid_template_columns": null,
       "grid_template_rows": null,
       "height": null,
       "justify_content": null,
       "justify_items": null,
       "left": null,
       "margin": null,
       "max_height": null,
       "max_width": null,
       "min_height": null,
       "min_width": null,
       "object_fit": null,
       "object_position": null,
       "order": null,
       "overflow": null,
       "overflow_x": null,
       "overflow_y": null,
       "padding": null,
       "right": null,
       "top": null,
       "visibility": null,
       "width": null
      }
     },
     "bbac98808fc54c70b6bdc976fc9dd130": {
      "model_module": "@jupyter-widgets/base",
      "model_module_version": "1.2.0",
      "model_name": "LayoutModel",
      "state": {
       "_model_module": "@jupyter-widgets/base",
       "_model_module_version": "1.2.0",
       "_model_name": "LayoutModel",
       "_view_count": null,
       "_view_module": "@jupyter-widgets/base",
       "_view_module_version": "1.2.0",
       "_view_name": "LayoutView",
       "align_content": null,
       "align_items": null,
       "align_self": null,
       "border": null,
       "bottom": null,
       "display": null,
       "flex": null,
       "flex_flow": null,
       "grid_area": null,
       "grid_auto_columns": null,
       "grid_auto_flow": null,
       "grid_auto_rows": null,
       "grid_column": null,
       "grid_gap": null,
       "grid_row": null,
       "grid_template_areas": null,
       "grid_template_columns": null,
       "grid_template_rows": null,
       "height": null,
       "justify_content": null,
       "justify_items": null,
       "left": null,
       "margin": null,
       "max_height": null,
       "max_width": null,
       "min_height": null,
       "min_width": null,
       "object_fit": null,
       "object_position": null,
       "order": null,
       "overflow": null,
       "overflow_x": null,
       "overflow_y": null,
       "padding": null,
       "right": null,
       "top": null,
       "visibility": null,
       "width": null
      }
     },
     "bcef25869cd947c5a30b3811e2c7185b": {
      "model_module": "@jupyter-widgets/base",
      "model_module_version": "1.2.0",
      "model_name": "LayoutModel",
      "state": {
       "_model_module": "@jupyter-widgets/base",
       "_model_module_version": "1.2.0",
       "_model_name": "LayoutModel",
       "_view_count": null,
       "_view_module": "@jupyter-widgets/base",
       "_view_module_version": "1.2.0",
       "_view_name": "LayoutView",
       "align_content": null,
       "align_items": null,
       "align_self": null,
       "border": null,
       "bottom": null,
       "display": null,
       "flex": null,
       "flex_flow": null,
       "grid_area": null,
       "grid_auto_columns": null,
       "grid_auto_flow": null,
       "grid_auto_rows": null,
       "grid_column": null,
       "grid_gap": null,
       "grid_row": null,
       "grid_template_areas": null,
       "grid_template_columns": null,
       "grid_template_rows": null,
       "height": null,
       "justify_content": null,
       "justify_items": null,
       "left": null,
       "margin": null,
       "max_height": null,
       "max_width": null,
       "min_height": null,
       "min_width": null,
       "object_fit": null,
       "object_position": null,
       "order": null,
       "overflow": null,
       "overflow_x": null,
       "overflow_y": null,
       "padding": null,
       "right": null,
       "top": null,
       "visibility": null,
       "width": null
      }
     },
     "bf391313c4a64c068a5cef6be1ba3aea": {
      "model_module": "@jupyter-widgets/controls",
      "model_module_version": "1.5.0",
      "model_name": "DescriptionStyleModel",
      "state": {
       "_model_module": "@jupyter-widgets/controls",
       "_model_module_version": "1.5.0",
       "_model_name": "DescriptionStyleModel",
       "_view_count": null,
       "_view_module": "@jupyter-widgets/base",
       "_view_module_version": "1.2.0",
       "_view_name": "StyleView",
       "description_width": ""
      }
     },
     "bfb3e6eacec6466fa7d8748a680d6067": {
      "model_module": "@jupyter-widgets/controls",
      "model_module_version": "1.5.0",
      "model_name": "DescriptionStyleModel",
      "state": {
       "_model_module": "@jupyter-widgets/controls",
       "_model_module_version": "1.5.0",
       "_model_name": "DescriptionStyleModel",
       "_view_count": null,
       "_view_module": "@jupyter-widgets/base",
       "_view_module_version": "1.2.0",
       "_view_name": "StyleView",
       "description_width": ""
      }
     },
     "c0106894aaa44ad69d95d213487641eb": {
      "model_module": "@jupyter-widgets/base",
      "model_module_version": "1.2.0",
      "model_name": "LayoutModel",
      "state": {
       "_model_module": "@jupyter-widgets/base",
       "_model_module_version": "1.2.0",
       "_model_name": "LayoutModel",
       "_view_count": null,
       "_view_module": "@jupyter-widgets/base",
       "_view_module_version": "1.2.0",
       "_view_name": "LayoutView",
       "align_content": null,
       "align_items": null,
       "align_self": null,
       "border": null,
       "bottom": null,
       "display": null,
       "flex": null,
       "flex_flow": null,
       "grid_area": null,
       "grid_auto_columns": null,
       "grid_auto_flow": null,
       "grid_auto_rows": null,
       "grid_column": null,
       "grid_gap": null,
       "grid_row": null,
       "grid_template_areas": null,
       "grid_template_columns": null,
       "grid_template_rows": null,
       "height": null,
       "justify_content": null,
       "justify_items": null,
       "left": null,
       "margin": null,
       "max_height": null,
       "max_width": null,
       "min_height": null,
       "min_width": null,
       "object_fit": null,
       "object_position": null,
       "order": null,
       "overflow": null,
       "overflow_x": null,
       "overflow_y": null,
       "padding": null,
       "right": null,
       "top": null,
       "visibility": null,
       "width": null
      }
     },
     "c17c3c032ec249c6b45821e98f201d1d": {
      "model_module": "@jupyter-widgets/controls",
      "model_module_version": "1.5.0",
      "model_name": "FloatProgressModel",
      "state": {
       "_dom_classes": [],
       "_model_module": "@jupyter-widgets/controls",
       "_model_module_version": "1.5.0",
       "_model_name": "FloatProgressModel",
       "_view_count": null,
       "_view_module": "@jupyter-widgets/controls",
       "_view_module_version": "1.5.0",
       "_view_name": "ProgressView",
       "bar_style": "success",
       "description": "",
       "description_tooltip": null,
       "layout": "IPY_MODEL_b661938146ea4ba29d3b258cbb576add",
       "max": 24.0,
       "min": 0.0,
       "orientation": "horizontal",
       "style": "IPY_MODEL_7d02fdbaa05f454fb5d0487b54b5ea5e",
       "value": 24.0
      }
     },
     "c288090043d94668b795d69b4670c375": {
      "model_module": "@jupyter-widgets/base",
      "model_module_version": "1.2.0",
      "model_name": "LayoutModel",
      "state": {
       "_model_module": "@jupyter-widgets/base",
       "_model_module_version": "1.2.0",
       "_model_name": "LayoutModel",
       "_view_count": null,
       "_view_module": "@jupyter-widgets/base",
       "_view_module_version": "1.2.0",
       "_view_name": "LayoutView",
       "align_content": null,
       "align_items": null,
       "align_self": null,
       "border": null,
       "bottom": null,
       "display": null,
       "flex": null,
       "flex_flow": null,
       "grid_area": null,
       "grid_auto_columns": null,
       "grid_auto_flow": null,
       "grid_auto_rows": null,
       "grid_column": null,
       "grid_gap": null,
       "grid_row": null,
       "grid_template_areas": null,
       "grid_template_columns": null,
       "grid_template_rows": null,
       "height": null,
       "justify_content": null,
       "justify_items": null,
       "left": null,
       "margin": null,
       "max_height": null,
       "max_width": null,
       "min_height": null,
       "min_width": null,
       "object_fit": null,
       "object_position": null,
       "order": null,
       "overflow": null,
       "overflow_x": null,
       "overflow_y": null,
       "padding": null,
       "right": null,
       "top": null,
       "visibility": null,
       "width": null
      }
     },
     "c6ec82d90e88461b9c3c7e9b6fcb7f04": {
      "model_module": "@jupyter-widgets/controls",
      "model_module_version": "1.5.0",
      "model_name": "HBoxModel",
      "state": {
       "_dom_classes": [],
       "_model_module": "@jupyter-widgets/controls",
       "_model_module_version": "1.5.0",
       "_model_name": "HBoxModel",
       "_view_count": null,
       "_view_module": "@jupyter-widgets/controls",
       "_view_module_version": "1.5.0",
       "_view_name": "HBoxView",
       "box_style": "",
       "children": [
        "IPY_MODEL_9367faae04564b1dafb9df36d72d6013",
        "IPY_MODEL_de7e70f39d4e4f70a43c5ce565d01e7e",
        "IPY_MODEL_6916b9ad961847be8a14e7d3f526aacc"
       ],
       "layout": "IPY_MODEL_96f65fb0797d4239ad628f301dc07206"
      }
     },
     "c73eb33ebb54491f8c90b54005898269": {
      "model_module": "@jupyter-widgets/base",
      "model_module_version": "1.2.0",
      "model_name": "LayoutModel",
      "state": {
       "_model_module": "@jupyter-widgets/base",
       "_model_module_version": "1.2.0",
       "_model_name": "LayoutModel",
       "_view_count": null,
       "_view_module": "@jupyter-widgets/base",
       "_view_module_version": "1.2.0",
       "_view_name": "LayoutView",
       "align_content": null,
       "align_items": null,
       "align_self": null,
       "border": null,
       "bottom": null,
       "display": null,
       "flex": null,
       "flex_flow": null,
       "grid_area": null,
       "grid_auto_columns": null,
       "grid_auto_flow": null,
       "grid_auto_rows": null,
       "grid_column": null,
       "grid_gap": null,
       "grid_row": null,
       "grid_template_areas": null,
       "grid_template_columns": null,
       "grid_template_rows": null,
       "height": null,
       "justify_content": null,
       "justify_items": null,
       "left": null,
       "margin": null,
       "max_height": null,
       "max_width": null,
       "min_height": null,
       "min_width": null,
       "object_fit": null,
       "object_position": null,
       "order": null,
       "overflow": null,
       "overflow_x": null,
       "overflow_y": null,
       "padding": null,
       "right": null,
       "top": null,
       "visibility": null,
       "width": null
      }
     },
     "c9c7f1e5e9b54b78b98f789df2efbaf1": {
      "model_module": "@jupyter-widgets/controls",
      "model_module_version": "1.5.0",
      "model_name": "HBoxModel",
      "state": {
       "_dom_classes": [],
       "_model_module": "@jupyter-widgets/controls",
       "_model_module_version": "1.5.0",
       "_model_name": "HBoxModel",
       "_view_count": null,
       "_view_module": "@jupyter-widgets/controls",
       "_view_module_version": "1.5.0",
       "_view_name": "HBoxView",
       "box_style": "",
       "children": [
        "IPY_MODEL_4e48f2436d3c49de882f3332b2f4686a",
        "IPY_MODEL_984a458d311746f7bb4d0f78f28f816f",
        "IPY_MODEL_a13903bd9379453fb87ef034ae8841c3"
       ],
       "layout": "IPY_MODEL_bbac98808fc54c70b6bdc976fc9dd130"
      }
     },
     "cdd1f2b8cf614be18f6b9d08407898dd": {
      "model_module": "@jupyter-widgets/controls",
      "model_module_version": "1.5.0",
      "model_name": "ProgressStyleModel",
      "state": {
       "_model_module": "@jupyter-widgets/controls",
       "_model_module_version": "1.5.0",
       "_model_name": "ProgressStyleModel",
       "_view_count": null,
       "_view_module": "@jupyter-widgets/base",
       "_view_module_version": "1.2.0",
       "_view_name": "StyleView",
       "bar_color": null,
       "description_width": ""
      }
     },
     "cddefafb5743463495457aabf2f43fae": {
      "model_module": "@jupyter-widgets/controls",
      "model_module_version": "1.5.0",
      "model_name": "ProgressStyleModel",
      "state": {
       "_model_module": "@jupyter-widgets/controls",
       "_model_module_version": "1.5.0",
       "_model_name": "ProgressStyleModel",
       "_view_count": null,
       "_view_module": "@jupyter-widgets/base",
       "_view_module_version": "1.2.0",
       "_view_name": "StyleView",
       "bar_color": null,
       "description_width": ""
      }
     },
     "de7e70f39d4e4f70a43c5ce565d01e7e": {
      "model_module": "@jupyter-widgets/controls",
      "model_module_version": "1.5.0",
      "model_name": "FloatProgressModel",
      "state": {
       "_dom_classes": [],
       "_model_module": "@jupyter-widgets/controls",
       "_model_module_version": "1.5.0",
       "_model_name": "FloatProgressModel",
       "_view_count": null,
       "_view_module": "@jupyter-widgets/controls",
       "_view_module_version": "1.5.0",
       "_view_name": "ProgressView",
       "bar_style": "success",
       "description": "",
       "description_tooltip": null,
       "layout": "IPY_MODEL_3d58041b968c40acae00a9400d90d320",
       "max": 52.0,
       "min": 0.0,
       "orientation": "horizontal",
       "style": "IPY_MODEL_10e4e14975554d29989fd1cda68a8985",
       "value": 52.0
      }
     },
     "e271345fe14c439c81f633e34dce9f3a": {
      "model_module": "@jupyter-widgets/controls",
      "model_module_version": "1.5.0",
      "model_name": "HBoxModel",
      "state": {
       "_dom_classes": [],
       "_model_module": "@jupyter-widgets/controls",
       "_model_module_version": "1.5.0",
       "_model_name": "HBoxModel",
       "_view_count": null,
       "_view_module": "@jupyter-widgets/controls",
       "_view_module_version": "1.5.0",
       "_view_name": "HBoxView",
       "box_style": "",
       "children": [
        "IPY_MODEL_080ac6f96707488f914b678e05b43b4b",
        "IPY_MODEL_c17c3c032ec249c6b45821e98f201d1d",
        "IPY_MODEL_5ed000f5a63d427daea3e224d96b1800"
       ],
       "layout": "IPY_MODEL_c288090043d94668b795d69b4670c375"
      }
     },
     "e6275d75760e4e3f93d1bd83fd4da543": {
      "model_module": "@jupyter-widgets/base",
      "model_module_version": "1.2.0",
      "model_name": "LayoutModel",
      "state": {
       "_model_module": "@jupyter-widgets/base",
       "_model_module_version": "1.2.0",
       "_model_name": "LayoutModel",
       "_view_count": null,
       "_view_module": "@jupyter-widgets/base",
       "_view_module_version": "1.2.0",
       "_view_name": "LayoutView",
       "align_content": null,
       "align_items": null,
       "align_self": null,
       "border": null,
       "bottom": null,
       "display": null,
       "flex": null,
       "flex_flow": null,
       "grid_area": null,
       "grid_auto_columns": null,
       "grid_auto_flow": null,
       "grid_auto_rows": null,
       "grid_column": null,
       "grid_gap": null,
       "grid_row": null,
       "grid_template_areas": null,
       "grid_template_columns": null,
       "grid_template_rows": null,
       "height": null,
       "justify_content": null,
       "justify_items": null,
       "left": null,
       "margin": null,
       "max_height": null,
       "max_width": null,
       "min_height": null,
       "min_width": null,
       "object_fit": null,
       "object_position": null,
       "order": null,
       "overflow": null,
       "overflow_x": null,
       "overflow_y": null,
       "padding": null,
       "right": null,
       "top": null,
       "visibility": null,
       "width": null
      }
     },
     "e62cb597aeaf4487a929c8e7917e87a0": {
      "model_module": "@jupyter-widgets/base",
      "model_module_version": "1.2.0",
      "model_name": "LayoutModel",
      "state": {
       "_model_module": "@jupyter-widgets/base",
       "_model_module_version": "1.2.0",
       "_model_name": "LayoutModel",
       "_view_count": null,
       "_view_module": "@jupyter-widgets/base",
       "_view_module_version": "1.2.0",
       "_view_name": "LayoutView",
       "align_content": null,
       "align_items": null,
       "align_self": null,
       "border": null,
       "bottom": null,
       "display": null,
       "flex": null,
       "flex_flow": null,
       "grid_area": null,
       "grid_auto_columns": null,
       "grid_auto_flow": null,
       "grid_auto_rows": null,
       "grid_column": null,
       "grid_gap": null,
       "grid_row": null,
       "grid_template_areas": null,
       "grid_template_columns": null,
       "grid_template_rows": null,
       "height": null,
       "justify_content": null,
       "justify_items": null,
       "left": null,
       "margin": null,
       "max_height": null,
       "max_width": null,
       "min_height": null,
       "min_width": null,
       "object_fit": null,
       "object_position": null,
       "order": null,
       "overflow": null,
       "overflow_x": null,
       "overflow_y": null,
       "padding": null,
       "right": null,
       "top": null,
       "visibility": null,
       "width": null
      }
     },
     "fc4abf0bcf2246848ad25a71d4d65fd4": {
      "model_module": "@jupyter-widgets/controls",
      "model_module_version": "1.5.0",
      "model_name": "DescriptionStyleModel",
      "state": {
       "_model_module": "@jupyter-widgets/controls",
       "_model_module_version": "1.5.0",
       "_model_name": "DescriptionStyleModel",
       "_view_count": null,
       "_view_module": "@jupyter-widgets/base",
       "_view_module_version": "1.2.0",
       "_view_name": "StyleView",
       "description_width": ""
      }
     },
     "fc8e9ca1fac447f780a3f22999010bba": {
      "model_module": "@jupyter-widgets/controls",
      "model_module_version": "1.5.0",
      "model_name": "DescriptionStyleModel",
      "state": {
       "_model_module": "@jupyter-widgets/controls",
       "_model_module_version": "1.5.0",
       "_model_name": "DescriptionStyleModel",
       "_view_count": null,
       "_view_module": "@jupyter-widgets/base",
       "_view_module_version": "1.2.0",
       "_view_name": "StyleView",
       "description_width": ""
      }
     }
    },
    "version_major": 2,
    "version_minor": 0
   }
  }
 },
 "nbformat": 4,
 "nbformat_minor": 5
}

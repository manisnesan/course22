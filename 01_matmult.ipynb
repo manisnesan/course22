{
 "cells": [
  {
   "cell_type": "code",
   "execution_count": null,
   "id": "91662330",
   "metadata": {},
   "outputs": [],
   "source": [
    "%matplotlib inline"
   ]
  },
  {
   "cell_type": "markdown",
   "id": "5197fdbb",
   "metadata": {},
   "source": [
    "# Matrix Multiplication from foundations"
   ]
  },
  {
   "cell_type": "markdown",
   "id": "7ef22454",
   "metadata": {},
   "source": [
    "Assumed foundations are \n",
    "- python\n",
    "- matplotlib\n",
    "- python standard library\n",
    "- jupyter notebooks and nbdev"
   ]
  },
  {
   "cell_type": "code",
   "execution_count": null,
   "id": "2b28478b",
   "metadata": {},
   "outputs": [],
   "source": [
    "from nbdev.showdoc import show_doc\n",
    "from fastcore.all import *"
   ]
  },
  {
   "cell_type": "code",
   "execution_count": null,
   "id": "aab89a1a",
   "metadata": {},
   "outputs": [],
   "source": [
    "from pathlib import Path\n",
    "import pickle, gzip, math, os, time, shutil, matplotlib as mpl, matplotlib.pyplot as plt"
   ]
  },
  {
   "cell_type": "markdown",
   "id": "2eea789c",
   "metadata": {},
   "source": [
    "## Get Data"
   ]
  },
  {
   "cell_type": "code",
   "execution_count": null,
   "id": "947fb6a7",
   "metadata": {},
   "outputs": [],
   "source": [
    "MNIST_URL='https://github.com/mnielsen/neural-networks-and-deep-learning/blob/master/data/mnist.pkl.gz?raw=true'\n",
    "path_data = Path('data')\n",
    "path_data.mkdir(exist_ok=True)\n",
    "path_gz=path_data/'mnist.pkl.gz'"
   ]
  },
  {
   "cell_type": "code",
   "execution_count": null,
   "id": "74fd94b1",
   "metadata": {},
   "outputs": [],
   "source": [
    "from urllib.request import urlretrieve"
   ]
  },
  {
   "cell_type": "code",
   "execution_count": null,
   "id": "6cbe8d3d",
   "metadata": {},
   "outputs": [],
   "source": [
    "# show_doc(urlretrieve)"
   ]
  },
  {
   "cell_type": "code",
   "execution_count": null,
   "id": "31ddb0e6",
   "metadata": {},
   "outputs": [],
   "source": [
    "if not path_gz.exists(): urlretrieve(MNIST_URL, filename=path_gz)"
   ]
  },
  {
   "cell_type": "code",
   "execution_count": null,
   "id": "38a1bed6",
   "metadata": {},
   "outputs": [
    {
     "name": "stdout",
     "output_type": "stream",
     "text": [
      "total 16660\r\n",
      "-rw-r--r-- 1 msivanes msivanes 17051982 Oct 19 15:12 mnist.pkl.gz\r\n"
     ]
    }
   ],
   "source": [
    "!ls -l data"
   ]
  },
  {
   "cell_type": "code",
   "execution_count": null,
   "id": "27d57337",
   "metadata": {},
   "outputs": [],
   "source": [
    "# show_doc(gzip.open)\n",
    "# show_doc(pickle.load)"
   ]
  },
  {
   "cell_type": "code",
   "execution_count": null,
   "id": "6c3ccc09",
   "metadata": {},
   "outputs": [],
   "source": [
    "with gzip.open(path_gz, 'rb') as f: o = pickle.load(f, encoding='latin-1')"
   ]
  },
  {
   "cell_type": "code",
   "execution_count": null,
   "id": "fe2c1469",
   "metadata": {},
   "outputs": [
    {
     "data": {
      "text/plain": [
       "(3, 2, 2, 2)"
      ]
     },
     "execution_count": null,
     "metadata": {},
     "output_type": "execute_result"
    }
   ],
   "source": [
    "len(o), len(o[0]), len(o[1]), len(o[2])"
   ]
  },
  {
   "cell_type": "code",
   "execution_count": null,
   "id": "51a5427e",
   "metadata": {},
   "outputs": [
    {
     "data": {
      "text/plain": [
       "(50000, 50000, 10000, 10000)"
      ]
     },
     "execution_count": null,
     "metadata": {},
     "output_type": "execute_result"
    }
   ],
   "source": [
    "((x_train, y_train), (x_valid, y_valid), _) = o\n",
    "len(x_train), len(y_train), len(x_valid), len(y_valid)"
   ]
  },
  {
   "cell_type": "code",
   "execution_count": null,
   "id": "7600fec3",
   "metadata": {},
   "outputs": [
    {
     "data": {
      "text/plain": [
       "784"
      ]
     },
     "execution_count": null,
     "metadata": {},
     "output_type": "execute_result"
    }
   ],
   "source": [
    "lst1 = list(x_train[0]); len(lst1)"
   ]
  },
  {
   "cell_type": "code",
   "execution_count": null,
   "id": "c87a160d",
   "metadata": {},
   "outputs": [
    {
     "data": {
      "text/plain": [
       "[0.0,\n",
       " 0.0,\n",
       " 0.0,\n",
       " 0.19140625,\n",
       " 0.9296875,\n",
       " 0.98828125,\n",
       " 0.98828125,\n",
       " 0.98828125,\n",
       " 0.98828125,\n",
       " 0.98828125]"
      ]
     },
     "execution_count": null,
     "metadata": {},
     "output_type": "execute_result"
    }
   ],
   "source": [
    "vals=lst1[200:210];vals"
   ]
  },
  {
   "cell_type": "markdown",
   "id": "70485fb3",
   "metadata": {},
   "source": [
    "**yield** keyword will convert an expression specified along with it to a generator object and return it to the caller. Hence, to get the values stored inside the generator object, iterate over it."
   ]
  },
  {
   "cell_type": "code",
   "execution_count": null,
   "id": "3e91fd32",
   "metadata": {},
   "outputs": [],
   "source": [
    "# Get the values in chunks using generator\n",
    "def chunks(x, sz): \n",
    "    for i in range(0, len(x), sz): yield x[i:i+sz]"
   ]
  },
  {
   "cell_type": "code",
   "execution_count": null,
   "id": "03bc543b",
   "metadata": {},
   "outputs": [
    {
     "data": {
      "text/plain": [
       "[[0.0, 0.0, 0.0, 0.19140625, 0.9296875],\n",
       " [0.98828125, 0.98828125, 0.98828125, 0.98828125, 0.98828125]]"
      ]
     },
     "execution_count": null,
     "metadata": {},
     "output_type": "execute_result"
    }
   ],
   "source": [
    "a=range(10);z=[]\n",
    "for x in chunks(a, 4):\n",
    "    z.append(list(x))\n",
    "test_eq(z, [[0, 1, 2, 3], [4, 5, 6, 7], [8, 9]])\n",
    "\n",
    "list(chunks(vals, 5))"
   ]
  },
  {
   "cell_type": "code",
   "execution_count": null,
   "id": "ea1a5964",
   "metadata": {},
   "outputs": [
    {
     "data": {
      "text/plain": [
       "<matplotlib.image.AxesImage>"
      ]
     },
     "execution_count": null,
     "metadata": {},
     "output_type": "execute_result"
    },
    {
     "data": {
      "image/png": "[encoded data removed]",
      "text/plain": [
       "<Figure size 432x288 with 1 Axes>"
      ]
     },
     "metadata": {
      "needs_background": "light"
     },
     "output_type": "display_data"
    }
   ],
   "source": [
    "mpl.rcParams['image.cmap']='gray'\n",
    "plt.imshow(list(chunks(lst1, 28)))"
   ]
  },
  {
   "cell_type": "markdown",
   "id": "7865d266",
   "metadata": {},
   "source": [
    "`itertools.islice` - makes an iterator and returns the selected items from the iterable. Grabs the first n things from the iterable and if we try to grab more, raises a `StopIteration`"
   ]
  },
  {
   "cell_type": "markdown",
   "id": "36f401b5",
   "metadata": {},
   "source": [
    "The functionality of chunks can be replicated using `itertools.islice`"
   ]
  },
  {
   "cell_type": "code",
   "execution_count": null,
   "id": "edfb0ee7",
   "metadata": {},
   "outputs": [],
   "source": [
    "from itertools import islice"
   ]
  },
  {
   "cell_type": "code",
   "execution_count": null,
   "id": "68f4075e",
   "metadata": {},
   "outputs": [
    {
     "data": {
      "text/plain": [
       "<itertools.islice>"
      ]
     },
     "execution_count": null,
     "metadata": {},
     "output_type": "execute_result"
    }
   ],
   "source": [
    "it = iter(vals)\n",
    "islice(it, 5)"
   ]
  },
  {
   "cell_type": "code",
   "execution_count": null,
   "id": "19afaf41",
   "metadata": {},
   "outputs": [
    {
     "data": {
      "text/plain": [
       "[0.0, 0.0, 0.0, 0.19140625, 0.9296875]"
      ]
     },
     "execution_count": null,
     "metadata": {},
     "output_type": "execute_result"
    }
   ],
   "source": [
    "list(islice(it, 5))"
   ]
  },
  {
   "cell_type": "code",
   "execution_count": null,
   "id": "00ecfc4e",
   "metadata": {},
   "outputs": [
    {
     "data": {
      "text/plain": [
       "[0.98828125, 0.98828125, 0.98828125, 0.98828125, 0.98828125]"
      ]
     },
     "execution_count": null,
     "metadata": {},
     "output_type": "execute_result"
    }
   ],
   "source": [
    "list(islice(it, 5))"
   ]
  },
  {
   "cell_type": "code",
   "execution_count": null,
   "id": "b2e01821",
   "metadata": {},
   "outputs": [
    {
     "data": {
      "text/plain": [
       "[]"
      ]
     },
     "execution_count": null,
     "metadata": {},
     "output_type": "execute_result"
    }
   ],
   "source": [
    "list(islice(it, 5))"
   ]
  },
  {
   "cell_type": "code",
   "execution_count": null,
   "id": "5b6de95f",
   "metadata": {},
   "outputs": [],
   "source": [
    "# the callable is called until the iterator returns the sentinel \n",
    "# ie empty list\n",
    "it = iter(lst1)\n",
    "img = list(iter(lambda: list(islice(it, 28)), []))"
   ]
  },
  {
   "cell_type": "code",
   "execution_count": null,
   "id": "b65ed165",
   "metadata": {},
   "outputs": [
    {
     "data": {
      "text/plain": [
       "<matplotlib.image.AxesImage>"
      ]
     },
     "execution_count": null,
     "metadata": {},
     "output_type": "execute_result"
    },
    {
     "data": {
      "image/png": "[encoded data removed]",
      "text/plain": [
       "<Figure size 432x288 with 1 Axes>"
      ]
     },
     "metadata": {
      "needs_background": "light"
     },
     "output_type": "display_data"
    }
   ],
   "source": [
    "plt.imshow(img)"
   ]
  },
  {
   "cell_type": "markdown",
   "id": "15a67a58",
   "metadata": {},
   "source": [
    "## Matrix and tensor"
   ]
  },
  {
   "cell_type": "code",
   "execution_count": null,
   "id": "cc2981e0",
   "metadata": {},
   "outputs": [
    {
     "data": {
      "text/plain": [
       "0.98828125"
      ]
     },
     "execution_count": null,
     "metadata": {},
     "output_type": "execute_result"
    }
   ],
   "source": [
    "img[20][15]"
   ]
  },
  {
   "cell_type": "markdown",
   "id": "1cc3e049",
   "metadata": {},
   "source": [
    "We want to instead access pixels in the form of x[i, j] rather than x[i][j]. We are going to implement the magic function `__getitem__` to return the value of object at certain index. Refer [Python Object Model](http://joeyhejna.com/notes/programming/python/1objectmodel/#sources-and-further-reading)"
   ]
  },
  {
   "cell_type": "code",
   "execution_count": null,
   "id": "81c7f6ea",
   "metadata": {},
   "outputs": [],
   "source": [
    "class Matrix:\n",
    "    def __init__(self, xs): self.xs = xs\n",
    "    def __getitem__(self, idxs): return self.xs[idxs[0]][idxs[1]]"
   ]
  },
  {
   "cell_type": "code",
   "execution_count": null,
   "id": "112da635",
   "metadata": {},
   "outputs": [
    {
     "data": {
      "text/plain": [
       "mappingproxy({'__module__': '__main__',\n",
       "              '__init__': <function __main__.Matrix.__init__(self, xs)>,\n",
       "              '__getitem__': <function __main__.Matrix.__getitem__(self, idxs)>,\n",
       "              '__dict__': <attribute '__dict__' of 'Matrix' objects>,\n",
       "              '__weakref__': <attribute '__weakref__' of 'Matrix' objects>,\n",
       "              '__doc__': None})"
      ]
     },
     "execution_count": null,
     "metadata": {},
     "output_type": "execute_result"
    }
   ],
   "source": [
    "vars(Matrix) # lists all the attributes in an objects `__dict__`"
   ]
  },
  {
   "cell_type": "code",
   "execution_count": null,
   "id": "a4b9f660",
   "metadata": {},
   "outputs": [],
   "source": [
    "test_eq(img[20][15], 0.98828125)\n",
    "\n",
    "m = Matrix(img)\n",
    "test_eq(m[20, 15], 0.98828125)"
   ]
  },
  {
   "cell_type": "code",
   "execution_count": null,
   "id": "e8a4178b",
   "metadata": {},
   "outputs": [],
   "source": [
    "# Both are equivalent\n",
    "# getattr(m, 'xs')\n",
    "# m.xs"
   ]
  },
  {
   "cell_type": "markdown",
   "id": "5d495855",
   "metadata": {},
   "source": [
    "[Tensor](https://pytorch.org/docs/stable/tensors.html) - A torch.Tensor is a multi-dimensional matrix containing elements of a single data type."
   ]
  },
  {
   "cell_type": "code",
   "execution_count": null,
   "id": "351264f7",
   "metadata": {},
   "outputs": [],
   "source": [
    "import torch\n",
    "from torch import tensor"
   ]
  },
  {
   "cell_type": "code",
   "execution_count": null,
   "id": "4226e6b3",
   "metadata": {},
   "outputs": [
    {
     "data": {
      "text/plain": [
       "tensor([1, 2, 3])"
      ]
     },
     "execution_count": null,
     "metadata": {},
     "output_type": "execute_result"
    }
   ],
   "source": [
    "tensor([1, 2, 3])"
   ]
  },
  {
   "cell_type": "code",
   "execution_count": null,
   "id": "fbb7aece",
   "metadata": {},
   "outputs": [],
   "source": [
    "x_train,y_train,x_valid,y_valid = map(tensor, (x_train,y_train,x_valid,y_valid))"
   ]
  },
  {
   "cell_type": "code",
   "execution_count": null,
   "id": "6e0faf8b",
   "metadata": {},
   "outputs": [],
   "source": [
    "test_eq(x_train.shape, torch.Size([50000, 784]))\n",
    "test_eq(x_train.type(), 'torch.FloatTensor')"
   ]
  },
  {
   "cell_type": "code",
   "execution_count": null,
   "id": "5f9821d0",
   "metadata": {},
   "outputs": [],
   "source": [
    "imgs = x_train.reshape((-1, 28, 28))\n",
    "test_eq(imgs.shape, torch.Size([50000, 28, 28]))"
   ]
  },
  {
   "cell_type": "code",
   "execution_count": null,
   "id": "b19a1b2a",
   "metadata": {},
   "outputs": [
    {
     "data": {
      "text/plain": [
       "<matplotlib.image.AxesImage>"
      ]
     },
     "execution_count": null,
     "metadata": {},
     "output_type": "execute_result"
    },
    {
     "data": {
      "image/png": "[encoded data removed]",
      "text/plain": [
       "<Figure size 432x288 with 1 Axes>"
      ]
     },
     "metadata": {
      "needs_background": "light"
     },
     "output_type": "display_data"
    }
   ],
   "source": [
    "plt.imshow(imgs[0])"
   ]
  },
  {
   "cell_type": "code",
   "execution_count": null,
   "id": "c1c96428",
   "metadata": {},
   "outputs": [
    {
     "data": {
      "text/plain": [
       "tensor(0.9883)"
      ]
     },
     "execution_count": null,
     "metadata": {},
     "output_type": "execute_result"
    }
   ],
   "source": [
    "imgs[0, 20, 15]"
   ]
  },
  {
   "cell_type": "code",
   "execution_count": null,
   "id": "3c83d84d",
   "metadata": {},
   "outputs": [
    {
     "data": {
      "text/plain": [
       "(tensor([5, 0, 4,  ..., 8, 4, 8]), torch.Size([50000]))"
      ]
     },
     "execution_count": null,
     "metadata": {},
     "output_type": "execute_result"
    }
   ],
   "source": [
    "n,c = x_train.shape\n",
    "y_train, y_train.shape"
   ]
  },
  {
   "cell_type": "code",
   "execution_count": null,
   "id": "9633fde0",
   "metadata": {},
   "outputs": [],
   "source": [
    "test_eq(min(y_train), tensor(0))\n",
    "test_eq(max(y_train), tensor(9))\n",
    "\n",
    "test_eq(y_train.min(), tensor(0))\n",
    "test_eq(y_train.max(), tensor(9))"
   ]
  },
  {
   "cell_type": "markdown",
   "id": "11b69107",
   "metadata": {},
   "source": [
    "## Random numbers"
   ]
  },
  {
   "cell_type": "markdown",
   "id": "94cd3337",
   "metadata": {},
   "source": [
    "[Wichmann Hill algorithm](https://en.wikipedia.org/wiki/Wichmann%E2%80%93Hill) used before Python 2.3"
   ]
  },
  {
   "cell_type": "code",
   "execution_count": null,
   "id": "735d4016",
   "metadata": {},
   "outputs": [],
   "source": [
    "rnd_state = None\n",
    "def seed(a):\n",
    "    global rnd_state\n",
    "    a, x = divmod(a, 30268)\n",
    "    a, y = divmod(a, 30306)\n",
    "    a, z = divmod(a, 30322)\n",
    "    rnd_state = int(x)+1, int(y)+1, int(z)+1"
   ]
  },
  {
   "cell_type": "code",
   "execution_count": null,
   "id": "74157ffd",
   "metadata": {},
   "outputs": [
    {
     "data": {
      "text/plain": [
       "(4976, 20238, 499)"
      ]
     },
     "execution_count": null,
     "metadata": {},
     "output_type": "execute_result"
    }
   ],
   "source": [
    "seed(457428938475)\n",
    "rnd_state"
   ]
  },
  {
   "cell_type": "code",
   "execution_count": null,
   "id": "9d1369bb",
   "metadata": {},
   "outputs": [],
   "source": [
    "def rand():\n",
    "    global rnd_state\n",
    "    x, y, z = rnd_state\n",
    "    x = (171 * x) % 30269\n",
    "    y = (172 * y) % 30307\n",
    "    z = (170 * z) % 30323\n",
    "    rnd_state = x,y,z\n",
    "    return (x/30269 + y/30307 + z/30323) % 1.0"
   ]
  },
  {
   "cell_type": "code",
   "execution_count": null,
   "id": "d9bfb4b5",
   "metadata": {},
   "outputs": [
    {
     "data": {
      "text/plain": [
       "(0.7920889799553945, 0.06912886811267205, 0.9559050644103264)"
      ]
     },
     "execution_count": null,
     "metadata": {},
     "output_type": "execute_result"
    }
   ],
   "source": [
    "rand(), rand(), rand()"
   ]
  },
  {
   "cell_type": "code",
   "execution_count": null,
   "id": "28c5d50f",
   "metadata": {},
   "outputs": [
    {
     "name": "stdout",
     "output_type": "stream",
     "text": [
      "In parent: 0.840065633394744\n",
      "In child: 0.840065633394744\n"
     ]
    }
   ],
   "source": [
    "if os.fork(): print(f'In parent: {rand()}')\n",
    "else:\n",
    "    print(f'In child: {rand()}')\n",
    "    os._exit(os.EX_OK)"
   ]
  },
  {
   "cell_type": "code",
   "execution_count": null,
   "id": "b03d0c23",
   "metadata": {},
   "outputs": [
    {
     "name": "stdout",
     "output_type": "stream",
     "text": [
      "In parent: tensor([0.1268])\n",
      "In child: tensor([0.1268])\n"
     ]
    }
   ],
   "source": [
    "if os.fork(): print(f'In parent: {torch.rand(1)}')\n",
    "else:\n",
    "    print(f'In child: {torch.rand(1)}')\n",
    "    os._exit(os.EX_OK)"
   ]
  },
  {
   "cell_type": "code",
   "execution_count": null,
   "id": "441d17a9",
   "metadata": {},
   "outputs": [
    {
     "data": {
      "image/png": "[encoded data removed]",
      "text/plain": [
       "<Figure size 432x288 with 1 Axes>"
      ]
     },
     "metadata": {
      "needs_background": "light"
     },
     "output_type": "display_data"
    }
   ],
   "source": [
    "plt.plot([rand() for _ in range(50)]);"
   ]
  },
  {
   "cell_type": "code",
   "execution_count": null,
   "id": "82d27417",
   "metadata": {},
   "outputs": [
    {
     "data": {
      "image/png": "[encoded data removed]",
      "text/plain": [
       "<Figure size 432x288 with 1 Axes>"
      ]
     },
     "metadata": {
      "needs_background": "light"
     },
     "output_type": "display_data"
    }
   ],
   "source": [
    "plt.hist([rand() for _ in range(10000)]);"
   ]
  },
  {
   "cell_type": "code",
   "execution_count": null,
   "id": "60d0cac8",
   "metadata": {},
   "outputs": [
    {
     "name": "stdout",
     "output_type": "stream",
     "text": [
      "4.47 ms ± 1.12 ms per loop (mean ± std. dev. of 7 runs, 10 loops each)\n"
     ]
    }
   ],
   "source": [
    "%timeit -n 10 list(chunks([rand() for _ in range(7840)], 10))"
   ]
  },
  {
   "cell_type": "code",
   "execution_count": null,
   "id": "f8f0719e",
   "metadata": {},
   "outputs": [
    {
     "name": "stdout",
     "output_type": "stream",
     "text": [
      "The slowest run took 4.46 times longer than the fastest. This could mean that an intermediate result is being cached.\n",
      "488 µs ± 299 µs per loop (mean ± std. dev. of 7 runs, 10 loops each)\n"
     ]
    }
   ],
   "source": [
    "%timeit -n 10 torch.randn(784, 10)"
   ]
  },
  {
   "cell_type": "code",
   "execution_count": null,
   "id": "3d38d55e",
   "metadata": {},
   "outputs": [],
   "source": []
  }
 ],
 "metadata": {
  "kernelspec": {
   "display_name": "fastai",
   "language": "python",
   "name": "fastai"
  }
 },
 "nbformat": 4,
 "nbformat_minor": 5
}
